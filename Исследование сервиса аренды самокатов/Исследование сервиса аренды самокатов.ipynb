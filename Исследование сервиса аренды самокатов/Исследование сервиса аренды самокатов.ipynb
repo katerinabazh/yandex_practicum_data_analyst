{
 "cells": [
  {
   "cell_type": "markdown",
   "id": "3f89b6a9",
   "metadata": {},
   "source": [
    "# Исследование сервиса аренды самокатов GoFast\n",
    "Вы аналитик популярного сервиса аренды самокатов GoFast. Вам передали данные о некоторых пользователях из нескольких городов, а также об их поездках. Проанализируйте данные и проверьте некоторые гипотезы, которые могут помочь бизнесу вырасти.  \n",
    "Чтобы совершать поездки по городу, пользователи сервиса GoFast пользуются мобильным приложением. Сервисом можно пользоваться:\n",
    "\n",
    "<ins>без подписки:</ins>\n",
    "\n",
    "- абонентская плата отсутствует;\n",
    "\n",
    "- стоимость одной минуты поездки — 8 рублей;\n",
    "\n",
    "- стоимость старта (начала поездки) — 50 рублей;\n",
    "\n",
    "\n",
    "<ins>с подпиской Ultra:</ins>\n",
    "\n",
    "- абонентская плата — 199 рублей в месяц;\n",
    "\n",
    "- стоимость одной минуты поездки — 6 рублей;\n",
    "\n",
    "- стоимость старта — бесплатно.\n",
    "\n"
   ]
  },
  {
   "cell_type": "markdown",
   "id": "1ded5ffe",
   "metadata": {},
   "source": [
    "## Описание данных\n",
    "\n",
    "<ins>users_go.csv</ins> - пользователи:\n",
    "\n",
    "`user_id` - уникальный идентификатор пользователя;\n",
    "\n",
    "`name` - имя пользователя;\n",
    "\n",
    "`age` - возраст;\n",
    "\n",
    "`city`- город;\n",
    "\n",
    "`subscription_type`\t- тип подписки (free, ultra).\n",
    "\n",
    "\n",
    "<ins>rides_go.csv</ins> - поездки:\n",
    "\n",
    "`user_id` -\tуникальный идентификатор пользователя;\n",
    "\n",
    "`distance` - расстояние, которое пользователь проехал в текущей сессии (в метрах);\n",
    "\n",
    "`duration` - продолжительность сессии (в минутах) — время с того момента, как пользователь нажал кнопку «Начать поездку» до момента, как он нажал кнопку «Завершить поездку»;\n",
    "\n",
    "`date` - дата совершения поездки.\n",
    "\n",
    "\n",
    "<ins>subscriptions_go.csv</ins> - подписки:\n",
    "\n",
    "`subscription_type` - тип подписки;\n",
    "\n",
    "`minute_price` - стоимость одной минуты поездки по данной подписке;\n",
    "\n",
    "`start_ride_price` - стоимость начала поездки;\n",
    "\n",
    "`subscription_fee` - стоимость ежемесячного платежа."
   ]
  },
  {
   "cell_type": "markdown",
   "id": "3a2df9c7",
   "metadata": {},
   "source": [
    "### План выполнения проекта\n",
    "**Шаг 1. Загрузка данных**  \n",
    "1.1 Считайте CSV-файлы с данными с помощью библиотеки pandas и сохраните их в датафреймы.   \n",
    "1.2 Выведите первые строки каждого набора данных. Изучите общую информацию о каждом датафрейме.\n",
    "\n",
    "**Шаг 2. Предобработка данных**  \n",
    "2.1 Приведите столбец date к типу даты pandas.  \n",
    "2.2 Создайте новый столбец с номером месяца на основе столбца date.  \n",
    "2.3 Проверьте наличие пропущенных значений и дубликатов в датафреймах. Обработайте их, если такие значения присутствуют.  \n",
    "\n",
    "**Шаг 3. Исследовательский анализ данных**  \n",
    "Опишите и визуализируйте общую информацию о пользователях и поездках:  \n",
    "3.1 частота встречаемости городов;   \n",
    "3.2 соотношение пользователей с подпиской и без подписки;  \n",
    "3.3 возраст пользователей;  \n",
    "3.4 расстояние, которое пользователь преодолел за одну поездку;  \n",
    "3.5 продолжительность поездок.  \n",
    "\n",
    "**Шаг 4. Объединение данных**  \n",
    "4.1 Объедините данные о пользователях, поездках и подписках в один датафрейм.   \n",
    "4.2 Создайте ещё два датафрейма из датафрейма, созданного на этапе 4.1:\n",
    "- c данными о пользователях без подписки;  \n",
    "- с данными о пользователях с подпиской.   \n",
    "\n",
    "4.3 Визуализируйте информацию о расстоянии и времени поездок для пользователей обеих категорий.  \n",
    "\n",
    "**Шаг 5. Подсчёт выручки**  \n",
    "5.1 Создайте датафрейм с агрегированными данными о поездках на основе датафрейма с объединёнными данными из шага 4: найдите суммарное расстояние, количество поездок и суммарное время для каждого пользователя за каждый месяц.  \n",
    "5.2 В этот же датафрейм добавьте столбец с помесячной выручкой, которую принёс каждый пользователь. Для этого обратитесь к информации об условиях оплаты для подписчиков и тех, у кого нет подписки. Продолжительность каждой поездки в каждой строке исходного датафрейма для подсчёта стоимости округляется до следующего целого числа: например, значения 25.3, 25.5 и 26.0 должны быть преобразованы к 26.\n",
    "\n",
    "**Шаг 6. Проверка гипотез**  \n",
    "Продакт-менеджеры сервиса хотят увеличить количество пользователей с подпиской. Для этого они будут проводить различные акции, но сначала нужно выяснить несколько важных моментов.  \n",
    "6.1 Важно понять, тратят ли пользователи с подпиской больше времени на поездки? Если да, то пользователи с подпиской могут быть «выгоднее» для компании. Проверьте гипотезу. Используйте исходные данные о продолжительности каждой сессии — отдельно для подписчиков и тех, у кого нет подписки.\n",
    "6.2 Расстояние одной поездки в 3130 метров — оптимальное с точки зрения износа самоката. Можно ли сказать, что среднее расстояние, которое проезжают пользователи с подпиской за одну поездку, не превышает 3130 метров? Проверьте гипотезу и сделайте выводы.  \n",
    "6.3 Проверьте гипотезу о том, будет ли помесячная выручка от пользователей с подпиской по месяцам выше, чем выручка от пользователей без подписки. Сделайте вывод.  \n",
    "6.4 Представьте такую ситуацию: техническая команда сервиса обновила сервера, с которыми взаимодействует мобильное приложение. Она надеется, что из-за этого количество обращений в техподдержку значимо снизилось. Некоторый файл содержит для каждого пользователя данные о количестве обращений до обновления и после него. Какой тест вам понадобился бы для проверки этой гипотезы?  \n",
    "\n",
    "**Шаг 7 (необязательное задание). Распределения**  \n",
    "7.1 Отделу маркетинга GoFast поставили задачу: нужно провести акцию с раздачей промокодов на один бесплатный месяц подписки, в рамках которой как минимум 100 существующих клиентов должны продлить эту подписку. То есть по завершении периода действия подписки пользователь может либо отказаться от неё, либо продлить, совершив соответствующий платёж. \n",
    "Эта акция уже проводилась ранее и по итогу выяснилось, что после бесплатного пробного периода подписку продлевают 10 % пользователей. Выясните, какое минимальное количество промокодов нужно разослать, чтобы вероятность не выполнить план была примерно 5 %. Подберите параметры распределения, описывающего эту ситуацию, постройте график распределения и сформулируйте ответ на вопрос о количестве промокодов.   \n",
    "7.2 Отдел маркетинга рассылает клиентам push-уведомления в мобильном приложении. Клиенты могут открыть его или не открывать. Известно, что уведомления открывают около 40 % получивших клиентов. Отдел планирует разослать 1 млн уведомлений. С помощью аппроксимации постройте примерный график распределения и оцените вероятность того, что уведомление откроют не более 399,5 тыс. пользователей."
   ]
  },
  {
   "cell_type": "markdown",
   "id": "c42cbe00",
   "metadata": {},
   "source": [
    "## Загрузка данных"
   ]
  },
  {
   "cell_type": "markdown",
   "id": "6df7245a",
   "metadata": {},
   "source": [
    "### Импорт библиотек"
   ]
  },
  {
   "cell_type": "code",
   "execution_count": 1,
   "id": "72576667",
   "metadata": {},
   "outputs": [],
   "source": [
    "import pandas as pd\n",
    "import numpy as np\n",
    "import matplotlib.pyplot as plt \n",
    "import seaborn as sns\n",
    "import scipy.stats as st\n",
    "import warnings\n",
    "warnings.filterwarnings('ignore')"
   ]
  },
  {
   "cell_type": "markdown",
   "id": "c70c4007",
   "metadata": {},
   "source": [
    "### Загрузка и общий обзор"
   ]
  },
  {
   "cell_type": "code",
   "execution_count": 2,
   "id": "a1c52e75",
   "metadata": {
    "scrolled": true
   },
   "outputs": [
    {
     "data": {
      "text/html": [
       "<div>\n",
       "<style scoped>\n",
       "    .dataframe tbody tr th:only-of-type {\n",
       "        vertical-align: middle;\n",
       "    }\n",
       "\n",
       "    .dataframe tbody tr th {\n",
       "        vertical-align: top;\n",
       "    }\n",
       "\n",
       "    .dataframe thead th {\n",
       "        text-align: right;\n",
       "    }\n",
       "</style>\n",
       "<table border=\"1\" class=\"dataframe\">\n",
       "  <thead>\n",
       "    <tr style=\"text-align: right;\">\n",
       "      <th></th>\n",
       "      <th>user_id</th>\n",
       "      <th>name</th>\n",
       "      <th>age</th>\n",
       "      <th>city</th>\n",
       "      <th>subscription_type</th>\n",
       "    </tr>\n",
       "  </thead>\n",
       "  <tbody>\n",
       "    <tr>\n",
       "      <th>0</th>\n",
       "      <td>1</td>\n",
       "      <td>Кира</td>\n",
       "      <td>22</td>\n",
       "      <td>Тюмень</td>\n",
       "      <td>ultra</td>\n",
       "    </tr>\n",
       "    <tr>\n",
       "      <th>1</th>\n",
       "      <td>2</td>\n",
       "      <td>Станислав</td>\n",
       "      <td>31</td>\n",
       "      <td>Омск</td>\n",
       "      <td>ultra</td>\n",
       "    </tr>\n",
       "    <tr>\n",
       "      <th>2</th>\n",
       "      <td>3</td>\n",
       "      <td>Алексей</td>\n",
       "      <td>20</td>\n",
       "      <td>Москва</td>\n",
       "      <td>ultra</td>\n",
       "    </tr>\n",
       "    <tr>\n",
       "      <th>3</th>\n",
       "      <td>4</td>\n",
       "      <td>Константин</td>\n",
       "      <td>26</td>\n",
       "      <td>Ростов-на-Дону</td>\n",
       "      <td>ultra</td>\n",
       "    </tr>\n",
       "    <tr>\n",
       "      <th>4</th>\n",
       "      <td>5</td>\n",
       "      <td>Адель</td>\n",
       "      <td>28</td>\n",
       "      <td>Омск</td>\n",
       "      <td>ultra</td>\n",
       "    </tr>\n",
       "  </tbody>\n",
       "</table>\n",
       "</div>"
      ],
      "text/plain": [
       "   user_id        name  age            city subscription_type\n",
       "0        1        Кира   22          Тюмень             ultra\n",
       "1        2   Станислав   31            Омск             ultra\n",
       "2        3     Алексей   20          Москва             ultra\n",
       "3        4  Константин   26  Ростов-на-Дону             ultra\n",
       "4        5       Адель   28            Омск             ultra"
      ]
     },
     "metadata": {},
     "output_type": "display_data"
    },
    {
     "name": "stdout",
     "output_type": "stream",
     "text": [
      "<class 'pandas.core.frame.DataFrame'>\n",
      "RangeIndex: 1565 entries, 0 to 1564\n",
      "Data columns (total 5 columns):\n",
      " #   Column             Non-Null Count  Dtype \n",
      "---  ------             --------------  ----- \n",
      " 0   user_id            1565 non-null   int64 \n",
      " 1   name               1565 non-null   object\n",
      " 2   age                1565 non-null   int64 \n",
      " 3   city               1565 non-null   object\n",
      " 4   subscription_type  1565 non-null   object\n",
      "dtypes: int64(2), object(3)\n",
      "memory usage: 61.3+ KB\n"
     ]
    },
    {
     "data": {
      "text/plain": [
       "None"
      ]
     },
     "metadata": {},
     "output_type": "display_data"
    },
    {
     "data": {
      "text/html": [
       "<div>\n",
       "<style scoped>\n",
       "    .dataframe tbody tr th:only-of-type {\n",
       "        vertical-align: middle;\n",
       "    }\n",
       "\n",
       "    .dataframe tbody tr th {\n",
       "        vertical-align: top;\n",
       "    }\n",
       "\n",
       "    .dataframe thead th {\n",
       "        text-align: right;\n",
       "    }\n",
       "</style>\n",
       "<table border=\"1\" class=\"dataframe\">\n",
       "  <thead>\n",
       "    <tr style=\"text-align: right;\">\n",
       "      <th></th>\n",
       "      <th>user_id</th>\n",
       "      <th>distance</th>\n",
       "      <th>duration</th>\n",
       "      <th>date</th>\n",
       "    </tr>\n",
       "  </thead>\n",
       "  <tbody>\n",
       "    <tr>\n",
       "      <th>0</th>\n",
       "      <td>1</td>\n",
       "      <td>4409.919140</td>\n",
       "      <td>25.599769</td>\n",
       "      <td>2021-01-01</td>\n",
       "    </tr>\n",
       "    <tr>\n",
       "      <th>1</th>\n",
       "      <td>1</td>\n",
       "      <td>2617.592153</td>\n",
       "      <td>15.816871</td>\n",
       "      <td>2021-01-18</td>\n",
       "    </tr>\n",
       "    <tr>\n",
       "      <th>2</th>\n",
       "      <td>1</td>\n",
       "      <td>754.159807</td>\n",
       "      <td>6.232113</td>\n",
       "      <td>2021-04-20</td>\n",
       "    </tr>\n",
       "    <tr>\n",
       "      <th>3</th>\n",
       "      <td>1</td>\n",
       "      <td>2694.783254</td>\n",
       "      <td>18.511000</td>\n",
       "      <td>2021-08-11</td>\n",
       "    </tr>\n",
       "    <tr>\n",
       "      <th>4</th>\n",
       "      <td>1</td>\n",
       "      <td>4028.687306</td>\n",
       "      <td>26.265803</td>\n",
       "      <td>2021-08-28</td>\n",
       "    </tr>\n",
       "  </tbody>\n",
       "</table>\n",
       "</div>"
      ],
      "text/plain": [
       "   user_id     distance   duration       date\n",
       "0        1  4409.919140  25.599769 2021-01-01\n",
       "1        1  2617.592153  15.816871 2021-01-18\n",
       "2        1   754.159807   6.232113 2021-04-20\n",
       "3        1  2694.783254  18.511000 2021-08-11\n",
       "4        1  4028.687306  26.265803 2021-08-28"
      ]
     },
     "metadata": {},
     "output_type": "display_data"
    },
    {
     "name": "stdout",
     "output_type": "stream",
     "text": [
      "<class 'pandas.core.frame.DataFrame'>\n",
      "RangeIndex: 18068 entries, 0 to 18067\n",
      "Data columns (total 4 columns):\n",
      " #   Column    Non-Null Count  Dtype         \n",
      "---  ------    --------------  -----         \n",
      " 0   user_id   18068 non-null  int64         \n",
      " 1   distance  18068 non-null  float64       \n",
      " 2   duration  18068 non-null  float64       \n",
      " 3   date      18068 non-null  datetime64[ns]\n",
      "dtypes: datetime64[ns](1), float64(2), int64(1)\n",
      "memory usage: 564.8 KB\n"
     ]
    },
    {
     "data": {
      "text/plain": [
       "None"
      ]
     },
     "metadata": {},
     "output_type": "display_data"
    },
    {
     "data": {
      "text/html": [
       "<div>\n",
       "<style scoped>\n",
       "    .dataframe tbody tr th:only-of-type {\n",
       "        vertical-align: middle;\n",
       "    }\n",
       "\n",
       "    .dataframe tbody tr th {\n",
       "        vertical-align: top;\n",
       "    }\n",
       "\n",
       "    .dataframe thead th {\n",
       "        text-align: right;\n",
       "    }\n",
       "</style>\n",
       "<table border=\"1\" class=\"dataframe\">\n",
       "  <thead>\n",
       "    <tr style=\"text-align: right;\">\n",
       "      <th></th>\n",
       "      <th>subscription_type</th>\n",
       "      <th>minute_price</th>\n",
       "      <th>start_ride_price</th>\n",
       "      <th>subscription_fee</th>\n",
       "    </tr>\n",
       "  </thead>\n",
       "  <tbody>\n",
       "    <tr>\n",
       "      <th>0</th>\n",
       "      <td>free</td>\n",
       "      <td>8</td>\n",
       "      <td>50</td>\n",
       "      <td>0</td>\n",
       "    </tr>\n",
       "    <tr>\n",
       "      <th>1</th>\n",
       "      <td>ultra</td>\n",
       "      <td>6</td>\n",
       "      <td>0</td>\n",
       "      <td>199</td>\n",
       "    </tr>\n",
       "  </tbody>\n",
       "</table>\n",
       "</div>"
      ],
      "text/plain": [
       "  subscription_type  minute_price  start_ride_price  subscription_fee\n",
       "0              free             8                50                 0\n",
       "1             ultra             6                 0               199"
      ]
     },
     "metadata": {},
     "output_type": "display_data"
    },
    {
     "name": "stdout",
     "output_type": "stream",
     "text": [
      "<class 'pandas.core.frame.DataFrame'>\n",
      "RangeIndex: 2 entries, 0 to 1\n",
      "Data columns (total 4 columns):\n",
      " #   Column             Non-Null Count  Dtype \n",
      "---  ------             --------------  ----- \n",
      " 0   subscription_type  2 non-null      object\n",
      " 1   minute_price       2 non-null      int64 \n",
      " 2   start_ride_price   2 non-null      int64 \n",
      " 3   subscription_fee   2 non-null      int64 \n",
      "dtypes: int64(3), object(1)\n",
      "memory usage: 192.0+ bytes\n"
     ]
    }
   ],
   "source": [
    "users = pd.read_csv('/datasets/users_go.csv', sep=\",\")\n",
    "rides = pd.read_csv('/datasets/rides_go.csv', sep=\",\", parse_dates=['date'])\n",
    "subscriptions = pd.read_csv('/datasets/subscriptions_go.csv', sep=\",\")\n",
    "\n",
    "display(users.head())\n",
    "display(users.info())\n",
    "\n",
    "display(rides.head())\n",
    "display(rides.info())\n",
    "\n",
    "display(subscriptions)\n",
    "subscriptions.info()"
   ]
  },
  {
   "cell_type": "code",
   "execution_count": 3,
   "id": "eff9f206",
   "metadata": {
    "scrolled": true
   },
   "outputs": [
    {
     "data": {
      "text/plain": [
       "array(['Агата', 'Аделина', 'Адель', 'Айдар', 'Александр', 'Александра',\n",
       "       'Алексей', 'Алина', 'Алиса', 'Алия', 'Алла', 'Альберт', 'Альбина',\n",
       "       'Алёна', 'Амалия', 'Амина', 'Амир', 'Анастасия', 'Анатолий',\n",
       "       'Ангелина', 'Андрей', 'Анжелика', 'Анна', 'Антон', 'Антонина',\n",
       "       'Ариана', 'Арина', 'Арсен', 'Арсений', 'Артемий', 'Артур', 'Артём',\n",
       "       'Богдан', 'Борис', 'Вадим', 'Валентина', 'Валерий', 'Валерия',\n",
       "       'Варвара', 'Василий', 'Василина', 'Василиса', 'Вера', 'Вероника',\n",
       "       'Виктор', 'Виктория', 'Виолетта', 'Виталий', 'Виталина', 'Влад',\n",
       "       'Влада', 'Владимир', 'Владислав', 'Владислава', 'Всеволод',\n",
       "       'Вячеслав', 'Галина', 'Георгий', 'Герман', 'Глеб', 'Гордей',\n",
       "       'Григорий', 'Давид', 'Дамир', 'Даниил', 'Данил', 'Данила',\n",
       "       'Даниэль', 'Дарина', 'Дарья', 'Демид', 'Денис', 'Диана', 'Дмитрий',\n",
       "       'Ева', 'Евгений', 'Евгения', 'Егор', 'Екатерина', 'Елена',\n",
       "       'Елизавета', 'Елисей', 'Есения', 'Жанна', 'Зарина', 'Захар',\n",
       "       'Злата', 'Иван', 'Игнат', 'Игорь', 'Ильдар', 'Илья', 'Инна',\n",
       "       'Ирина', 'Камилла', 'Карина', 'Каролина', 'Кира', 'Кирилл',\n",
       "       'Константин', 'Кристина', 'Ксения', 'Лариса', 'Лев', 'Леонид',\n",
       "       'Лиана', 'Лидия', 'Лилия', 'Любовь', 'Людмила', 'Мадина', 'Майя',\n",
       "       'Макар', 'Максим', 'Марат', 'Маргарита', 'Марина', 'Мария', 'Марк',\n",
       "       'Марсель', 'Матвей', 'Мелания', 'Милана', 'Милена', 'Мирон',\n",
       "       'Мирослав', 'Мирослава', 'Михаил', 'Назар', 'Наталия', 'Наталья',\n",
       "       'Наташа', 'Нелли', 'Ника', 'Никита', 'Николай', 'Нина', 'Одиссей',\n",
       "       'Оксана', 'Олег', 'Олеся', 'Ольга', 'Павел', 'Петр', 'Платон',\n",
       "       'Полина', 'Радмир', 'Рамиль', 'Регина', 'Роберт', 'Родион',\n",
       "       'Роман', 'Ростислав', 'Руслан', 'Рустам', 'Савелий', 'Самир',\n",
       "       'Самира', 'Светлана', 'Святогор', 'Святослав', 'Семен', 'Сергей',\n",
       "       'Снежана', 'София', 'Софья', 'Станислав', 'Степан', 'Стефания',\n",
       "       'Таисия', 'Тамара', 'Тамерлан', 'Татьяна', 'Тимофей', 'Тимур',\n",
       "       'Тихон', 'Ульяна', 'Федор', 'Эвелина', 'Эдуард', 'Элина',\n",
       "       'Эльвира', 'Эльмира', 'Эмилия', 'Эмиль', 'Юлиана', 'Юлия', 'Юрий',\n",
       "       'Ян', 'Яна', 'Яромир', 'Ярослав', 'Ярослава', 'Ясмина'],\n",
       "      dtype=object)"
      ]
     },
     "execution_count": 3,
     "metadata": {},
     "output_type": "execute_result"
    }
   ],
   "source": [
    "np.sort(users['name'].unique())"
   ]
  },
  {
   "cell_type": "code",
   "execution_count": 4,
   "id": "fa350ae3",
   "metadata": {
    "scrolled": false
   },
   "outputs": [
    {
     "data": {
      "text/plain": [
       "array(['Тюмень', 'Омск', 'Москва', 'Ростов-на-Дону', 'Краснодар',\n",
       "       'Пятигорск', 'Екатеринбург', 'Сочи'], dtype=object)"
      ]
     },
     "metadata": {},
     "output_type": "display_data"
    },
    {
     "data": {
      "text/plain": [
       "array(['ultra', 'free'], dtype=object)"
      ]
     },
     "execution_count": 4,
     "metadata": {},
     "output_type": "execute_result"
    }
   ],
   "source": [
    "display(users['city'].unique())\n",
    "users['subscription_type'].unique()"
   ]
  },
  {
   "cell_type": "markdown",
   "id": "fb85938b",
   "metadata": {},
   "source": [
    "### Краткий вывод"
   ]
  },
  {
   "cell_type": "markdown",
   "id": "e9e1480a",
   "metadata": {},
   "source": [
    "Очень странно, что `name`, `city`, `subscription_type` датафрейма <ins>users_go.csv</ins> имеют тип данных object, хотя полностью состоят из строк. `date` из <ins>rides_go.csv</ins> не помешает перевести в тип данных даты, а также оставить рекомендацию программистам по жесткому ограничению. `subscription_type`  из <ins>subscriptions_go.csv</ins> тоже был бы привычнее в строковом типа данных. \n",
    "\n",
    "\n",
    "Пропусков нет, что не может не радовать"
   ]
  },
  {
   "cell_type": "markdown",
   "id": "e95ebca7",
   "metadata": {},
   "source": [
    "## Предобработка данных"
   ]
  },
  {
   "cell_type": "code",
   "execution_count": 6,
   "id": "af6d202c",
   "metadata": {},
   "outputs": [],
   "source": [
    "# создание столбца с месяцем\n",
    "rides['month'] = pd.DatetimeIndex(rides['date']).month"
   ]
  },
  {
   "cell_type": "code",
   "execution_count": 7,
   "id": "294b4fc7",
   "metadata": {},
   "outputs": [
    {
     "name": "stdout",
     "output_type": "stream",
     "text": [
      "Количество дубликатов в rides_go.csv: 0.0\n",
      "Количество дубликатов в users_go.csv: 31\n",
      "Количество дубликатов в subscriptions_go.csv: 0\n"
     ]
    }
   ],
   "source": [
    "print('Количество дубликатов в rides_go.csv:', rides[rides.duplicated()].sum()[0])\n",
    "print('Количество дубликатов в users_go.csv:', users[users.duplicated()].count()[0])\n",
    "print('Количество дубликатов в subscriptions_go.csv:', subscriptions[subscriptions.duplicated()].count()[0])"
   ]
  },
  {
   "cell_type": "markdown",
   "id": "2445aa3e",
   "metadata": {},
   "source": [
    "Нашли 31 дубликат. Удалим и сделаем перерасчет индексов"
   ]
  },
  {
   "cell_type": "code",
   "execution_count": 8,
   "id": "f1f5cb82",
   "metadata": {},
   "outputs": [
    {
     "data": {
      "text/plain": [
       "user_id              0\n",
       "name                 0\n",
       "age                  0\n",
       "city                 0\n",
       "subscription_type    0\n",
       "dtype: int64"
      ]
     },
     "execution_count": 8,
     "metadata": {},
     "output_type": "execute_result"
    }
   ],
   "source": [
    "users = users.drop_duplicates().reset_index(drop=True)\n",
    "users[users.duplicated()].count()"
   ]
  },
  {
   "cell_type": "markdown",
   "id": "d4596501",
   "metadata": {},
   "source": [
    "### Краткий вывод"
   ]
  },
  {
   "cell_type": "markdown",
   "id": "391e69c8",
   "metadata": {},
   "source": [
    "Неявных дубликатов в датасете не было найдено, но обнаружилась 31шт явных в users_go.csv. Они были удалены. Возможно, это произошло из-за неправилного запроса при выгрузке данных или при слиянии таблиц до того, как они попали к нам."
   ]
  },
  {
   "cell_type": "markdown",
   "id": "212593c7",
   "metadata": {},
   "source": [
    "## Исследовательский анализ данных"
   ]
  },
  {
   "cell_type": "markdown",
   "id": "692619f7",
   "metadata": {},
   "source": [
    "###  Таблица users_go.csv"
   ]
  },
  {
   "cell_type": "markdown",
   "id": "e0d5e7b6",
   "metadata": {},
   "source": [
    "Проведем небольшое исследование по таблице <ins>users_go.csv</ins>."
   ]
  },
  {
   "cell_type": "code",
   "execution_count": 9,
   "id": "ddaec110",
   "metadata": {
    "scrolled": false
   },
   "outputs": [
    {
     "data": {
      "image/png": "[encoded data removed]",
      "text/plain": [
       "<Figure size 1080x360 with 1 Axes>"
      ]
     },
     "metadata": {
      "needs_background": "light"
     },
     "output_type": "display_data"
    }
   ],
   "source": [
    "plt.figure(figsize=(15, 5))\n",
    "p = sns.histplot(data=users['city'], color='blue')\n",
    "p.set(xlabel=\"Города\", ylabel = \"Частота\", title='Частота встречаемости каждого из городов в датасете')\n",
    "plt.show()"
   ]
  },
  {
   "cell_type": "code",
   "execution_count": 10,
   "id": "cb9f2706",
   "metadata": {},
   "outputs": [
    {
     "data": {
      "text/plain": [
       "Пятигорск         219\n",
       "Екатеринбург      204\n",
       "Ростов-на-Дону    198\n",
       "Краснодар         193\n",
       "Сочи              189\n",
       "Омск              183\n",
       "Тюмень            180\n",
       "Москва            168\n",
       "Name: city, dtype: int64"
      ]
     },
     "execution_count": 10,
     "metadata": {},
     "output_type": "execute_result"
    }
   ],
   "source": [
    "users['city'].value_counts()"
   ]
  },
  {
   "cell_type": "markdown",
   "id": "88a64fd9",
   "metadata": {},
   "source": [
    "Похоже, чаще всего встречается Пятигорск. А вот меньше всего - Москва. Кажется, GoFast не стремится завоевать столичный рынок."
   ]
  },
  {
   "cell_type": "code",
   "execution_count": 11,
   "id": "31b98f5c",
   "metadata": {
    "scrolled": true
   },
   "outputs": [
    {
     "name": "stdout",
     "output_type": "stream",
     "text": [
      "Количество пользователей\n",
      "- без подписки: 835\n",
      "- с подпиской: 699\n",
      "Отношение пользователей без подписки к подписанным: 1.19\n",
      "Разница: 136\n"
     ]
    }
   ],
   "source": [
    "print('Количество пользователей')\n",
    "subscribed = users[users['subscription_type'] == 'ultra']['subscription_type'].count()\n",
    "not_subscribed = users[users['subscription_type'] == 'free']['subscription_type'].count()\n",
    "print('- без подписки:', not_subscribed)\n",
    "print('- с подпиской:', subscribed)\n",
    "print('Отношение пользователей без подписки к подписанным:', round(not_subscribed/subscribed,2))\n",
    "print('Разница:', not_subscribed - subscribed)"
   ]
  },
  {
   "cell_type": "code",
   "execution_count": 12,
   "id": "4caf008f",
   "metadata": {},
   "outputs": [
    {
     "data": {
      "image/png": "[encoded data removed]",
      "text/plain": [
       "<Figure size 432x288 with 1 Axes>"
      ]
     },
     "metadata": {},
     "output_type": "display_data"
    }
   ],
   "source": [
    "dat = [subscribed/users.shape[0] * 100, not_subscribed/users.shape[0] * 100]\n",
    "labels = ['ultra', 'fee']\n",
    "plt.title('Процент пользователей с подпиской и без')\n",
    "plt.pie(dat, labels = labels, autopct='%.0f%%');"
   ]
  },
  {
   "cell_type": "markdown",
   "id": "90d1ad82",
   "metadata": {},
   "source": [
    "Получается, пользователей без подписки больше в 1.2 раз."
   ]
  },
  {
   "cell_type": "code",
   "execution_count": 13,
   "id": "0bd17bda",
   "metadata": {
    "scrolled": false
   },
   "outputs": [
    {
     "data": {
      "image/png": "[encoded data removed]",
      "text/plain": [
       "<Figure size 432x288 with 1 Axes>"
      ]
     },
     "metadata": {
      "needs_background": "light"
     },
     "output_type": "display_data"
    }
   ],
   "source": [
    "plt.title('Гистограмма возраста')\n",
    "plt.xlabel('Возраст')\n",
    "plt.ylabel('Количество пользователей')\n",
    "users['age'].hist()\n",
    "plt.show()"
   ]
  },
  {
   "cell_type": "code",
   "execution_count": 14,
   "id": "39126be6",
   "metadata": {},
   "outputs": [
    {
     "name": "stdout",
     "output_type": "stream",
     "text": [
      "Средний возраст: 25 лет\n"
     ]
    }
   ],
   "source": [
    "print(\"Средний возраст:\", round(users['age'].mean()), 'лет')"
   ]
  },
  {
   "cell_type": "code",
   "execution_count": 15,
   "id": "071de00c",
   "metadata": {},
   "outputs": [
    {
     "name": "stdout",
     "output_type": "stream",
     "text": [
      "Минимальный возраст: 12\n",
      "Максимальный возраст: 43\n"
     ]
    }
   ],
   "source": [
    "print('Минимальный возраст:', users['age'].min())\n",
    "print('Максимальный возраст:', users['age'].max())"
   ]
  },
  {
   "cell_type": "markdown",
   "id": "7aa58484",
   "metadata": {},
   "source": [
    "Возраст, как и ожидалось, распределен нормально со средним в 25 годах. Люди начинают ездить с 12 лет, а старший встречается при 43. Ничего необычного, все логично. "
   ]
  },
  {
   "cell_type": "markdown",
   "id": "a9799f07",
   "metadata": {},
   "source": [
    "### Таблица rides_go.csv"
   ]
  },
  {
   "cell_type": "markdown",
   "id": "a8fa4c98",
   "metadata": {},
   "source": [
    "Теперь посмотрим на <ins>rides_go.csv</ins>"
   ]
  },
  {
   "cell_type": "code",
   "execution_count": 16,
   "id": "6a6a2daa",
   "metadata": {
    "scrolled": false
   },
   "outputs": [
    {
     "data": {
      "image/png": "[encoded data removed]",
      "text/plain": [
       "<Figure size 432x288 with 1 Axes>"
      ]
     },
     "metadata": {
      "needs_background": "light"
     },
     "output_type": "display_data"
    }
   ],
   "source": [
    "plt.title('Гистограмма расстояния')\n",
    "plt.xlabel('Расстояние')\n",
    "plt.ylabel('Количество пользователей')\n",
    "rides['distance'].hist();"
   ]
  },
  {
   "cell_type": "code",
   "execution_count": 17,
   "id": "465f735d",
   "metadata": {},
   "outputs": [
    {
     "name": "stdout",
     "output_type": "stream",
     "text": [
      "Медиана расстояний на самокате 3134 метров\n"
     ]
    }
   ],
   "source": [
    "print(\"Медиана расстояний на самокате\", round(rides['distance'].median()), 'метров')"
   ]
  },
  {
   "cell_type": "code",
   "execution_count": 18,
   "id": "897987ab",
   "metadata": {},
   "outputs": [
    {
     "name": "stdout",
     "output_type": "stream",
     "text": [
      "Первый квартиль: 2543.23\n",
      "Третий квартиль: 3776.22\n"
     ]
    }
   ],
   "source": [
    "print('Первый квартиль:', round(rides['distance'].quantile(0.25), 2))\n",
    "print('Третий квартиль:', round(rides['distance'].quantile(0.75), 2))"
   ]
  },
  {
   "cell_type": "markdown",
   "id": "42997526",
   "metadata": {},
   "source": [
    "В отличие от возраста(где не может быть 1000 лет) в `distance` есть довольно большие значения, похожие на выбросы. Безопаснее посчитать медианой. Таким образом, медиана на 3134м, по распределению тоже можно сказать, что оно нормальное. Причем большинство проезжает от 2543.23 до 3776.22 м."
   ]
  },
  {
   "cell_type": "code",
   "execution_count": 19,
   "id": "7ae62fab",
   "metadata": {
    "scrolled": true
   },
   "outputs": [
    {
     "data": {
      "image/png": "[encoded data removed]",
      "text/plain": [
       "<Figure size 432x288 with 1 Axes>"
      ]
     },
     "metadata": {
      "needs_background": "light"
     },
     "output_type": "display_data"
    }
   ],
   "source": [
    "plt.title('Гистограмма длительности')\n",
    "plt.xlabel('Длительность')\n",
    "plt.ylabel('Количество пользователей')\n",
    "rides['duration'].hist();"
   ]
  },
  {
   "cell_type": "code",
   "execution_count": 20,
   "id": "193d909c",
   "metadata": {},
   "outputs": [
    {
     "name": "stdout",
     "output_type": "stream",
     "text": [
      "Первый квартиль: 13.6\n",
      "Третий квартиль: 21.72\n"
     ]
    }
   ],
   "source": [
    "print('Первый квартиль:', round(rides['duration'].quantile(0.25), 2))\n",
    "print('Третий квартиль:', round(rides['duration'].quantile(0.75), 2))"
   ]
  },
  {
   "cell_type": "code",
   "execution_count": 21,
   "id": "e53a1733",
   "metadata": {},
   "outputs": [
    {
     "name": "stdout",
     "output_type": "stream",
     "text": [
      "Медиана сессий равна 18 минут\n"
     ]
    }
   ],
   "source": [
    "print(\"Медиана сессий равна\", round(rides['duration'].median()), 'минут')\n"
   ]
  },
  {
   "cell_type": "markdown",
   "id": "e4709da9",
   "metadata": {},
   "source": [
    "Здесь тоже нормальное распределение с медианой в 18мин, первым и третим квартилями в 13.6 и 21.72 сответственно."
   ]
  },
  {
   "cell_type": "markdown",
   "id": "9ce1233f",
   "metadata": {},
   "source": [
    "### Краткий вывод"
   ]
  },
  {
   "cell_type": "markdown",
   "id": "b441d9dd",
   "metadata": {},
   "source": [
    "Т.о. больше всего данных из города Пятигорск, а меньше всего из столицы. В датасете 835 пользователей без подписки и 699 с подпиской GoFast. Обычно так и происходит, что оформлять подписку пользователю не выгодно или не хочеся.  Стоит посмотреть как часто пользуются они сервисом, сколько проезжают - найти зависимости почему не хотят платить. Возможно, есть шанс предложить им более выгодня условия или рассмотреть внедрение стартового тарифа. Средний возраст пользователя - 25 лет. Начинают ездить с 12, а старшему в датасете 43 года. Проезжают обычно около 3км, среднее по времени 18мин(или 0.3ч). Исходя из обоих цифр, можно предположить что польватели часто ездят со скоростью 10км/ч. Довольно медленно для самокатов."
   ]
  },
  {
   "cell_type": "markdown",
   "id": "4ef51331",
   "metadata": {},
   "source": [
    "## Объединение данных"
   ]
  },
  {
   "cell_type": "code",
   "execution_count": 22,
   "id": "ec91a3c5",
   "metadata": {},
   "outputs": [
    {
     "name": "stdout",
     "output_type": "stream",
     "text": [
      "размерность users: (1534, 5)\n",
      "размерность rides: (18068, 5)\n",
      "размерность subscriptions: (2, 4)\n",
      "размерность data: (18068, 12)\n"
     ]
    },
    {
     "data": {
      "text/html": [
       "<div>\n",
       "<style scoped>\n",
       "    .dataframe tbody tr th:only-of-type {\n",
       "        vertical-align: middle;\n",
       "    }\n",
       "\n",
       "    .dataframe tbody tr th {\n",
       "        vertical-align: top;\n",
       "    }\n",
       "\n",
       "    .dataframe thead th {\n",
       "        text-align: right;\n",
       "    }\n",
       "</style>\n",
       "<table border=\"1\" class=\"dataframe\">\n",
       "  <thead>\n",
       "    <tr style=\"text-align: right;\">\n",
       "      <th></th>\n",
       "      <th>user_id</th>\n",
       "      <th>name</th>\n",
       "      <th>age</th>\n",
       "      <th>city</th>\n",
       "      <th>subscription_type</th>\n",
       "      <th>distance</th>\n",
       "      <th>duration</th>\n",
       "      <th>date</th>\n",
       "      <th>month</th>\n",
       "      <th>minute_price</th>\n",
       "      <th>start_ride_price</th>\n",
       "      <th>subscription_fee</th>\n",
       "    </tr>\n",
       "  </thead>\n",
       "  <tbody>\n",
       "    <tr>\n",
       "      <th>0</th>\n",
       "      <td>1</td>\n",
       "      <td>Кира</td>\n",
       "      <td>22</td>\n",
       "      <td>Тюмень</td>\n",
       "      <td>ultra</td>\n",
       "      <td>4409.919140</td>\n",
       "      <td>25.599769</td>\n",
       "      <td>2021-01-01</td>\n",
       "      <td>1</td>\n",
       "      <td>6</td>\n",
       "      <td>0</td>\n",
       "      <td>199</td>\n",
       "    </tr>\n",
       "    <tr>\n",
       "      <th>1</th>\n",
       "      <td>1</td>\n",
       "      <td>Кира</td>\n",
       "      <td>22</td>\n",
       "      <td>Тюмень</td>\n",
       "      <td>ultra</td>\n",
       "      <td>2617.592153</td>\n",
       "      <td>15.816871</td>\n",
       "      <td>2021-01-18</td>\n",
       "      <td>1</td>\n",
       "      <td>6</td>\n",
       "      <td>0</td>\n",
       "      <td>199</td>\n",
       "    </tr>\n",
       "    <tr>\n",
       "      <th>2</th>\n",
       "      <td>1</td>\n",
       "      <td>Кира</td>\n",
       "      <td>22</td>\n",
       "      <td>Тюмень</td>\n",
       "      <td>ultra</td>\n",
       "      <td>754.159807</td>\n",
       "      <td>6.232113</td>\n",
       "      <td>2021-04-20</td>\n",
       "      <td>4</td>\n",
       "      <td>6</td>\n",
       "      <td>0</td>\n",
       "      <td>199</td>\n",
       "    </tr>\n",
       "    <tr>\n",
       "      <th>3</th>\n",
       "      <td>1</td>\n",
       "      <td>Кира</td>\n",
       "      <td>22</td>\n",
       "      <td>Тюмень</td>\n",
       "      <td>ultra</td>\n",
       "      <td>2694.783254</td>\n",
       "      <td>18.511000</td>\n",
       "      <td>2021-08-11</td>\n",
       "      <td>8</td>\n",
       "      <td>6</td>\n",
       "      <td>0</td>\n",
       "      <td>199</td>\n",
       "    </tr>\n",
       "    <tr>\n",
       "      <th>4</th>\n",
       "      <td>1</td>\n",
       "      <td>Кира</td>\n",
       "      <td>22</td>\n",
       "      <td>Тюмень</td>\n",
       "      <td>ultra</td>\n",
       "      <td>4028.687306</td>\n",
       "      <td>26.265803</td>\n",
       "      <td>2021-08-28</td>\n",
       "      <td>8</td>\n",
       "      <td>6</td>\n",
       "      <td>0</td>\n",
       "      <td>199</td>\n",
       "    </tr>\n",
       "  </tbody>\n",
       "</table>\n",
       "</div>"
      ],
      "text/plain": [
       "   user_id  name  age    city subscription_type     distance   duration  \\\n",
       "0        1  Кира   22  Тюмень             ultra  4409.919140  25.599769   \n",
       "1        1  Кира   22  Тюмень             ultra  2617.592153  15.816871   \n",
       "2        1  Кира   22  Тюмень             ultra   754.159807   6.232113   \n",
       "3        1  Кира   22  Тюмень             ultra  2694.783254  18.511000   \n",
       "4        1  Кира   22  Тюмень             ultra  4028.687306  26.265803   \n",
       "\n",
       "        date  month  minute_price  start_ride_price  subscription_fee  \n",
       "0 2021-01-01      1             6                 0               199  \n",
       "1 2021-01-18      1             6                 0               199  \n",
       "2 2021-04-20      4             6                 0               199  \n",
       "3 2021-08-11      8             6                 0               199  \n",
       "4 2021-08-28      8             6                 0               199  "
      ]
     },
     "execution_count": 22,
     "metadata": {},
     "output_type": "execute_result"
    }
   ],
   "source": [
    "data = users.copy()\n",
    "# сохраним размерность таблиц для дальнейшей проверки\n",
    "print('размерность users:', users.shape)\n",
    "data = data.merge(rides, on='user_id')\n",
    "print('размерность rides:', rides.shape)\n",
    "data = data.merge(subscriptions, on='subscription_type')\n",
    "print('размерность subscriptions:', subscriptions.shape)\n",
    "\n",
    "print('размерность data:', data.shape)\n",
    "data.head()"
   ]
  },
  {
   "cell_type": "code",
   "execution_count": 23,
   "id": "9d6ecad9",
   "metadata": {},
   "outputs": [],
   "source": [
    "data_subscription_type_free = data[data['subscription_type'] == 'free']\n",
    "data_subscription_type_ultra = data[data['subscription_type'] == 'ultra']"
   ]
  },
  {
   "cell_type": "code",
   "execution_count": 24,
   "id": "7f7785b9",
   "metadata": {
    "scrolled": true
   },
   "outputs": [
    {
     "data": {
      "image/png": "[encoded data removed]",
      "text/plain": [
       "<Figure size 1080x504 with 1 Axes>"
      ]
     },
     "metadata": {
      "needs_background": "light"
     },
     "output_type": "display_data"
    }
   ],
   "source": [
    "plt.rcParams[\"figure.figsize\"] = [15, 7]\n",
    "temp  = pd.DataFrame({\"free\": data_subscription_type_free['distance'], \"ultra\": data_subscription_type_ultra['distance']})\n",
    "ax = temp[['free', 'ultra']].plot(kind='box', title='Расстояние, которое проезжали пользователи без подписки и с подпиской')"
   ]
  },
  {
   "cell_type": "markdown",
   "id": "20c59a6a",
   "metadata": {},
   "source": [
    "Видно, что медиана обоих значений примерно на одном уровне. А вот размах и Q1, Q3 отличны: у пользователей без подписки они явно больше."
   ]
  },
  {
   "cell_type": "code",
   "execution_count": 25,
   "id": "834b8512",
   "metadata": {},
   "outputs": [
    {
     "data": {
      "image/png": "[encoded data removed]",
      "text/plain": [
       "<Figure size 1080x504 with 1 Axes>"
      ]
     },
     "metadata": {
      "needs_background": "light"
     },
     "output_type": "display_data"
    }
   ],
   "source": [
    "plt.rcParams[\"figure.figsize\"] = [15, 7]\n",
    "temp  = pd.DataFrame({\"free\": data_subscription_type_free['duration'], \"ultra\": data_subscription_type_ultra['duration']})\n",
    "ax = temp[['free', 'ultra']].plot(kind='box', title='Время, которое тратили пользователи без подписки и с подпиской')"
   ]
  },
  {
   "cell_type": "markdown",
   "id": "230681c4",
   "metadata": {},
   "source": [
    "Здесь тоже размах и квартили пользователей без подписки больше, но не на много. Медиана находится примерно на одом уровне."
   ]
  },
  {
   "cell_type": "markdown",
   "id": "402d620f",
   "metadata": {},
   "source": [
    "## Подсчёт выручки"
   ]
  },
  {
   "cell_type": "code",
   "execution_count": 26,
   "id": "4fc04f69",
   "metadata": {},
   "outputs": [],
   "source": [
    "def make_pivot_income(data):\n",
    "    data_grouped = data.pivot_table(index=['user_id','subscription_type', 'name', 'month'], \n",
    "                                        values=['distance', 'duration','subscription_fee', 'minute_price', 'start_ride_price'],\n",
    "                                       aggfunc={\n",
    "                                   'duration': sum,\n",
    "                                    'distance': sum,       \n",
    "                                   'user_id': len,\n",
    "                                    'minute_price': 'first',\n",
    "                                    'start_ride_price': 'first',\n",
    "                                    'subscription_fee': 'first'})\n",
    "    data_grouped.rename(columns={'user_id':'trips_per_month'},inplace=True)\n",
    "    data_grouped['month_income'] = data_grouped['start_ride_price'] * data_grouped['trips_per_month'] + data_grouped['minute_price'] * np.ceil(data_grouped['duration']) + data_grouped['subscription_fee'] \n",
    "    \n",
    "    return data_grouped\n",
    "\n",
    "    "
   ]
  },
  {
   "cell_type": "code",
   "execution_count": 27,
   "id": "2f86d611",
   "metadata": {},
   "outputs": [
    {
     "name": "stdout",
     "output_type": "stream",
     "text": [
      "Выручка без подписки: 2215080.0\n"
     ]
    },
    {
     "data": {
      "text/html": [
       "<div>\n",
       "<style scoped>\n",
       "    .dataframe tbody tr th:only-of-type {\n",
       "        vertical-align: middle;\n",
       "    }\n",
       "\n",
       "    .dataframe tbody tr th {\n",
       "        vertical-align: top;\n",
       "    }\n",
       "\n",
       "    .dataframe thead th {\n",
       "        text-align: right;\n",
       "    }\n",
       "</style>\n",
       "<table border=\"1\" class=\"dataframe\">\n",
       "  <thead>\n",
       "    <tr style=\"text-align: right;\">\n",
       "      <th></th>\n",
       "      <th></th>\n",
       "      <th></th>\n",
       "      <th></th>\n",
       "      <th>distance</th>\n",
       "      <th>duration</th>\n",
       "      <th>minute_price</th>\n",
       "      <th>start_ride_price</th>\n",
       "      <th>subscription_fee</th>\n",
       "      <th>trips_per_month</th>\n",
       "      <th>month_income</th>\n",
       "    </tr>\n",
       "    <tr>\n",
       "      <th>user_id</th>\n",
       "      <th>subscription_type</th>\n",
       "      <th>name</th>\n",
       "      <th>month</th>\n",
       "      <th></th>\n",
       "      <th></th>\n",
       "      <th></th>\n",
       "      <th></th>\n",
       "      <th></th>\n",
       "      <th></th>\n",
       "      <th></th>\n",
       "    </tr>\n",
       "  </thead>\n",
       "  <tbody>\n",
       "    <tr>\n",
       "      <th rowspan=\"5\" valign=\"top\">700</th>\n",
       "      <th rowspan=\"5\" valign=\"top\">free</th>\n",
       "      <th rowspan=\"5\" valign=\"top\">Айдар</th>\n",
       "      <th>1</th>\n",
       "      <td>2515.690719</td>\n",
       "      <td>14.944286</td>\n",
       "      <td>8</td>\n",
       "      <td>50</td>\n",
       "      <td>0</td>\n",
       "      <td>1</td>\n",
       "      <td>170.0</td>\n",
       "    </tr>\n",
       "    <tr>\n",
       "      <th>2</th>\n",
       "      <td>13446.659764</td>\n",
       "      <td>85.829845</td>\n",
       "      <td>8</td>\n",
       "      <td>50</td>\n",
       "      <td>0</td>\n",
       "      <td>5</td>\n",
       "      <td>938.0</td>\n",
       "    </tr>\n",
       "    <tr>\n",
       "      <th>3</th>\n",
       "      <td>3798.334905</td>\n",
       "      <td>18.243756</td>\n",
       "      <td>8</td>\n",
       "      <td>50</td>\n",
       "      <td>0</td>\n",
       "      <td>1</td>\n",
       "      <td>202.0</td>\n",
       "    </tr>\n",
       "    <tr>\n",
       "      <th>4</th>\n",
       "      <td>2984.551206</td>\n",
       "      <td>15.424899</td>\n",
       "      <td>8</td>\n",
       "      <td>50</td>\n",
       "      <td>0</td>\n",
       "      <td>1</td>\n",
       "      <td>178.0</td>\n",
       "    </tr>\n",
       "    <tr>\n",
       "      <th>6</th>\n",
       "      <td>5927.650988</td>\n",
       "      <td>28.077657</td>\n",
       "      <td>8</td>\n",
       "      <td>50</td>\n",
       "      <td>0</td>\n",
       "      <td>2</td>\n",
       "      <td>332.0</td>\n",
       "    </tr>\n",
       "  </tbody>\n",
       "</table>\n",
       "</div>"
      ],
      "text/plain": [
       "                                           distance   duration  minute_price  \\\n",
       "user_id subscription_type name  month                                          \n",
       "700     free              Айдар 1       2515.690719  14.944286             8   \n",
       "                                2      13446.659764  85.829845             8   \n",
       "                                3       3798.334905  18.243756             8   \n",
       "                                4       2984.551206  15.424899             8   \n",
       "                                6       5927.650988  28.077657             8   \n",
       "\n",
       "                                       start_ride_price  subscription_fee  \\\n",
       "user_id subscription_type name  month                                       \n",
       "700     free              Айдар 1                    50                 0   \n",
       "                                2                    50                 0   \n",
       "                                3                    50                 0   \n",
       "                                4                    50                 0   \n",
       "                                6                    50                 0   \n",
       "\n",
       "                                       trips_per_month  month_income  \n",
       "user_id subscription_type name  month                                 \n",
       "700     free              Айдар 1                    1         170.0  \n",
       "                                2                    5         938.0  \n",
       "                                3                    1         202.0  \n",
       "                                4                    1         178.0  \n",
       "                                6                    2         332.0  "
      ]
     },
     "execution_count": 27,
     "metadata": {},
     "output_type": "execute_result"
    }
   ],
   "source": [
    "# формируем доход для пользователей без подписки\n",
    "data_subscription_type_free_grouped =  make_pivot_income(data_subscription_type_free)\n",
    "print('Выручка без подписки:', data_subscription_type_free_grouped['month_income'].sum())\n",
    "data_subscription_type_free_grouped.head()"
   ]
  },
  {
   "cell_type": "code",
   "execution_count": 28,
   "id": "cbe7ec81",
   "metadata": {},
   "outputs": [
    {
     "name": "stdout",
     "output_type": "stream",
     "text": [
      "Выручка с подпиской: 1638597.0\n"
     ]
    },
    {
     "data": {
      "text/html": [
       "<div>\n",
       "<style scoped>\n",
       "    .dataframe tbody tr th:only-of-type {\n",
       "        vertical-align: middle;\n",
       "    }\n",
       "\n",
       "    .dataframe tbody tr th {\n",
       "        vertical-align: top;\n",
       "    }\n",
       "\n",
       "    .dataframe thead th {\n",
       "        text-align: right;\n",
       "    }\n",
       "</style>\n",
       "<table border=\"1\" class=\"dataframe\">\n",
       "  <thead>\n",
       "    <tr style=\"text-align: right;\">\n",
       "      <th></th>\n",
       "      <th></th>\n",
       "      <th></th>\n",
       "      <th></th>\n",
       "      <th>distance</th>\n",
       "      <th>duration</th>\n",
       "      <th>minute_price</th>\n",
       "      <th>start_ride_price</th>\n",
       "      <th>subscription_fee</th>\n",
       "      <th>trips_per_month</th>\n",
       "      <th>month_income</th>\n",
       "    </tr>\n",
       "    <tr>\n",
       "      <th>user_id</th>\n",
       "      <th>subscription_type</th>\n",
       "      <th>name</th>\n",
       "      <th>month</th>\n",
       "      <th></th>\n",
       "      <th></th>\n",
       "      <th></th>\n",
       "      <th></th>\n",
       "      <th></th>\n",
       "      <th></th>\n",
       "      <th></th>\n",
       "    </tr>\n",
       "  </thead>\n",
       "  <tbody>\n",
       "    <tr>\n",
       "      <th rowspan=\"5\" valign=\"top\">1</th>\n",
       "      <th rowspan=\"5\" valign=\"top\">ultra</th>\n",
       "      <th rowspan=\"5\" valign=\"top\">Кира</th>\n",
       "      <th>1</th>\n",
       "      <td>7027.511294</td>\n",
       "      <td>41.416640</td>\n",
       "      <td>6</td>\n",
       "      <td>0</td>\n",
       "      <td>199</td>\n",
       "      <td>2</td>\n",
       "      <td>451.0</td>\n",
       "    </tr>\n",
       "    <tr>\n",
       "      <th>4</th>\n",
       "      <td>754.159807</td>\n",
       "      <td>6.232113</td>\n",
       "      <td>6</td>\n",
       "      <td>0</td>\n",
       "      <td>199</td>\n",
       "      <td>1</td>\n",
       "      <td>241.0</td>\n",
       "    </tr>\n",
       "    <tr>\n",
       "      <th>8</th>\n",
       "      <td>6723.470560</td>\n",
       "      <td>44.776802</td>\n",
       "      <td>6</td>\n",
       "      <td>0</td>\n",
       "      <td>199</td>\n",
       "      <td>2</td>\n",
       "      <td>469.0</td>\n",
       "    </tr>\n",
       "    <tr>\n",
       "      <th>10</th>\n",
       "      <td>5809.911100</td>\n",
       "      <td>31.578017</td>\n",
       "      <td>6</td>\n",
       "      <td>0</td>\n",
       "      <td>199</td>\n",
       "      <td>2</td>\n",
       "      <td>391.0</td>\n",
       "    </tr>\n",
       "    <tr>\n",
       "      <th>11</th>\n",
       "      <td>7003.499363</td>\n",
       "      <td>53.397424</td>\n",
       "      <td>6</td>\n",
       "      <td>0</td>\n",
       "      <td>199</td>\n",
       "      <td>3</td>\n",
       "      <td>523.0</td>\n",
       "    </tr>\n",
       "  </tbody>\n",
       "</table>\n",
       "</div>"
      ],
      "text/plain": [
       "                                         distance   duration  minute_price  \\\n",
       "user_id subscription_type name month                                         \n",
       "1       ultra             Кира 1      7027.511294  41.416640             6   \n",
       "                               4       754.159807   6.232113             6   \n",
       "                               8      6723.470560  44.776802             6   \n",
       "                               10     5809.911100  31.578017             6   \n",
       "                               11     7003.499363  53.397424             6   \n",
       "\n",
       "                                      start_ride_price  subscription_fee  \\\n",
       "user_id subscription_type name month                                       \n",
       "1       ultra             Кира 1                     0               199   \n",
       "                               4                     0               199   \n",
       "                               8                     0               199   \n",
       "                               10                    0               199   \n",
       "                               11                    0               199   \n",
       "\n",
       "                                      trips_per_month  month_income  \n",
       "user_id subscription_type name month                                 \n",
       "1       ultra             Кира 1                    2         451.0  \n",
       "                               4                    1         241.0  \n",
       "                               8                    2         469.0  \n",
       "                               10                   2         391.0  \n",
       "                               11                   3         523.0  "
      ]
     },
     "execution_count": 28,
     "metadata": {},
     "output_type": "execute_result"
    }
   ],
   "source": [
    "# формируем доход для пользователей c подпиской\n",
    "data_subscription_type_ultra_grouped = make_pivot_income(data_subscription_type_ultra)\n",
    "print('Выручка с подпиской:', data_subscription_type_ultra_grouped['month_income'].sum())\n",
    "data_subscription_type_ultra_grouped.head()"
   ]
  },
  {
   "cell_type": "code",
   "execution_count": 29,
   "id": "daa2d82a",
   "metadata": {
    "scrolled": false
   },
   "outputs": [
    {
     "data": {
      "text/html": [
       "<div>\n",
       "<style scoped>\n",
       "    .dataframe tbody tr th:only-of-type {\n",
       "        vertical-align: middle;\n",
       "    }\n",
       "\n",
       "    .dataframe tbody tr th {\n",
       "        vertical-align: top;\n",
       "    }\n",
       "\n",
       "    .dataframe thead th {\n",
       "        text-align: right;\n",
       "    }\n",
       "</style>\n",
       "<table border=\"1\" class=\"dataframe\">\n",
       "  <thead>\n",
       "    <tr style=\"text-align: right;\">\n",
       "      <th></th>\n",
       "      <th></th>\n",
       "      <th></th>\n",
       "      <th></th>\n",
       "      <th>distance</th>\n",
       "      <th>duration</th>\n",
       "      <th>minute_price</th>\n",
       "      <th>start_ride_price</th>\n",
       "      <th>subscription_fee</th>\n",
       "      <th>trips_per_month</th>\n",
       "      <th>month_income</th>\n",
       "    </tr>\n",
       "    <tr>\n",
       "      <th>user_id</th>\n",
       "      <th>subscription_type</th>\n",
       "      <th>name</th>\n",
       "      <th>month</th>\n",
       "      <th></th>\n",
       "      <th></th>\n",
       "      <th></th>\n",
       "      <th></th>\n",
       "      <th></th>\n",
       "      <th></th>\n",
       "      <th></th>\n",
       "    </tr>\n",
       "  </thead>\n",
       "  <tbody>\n",
       "    <tr>\n",
       "      <th rowspan=\"5\" valign=\"top\">1</th>\n",
       "      <th rowspan=\"5\" valign=\"top\">ultra</th>\n",
       "      <th rowspan=\"5\" valign=\"top\">Кира</th>\n",
       "      <th>1</th>\n",
       "      <td>7027.511294</td>\n",
       "      <td>41.416640</td>\n",
       "      <td>6</td>\n",
       "      <td>0</td>\n",
       "      <td>199</td>\n",
       "      <td>2</td>\n",
       "      <td>451.0</td>\n",
       "    </tr>\n",
       "    <tr>\n",
       "      <th>4</th>\n",
       "      <td>754.159807</td>\n",
       "      <td>6.232113</td>\n",
       "      <td>6</td>\n",
       "      <td>0</td>\n",
       "      <td>199</td>\n",
       "      <td>1</td>\n",
       "      <td>241.0</td>\n",
       "    </tr>\n",
       "    <tr>\n",
       "      <th>8</th>\n",
       "      <td>6723.470560</td>\n",
       "      <td>44.776802</td>\n",
       "      <td>6</td>\n",
       "      <td>0</td>\n",
       "      <td>199</td>\n",
       "      <td>2</td>\n",
       "      <td>469.0</td>\n",
       "    </tr>\n",
       "    <tr>\n",
       "      <th>10</th>\n",
       "      <td>5809.911100</td>\n",
       "      <td>31.578017</td>\n",
       "      <td>6</td>\n",
       "      <td>0</td>\n",
       "      <td>199</td>\n",
       "      <td>2</td>\n",
       "      <td>391.0</td>\n",
       "    </tr>\n",
       "    <tr>\n",
       "      <th>11</th>\n",
       "      <td>7003.499363</td>\n",
       "      <td>53.397424</td>\n",
       "      <td>6</td>\n",
       "      <td>0</td>\n",
       "      <td>199</td>\n",
       "      <td>3</td>\n",
       "      <td>523.0</td>\n",
       "    </tr>\n",
       "  </tbody>\n",
       "</table>\n",
       "</div>"
      ],
      "text/plain": [
       "                                         distance   duration  minute_price  \\\n",
       "user_id subscription_type name month                                         \n",
       "1       ultra             Кира 1      7027.511294  41.416640             6   \n",
       "                               4       754.159807   6.232113             6   \n",
       "                               8      6723.470560  44.776802             6   \n",
       "                               10     5809.911100  31.578017             6   \n",
       "                               11     7003.499363  53.397424             6   \n",
       "\n",
       "                                      start_ride_price  subscription_fee  \\\n",
       "user_id subscription_type name month                                       \n",
       "1       ultra             Кира 1                     0               199   \n",
       "                               4                     0               199   \n",
       "                               8                     0               199   \n",
       "                               10                    0               199   \n",
       "                               11                    0               199   \n",
       "\n",
       "                                      trips_per_month  month_income  \n",
       "user_id subscription_type name month                                 \n",
       "1       ultra             Кира 1                    2         451.0  \n",
       "                               4                    1         241.0  \n",
       "                               8                    2         469.0  \n",
       "                               10                   2         391.0  \n",
       "                               11                   3         523.0  "
      ]
     },
     "execution_count": 29,
     "metadata": {},
     "output_type": "execute_result"
    }
   ],
   "source": [
    "# просили ля общих данных\n",
    "data_grouped_user_id = make_pivot_income(data)\n",
    "data_grouped_user_id.head()"
   ]
  },
  {
   "cell_type": "code",
   "execution_count": 30,
   "id": "dde41c79",
   "metadata": {},
   "outputs": [
    {
     "name": "stdout",
     "output_type": "stream",
     "text": [
      "Суммарная выручка: 3853677.0\n"
     ]
    }
   ],
   "source": [
    "print('Суммарная выручка:',data_grouped_user_id['month_income'].sum())"
   ]
  },
  {
   "cell_type": "code",
   "execution_count": 31,
   "id": "6bb54c18",
   "metadata": {},
   "outputs": [
    {
     "data": {
      "text/html": [
       "<div>\n",
       "<style scoped>\n",
       "    .dataframe tbody tr th:only-of-type {\n",
       "        vertical-align: middle;\n",
       "    }\n",
       "\n",
       "    .dataframe tbody tr th {\n",
       "        vertical-align: top;\n",
       "    }\n",
       "\n",
       "    .dataframe thead th {\n",
       "        text-align: right;\n",
       "    }\n",
       "</style>\n",
       "<table border=\"1\" class=\"dataframe\">\n",
       "  <thead>\n",
       "    <tr style=\"text-align: right;\">\n",
       "      <th></th>\n",
       "      <th>month_income</th>\n",
       "    </tr>\n",
       "    <tr>\n",
       "      <th>month</th>\n",
       "      <th></th>\n",
       "    </tr>\n",
       "  </thead>\n",
       "  <tbody>\n",
       "    <tr>\n",
       "      <th>1</th>\n",
       "      <td>339.256566</td>\n",
       "    </tr>\n",
       "    <tr>\n",
       "      <th>2</th>\n",
       "      <td>327.032843</td>\n",
       "    </tr>\n",
       "    <tr>\n",
       "      <th>3</th>\n",
       "      <td>344.235294</td>\n",
       "    </tr>\n",
       "    <tr>\n",
       "      <th>4</th>\n",
       "      <td>346.019417</td>\n",
       "    </tr>\n",
       "    <tr>\n",
       "      <th>5</th>\n",
       "      <td>342.516360</td>\n",
       "    </tr>\n",
       "    <tr>\n",
       "      <th>6</th>\n",
       "      <td>338.226950</td>\n",
       "    </tr>\n",
       "    <tr>\n",
       "      <th>7</th>\n",
       "      <td>342.913866</td>\n",
       "    </tr>\n",
       "    <tr>\n",
       "      <th>8</th>\n",
       "      <td>340.885142</td>\n",
       "    </tr>\n",
       "    <tr>\n",
       "      <th>9</th>\n",
       "      <td>344.380901</td>\n",
       "    </tr>\n",
       "    <tr>\n",
       "      <th>10</th>\n",
       "      <td>340.041260</td>\n",
       "    </tr>\n",
       "    <tr>\n",
       "      <th>11</th>\n",
       "      <td>334.103410</td>\n",
       "    </tr>\n",
       "    <tr>\n",
       "      <th>12</th>\n",
       "      <td>340.657203</td>\n",
       "    </tr>\n",
       "  </tbody>\n",
       "</table>\n",
       "</div>"
      ],
      "text/plain": [
       "       month_income\n",
       "month              \n",
       "1        339.256566\n",
       "2        327.032843\n",
       "3        344.235294\n",
       "4        346.019417\n",
       "5        342.516360\n",
       "6        338.226950\n",
       "7        342.913866\n",
       "8        340.885142\n",
       "9        344.380901\n",
       "10       340.041260\n",
       "11       334.103410\n",
       "12       340.657203"
      ]
     },
     "execution_count": 31,
     "metadata": {},
     "output_type": "execute_result"
    }
   ],
   "source": [
    "data_grouped_user_id.pivot_table(index=['month'], \n",
    "                                        values=['month_income'])"
   ]
  },
  {
   "cell_type": "markdown",
   "id": "866a920b",
   "metadata": {},
   "source": [
    "Каждый месяц люди проезжают в среднем примерно одно и то же расстояние? Для Москвы это было бы странно, но в Пятигорске(по которому больше всего данных) снег может не выпасть вовсе. Получается, нет смысла говорить о сезонном доходе в GoFast."
   ]
  },
  {
   "cell_type": "markdown",
   "id": "fe9c51f2",
   "metadata": {},
   "source": [
    "### Краткий вывод\n",
    "- Выручка без подписки: 2215080\n",
    "- Выручка с подпиской: 1638597\n",
    "- Суммарная выручка: 3853677"
   ]
  },
  {
   "cell_type": "markdown",
   "id": "41545ac0",
   "metadata": {},
   "source": [
    "## Проверка гипотез"
   ]
  },
  {
   "cell_type": "markdown",
   "id": "4a3826d5",
   "metadata": {},
   "source": [
    "### Гипотеза 1"
   ]
  },
  {
   "cell_type": "markdown",
   "id": "5701ca67",
   "metadata": {},
   "source": [
    "Важно понять, тратят ли пользователи с подпиской больше времени на поездки? \n",
    "\n",
    "**Нулевой** гипотезой будет: средние наших выборок равны.    \n",
    "**Альтернативной** - гипотеза \"Средняя время пользователей без подписки меньше, чем с подпиской\"."
   ]
  },
  {
   "cell_type": "code",
   "execution_count": 32,
   "id": "ccd00f7b",
   "metadata": {},
   "outputs": [
    {
     "name": "stdout",
     "output_type": "stream",
     "text": [
      "P-value: 5.6757813771289775e-37\n",
      "Отвергаем нулевую гипотезу\n"
     ]
    }
   ],
   "source": [
    "alpha = 0.05 # уровень статистической значимости\n",
    "results = st.ttest_ind(data_subscription_type_free['duration'], data_subscription_type_ultra['duration'], equal_var = False, alternative = 'less')\n",
    "print('P-value:', results.pvalue)\n",
    "\n",
    "if (results.pvalue < alpha):\n",
    "    print(\"Отвергаем нулевую гипотезу\")\n",
    "else:\n",
    "    print(\"Не получилось отвергнуть нулевую гипотезу\")"
   ]
  },
  {
   "cell_type": "markdown",
   "id": "2a7dc54b",
   "metadata": {},
   "source": [
    "#### График histplot"
   ]
  },
  {
   "cell_type": "code",
   "execution_count": 33,
   "id": "31616cd6",
   "metadata": {
    "scrolled": true
   },
   "outputs": [
    {
     "data": {
      "image/png": "[encoded data removed]",
      "text/plain": [
       "<Figure size 1080x504 with 1 Axes>"
      ]
     },
     "metadata": {
      "needs_background": "light"
     },
     "output_type": "display_data"
    }
   ],
   "source": [
    "sns.histplot(data_subscription_type_free['duration'], bins=20, color='red', label='label', kde=True)\n",
    "sns.histplot(data_subscription_type_ultra['duration'], bins=20, color='blue', label='label', kde=True);"
   ]
  },
  {
   "cell_type": "markdown",
   "id": "a260a66d",
   "metadata": {},
   "source": [
    "#### Вывод по гипотезе 1\n",
    "\n",
    "Нулевой гипотезой была гипотеза о равенстве средних наших выборок. p-value маленькое, но меньше уровня значимости 5% - это говорит нам о том, вероятность случайного совпадения средних наших выборок достаточно мала. Нулевая гипотеза отвергается в пользу альтернативной.\n",
    "\n",
    "По графику также видно, что для подписанных он начинается позже(т.е. с 5мин) и заканчивается после 35мин поездок."
   ]
  },
  {
   "cell_type": "markdown",
   "id": "c60ecf9f",
   "metadata": {},
   "source": [
    "### Гипотеза 2\n",
    "\n",
    "Можно ли сказать, что среднее расстояние, которое проезжают пользователи с подпиской за одну поездку, не превышает 3130 метров?\n",
    "\n",
    "**Нулевой** гипотезой будет: среднее расстояние пользователей с подпиской равно 3130м.  \n",
    "**Альтернативной** - больше 3130м."
   ]
  },
  {
   "cell_type": "code",
   "execution_count": 34,
   "id": "66667f3c",
   "metadata": {
    "scrolled": true
   },
   "outputs": [
    {
     "name": "stdout",
     "output_type": "stream",
     "text": [
      "p-значение: 0.9195368847849785\n",
      "Не получилось отвергнуть нулевую гипотезу\n"
     ]
    }
   ],
   "source": [
    "interested_value = 3130 # столько метров должны проезжать пользователи\n",
    "\n",
    "alpha = .05 # уровень статистической значимости\n",
    "            \n",
    "\n",
    "results = st.ttest_1samp(\n",
    "    data_subscription_type_ultra['distance'], \n",
    "    interested_value,\n",
    "\talternative='greater' )\n",
    "\n",
    "print('p-значение:', results.pvalue)\n",
    "\n",
    "if results.pvalue < alpha:\n",
    "    print('Отвергаем нулевую гипотезу')\n",
    "else:\n",
    "    print('Не получилось отвергнуть нулевую гипотезу')"
   ]
  },
  {
   "cell_type": "markdown",
   "id": "fe7e0c10",
   "metadata": {},
   "source": [
    "#### График histplot"
   ]
  },
  {
   "cell_type": "code",
   "execution_count": 35,
   "id": "7a2ea75c",
   "metadata": {
    "scrolled": true
   },
   "outputs": [
    {
     "data": {
      "image/png": "[encoded data removed]",
      "text/plain": [
       "<Figure size 1080x504 with 1 Axes>"
      ]
     },
     "metadata": {
      "needs_background": "light"
     },
     "output_type": "display_data"
    }
   ],
   "source": [
    "sns.histplot(data_subscription_type_free['distance'], bins=40, color='red', label='label', kde=True)\n",
    "sns.histplot(data_subscription_type_ultra['distance'], bins=40, color='blue', label='label', kde=True);"
   ]
  },
  {
   "cell_type": "markdown",
   "id": "d44c742b",
   "metadata": {},
   "source": [
    "#### Вывод по гипотезе 2:\n",
    "\n",
    "Полученное нами p-value равно 0.9, что больше установленного уровня статистической значимости. А значит, мы не можем отвергнуть нулевую гипотезу.\n",
    "\n",
    "По графику также видно, что чаще всего проезжают около 3000м. Также хочется отметить, что есть пики при 500м для пользователей без подписки и 1000 - с подпиской. Похоже, первые пытаются доехать до пункта назначения побыстрее. С их стороны это логично - очень дорога каждая минута."
   ]
  },
  {
   "cell_type": "markdown",
   "id": "f7d51778",
   "metadata": {},
   "source": [
    "### Гипотеза 3\n",
    " \n",
    " Проверим гипотезу о том, будет ли помесячная выручка от пользователей с подпиской по месяцам выше, чем выручка от пользователей без подписки.\n",
    " \n",
    "Сначала посмотрим на распределение. Кажется, что раз пик распределения Пуассона для пользователей с подпиской приходится на бОльшую доходность, то и доход от них больше. Но если посмотреть на площадь под графиком, то она явно больше у пользователей без подписки. В качестве альтернативной гипотезы поставим, что доход от них выше.\n",
    " \n",
    " "
   ]
  },
  {
   "cell_type": "markdown",
   "id": "1353f474",
   "metadata": {},
   "source": [
    "#### График histplot"
   ]
  },
  {
   "cell_type": "code",
   "execution_count": 36,
   "id": "225cb82e",
   "metadata": {
    "scrolled": true
   },
   "outputs": [
    {
     "data": {
      "image/png": "[encoded data removed]",
      "text/plain": [
       "<Figure size 1080x504 with 1 Axes>"
      ]
     },
     "metadata": {
      "needs_background": "light"
     },
     "output_type": "display_data"
    }
   ],
   "source": [
    "sns.histplot(data_subscription_type_free_grouped['month_income'], bins=40, color='red', label='label', kde=True)\n",
    "sns.histplot(data_subscription_type_ultra_grouped['month_income'], bins=40, color='blue', label='label', kde=True);"
   ]
  },
  {
   "cell_type": "markdown",
   "id": "9b7c577c",
   "metadata": {},
   "source": [
    " **Нулевая гипотеза**: помесячные выручки равны.  \n",
    " **Альтернативная**: помесячная выручка пользователей без подписки больше"
   ]
  },
  {
   "cell_type": "code",
   "execution_count": 37,
   "id": "b22581b4",
   "metadata": {},
   "outputs": [
    {
     "name": "stdout",
     "output_type": "stream",
     "text": [
      "P-value: 1.0718729651261336e-44\n",
      "Отвергаем нулевую гипотезу\n"
     ]
    }
   ],
   "source": [
    "alpha = 0.05 # уровень статистической значимости\n",
    "results = st.ttest_ind(data_subscription_type_ultra_grouped['month_income'], data_subscription_type_free_grouped['month_income'], equal_var = False, alternative = 'greater')\n",
    "print('P-value:', results.pvalue)\n",
    "\n",
    "if (results.pvalue < alpha):\n",
    "    print(\"Отвергаем нулевую гипотезу\")\n",
    "else:\n",
    "    print(\"Не получилось отвергнуть нулевую гипотезу\")"
   ]
  },
  {
   "cell_type": "markdown",
   "id": "0d6e2573",
   "metadata": {},
   "source": [
    "#### Вывод по гипотезе 3\n",
    "\n",
    "Отвергаем нулевую гипотезу в пользу альтернативной. Помесячная выручка от клиентов без подписки выше. Судя по графику, они берут скорее количеством. Возможно, бизнесу стоит провести кампанию по покупке лояльными клиентами подписки. Кататься, скорее всего, будут столько же, но доход компани вырастет."
   ]
  },
  {
   "cell_type": "markdown",
   "id": "d95ac0df",
   "metadata": {},
   "source": [
    "<ins>Задача</ins>: Представьте такую ситуацию: техническая команда сервиса обновила сервера, с которыми взаимодействует мобильное приложение. Она надеется, что из-за этого количество обращений в техподдержку значимо снизилось. Некоторый файл содержит для каждого пользователя данные о количестве обращений до обновления и после него. Какой тест вам понадобился бы для проверки этой гипотезы?"
   ]
  },
  {
   "cell_type": "markdown",
   "id": "6f6341a5",
   "metadata": {},
   "source": [
    "<ins>Ответ</ins>: Чтобы проверить гипотезу о равенстве среднего генеральной совокупности для зависимых (парных) выборок, применяют метод scipy.stats.ttest_rel().\n",
    "Ему достаточно передать всего два параметра: наборы данных до и после. Оба набора должны быть одинаковыми по размеру: каждое измерение должно быть проведено до и после изменения:  `st.ttest_rel(before, after)`."
   ]
  },
  {
   "cell_type": "markdown",
   "id": "497648fd",
   "metadata": {},
   "source": [
    "## Общий вывод\n",
    "\n",
    "Была проведена краткая предобработка данных - переведен столбец date из rides_go.csv к типу данных pandas. Затем на его основе создан столбец month для дальнейшего рассчета дохода по месяцам. Также нашли и удалили 31 дубликат, данных осталось больше 90% - потому рассчеты можно считать достоверными.\n",
    "\n",
    "Далее был проведен исследовательский анализ данных. Чаще всего в датасете встречается Пятигорск - более 200 раз. А вот меньше всего - Москва(около 170). В среднем каждый из городов встречается 180-190 раз. Всего в датасете 1534 строки, из которых 835 пользуются бесплатно, а 699 имеют подписку. Возраст, как и ожидалось, распределен нормально со средним в 25 годах. Люди начинают ездить с 12 лет, а старший встречается при 43, проезжая около 3134м. Причем большинство проезжает от 2543.23 до 3776.22 м(первый и третий квартили соотв.). Cредняяе по времени поездка 18мин(или 0.3ч). Исходя из обоих цифр, можно предположить что польватели часто ездят со скоростью 10км/ч(средняя от 10 до 15). \n",
    "\n",
    "Было выяснено, что GoFast имеет стабильный ежемесячный доход. Для Москвы это было бы странно, но в Пятигорске(по которому больше всего данных), Краснодаре или Сочи снег может не выпасть вовсе.  Выручка с пользователей с подпиской составила 1 638 597руб., а без подписки 2 215 080руб. Суммарная: 1 638 597руб. \n",
    "\n",
    "Были проверены 3 гипотезы. По результатам выяснено, что пользователи с подпиской проводят больше времени на самокате, чем пользователи без подписки. Среднее расстояние пользователей с подпиской равно 3130м, потому износостойкости самоката ничего не грозит. Также при построении графика обранужились пики при 500м для пользователей без подписки и 1000 - с подпиской. Либо они пытаются доехать побыстрее, либо на меньшие дистанции. Помесячная выручка от клиентов без подписки выше. Судя по графику, они берут скорее количеством. \n",
    "\n",
    "Возможно, бизнесу стоит провести кампанию по покупке лояльными клиентами подписки. Кататься, скорее всего, будут столько же, но доход компани вырастет."
   ]
  },
  {
   "cell_type": "markdown",
   "id": "61213c5e",
   "metadata": {},
   "source": [
    "## Распределения"
   ]
  },
  {
   "cell_type": "markdown",
   "id": "bda73f5d",
   "metadata": {},
   "source": [
    " Отделу маркетинга GoFast поставили задачу: нужно провести акцию с раздачей промокодов на один бесплатный месяц подписки, в рамках которой как минимум 100 существующих клиентов должны продлить эту подписку. То есть по завершении периода действия подписки пользователь может либо отказаться от неё, либо продлить, совершив соответствующий платёж. \n",
    " \n",
    "Эта акция уже проводилась ранее и по итогу выяснилось, что после бесплатного пробного периода подписку продлевают 10 % пользователей. Выясните, какое минимальное количество промокодов нужно разослать, чтобы вероятность не выполнить план была примерно 5 %. Подберите параметры распределения, описывающего эту ситуацию, постройте график распределения и сформулируйте ответ на вопрос о количестве промокодов."
   ]
  },
  {
   "cell_type": "code",
   "execution_count": 38,
   "id": "ac747e6f",
   "metadata": {},
   "outputs": [],
   "source": [
    "from math import factorial, sqrt\n",
    "\n",
    "n = 2000 # количество попыток\n",
    "p = 0.05 # вероятность выполнить план\n",
    "x = 100 # сколько должно прийти\n",
    "\n",
    "distr = []"
   ]
  },
  {
   "cell_type": "code",
   "execution_count": 39,
   "id": "f518fc6b",
   "metadata": {},
   "outputs": [
    {
     "data": {
      "image/png": "[encoded data removed]",
      "text/plain": [
       "<Figure size 1080x504 with 1 Axes>"
      ]
     },
     "metadata": {
      "needs_background": "light"
     },
     "output_type": "display_data"
    }
   ],
   "source": [
    "for k in range(n + 1):\n",
    "    prob = st.binom.pmf(k, n, p) \n",
    "    distr.append(prob)\n",
    "    \n",
    "plt.xlim([60, 150])\n",
    "plt.bar(range(0, n + 1), distr);"
   ]
  },
  {
   "cell_type": "code",
   "execution_count": 40,
   "id": "95cd1d51",
   "metadata": {},
   "outputs": [
    {
     "data": {
      "text/plain": [
       "4.542735112004174e-14"
      ]
     },
     "execution_count": 40,
     "metadata": {},
     "output_type": "execute_result"
    }
   ],
   "source": [
    "from math import factorial, sqrt\n",
    "\n",
    "n = 2000 # количество попыток\n",
    "p = 0.1 # вероятность выполнить план\n",
    "x = 100 # сколько должно прийти\n",
    "\n",
    "mu = n * p\n",
    "sigma = sqrt(n * p * (1 - p))\n",
    "\n",
    "dist = st.norm(mu, sigma) \n",
    "dist.cdf(x)"
   ]
  },
  {
   "cell_type": "code",
   "execution_count": null,
   "id": "4b1dbb21",
   "metadata": {},
   "outputs": [],
   "source": []
  }
 ],
 "metadata": {
  "ExecuteTimeLog": [
   {
    "duration": 1298,
    "start_time": "2023-10-14T16:50:00.781Z"
   },
   {
    "duration": 83,
    "start_time": "2023-10-14T16:51:12.748Z"
   },
   {
    "duration": 33,
    "start_time": "2023-10-14T16:51:20.654Z"
   },
   {
    "duration": 85,
    "start_time": "2023-10-14T16:52:08.880Z"
   },
   {
    "duration": 66,
    "start_time": "2023-10-14T16:52:33.869Z"
   },
   {
    "duration": 65,
    "start_time": "2023-10-14T16:54:47.967Z"
   },
   {
    "duration": 63,
    "start_time": "2023-10-14T16:54:55.459Z"
   },
   {
    "duration": 122,
    "start_time": "2023-10-14T16:55:08.999Z"
   },
   {
    "duration": 63,
    "start_time": "2023-10-14T16:55:16.536Z"
   },
   {
    "duration": 65,
    "start_time": "2023-10-14T16:55:30.056Z"
   },
   {
    "duration": 90,
    "start_time": "2023-10-14T16:55:44.608Z"
   },
   {
    "duration": 78,
    "start_time": "2023-10-14T16:55:58.136Z"
   },
   {
    "duration": 107,
    "start_time": "2023-10-14T16:59:56.252Z"
   },
   {
    "duration": 108,
    "start_time": "2023-10-14T17:00:20.708Z"
   },
   {
    "duration": 9,
    "start_time": "2023-10-14T17:01:55.021Z"
   },
   {
    "duration": 6,
    "start_time": "2023-10-14T17:02:00.709Z"
   },
   {
    "duration": 12,
    "start_time": "2023-10-14T17:07:09.537Z"
   },
   {
    "duration": 5,
    "start_time": "2023-10-14T17:07:15.330Z"
   },
   {
    "duration": 5,
    "start_time": "2023-10-14T17:12:47.784Z"
   },
   {
    "duration": 45,
    "start_time": "2023-10-14T21:48:36.722Z"
   },
   {
    "duration": 1284,
    "start_time": "2023-10-14T21:48:43.195Z"
   },
   {
    "duration": 290,
    "start_time": "2023-10-14T21:48:44.482Z"
   },
   {
    "duration": 6,
    "start_time": "2023-10-14T21:48:44.774Z"
   },
   {
    "duration": 12,
    "start_time": "2023-10-14T21:48:44.782Z"
   },
   {
    "duration": 60,
    "start_time": "2023-10-14T21:48:59.501Z"
   },
   {
    "duration": 7,
    "start_time": "2023-10-14T21:49:04.898Z"
   },
   {
    "duration": 19,
    "start_time": "2023-10-14T21:50:01.899Z"
   },
   {
    "duration": 5,
    "start_time": "2023-10-14T22:01:20.414Z"
   },
   {
    "duration": 12,
    "start_time": "2023-10-14T22:01:26.182Z"
   },
   {
    "duration": 10,
    "start_time": "2023-10-14T22:01:37.678Z"
   },
   {
    "duration": 3,
    "start_time": "2023-10-14T22:03:51.993Z"
   },
   {
    "duration": 4,
    "start_time": "2023-10-14T22:04:02.912Z"
   },
   {
    "duration": 134,
    "start_time": "2023-10-14T22:05:44.154Z"
   },
   {
    "duration": 6,
    "start_time": "2023-10-14T22:06:03.827Z"
   },
   {
    "duration": 12,
    "start_time": "2023-10-14T22:07:23.868Z"
   },
   {
    "duration": 11,
    "start_time": "2023-10-14T22:07:30.412Z"
   },
   {
    "duration": 7,
    "start_time": "2023-10-14T22:07:51.100Z"
   },
   {
    "duration": 10,
    "start_time": "2023-10-14T22:08:08.013Z"
   },
   {
    "duration": 11,
    "start_time": "2023-10-14T22:10:07.770Z"
   },
   {
    "duration": 11,
    "start_time": "2023-10-14T22:14:10.370Z"
   },
   {
    "duration": 6,
    "start_time": "2023-10-14T22:15:39.554Z"
   },
   {
    "duration": 3,
    "start_time": "2023-10-14T22:39:22.336Z"
   },
   {
    "duration": 138,
    "start_time": "2023-10-14T22:39:22.340Z"
   },
   {
    "duration": 5,
    "start_time": "2023-10-14T22:39:22.479Z"
   },
   {
    "duration": 17,
    "start_time": "2023-10-14T22:39:22.485Z"
   },
   {
    "duration": 27,
    "start_time": "2023-10-14T22:39:22.504Z"
   },
   {
    "duration": 0,
    "start_time": "2023-10-14T22:39:22.532Z"
   },
   {
    "duration": 0,
    "start_time": "2023-10-14T22:39:22.533Z"
   },
   {
    "duration": 0,
    "start_time": "2023-10-14T22:39:22.534Z"
   },
   {
    "duration": 0,
    "start_time": "2023-10-14T22:39:22.535Z"
   },
   {
    "duration": 0,
    "start_time": "2023-10-14T22:39:22.536Z"
   },
   {
    "duration": 0,
    "start_time": "2023-10-14T22:39:22.537Z"
   },
   {
    "duration": 16,
    "start_time": "2023-10-14T22:40:35.854Z"
   },
   {
    "duration": 3,
    "start_time": "2023-10-14T22:41:01.401Z"
   },
   {
    "duration": 189,
    "start_time": "2023-10-14T22:41:01.406Z"
   },
   {
    "duration": 5,
    "start_time": "2023-10-14T22:41:01.597Z"
   },
   {
    "duration": 79,
    "start_time": "2023-10-14T22:41:01.604Z"
   },
   {
    "duration": 85,
    "start_time": "2023-10-14T22:41:01.684Z"
   },
   {
    "duration": 53,
    "start_time": "2023-10-14T22:41:01.771Z"
   },
   {
    "duration": 69,
    "start_time": "2023-10-14T22:41:01.826Z"
   },
   {
    "duration": 69,
    "start_time": "2023-10-14T22:41:01.896Z"
   },
   {
    "duration": 56,
    "start_time": "2023-10-14T22:41:01.967Z"
   },
   {
    "duration": 87,
    "start_time": "2023-10-14T22:41:02.025Z"
   },
   {
    "duration": 134,
    "start_time": "2023-10-14T22:42:56.851Z"
   },
   {
    "duration": 274,
    "start_time": "2023-10-14T22:43:12.892Z"
   },
   {
    "duration": 177,
    "start_time": "2023-10-14T22:43:27.779Z"
   },
   {
    "duration": 151,
    "start_time": "2023-10-14T22:43:33.460Z"
   },
   {
    "duration": 95,
    "start_time": "2023-10-14T22:48:34.439Z"
   },
   {
    "duration": 7,
    "start_time": "2023-10-14T22:48:39.487Z"
   },
   {
    "duration": 7,
    "start_time": "2023-10-14T22:48:57.359Z"
   },
   {
    "duration": 8,
    "start_time": "2023-10-14T22:49:06.344Z"
   },
   {
    "duration": 10,
    "start_time": "2023-10-14T22:50:17.792Z"
   },
   {
    "duration": 6,
    "start_time": "2023-10-14T22:50:32.080Z"
   },
   {
    "duration": 10,
    "start_time": "2023-10-14T22:53:10.762Z"
   },
   {
    "duration": 9,
    "start_time": "2023-10-14T22:53:32.666Z"
   },
   {
    "duration": 7,
    "start_time": "2023-10-14T22:54:05.467Z"
   },
   {
    "duration": 7,
    "start_time": "2023-10-14T22:54:15.970Z"
   },
   {
    "duration": 6,
    "start_time": "2023-10-14T22:55:23.190Z"
   },
   {
    "duration": 8,
    "start_time": "2023-10-14T22:57:30.806Z"
   },
   {
    "duration": 8,
    "start_time": "2023-10-14T22:58:52.310Z"
   },
   {
    "duration": 7,
    "start_time": "2023-10-14T22:58:58.727Z"
   },
   {
    "duration": 9,
    "start_time": "2023-10-14T22:59:51.176Z"
   },
   {
    "duration": 153,
    "start_time": "2023-10-14T23:06:07.244Z"
   },
   {
    "duration": 6,
    "start_time": "2023-10-14T23:07:04.733Z"
   },
   {
    "duration": 8,
    "start_time": "2023-10-14T23:09:03.751Z"
   },
   {
    "duration": 10,
    "start_time": "2023-10-14T23:12:27.307Z"
   },
   {
    "duration": 147,
    "start_time": "2023-10-14T23:12:44.290Z"
   },
   {
    "duration": 5,
    "start_time": "2023-10-14T23:13:02.890Z"
   },
   {
    "duration": 7,
    "start_time": "2023-10-14T23:13:12.203Z"
   },
   {
    "duration": 160,
    "start_time": "2023-10-14T23:20:31.147Z"
   },
   {
    "duration": 6,
    "start_time": "2023-10-14T23:31:03.148Z"
   },
   {
    "duration": 1393,
    "start_time": "2023-10-15T12:23:41.546Z"
   },
   {
    "duration": 243,
    "start_time": "2023-10-15T12:23:42.941Z"
   },
   {
    "duration": 6,
    "start_time": "2023-10-15T12:23:43.186Z"
   },
   {
    "duration": 7,
    "start_time": "2023-10-15T12:23:43.194Z"
   },
   {
    "duration": 22,
    "start_time": "2023-10-15T12:23:43.204Z"
   },
   {
    "duration": 20,
    "start_time": "2023-10-15T12:23:43.228Z"
   },
   {
    "duration": 17,
    "start_time": "2023-10-15T12:23:43.250Z"
   },
   {
    "duration": 11,
    "start_time": "2023-10-15T12:23:43.270Z"
   },
   {
    "duration": 14,
    "start_time": "2023-10-15T12:23:43.283Z"
   },
   {
    "duration": 9,
    "start_time": "2023-10-15T12:23:43.302Z"
   },
   {
    "duration": 228,
    "start_time": "2023-10-15T12:23:43.312Z"
   },
   {
    "duration": 13,
    "start_time": "2023-10-15T12:23:43.541Z"
   },
   {
    "duration": 198,
    "start_time": "2023-10-15T12:23:43.556Z"
   },
   {
    "duration": 4,
    "start_time": "2023-10-15T12:23:43.757Z"
   },
   {
    "duration": 163,
    "start_time": "2023-10-15T12:23:43.762Z"
   },
   {
    "duration": 6,
    "start_time": "2023-10-15T12:23:43.926Z"
   },
   {
    "duration": 176,
    "start_time": "2023-10-15T12:23:43.934Z"
   },
   {
    "duration": 134,
    "start_time": "2023-10-15T12:23:44.112Z"
   },
   {
    "duration": 122,
    "start_time": "2023-10-15T12:24:18.785Z"
   },
   {
    "duration": 113,
    "start_time": "2023-10-15T12:24:36.961Z"
   },
   {
    "duration": 5,
    "start_time": "2023-10-15T12:24:59.386Z"
   },
   {
    "duration": 146,
    "start_time": "2023-10-15T12:30:48.654Z"
   },
   {
    "duration": 5,
    "start_time": "2023-10-15T12:35:53.818Z"
   },
   {
    "duration": 6,
    "start_time": "2023-10-15T12:37:49.325Z"
   },
   {
    "duration": 9,
    "start_time": "2023-10-15T12:41:26.593Z"
   },
   {
    "duration": 9,
    "start_time": "2023-10-15T12:41:49.490Z"
   },
   {
    "duration": 8,
    "start_time": "2023-10-15T12:43:11.397Z"
   },
   {
    "duration": 47,
    "start_time": "2023-10-16T08:42:19.220Z"
   },
   {
    "duration": 1443,
    "start_time": "2023-10-16T08:42:31.435Z"
   },
   {
    "duration": 238,
    "start_time": "2023-10-16T08:42:32.880Z"
   },
   {
    "duration": 5,
    "start_time": "2023-10-16T08:42:33.119Z"
   },
   {
    "duration": 19,
    "start_time": "2023-10-16T08:42:33.126Z"
   },
   {
    "duration": 36,
    "start_time": "2023-10-16T08:42:33.148Z"
   },
   {
    "duration": 13,
    "start_time": "2023-10-16T08:42:33.186Z"
   },
   {
    "duration": 21,
    "start_time": "2023-10-16T08:42:33.201Z"
   },
   {
    "duration": 14,
    "start_time": "2023-10-16T08:42:33.224Z"
   },
   {
    "duration": 30,
    "start_time": "2023-10-16T08:42:33.240Z"
   },
   {
    "duration": 14,
    "start_time": "2023-10-16T08:42:33.272Z"
   },
   {
    "duration": 194,
    "start_time": "2023-10-16T08:42:33.288Z"
   },
   {
    "duration": 11,
    "start_time": "2023-10-16T08:42:33.483Z"
   },
   {
    "duration": 224,
    "start_time": "2023-10-16T08:42:33.496Z"
   },
   {
    "duration": 4,
    "start_time": "2023-10-16T08:42:33.722Z"
   },
   {
    "duration": 18,
    "start_time": "2023-10-16T08:42:33.728Z"
   },
   {
    "duration": 178,
    "start_time": "2023-10-16T08:42:33.747Z"
   },
   {
    "duration": 5,
    "start_time": "2023-10-16T08:42:33.926Z"
   },
   {
    "duration": 34,
    "start_time": "2023-10-16T08:42:33.933Z"
   },
   {
    "duration": 153,
    "start_time": "2023-10-16T08:42:33.969Z"
   },
   {
    "duration": 7,
    "start_time": "2023-10-16T08:42:34.124Z"
   },
   {
    "duration": 22,
    "start_time": "2023-10-16T08:42:34.133Z"
   },
   {
    "duration": 30,
    "start_time": "2023-10-16T08:42:34.157Z"
   },
   {
    "duration": 203,
    "start_time": "2023-10-16T08:42:34.189Z"
   },
   {
    "duration": 8,
    "start_time": "2023-10-16T08:47:49.422Z"
   },
   {
    "duration": 18,
    "start_time": "2023-10-16T08:48:09.462Z"
   },
   {
    "duration": 3,
    "start_time": "2023-10-16T08:48:50.288Z"
   },
   {
    "duration": 138,
    "start_time": "2023-10-16T08:48:50.294Z"
   },
   {
    "duration": 5,
    "start_time": "2023-10-16T08:48:50.434Z"
   },
   {
    "duration": 11,
    "start_time": "2023-10-16T08:48:50.441Z"
   },
   {
    "duration": 24,
    "start_time": "2023-10-16T08:48:50.453Z"
   },
   {
    "duration": 30,
    "start_time": "2023-10-16T08:48:50.478Z"
   },
   {
    "duration": 15,
    "start_time": "2023-10-16T08:48:50.510Z"
   },
   {
    "duration": 12,
    "start_time": "2023-10-16T08:48:50.527Z"
   },
   {
    "duration": 20,
    "start_time": "2023-10-16T08:48:50.540Z"
   },
   {
    "duration": 24,
    "start_time": "2023-10-16T08:48:50.562Z"
   },
   {
    "duration": 175,
    "start_time": "2023-10-16T08:48:50.587Z"
   },
   {
    "duration": 8,
    "start_time": "2023-10-16T08:48:50.763Z"
   },
   {
    "duration": 150,
    "start_time": "2023-10-16T08:48:50.772Z"
   },
   {
    "duration": 4,
    "start_time": "2023-10-16T08:48:50.923Z"
   },
   {
    "duration": 26,
    "start_time": "2023-10-16T08:48:50.928Z"
   },
   {
    "duration": 177,
    "start_time": "2023-10-16T08:48:50.955Z"
   },
   {
    "duration": 5,
    "start_time": "2023-10-16T08:48:51.133Z"
   },
   {
    "duration": 49,
    "start_time": "2023-10-16T08:48:51.139Z"
   },
   {
    "duration": 162,
    "start_time": "2023-10-16T08:48:51.190Z"
   },
   {
    "duration": 8,
    "start_time": "2023-10-16T08:48:51.353Z"
   },
   {
    "duration": 21,
    "start_time": "2023-10-16T08:48:51.362Z"
   },
   {
    "duration": 28,
    "start_time": "2023-10-16T08:48:51.385Z"
   },
   {
    "duration": 24,
    "start_time": "2023-10-16T08:48:51.415Z"
   },
   {
    "duration": 59,
    "start_time": "2023-10-16T08:48:51.440Z"
   },
   {
    "duration": 19,
    "start_time": "2023-10-16T08:48:51.500Z"
   },
   {
    "duration": 11,
    "start_time": "2023-10-16T08:49:30.440Z"
   },
   {
    "duration": 11,
    "start_time": "2023-10-16T08:49:42.264Z"
   },
   {
    "duration": 18,
    "start_time": "2023-10-16T08:49:43.447Z"
   },
   {
    "duration": 11,
    "start_time": "2023-10-16T08:49:44.816Z"
   },
   {
    "duration": 3,
    "start_time": "2023-10-16T08:49:51.193Z"
   },
   {
    "duration": 124,
    "start_time": "2023-10-16T08:49:51.199Z"
   },
   {
    "duration": 5,
    "start_time": "2023-10-16T08:49:51.325Z"
   },
   {
    "duration": 36,
    "start_time": "2023-10-16T08:49:51.332Z"
   },
   {
    "duration": 30,
    "start_time": "2023-10-16T08:49:51.370Z"
   },
   {
    "duration": 30,
    "start_time": "2023-10-16T08:49:51.402Z"
   },
   {
    "duration": 19,
    "start_time": "2023-10-16T08:49:51.434Z"
   },
   {
    "duration": 30,
    "start_time": "2023-10-16T08:49:51.455Z"
   },
   {
    "duration": 26,
    "start_time": "2023-10-16T08:49:51.487Z"
   },
   {
    "duration": 27,
    "start_time": "2023-10-16T08:49:51.515Z"
   },
   {
    "duration": 180,
    "start_time": "2023-10-16T08:49:51.543Z"
   },
   {
    "duration": 9,
    "start_time": "2023-10-16T08:49:51.724Z"
   },
   {
    "duration": 249,
    "start_time": "2023-10-16T08:49:51.734Z"
   },
   {
    "duration": 4,
    "start_time": "2023-10-16T08:49:51.984Z"
   },
   {
    "duration": 57,
    "start_time": "2023-10-16T08:49:51.990Z"
   },
   {
    "duration": 180,
    "start_time": "2023-10-16T08:49:52.049Z"
   },
   {
    "duration": 5,
    "start_time": "2023-10-16T08:49:52.231Z"
   },
   {
    "duration": 29,
    "start_time": "2023-10-16T08:49:52.237Z"
   },
   {
    "duration": 146,
    "start_time": "2023-10-16T08:49:52.268Z"
   },
   {
    "duration": 6,
    "start_time": "2023-10-16T08:49:52.416Z"
   },
   {
    "duration": 55,
    "start_time": "2023-10-16T08:49:52.423Z"
   },
   {
    "duration": 39,
    "start_time": "2023-10-16T08:49:52.479Z"
   },
   {
    "duration": 38,
    "start_time": "2023-10-16T08:49:52.519Z"
   },
   {
    "duration": 46,
    "start_time": "2023-10-16T08:49:52.559Z"
   },
   {
    "duration": 24,
    "start_time": "2023-10-16T08:49:52.607Z"
   },
   {
    "duration": 22,
    "start_time": "2023-10-16T08:54:55.917Z"
   },
   {
    "duration": 11,
    "start_time": "2023-10-16T08:54:59.189Z"
   },
   {
    "duration": 71,
    "start_time": "2023-10-16T08:58:48.304Z"
   },
   {
    "duration": 3,
    "start_time": "2023-10-16T08:59:16.363Z"
   },
   {
    "duration": 134,
    "start_time": "2023-10-16T08:59:16.367Z"
   },
   {
    "duration": 5,
    "start_time": "2023-10-16T08:59:16.503Z"
   },
   {
    "duration": 29,
    "start_time": "2023-10-16T08:59:16.509Z"
   },
   {
    "duration": 35,
    "start_time": "2023-10-16T08:59:16.540Z"
   },
   {
    "duration": 34,
    "start_time": "2023-10-16T08:59:16.577Z"
   },
   {
    "duration": 32,
    "start_time": "2023-10-16T08:59:16.613Z"
   },
   {
    "duration": 33,
    "start_time": "2023-10-16T08:59:16.647Z"
   },
   {
    "duration": 31,
    "start_time": "2023-10-16T08:59:16.681Z"
   },
   {
    "duration": 21,
    "start_time": "2023-10-16T08:59:16.714Z"
   },
   {
    "duration": 206,
    "start_time": "2023-10-16T08:59:16.737Z"
   },
   {
    "duration": 9,
    "start_time": "2023-10-16T08:59:16.945Z"
   },
   {
    "duration": 167,
    "start_time": "2023-10-16T08:59:16.956Z"
   },
   {
    "duration": 4,
    "start_time": "2023-10-16T08:59:17.126Z"
   },
   {
    "duration": 20,
    "start_time": "2023-10-16T08:59:17.131Z"
   },
   {
    "duration": 158,
    "start_time": "2023-10-16T08:59:17.152Z"
   },
   {
    "duration": 6,
    "start_time": "2023-10-16T08:59:17.311Z"
   },
   {
    "duration": 25,
    "start_time": "2023-10-16T08:59:17.318Z"
   },
   {
    "duration": 148,
    "start_time": "2023-10-16T08:59:17.344Z"
   },
   {
    "duration": 6,
    "start_time": "2023-10-16T08:59:17.493Z"
   },
   {
    "duration": 28,
    "start_time": "2023-10-16T08:59:17.501Z"
   },
   {
    "duration": 32,
    "start_time": "2023-10-16T08:59:17.530Z"
   },
   {
    "duration": 33,
    "start_time": "2023-10-16T08:59:17.564Z"
   },
   {
    "duration": 39,
    "start_time": "2023-10-16T08:59:17.599Z"
   },
   {
    "duration": 0,
    "start_time": "2023-10-16T08:59:17.639Z"
   },
   {
    "duration": 18,
    "start_time": "2023-10-16T08:59:28.585Z"
   },
   {
    "duration": 11,
    "start_time": "2023-10-16T08:59:30.437Z"
   },
   {
    "duration": 9,
    "start_time": "2023-10-16T08:59:38.792Z"
   },
   {
    "duration": 18,
    "start_time": "2023-10-16T09:13:31.322Z"
   },
   {
    "duration": 14,
    "start_time": "2023-10-16T09:13:47.254Z"
   },
   {
    "duration": 15,
    "start_time": "2023-10-16T09:14:46.560Z"
   },
   {
    "duration": 12,
    "start_time": "2023-10-16T09:14:47.934Z"
   },
   {
    "duration": 15,
    "start_time": "2023-10-16T09:15:21.047Z"
   },
   {
    "duration": 10,
    "start_time": "2023-10-16T09:15:22.912Z"
   },
   {
    "duration": 3,
    "start_time": "2023-10-16T09:15:50.417Z"
   },
   {
    "duration": 127,
    "start_time": "2023-10-16T09:15:50.422Z"
   },
   {
    "duration": 5,
    "start_time": "2023-10-16T09:15:50.551Z"
   },
   {
    "duration": 38,
    "start_time": "2023-10-16T09:15:50.558Z"
   },
   {
    "duration": 32,
    "start_time": "2023-10-16T09:15:50.598Z"
   },
   {
    "duration": 28,
    "start_time": "2023-10-16T09:15:50.632Z"
   },
   {
    "duration": 39,
    "start_time": "2023-10-16T09:15:50.661Z"
   },
   {
    "duration": 18,
    "start_time": "2023-10-16T09:15:50.701Z"
   },
   {
    "duration": 26,
    "start_time": "2023-10-16T09:15:50.721Z"
   },
   {
    "duration": 20,
    "start_time": "2023-10-16T09:15:50.749Z"
   },
   {
    "duration": 183,
    "start_time": "2023-10-16T09:15:50.771Z"
   },
   {
    "duration": 9,
    "start_time": "2023-10-16T09:15:50.957Z"
   },
   {
    "duration": 178,
    "start_time": "2023-10-16T09:15:50.967Z"
   },
   {
    "duration": 4,
    "start_time": "2023-10-16T09:15:51.148Z"
   },
   {
    "duration": 26,
    "start_time": "2023-10-16T09:15:51.154Z"
   },
   {
    "duration": 162,
    "start_time": "2023-10-16T09:15:51.182Z"
   },
   {
    "duration": 5,
    "start_time": "2023-10-16T09:15:51.346Z"
   },
   {
    "duration": 24,
    "start_time": "2023-10-16T09:15:51.353Z"
   },
   {
    "duration": 145,
    "start_time": "2023-10-16T09:15:51.379Z"
   },
   {
    "duration": 7,
    "start_time": "2023-10-16T09:15:51.526Z"
   },
   {
    "duration": 51,
    "start_time": "2023-10-16T09:15:51.534Z"
   },
   {
    "duration": 23,
    "start_time": "2023-10-16T09:15:51.587Z"
   },
   {
    "duration": 26,
    "start_time": "2023-10-16T09:15:51.612Z"
   },
   {
    "duration": 37,
    "start_time": "2023-10-16T09:15:51.639Z"
   },
   {
    "duration": 23,
    "start_time": "2023-10-16T09:15:51.677Z"
   },
   {
    "duration": 14,
    "start_time": "2023-10-16T09:17:01.925Z"
   },
   {
    "duration": 15,
    "start_time": "2023-10-16T09:17:36.625Z"
   },
   {
    "duration": 9,
    "start_time": "2023-10-16T09:17:38.532Z"
   },
   {
    "duration": 18,
    "start_time": "2023-10-16T09:19:53.852Z"
   },
   {
    "duration": 19,
    "start_time": "2023-10-16T09:19:56.075Z"
   },
   {
    "duration": 26,
    "start_time": "2023-10-16T09:20:12.732Z"
   },
   {
    "duration": 13,
    "start_time": "2023-10-16T09:20:14.907Z"
   },
   {
    "duration": 3,
    "start_time": "2023-10-16T09:20:29.005Z"
   },
   {
    "duration": 217,
    "start_time": "2023-10-16T09:20:29.010Z"
   },
   {
    "duration": 5,
    "start_time": "2023-10-16T09:20:29.228Z"
   },
   {
    "duration": 18,
    "start_time": "2023-10-16T09:20:29.235Z"
   },
   {
    "duration": 15,
    "start_time": "2023-10-16T09:20:29.254Z"
   },
   {
    "duration": 13,
    "start_time": "2023-10-16T09:20:29.271Z"
   },
   {
    "duration": 11,
    "start_time": "2023-10-16T09:20:29.308Z"
   },
   {
    "duration": 10,
    "start_time": "2023-10-16T09:20:29.321Z"
   },
   {
    "duration": 17,
    "start_time": "2023-10-16T09:20:29.334Z"
   },
   {
    "duration": 6,
    "start_time": "2023-10-16T09:20:29.352Z"
   },
   {
    "duration": 171,
    "start_time": "2023-10-16T09:20:29.359Z"
   },
   {
    "duration": 8,
    "start_time": "2023-10-16T09:20:29.531Z"
   },
   {
    "duration": 147,
    "start_time": "2023-10-16T09:20:29.540Z"
   },
   {
    "duration": 4,
    "start_time": "2023-10-16T09:20:29.688Z"
   },
   {
    "duration": 14,
    "start_time": "2023-10-16T09:20:29.693Z"
   },
   {
    "duration": 143,
    "start_time": "2023-10-16T09:20:29.709Z"
   },
   {
    "duration": 5,
    "start_time": "2023-10-16T09:20:29.853Z"
   },
   {
    "duration": 6,
    "start_time": "2023-10-16T09:20:29.860Z"
   },
   {
    "duration": 159,
    "start_time": "2023-10-16T09:20:29.868Z"
   },
   {
    "duration": 8,
    "start_time": "2023-10-16T09:20:30.028Z"
   },
   {
    "duration": 83,
    "start_time": "2023-10-16T09:20:30.037Z"
   },
   {
    "duration": 35,
    "start_time": "2023-10-16T09:20:30.122Z"
   },
   {
    "duration": 42,
    "start_time": "2023-10-16T09:20:30.159Z"
   },
   {
    "duration": 60,
    "start_time": "2023-10-16T09:20:30.204Z"
   },
   {
    "duration": 30,
    "start_time": "2023-10-16T09:20:30.266Z"
   },
   {
    "duration": 7,
    "start_time": "2023-10-16T09:21:43.252Z"
   },
   {
    "duration": 106,
    "start_time": "2023-10-16T09:24:55.344Z"
   },
   {
    "duration": 7,
    "start_time": "2023-10-16T09:26:51.506Z"
   },
   {
    "duration": 11,
    "start_time": "2023-10-16T09:27:05.938Z"
   },
   {
    "duration": 13,
    "start_time": "2023-10-16T09:27:06.762Z"
   },
   {
    "duration": 105,
    "start_time": "2023-10-16T09:27:09.082Z"
   },
   {
    "duration": 191,
    "start_time": "2023-10-16T09:33:18.032Z"
   },
   {
    "duration": 44,
    "start_time": "2023-10-17T08:06:04.346Z"
   },
   {
    "duration": 1265,
    "start_time": "2023-10-17T08:06:10.535Z"
   },
   {
    "duration": 330,
    "start_time": "2023-10-17T08:06:11.802Z"
   },
   {
    "duration": 4,
    "start_time": "2023-10-17T08:06:12.134Z"
   },
   {
    "duration": 65,
    "start_time": "2023-10-17T08:06:12.140Z"
   },
   {
    "duration": 60,
    "start_time": "2023-10-17T08:06:12.206Z"
   },
   {
    "duration": 44,
    "start_time": "2023-10-17T08:06:12.268Z"
   },
   {
    "duration": 30,
    "start_time": "2023-10-17T08:06:12.314Z"
   },
   {
    "duration": 51,
    "start_time": "2023-10-17T08:06:12.346Z"
   },
   {
    "duration": 46,
    "start_time": "2023-10-17T08:06:12.399Z"
   },
   {
    "duration": 47,
    "start_time": "2023-10-17T08:06:12.447Z"
   },
   {
    "duration": 187,
    "start_time": "2023-10-17T08:06:12.495Z"
   },
   {
    "duration": 7,
    "start_time": "2023-10-17T08:06:12.683Z"
   },
   {
    "duration": 182,
    "start_time": "2023-10-17T08:06:12.692Z"
   },
   {
    "duration": 4,
    "start_time": "2023-10-17T08:06:12.875Z"
   },
   {
    "duration": 64,
    "start_time": "2023-10-17T08:06:12.881Z"
   },
   {
    "duration": 174,
    "start_time": "2023-10-17T08:06:12.947Z"
   },
   {
    "duration": 5,
    "start_time": "2023-10-17T08:06:13.123Z"
   },
   {
    "duration": 41,
    "start_time": "2023-10-17T08:06:13.129Z"
   },
   {
    "duration": 145,
    "start_time": "2023-10-17T08:06:13.172Z"
   },
   {
    "duration": 6,
    "start_time": "2023-10-17T08:06:13.319Z"
   },
   {
    "duration": 44,
    "start_time": "2023-10-17T08:06:13.326Z"
   },
   {
    "duration": 59,
    "start_time": "2023-10-17T08:06:13.372Z"
   },
   {
    "duration": 19,
    "start_time": "2023-10-17T08:06:13.433Z"
   },
   {
    "duration": 40,
    "start_time": "2023-10-17T08:06:13.454Z"
   },
   {
    "duration": 221,
    "start_time": "2023-10-17T08:06:13.495Z"
   },
   {
    "duration": 7,
    "start_time": "2023-10-17T08:06:21.604Z"
   },
   {
    "duration": 58,
    "start_time": "2023-10-17T08:09:57.456Z"
   },
   {
    "duration": 100,
    "start_time": "2023-10-17T08:10:13.708Z"
   },
   {
    "duration": 183,
    "start_time": "2023-10-17T08:11:53.304Z"
   },
   {
    "duration": 1239,
    "start_time": "2023-10-17T08:12:29.697Z"
   },
   {
    "duration": 170,
    "start_time": "2023-10-17T08:13:59.899Z"
   },
   {
    "duration": 107,
    "start_time": "2023-10-17T08:14:28.883Z"
   },
   {
    "duration": 114,
    "start_time": "2023-10-17T08:14:56.435Z"
   },
   {
    "duration": 113,
    "start_time": "2023-10-17T08:15:07.147Z"
   },
   {
    "duration": 134,
    "start_time": "2023-10-17T08:15:13.627Z"
   },
   {
    "duration": 160,
    "start_time": "2023-10-17T08:15:22.516Z"
   },
   {
    "duration": 189,
    "start_time": "2023-10-17T08:16:04.213Z"
   },
   {
    "duration": 148,
    "start_time": "2023-10-17T08:17:25.262Z"
   },
   {
    "duration": 157,
    "start_time": "2023-10-17T08:24:03.200Z"
   },
   {
    "duration": 146,
    "start_time": "2023-10-17T08:25:12.992Z"
   },
   {
    "duration": 3,
    "start_time": "2023-10-17T08:32:56.671Z"
   },
   {
    "duration": 4,
    "start_time": "2023-10-17T08:33:14.417Z"
   },
   {
    "duration": 18,
    "start_time": "2023-10-17T08:33:21.306Z"
   },
   {
    "duration": 8,
    "start_time": "2023-10-17T08:34:38.262Z"
   },
   {
    "duration": 18,
    "start_time": "2023-10-17T08:34:48.490Z"
   },
   {
    "duration": 9,
    "start_time": "2023-10-17T08:36:56.295Z"
   },
   {
    "duration": 52,
    "start_time": "2023-10-17T09:04:04.281Z"
   },
   {
    "duration": 2,
    "start_time": "2023-10-17T09:04:19.283Z"
   },
   {
    "duration": 123,
    "start_time": "2023-10-17T09:04:19.287Z"
   },
   {
    "duration": 5,
    "start_time": "2023-10-17T09:04:19.411Z"
   },
   {
    "duration": 28,
    "start_time": "2023-10-17T09:04:19.418Z"
   },
   {
    "duration": 29,
    "start_time": "2023-10-17T09:04:19.448Z"
   },
   {
    "duration": 37,
    "start_time": "2023-10-17T09:04:19.479Z"
   },
   {
    "duration": 19,
    "start_time": "2023-10-17T09:04:19.518Z"
   },
   {
    "duration": 35,
    "start_time": "2023-10-17T09:04:19.539Z"
   },
   {
    "duration": 14,
    "start_time": "2023-10-17T09:04:19.575Z"
   },
   {
    "duration": 5,
    "start_time": "2023-10-17T09:04:19.592Z"
   },
   {
    "duration": 167,
    "start_time": "2023-10-17T09:04:19.599Z"
   },
   {
    "duration": 8,
    "start_time": "2023-10-17T09:04:19.768Z"
   },
   {
    "duration": 247,
    "start_time": "2023-10-17T09:04:19.778Z"
   },
   {
    "duration": 5,
    "start_time": "2023-10-17T09:04:20.027Z"
   },
   {
    "duration": 12,
    "start_time": "2023-10-17T09:04:20.045Z"
   },
   {
    "duration": 182,
    "start_time": "2023-10-17T09:04:20.059Z"
   },
   {
    "duration": 6,
    "start_time": "2023-10-17T09:04:20.244Z"
   },
   {
    "duration": 51,
    "start_time": "2023-10-17T09:04:20.251Z"
   },
   {
    "duration": 204,
    "start_time": "2023-10-17T09:04:20.304Z"
   },
   {
    "duration": 83,
    "start_time": "2023-10-17T09:04:20.509Z"
   },
   {
    "duration": 204,
    "start_time": "2023-10-17T09:04:20.593Z"
   },
   {
    "duration": 54,
    "start_time": "2023-10-17T09:04:20.798Z"
   },
   {
    "duration": 36,
    "start_time": "2023-10-17T09:04:20.853Z"
   },
   {
    "duration": 166,
    "start_time": "2023-10-17T09:04:20.890Z"
   },
   {
    "duration": 147,
    "start_time": "2023-10-17T09:04:21.058Z"
   },
   {
    "duration": 26,
    "start_time": "2023-10-17T09:04:21.207Z"
   },
   {
    "duration": 30,
    "start_time": "2023-10-17T09:04:32.936Z"
   },
   {
    "duration": 15,
    "start_time": "2023-10-17T09:04:47.025Z"
   },
   {
    "duration": 13,
    "start_time": "2023-10-17T09:05:26.010Z"
   },
   {
    "duration": 19,
    "start_time": "2023-10-17T09:05:31.653Z"
   },
   {
    "duration": 22,
    "start_time": "2023-10-17T09:05:36.951Z"
   },
   {
    "duration": 12,
    "start_time": "2023-10-17T09:05:41.227Z"
   },
   {
    "duration": 45,
    "start_time": "2023-10-17T09:06:32.262Z"
   },
   {
    "duration": 35,
    "start_time": "2023-10-17T09:06:48.892Z"
   },
   {
    "duration": 54,
    "start_time": "2023-10-17T09:08:59.033Z"
   },
   {
    "duration": 36,
    "start_time": "2023-10-17T09:09:33.127Z"
   },
   {
    "duration": 24,
    "start_time": "2023-10-17T09:11:25.992Z"
   },
   {
    "duration": 25,
    "start_time": "2023-10-17T09:12:20.505Z"
   },
   {
    "duration": 42,
    "start_time": "2023-10-17T09:15:49.077Z"
   },
   {
    "duration": 48,
    "start_time": "2023-10-17T09:17:38.895Z"
   },
   {
    "duration": 52,
    "start_time": "2023-10-17T09:20:28.167Z"
   },
   {
    "duration": 68,
    "start_time": "2023-10-17T09:20:54.169Z"
   },
   {
    "duration": 27,
    "start_time": "2023-10-17T09:22:54.065Z"
   },
   {
    "duration": 91,
    "start_time": "2023-10-17T09:23:04.373Z"
   },
   {
    "duration": 44,
    "start_time": "2023-10-17T09:23:20.172Z"
   },
   {
    "duration": 52,
    "start_time": "2023-10-17T09:23:37.967Z"
   },
   {
    "duration": 94,
    "start_time": "2023-10-17T09:29:56.681Z"
   },
   {
    "duration": 16,
    "start_time": "2023-10-17T09:30:01.387Z"
   },
   {
    "duration": 122,
    "start_time": "2023-10-17T09:30:26.402Z"
   },
   {
    "duration": 112,
    "start_time": "2023-10-17T09:30:39.739Z"
   },
   {
    "duration": 16,
    "start_time": "2023-10-17T09:31:26.411Z"
   },
   {
    "duration": 116,
    "start_time": "2023-10-17T09:31:48.869Z"
   },
   {
    "duration": 4,
    "start_time": "2023-10-17T09:35:02.607Z"
   },
   {
    "duration": 7,
    "start_time": "2023-10-17T09:42:31.982Z"
   },
   {
    "duration": 4,
    "start_time": "2023-10-17T09:44:13.015Z"
   },
   {
    "duration": 5,
    "start_time": "2023-10-17T09:44:49.004Z"
   },
   {
    "duration": 4,
    "start_time": "2023-10-17T09:44:55.171Z"
   },
   {
    "duration": 3,
    "start_time": "2023-10-17T09:45:09.824Z"
   },
   {
    "duration": 6,
    "start_time": "2023-10-17T09:57:13.870Z"
   },
   {
    "duration": 5,
    "start_time": "2023-10-17T09:57:18.685Z"
   },
   {
    "duration": 4,
    "start_time": "2023-10-17T09:57:29.101Z"
   },
   {
    "duration": 1018,
    "start_time": "2023-10-17T09:57:52.621Z"
   },
   {
    "duration": 870,
    "start_time": "2023-10-17T09:58:38.824Z"
   },
   {
    "duration": 136,
    "start_time": "2023-10-17T09:58:45.081Z"
   },
   {
    "duration": 153,
    "start_time": "2023-10-17T09:59:09.702Z"
   },
   {
    "duration": 926,
    "start_time": "2023-10-17T09:59:15.048Z"
   },
   {
    "duration": 164,
    "start_time": "2023-10-17T09:59:20.529Z"
   },
   {
    "duration": 15,
    "start_time": "2023-10-17T10:07:52.752Z"
   },
   {
    "duration": 9,
    "start_time": "2023-10-17T10:09:57.555Z"
   },
   {
    "duration": 11,
    "start_time": "2023-10-17T10:10:06.180Z"
   },
   {
    "duration": 15,
    "start_time": "2023-10-17T10:11:26.957Z"
   },
   {
    "duration": 132,
    "start_time": "2023-10-17T10:12:53.050Z"
   },
   {
    "duration": 134,
    "start_time": "2023-10-17T10:13:11.585Z"
   },
   {
    "duration": 147,
    "start_time": "2023-10-17T10:14:02.837Z"
   },
   {
    "duration": 6,
    "start_time": "2023-10-17T10:16:14.738Z"
   },
   {
    "duration": 20,
    "start_time": "2023-10-17T10:16:29.019Z"
   },
   {
    "duration": 13,
    "start_time": "2023-10-17T10:17:40.292Z"
   },
   {
    "duration": 151,
    "start_time": "2023-10-17T10:20:15.644Z"
   },
   {
    "duration": 20,
    "start_time": "2023-10-17T10:20:17.293Z"
   },
   {
    "duration": 37,
    "start_time": "2023-10-17T10:21:40.452Z"
   },
   {
    "duration": 34,
    "start_time": "2023-10-17T10:22:04.890Z"
   },
   {
    "duration": 7,
    "start_time": "2023-10-17T10:23:00.044Z"
   },
   {
    "duration": 159,
    "start_time": "2023-10-17T10:23:00.053Z"
   },
   {
    "duration": 5,
    "start_time": "2023-10-17T10:23:00.213Z"
   },
   {
    "duration": 52,
    "start_time": "2023-10-17T10:23:00.220Z"
   },
   {
    "duration": 62,
    "start_time": "2023-10-17T10:23:00.274Z"
   },
   {
    "duration": 46,
    "start_time": "2023-10-17T10:23:00.338Z"
   },
   {
    "duration": 37,
    "start_time": "2023-10-17T10:23:00.387Z"
   },
   {
    "duration": 43,
    "start_time": "2023-10-17T10:23:00.426Z"
   },
   {
    "duration": 50,
    "start_time": "2023-10-17T10:23:00.470Z"
   },
   {
    "duration": 46,
    "start_time": "2023-10-17T10:23:00.523Z"
   },
   {
    "duration": 208,
    "start_time": "2023-10-17T10:23:00.571Z"
   },
   {
    "duration": 9,
    "start_time": "2023-10-17T10:23:00.781Z"
   },
   {
    "duration": 244,
    "start_time": "2023-10-17T10:23:00.792Z"
   },
   {
    "duration": 25,
    "start_time": "2023-10-17T10:23:01.038Z"
   },
   {
    "duration": 24,
    "start_time": "2023-10-17T10:23:01.064Z"
   },
   {
    "duration": 206,
    "start_time": "2023-10-17T10:23:01.089Z"
   },
   {
    "duration": 5,
    "start_time": "2023-10-17T10:23:01.297Z"
   },
   {
    "duration": 50,
    "start_time": "2023-10-17T10:23:01.304Z"
   },
   {
    "duration": 202,
    "start_time": "2023-10-17T10:23:01.357Z"
   },
   {
    "duration": 11,
    "start_time": "2023-10-17T10:23:01.561Z"
   },
   {
    "duration": 89,
    "start_time": "2023-10-17T10:23:01.574Z"
   },
   {
    "duration": 70,
    "start_time": "2023-10-17T10:23:01.665Z"
   },
   {
    "duration": 31,
    "start_time": "2023-10-17T10:23:01.736Z"
   },
   {
    "duration": 234,
    "start_time": "2023-10-17T10:23:01.769Z"
   },
   {
    "duration": 262,
    "start_time": "2023-10-17T10:23:02.005Z"
   },
   {
    "duration": 139,
    "start_time": "2023-10-17T10:23:02.269Z"
   },
   {
    "duration": 17,
    "start_time": "2023-10-17T10:23:02.410Z"
   },
   {
    "duration": 66,
    "start_time": "2023-10-17T10:23:02.445Z"
   },
   {
    "duration": 17,
    "start_time": "2023-10-17T11:21:22.581Z"
   },
   {
    "duration": 15,
    "start_time": "2023-10-17T11:21:40.837Z"
   },
   {
    "duration": 21,
    "start_time": "2023-10-17T11:30:16.740Z"
   },
   {
    "duration": 13,
    "start_time": "2023-10-17T11:30:20.005Z"
   },
   {
    "duration": 5,
    "start_time": "2023-10-17T11:45:16.652Z"
   },
   {
    "duration": 6,
    "start_time": "2023-10-17T12:05:47.406Z"
   },
   {
    "duration": 1432,
    "start_time": "2023-10-18T08:24:57.067Z"
   },
   {
    "duration": 257,
    "start_time": "2023-10-18T08:24:58.501Z"
   },
   {
    "duration": 6,
    "start_time": "2023-10-18T08:24:58.760Z"
   },
   {
    "duration": 36,
    "start_time": "2023-10-18T08:24:58.768Z"
   },
   {
    "duration": 38,
    "start_time": "2023-10-18T08:24:58.806Z"
   },
   {
    "duration": 18,
    "start_time": "2023-10-18T08:24:58.846Z"
   },
   {
    "duration": 20,
    "start_time": "2023-10-18T08:24:58.866Z"
   },
   {
    "duration": 11,
    "start_time": "2023-10-18T08:24:58.888Z"
   },
   {
    "duration": 16,
    "start_time": "2023-10-18T08:24:58.901Z"
   },
   {
    "duration": 20,
    "start_time": "2023-10-18T08:24:58.920Z"
   },
   {
    "duration": 205,
    "start_time": "2023-10-18T08:24:58.942Z"
   },
   {
    "duration": 10,
    "start_time": "2023-10-18T08:24:59.149Z"
   },
   {
    "duration": 161,
    "start_time": "2023-10-18T08:24:59.161Z"
   },
   {
    "duration": 4,
    "start_time": "2023-10-18T08:24:59.324Z"
   },
   {
    "duration": 16,
    "start_time": "2023-10-18T08:24:59.330Z"
   },
   {
    "duration": 185,
    "start_time": "2023-10-18T08:24:59.348Z"
   },
   {
    "duration": 5,
    "start_time": "2023-10-18T08:24:59.535Z"
   },
   {
    "duration": 17,
    "start_time": "2023-10-18T08:24:59.542Z"
   },
   {
    "duration": 157,
    "start_time": "2023-10-18T08:24:59.561Z"
   },
   {
    "duration": 7,
    "start_time": "2023-10-18T08:24:59.719Z"
   },
   {
    "duration": 33,
    "start_time": "2023-10-18T08:24:59.728Z"
   },
   {
    "duration": 38,
    "start_time": "2023-10-18T08:24:59.763Z"
   },
   {
    "duration": 11,
    "start_time": "2023-10-18T08:24:59.803Z"
   },
   {
    "duration": 178,
    "start_time": "2023-10-18T08:24:59.816Z"
   },
   {
    "duration": 170,
    "start_time": "2023-10-18T08:24:59.996Z"
   },
   {
    "duration": 125,
    "start_time": "2023-10-18T08:25:00.168Z"
   },
   {
    "duration": 21,
    "start_time": "2023-10-18T08:25:00.295Z"
   },
   {
    "duration": 74,
    "start_time": "2023-10-18T08:25:00.319Z"
   },
   {
    "duration": 97,
    "start_time": "2023-10-18T08:25:00.395Z"
   },
   {
    "duration": 56,
    "start_time": "2023-10-18T08:25:00.494Z"
   },
   {
    "duration": 118,
    "start_time": "2023-10-18T08:25:00.553Z"
   },
   {
    "duration": 7,
    "start_time": "2023-10-18T08:27:13.106Z"
   },
   {
    "duration": 7,
    "start_time": "2023-10-18T08:27:15.226Z"
   },
   {
    "duration": 8,
    "start_time": "2023-10-18T08:28:23.070Z"
   },
   {
    "duration": 120,
    "start_time": "2023-10-18T08:48:04.414Z"
   },
   {
    "duration": 7,
    "start_time": "2023-10-18T08:50:22.303Z"
   },
   {
    "duration": 134,
    "start_time": "2023-10-18T08:50:24.014Z"
   },
   {
    "duration": 122,
    "start_time": "2023-10-18T08:50:29.921Z"
   },
   {
    "duration": 5,
    "start_time": "2023-10-18T08:51:19.245Z"
   },
   {
    "duration": 120,
    "start_time": "2023-10-18T08:51:21.018Z"
   },
   {
    "duration": 7,
    "start_time": "2023-10-18T08:51:33.932Z"
   },
   {
    "duration": 14,
    "start_time": "2023-10-18T08:51:46.263Z"
   },
   {
    "duration": 70,
    "start_time": "2023-10-18T08:56:44.916Z"
   },
   {
    "duration": 151,
    "start_time": "2023-10-18T08:57:54.175Z"
   },
   {
    "duration": 62,
    "start_time": "2023-10-18T09:54:06.841Z"
   },
   {
    "duration": 83,
    "start_time": "2023-10-18T09:54:09.694Z"
   },
   {
    "duration": 65,
    "start_time": "2023-10-18T09:54:11.886Z"
   },
   {
    "duration": 99,
    "start_time": "2023-10-18T10:00:10.402Z"
   },
   {
    "duration": 493,
    "start_time": "2023-10-18T10:05:04.580Z"
   },
   {
    "duration": 605,
    "start_time": "2023-10-18T10:05:13.883Z"
   },
   {
    "duration": 483,
    "start_time": "2023-10-18T10:09:45.880Z"
   },
   {
    "duration": 517,
    "start_time": "2023-10-18T10:10:05.195Z"
   },
   {
    "duration": 520,
    "start_time": "2023-10-18T10:10:12.712Z"
   },
   {
    "duration": 24,
    "start_time": "2023-10-18T10:14:24.973Z"
   },
   {
    "duration": 351,
    "start_time": "2023-10-18T10:14:31.889Z"
   },
   {
    "duration": 6,
    "start_time": "2023-10-18T10:18:31.459Z"
   },
   {
    "duration": 8,
    "start_time": "2023-10-18T10:23:44.580Z"
   },
   {
    "duration": 7,
    "start_time": "2023-10-18T10:23:58.032Z"
   },
   {
    "duration": 6,
    "start_time": "2023-10-18T10:24:10.033Z"
   },
   {
    "duration": 1593,
    "start_time": "2023-10-18T10:51:08.608Z"
   },
   {
    "duration": 263,
    "start_time": "2023-10-18T10:51:43.738Z"
   },
   {
    "duration": 442,
    "start_time": "2023-10-18T11:06:49.182Z"
   },
   {
    "duration": 1753,
    "start_time": "2023-10-18T11:07:10.510Z"
   },
   {
    "duration": 1702,
    "start_time": "2023-10-18T11:07:19.042Z"
   },
   {
    "duration": 1834,
    "start_time": "2023-10-18T11:07:34.516Z"
   },
   {
    "duration": 1458,
    "start_time": "2023-10-18T11:07:47.813Z"
   },
   {
    "duration": 1911,
    "start_time": "2023-10-18T11:19:23.942Z"
   },
   {
    "duration": 1970,
    "start_time": "2023-10-18T11:23:37.513Z"
   },
   {
    "duration": 1500,
    "start_time": "2023-10-18T11:24:14.197Z"
   },
   {
    "duration": 1956,
    "start_time": "2023-10-18T11:25:30.508Z"
   },
   {
    "duration": 1885,
    "start_time": "2023-10-18T11:27:12.528Z"
   },
   {
    "duration": 277,
    "start_time": "2023-10-18T11:27:27.421Z"
   },
   {
    "duration": 227,
    "start_time": "2023-10-18T11:27:56.812Z"
   },
   {
    "duration": 1483,
    "start_time": "2023-10-18T11:28:16.703Z"
   },
   {
    "duration": 651,
    "start_time": "2023-10-18T11:28:23.516Z"
   },
   {
    "duration": 235,
    "start_time": "2023-10-18T11:28:38.925Z"
   },
   {
    "duration": 173,
    "start_time": "2023-10-18T11:28:44.782Z"
   },
   {
    "duration": 120,
    "start_time": "2023-10-18T11:28:49.045Z"
   },
   {
    "duration": 72,
    "start_time": "2023-10-18T11:28:52.813Z"
   },
   {
    "duration": 2003,
    "start_time": "2023-10-18T11:28:57.125Z"
   },
   {
    "duration": 794,
    "start_time": "2023-10-18T11:29:08.726Z"
   },
   {
    "duration": 1290,
    "start_time": "2023-10-18T11:29:34.301Z"
   },
   {
    "duration": 290,
    "start_time": "2023-10-18T11:29:41.329Z"
   },
   {
    "duration": 803,
    "start_time": "2023-10-18T11:30:32.677Z"
   },
   {
    "duration": 529,
    "start_time": "2023-10-18T11:30:40.668Z"
   },
   {
    "duration": 542,
    "start_time": "2023-10-18T11:31:22.222Z"
   },
   {
    "duration": 1021,
    "start_time": "2023-10-18T11:32:15.528Z"
   },
   {
    "duration": 540,
    "start_time": "2023-10-18T11:32:54.982Z"
   },
   {
    "duration": 1493,
    "start_time": "2023-10-18T11:34:16.001Z"
   },
   {
    "duration": 2028,
    "start_time": "2023-10-18T11:36:14.254Z"
   },
   {
    "duration": 1988,
    "start_time": "2023-10-18T11:37:58.578Z"
   },
   {
    "duration": 1520,
    "start_time": "2023-10-18T11:40:46.605Z"
   },
   {
    "duration": 3374,
    "start_time": "2023-10-18T11:41:23.045Z"
   },
   {
    "duration": 3866,
    "start_time": "2023-10-18T11:41:31.596Z"
   },
   {
    "duration": 1741,
    "start_time": "2023-10-18T11:42:17.288Z"
   },
   {
    "duration": 2509,
    "start_time": "2023-10-18T11:42:24.044Z"
   },
   {
    "duration": 2006,
    "start_time": "2023-10-18T11:42:52.481Z"
   },
   {
    "duration": 1330,
    "start_time": "2023-10-18T11:43:08.479Z"
   },
   {
    "duration": 1685,
    "start_time": "2023-10-18T11:44:09.142Z"
   },
   {
    "duration": 1359,
    "start_time": "2023-10-18T11:45:50.214Z"
   },
   {
    "duration": 315,
    "start_time": "2023-10-18T11:46:01.597Z"
   },
   {
    "duration": 2198,
    "start_time": "2023-10-18T11:46:10.140Z"
   },
   {
    "duration": 2463,
    "start_time": "2023-10-18T11:48:08.075Z"
   },
   {
    "duration": 1725,
    "start_time": "2023-10-18T11:48:40.824Z"
   },
   {
    "duration": 2276,
    "start_time": "2023-10-18T11:49:54.270Z"
   },
   {
    "duration": 2239,
    "start_time": "2023-10-18T11:50:09.970Z"
   },
   {
    "duration": 1596,
    "start_time": "2023-10-18T11:51:01.428Z"
   },
   {
    "duration": 2169,
    "start_time": "2023-10-18T11:51:09.379Z"
   },
   {
    "duration": 2255,
    "start_time": "2023-10-18T11:51:17.377Z"
   },
   {
    "duration": 2294,
    "start_time": "2023-10-18T11:51:22.719Z"
   },
   {
    "duration": 1689,
    "start_time": "2023-10-18T11:51:31.788Z"
   },
   {
    "duration": 3,
    "start_time": "2023-10-18T11:52:06.465Z"
   },
   {
    "duration": 2327,
    "start_time": "2023-10-18T11:52:20.269Z"
   },
   {
    "duration": 6,
    "start_time": "2023-10-18T11:52:25.237Z"
   },
   {
    "duration": 3,
    "start_time": "2023-10-18T11:56:28.999Z"
   },
   {
    "duration": 123,
    "start_time": "2023-10-18T11:56:29.005Z"
   },
   {
    "duration": 6,
    "start_time": "2023-10-18T11:56:29.130Z"
   },
   {
    "duration": 21,
    "start_time": "2023-10-18T11:56:29.137Z"
   },
   {
    "duration": 18,
    "start_time": "2023-10-18T11:56:29.160Z"
   },
   {
    "duration": 11,
    "start_time": "2023-10-18T11:56:29.201Z"
   },
   {
    "duration": 19,
    "start_time": "2023-10-18T11:56:29.214Z"
   },
   {
    "duration": 9,
    "start_time": "2023-10-18T11:56:29.234Z"
   },
   {
    "duration": 11,
    "start_time": "2023-10-18T11:56:29.244Z"
   },
   {
    "duration": 14,
    "start_time": "2023-10-18T11:56:29.256Z"
   },
   {
    "duration": 181,
    "start_time": "2023-10-18T11:56:29.273Z"
   },
   {
    "duration": 8,
    "start_time": "2023-10-18T11:56:29.456Z"
   },
   {
    "duration": 198,
    "start_time": "2023-10-18T11:56:29.465Z"
   },
   {
    "duration": 5,
    "start_time": "2023-10-18T11:56:29.665Z"
   },
   {
    "duration": 13,
    "start_time": "2023-10-18T11:56:29.672Z"
   },
   {
    "duration": 184,
    "start_time": "2023-10-18T11:56:29.687Z"
   },
   {
    "duration": 5,
    "start_time": "2023-10-18T11:56:29.872Z"
   },
   {
    "duration": 24,
    "start_time": "2023-10-18T11:56:29.879Z"
   },
   {
    "duration": 175,
    "start_time": "2023-10-18T11:56:29.905Z"
   },
   {
    "duration": 8,
    "start_time": "2023-10-18T11:56:30.082Z"
   },
   {
    "duration": 84,
    "start_time": "2023-10-18T11:56:30.102Z"
   },
   {
    "duration": 116,
    "start_time": "2023-10-18T11:56:30.188Z"
   },
   {
    "duration": 40,
    "start_time": "2023-10-18T11:56:30.306Z"
   },
   {
    "duration": 242,
    "start_time": "2023-10-18T11:56:30.348Z"
   },
   {
    "duration": 168,
    "start_time": "2023-10-18T11:56:30.593Z"
   },
   {
    "duration": 5,
    "start_time": "2023-10-18T11:56:30.762Z"
   },
   {
    "duration": 165,
    "start_time": "2023-10-18T11:56:30.769Z"
   },
   {
    "duration": 116,
    "start_time": "2023-10-18T11:56:30.936Z"
   },
   {
    "duration": 132,
    "start_time": "2023-10-18T11:56:31.056Z"
   },
   {
    "duration": 41,
    "start_time": "2023-10-18T11:56:31.190Z"
   },
   {
    "duration": 238,
    "start_time": "2023-10-18T11:56:31.233Z"
   },
   {
    "duration": 125,
    "start_time": "2023-10-18T11:56:31.472Z"
   },
   {
    "duration": 578,
    "start_time": "2023-10-18T11:56:31.599Z"
   },
   {
    "duration": 6,
    "start_time": "2023-10-18T11:56:32.179Z"
   },
   {
    "duration": 566,
    "start_time": "2023-10-18T11:56:32.186Z"
   },
   {
    "duration": 357,
    "start_time": "2023-10-18T11:56:32.753Z"
   },
   {
    "duration": 7,
    "start_time": "2023-10-18T11:56:33.112Z"
   },
   {
    "duration": 106,
    "start_time": "2023-10-18T11:56:33.121Z"
   },
   {
    "duration": 2204,
    "start_time": "2023-10-18T11:56:33.230Z"
   },
   {
    "duration": 6,
    "start_time": "2023-10-18T11:56:35.436Z"
   },
   {
    "duration": 13,
    "start_time": "2023-10-18T12:06:42.462Z"
   },
   {
    "duration": 12,
    "start_time": "2023-10-18T12:06:54.495Z"
   },
   {
    "duration": 21,
    "start_time": "2023-10-18T12:07:03.965Z"
   },
   {
    "duration": 181,
    "start_time": "2023-10-18T12:14:35.501Z"
   },
   {
    "duration": 185,
    "start_time": "2023-10-18T12:14:56.488Z"
   },
   {
    "duration": 157,
    "start_time": "2023-10-18T12:15:07.877Z"
   },
   {
    "duration": 179,
    "start_time": "2023-10-18T12:15:12.190Z"
   },
   {
    "duration": 76,
    "start_time": "2023-10-18T12:29:54.699Z"
   },
   {
    "duration": 87,
    "start_time": "2023-10-18T12:30:17.140Z"
   },
   {
    "duration": 6,
    "start_time": "2023-10-18T12:38:59.180Z"
   },
   {
    "duration": 6,
    "start_time": "2023-10-18T12:43:34.903Z"
   },
   {
    "duration": 5,
    "start_time": "2023-10-18T12:44:24.478Z"
   },
   {
    "duration": 6,
    "start_time": "2023-10-18T12:49:19.212Z"
   },
   {
    "duration": 6,
    "start_time": "2023-10-18T12:49:26.267Z"
   },
   {
    "duration": 1547,
    "start_time": "2023-10-18T13:47:16.094Z"
   },
   {
    "duration": 241,
    "start_time": "2023-10-18T13:47:17.643Z"
   },
   {
    "duration": 5,
    "start_time": "2023-10-18T13:47:17.886Z"
   },
   {
    "duration": 9,
    "start_time": "2023-10-18T13:47:17.893Z"
   },
   {
    "duration": 16,
    "start_time": "2023-10-18T13:47:17.904Z"
   },
   {
    "duration": 11,
    "start_time": "2023-10-18T13:47:17.922Z"
   },
   {
    "duration": 29,
    "start_time": "2023-10-18T13:47:17.935Z"
   },
   {
    "duration": 13,
    "start_time": "2023-10-18T13:47:17.965Z"
   },
   {
    "duration": 37,
    "start_time": "2023-10-18T13:47:17.979Z"
   },
   {
    "duration": 28,
    "start_time": "2023-10-18T13:47:18.018Z"
   },
   {
    "duration": 198,
    "start_time": "2023-10-18T13:47:18.049Z"
   },
   {
    "duration": 8,
    "start_time": "2023-10-18T13:47:18.248Z"
   },
   {
    "duration": 172,
    "start_time": "2023-10-18T13:47:18.257Z"
   },
   {
    "duration": 5,
    "start_time": "2023-10-18T13:47:18.432Z"
   },
   {
    "duration": 18,
    "start_time": "2023-10-18T13:47:18.438Z"
   },
   {
    "duration": 158,
    "start_time": "2023-10-18T13:47:18.458Z"
   },
   {
    "duration": 6,
    "start_time": "2023-10-18T13:47:18.618Z"
   },
   {
    "duration": 15,
    "start_time": "2023-10-18T13:47:18.626Z"
   },
   {
    "duration": 165,
    "start_time": "2023-10-18T13:47:18.643Z"
   },
   {
    "duration": 7,
    "start_time": "2023-10-18T13:47:18.810Z"
   },
   {
    "duration": 32,
    "start_time": "2023-10-18T13:47:18.819Z"
   },
   {
    "duration": 58,
    "start_time": "2023-10-18T13:47:18.853Z"
   },
   {
    "duration": 16,
    "start_time": "2023-10-18T13:47:18.912Z"
   },
   {
    "duration": 172,
    "start_time": "2023-10-18T13:47:18.930Z"
   },
   {
    "duration": 164,
    "start_time": "2023-10-18T13:47:19.103Z"
   },
   {
    "duration": 4,
    "start_time": "2023-10-18T13:47:19.269Z"
   },
   {
    "duration": 190,
    "start_time": "2023-10-18T13:47:19.275Z"
   },
   {
    "duration": 73,
    "start_time": "2023-10-18T13:47:19.467Z"
   },
   {
    "duration": 122,
    "start_time": "2023-10-18T13:47:19.542Z"
   },
   {
    "duration": 5,
    "start_time": "2023-10-18T13:47:19.666Z"
   },
   {
    "duration": 30,
    "start_time": "2023-10-18T13:47:19.673Z"
   },
   {
    "duration": 10,
    "start_time": "2023-10-18T13:47:19.705Z"
   },
   {
    "duration": 454,
    "start_time": "2023-10-18T13:47:19.717Z"
   },
   {
    "duration": 6,
    "start_time": "2023-10-18T13:47:20.172Z"
   },
   {
    "duration": 667,
    "start_time": "2023-10-18T13:47:20.180Z"
   },
   {
    "duration": 348,
    "start_time": "2023-10-18T13:47:20.848Z"
   },
   {
    "duration": 6,
    "start_time": "2023-10-18T13:47:21.201Z"
   },
   {
    "duration": 64,
    "start_time": "2023-10-18T13:47:21.208Z"
   },
   {
    "duration": 1832,
    "start_time": "2023-10-18T13:47:21.274Z"
   },
   {
    "duration": 6,
    "start_time": "2023-10-18T13:47:23.108Z"
   },
   {
    "duration": 20,
    "start_time": "2023-10-18T16:29:28.146Z"
   },
   {
    "duration": 26,
    "start_time": "2023-10-18T16:30:22.886Z"
   },
   {
    "duration": 110,
    "start_time": "2023-10-18T16:30:55.143Z"
   },
   {
    "duration": 6,
    "start_time": "2023-10-18T16:31:36.707Z"
   },
   {
    "duration": 7,
    "start_time": "2023-10-18T16:31:50.283Z"
   },
   {
    "duration": 6,
    "start_time": "2023-10-18T16:31:56.531Z"
   },
   {
    "duration": 6,
    "start_time": "2023-10-18T16:32:00.229Z"
   },
   {
    "duration": 6,
    "start_time": "2023-10-18T16:32:13.579Z"
   },
   {
    "duration": 7,
    "start_time": "2023-10-18T16:34:45.601Z"
   },
   {
    "duration": 9,
    "start_time": "2023-10-18T16:35:10.218Z"
   },
   {
    "duration": 9,
    "start_time": "2023-10-18T16:35:20.152Z"
   },
   {
    "duration": 6,
    "start_time": "2023-10-18T16:35:40.761Z"
   },
   {
    "duration": 7,
    "start_time": "2023-10-18T16:36:32.301Z"
   },
   {
    "duration": 7,
    "start_time": "2023-10-18T16:36:45.631Z"
   },
   {
    "duration": 5,
    "start_time": "2023-10-18T16:36:51.351Z"
   },
   {
    "duration": 14,
    "start_time": "2023-10-18T16:46:44.570Z"
   },
   {
    "duration": 159,
    "start_time": "2023-10-18T16:47:01.222Z"
   },
   {
    "duration": 51,
    "start_time": "2023-10-18T17:19:54.938Z"
   },
   {
    "duration": 1292,
    "start_time": "2023-10-18T17:19:59.574Z"
   },
   {
    "duration": 230,
    "start_time": "2023-10-18T17:20:00.868Z"
   },
   {
    "duration": 4,
    "start_time": "2023-10-18T17:20:01.100Z"
   },
   {
    "duration": 47,
    "start_time": "2023-10-18T17:20:01.106Z"
   },
   {
    "duration": 49,
    "start_time": "2023-10-18T17:20:01.154Z"
   },
   {
    "duration": 27,
    "start_time": "2023-10-18T17:20:01.205Z"
   },
   {
    "duration": 34,
    "start_time": "2023-10-18T17:20:01.234Z"
   },
   {
    "duration": 23,
    "start_time": "2023-10-18T17:20:01.269Z"
   },
   {
    "duration": 37,
    "start_time": "2023-10-18T17:20:01.294Z"
   },
   {
    "duration": 25,
    "start_time": "2023-10-18T17:20:01.333Z"
   },
   {
    "duration": 214,
    "start_time": "2023-10-18T17:20:01.359Z"
   },
   {
    "duration": 129,
    "start_time": "2023-10-18T19:25:29.302Z"
   },
   {
    "duration": 11,
    "start_time": "2023-10-18T19:25:44.789Z"
   },
   {
    "duration": 147,
    "start_time": "2023-10-18T19:43:08.171Z"
   },
   {
    "duration": 195,
    "start_time": "2023-10-18T19:43:19.773Z"
   },
   {
    "duration": 86,
    "start_time": "2023-10-18T19:44:24.247Z"
   },
   {
    "duration": 13,
    "start_time": "2023-10-18T19:48:00.305Z"
   },
   {
    "duration": 19,
    "start_time": "2023-10-18T19:48:12.290Z"
   },
   {
    "duration": 13,
    "start_time": "2023-10-18T19:48:54.718Z"
   },
   {
    "duration": 182,
    "start_time": "2023-10-18T19:50:31.256Z"
   },
   {
    "duration": 26,
    "start_time": "2023-10-18T19:51:04.273Z"
   },
   {
    "duration": 212,
    "start_time": "2023-10-18T19:52:33.894Z"
   },
   {
    "duration": 165,
    "start_time": "2023-10-18T19:52:46.819Z"
   },
   {
    "duration": 20,
    "start_time": "2023-10-18T19:54:19.542Z"
   },
   {
    "duration": 275,
    "start_time": "2023-10-18T19:57:47.849Z"
   },
   {
    "duration": 191,
    "start_time": "2023-10-18T19:58:02.037Z"
   },
   {
    "duration": 141,
    "start_time": "2023-10-18T20:00:15.427Z"
   },
   {
    "duration": 7,
    "start_time": "2023-10-18T20:05:06.011Z"
   },
   {
    "duration": 7,
    "start_time": "2023-10-18T20:05:55.084Z"
   },
   {
    "duration": 3,
    "start_time": "2023-10-18T20:06:03.126Z"
   },
   {
    "duration": 7,
    "start_time": "2023-10-18T20:06:06.988Z"
   },
   {
    "duration": 138,
    "start_time": "2023-10-18T20:06:06.997Z"
   },
   {
    "duration": 13,
    "start_time": "2023-10-18T20:06:07.137Z"
   },
   {
    "duration": 35,
    "start_time": "2023-10-18T20:06:07.153Z"
   },
   {
    "duration": 13,
    "start_time": "2023-10-18T20:06:07.200Z"
   },
   {
    "duration": 10,
    "start_time": "2023-10-18T20:06:07.215Z"
   },
   {
    "duration": 27,
    "start_time": "2023-10-18T20:06:07.227Z"
   },
   {
    "duration": 25,
    "start_time": "2023-10-18T20:06:07.259Z"
   },
   {
    "duration": 20,
    "start_time": "2023-10-18T20:06:07.290Z"
   },
   {
    "duration": 7,
    "start_time": "2023-10-18T20:06:07.312Z"
   },
   {
    "duration": 190,
    "start_time": "2023-10-18T20:06:07.321Z"
   },
   {
    "duration": 7,
    "start_time": "2023-10-18T20:06:07.513Z"
   },
   {
    "duration": 9,
    "start_time": "2023-10-18T20:06:07.522Z"
   },
   {
    "duration": 7,
    "start_time": "2023-10-18T20:06:10.881Z"
   },
   {
    "duration": 4,
    "start_time": "2023-10-18T20:06:30.723Z"
   },
   {
    "duration": 56,
    "start_time": "2023-10-18T20:07:03.065Z"
   },
   {
    "duration": 61,
    "start_time": "2023-10-18T20:09:03.273Z"
   },
   {
    "duration": 61,
    "start_time": "2023-10-18T20:09:17.169Z"
   },
   {
    "duration": 103,
    "start_time": "2023-10-18T20:09:42.369Z"
   },
   {
    "duration": 123,
    "start_time": "2023-10-18T20:10:05.593Z"
   },
   {
    "duration": 88,
    "start_time": "2023-10-18T20:10:26.022Z"
   },
   {
    "duration": 106,
    "start_time": "2023-10-18T20:11:52.493Z"
   },
   {
    "duration": 82,
    "start_time": "2023-10-18T20:12:47.337Z"
   },
   {
    "duration": 174,
    "start_time": "2023-10-18T20:23:31.391Z"
   },
   {
    "duration": 204,
    "start_time": "2023-10-18T20:25:23.692Z"
   },
   {
    "duration": 198,
    "start_time": "2023-10-18T20:26:44.681Z"
   },
   {
    "duration": 143,
    "start_time": "2023-10-18T20:26:59.687Z"
   },
   {
    "duration": 136,
    "start_time": "2023-10-18T20:27:44.690Z"
   },
   {
    "duration": 148,
    "start_time": "2023-10-18T20:27:52.669Z"
   },
   {
    "duration": 161,
    "start_time": "2023-10-18T20:28:07.506Z"
   },
   {
    "duration": 24,
    "start_time": "2023-10-18T20:29:50.190Z"
   },
   {
    "duration": 26,
    "start_time": "2023-10-18T20:30:11.794Z"
   },
   {
    "duration": 23,
    "start_time": "2023-10-18T20:30:32.107Z"
   },
   {
    "duration": 16,
    "start_time": "2023-10-18T20:41:39.571Z"
   },
   {
    "duration": 3,
    "start_time": "2023-10-18T20:41:44.193Z"
   },
   {
    "duration": 119,
    "start_time": "2023-10-18T20:41:44.198Z"
   },
   {
    "duration": 4,
    "start_time": "2023-10-18T20:41:44.319Z"
   },
   {
    "duration": 25,
    "start_time": "2023-10-18T20:41:44.325Z"
   },
   {
    "duration": 18,
    "start_time": "2023-10-18T20:41:44.358Z"
   },
   {
    "duration": 12,
    "start_time": "2023-10-18T20:41:44.377Z"
   },
   {
    "duration": 8,
    "start_time": "2023-10-18T20:41:44.391Z"
   },
   {
    "duration": 7,
    "start_time": "2023-10-18T20:41:44.401Z"
   },
   {
    "duration": 7,
    "start_time": "2023-10-18T20:41:44.409Z"
   },
   {
    "duration": 5,
    "start_time": "2023-10-18T20:41:44.418Z"
   },
   {
    "duration": 186,
    "start_time": "2023-10-18T20:41:44.424Z"
   },
   {
    "duration": 7,
    "start_time": "2023-10-18T20:41:44.612Z"
   },
   {
    "duration": 34,
    "start_time": "2023-10-18T20:41:44.622Z"
   },
   {
    "duration": 118,
    "start_time": "2023-10-18T20:41:44.657Z"
   },
   {
    "duration": 204,
    "start_time": "2023-10-18T20:41:44.777Z"
   },
   {
    "duration": 4,
    "start_time": "2023-10-18T20:41:44.983Z"
   },
   {
    "duration": 5,
    "start_time": "2023-10-18T20:41:44.989Z"
   },
   {
    "duration": 209,
    "start_time": "2023-10-18T20:41:44.996Z"
   },
   {
    "duration": 6,
    "start_time": "2023-10-18T20:41:45.207Z"
   },
   {
    "duration": 7,
    "start_time": "2023-10-18T20:41:45.214Z"
   },
   {
    "duration": 154,
    "start_time": "2023-10-18T20:41:45.222Z"
   },
   {
    "duration": 8,
    "start_time": "2023-10-18T20:41:45.378Z"
   },
   {
    "duration": 5,
    "start_time": "2023-10-18T20:41:45.387Z"
   },
   {
    "duration": 26,
    "start_time": "2023-10-18T20:41:45.393Z"
   },
   {
    "duration": 16,
    "start_time": "2023-10-18T20:41:45.456Z"
   },
   {
    "duration": 163,
    "start_time": "2023-10-18T20:41:45.476Z"
   },
   {
    "duration": 241,
    "start_time": "2023-10-18T20:41:45.641Z"
   },
   {
    "duration": 4,
    "start_time": "2023-10-18T20:41:45.884Z"
   },
   {
    "duration": 105,
    "start_time": "2023-10-18T20:41:45.890Z"
   },
   {
    "duration": 82,
    "start_time": "2023-10-18T20:41:45.996Z"
   },
   {
    "duration": 126,
    "start_time": "2023-10-18T20:41:46.081Z"
   },
   {
    "duration": 4,
    "start_time": "2023-10-18T20:41:46.209Z"
   },
   {
    "duration": 12,
    "start_time": "2023-10-18T20:41:46.214Z"
   },
   {
    "duration": 31,
    "start_time": "2023-10-18T20:41:46.227Z"
   },
   {
    "duration": 546,
    "start_time": "2023-10-18T20:41:46.277Z"
   },
   {
    "duration": 20,
    "start_time": "2023-10-18T20:41:46.825Z"
   },
   {
    "duration": 506,
    "start_time": "2023-10-18T20:41:46.866Z"
   },
   {
    "duration": 314,
    "start_time": "2023-10-18T20:41:47.373Z"
   },
   {
    "duration": 6,
    "start_time": "2023-10-18T20:41:47.689Z"
   },
   {
    "duration": 5,
    "start_time": "2023-10-18T20:41:47.696Z"
   },
   {
    "duration": 1603,
    "start_time": "2023-10-18T20:41:47.703Z"
   },
   {
    "duration": 5,
    "start_time": "2023-10-18T20:41:49.308Z"
   },
   {
    "duration": 3,
    "start_time": "2023-10-18T20:43:22.092Z"
   },
   {
    "duration": 1615,
    "start_time": "2023-10-18T20:43:23.167Z"
   },
   {
    "duration": 1392,
    "start_time": "2023-10-19T08:24:52.954Z"
   },
   {
    "duration": 252,
    "start_time": "2023-10-19T08:24:54.348Z"
   },
   {
    "duration": 5,
    "start_time": "2023-10-19T08:24:54.602Z"
   },
   {
    "duration": 58,
    "start_time": "2023-10-19T08:24:54.610Z"
   },
   {
    "duration": 170,
    "start_time": "2023-10-19T08:24:54.669Z"
   },
   {
    "duration": 93,
    "start_time": "2023-10-19T08:24:54.841Z"
   },
   {
    "duration": 182,
    "start_time": "2023-10-19T08:24:54.936Z"
   },
   {
    "duration": 334,
    "start_time": "2023-10-19T08:24:55.119Z"
   },
   {
    "duration": 86,
    "start_time": "2023-10-19T08:24:55.455Z"
   },
   {
    "duration": 22,
    "start_time": "2023-10-19T08:24:55.545Z"
   },
   {
    "duration": 210,
    "start_time": "2023-10-19T08:24:55.569Z"
   },
   {
    "duration": 6,
    "start_time": "2023-10-19T08:24:55.782Z"
   },
   {
    "duration": 127,
    "start_time": "2023-10-19T08:24:55.790Z"
   },
   {
    "duration": 115,
    "start_time": "2023-10-19T08:24:55.919Z"
   },
   {
    "duration": 154,
    "start_time": "2023-10-19T08:24:56.036Z"
   },
   {
    "duration": 4,
    "start_time": "2023-10-19T08:24:56.192Z"
   },
   {
    "duration": 127,
    "start_time": "2023-10-19T08:24:56.198Z"
   },
   {
    "duration": 344,
    "start_time": "2023-10-19T08:24:56.326Z"
   },
   {
    "duration": 5,
    "start_time": "2023-10-19T08:24:56.672Z"
   },
   {
    "duration": 35,
    "start_time": "2023-10-19T08:24:56.678Z"
   },
   {
    "duration": 206,
    "start_time": "2023-10-19T08:24:56.715Z"
   },
   {
    "duration": 17,
    "start_time": "2023-10-19T08:24:56.925Z"
   },
   {
    "duration": 41,
    "start_time": "2023-10-19T08:24:56.945Z"
   },
   {
    "duration": 45,
    "start_time": "2023-10-19T08:24:56.989Z"
   },
   {
    "duration": 9,
    "start_time": "2023-10-19T08:24:57.035Z"
   },
   {
    "duration": 213,
    "start_time": "2023-10-19T08:24:57.046Z"
   },
   {
    "duration": 165,
    "start_time": "2023-10-19T08:24:57.261Z"
   },
   {
    "duration": 266,
    "start_time": "2023-10-19T08:24:57.430Z"
   },
   {
    "duration": 126,
    "start_time": "2023-10-19T08:24:57.698Z"
   },
   {
    "duration": 105,
    "start_time": "2023-10-19T08:24:57.825Z"
   },
   {
    "duration": 133,
    "start_time": "2023-10-19T08:24:57.932Z"
   },
   {
    "duration": 5,
    "start_time": "2023-10-19T08:24:58.067Z"
   },
   {
    "duration": 142,
    "start_time": "2023-10-19T08:24:58.074Z"
   },
   {
    "duration": 51,
    "start_time": "2023-10-19T08:24:58.218Z"
   },
   {
    "duration": 574,
    "start_time": "2023-10-19T08:24:58.271Z"
   },
   {
    "duration": 5,
    "start_time": "2023-10-19T08:24:58.847Z"
   },
   {
    "duration": 557,
    "start_time": "2023-10-19T08:25:03.285Z"
   },
   {
    "duration": 343,
    "start_time": "2023-10-19T08:27:45.254Z"
   },
   {
    "duration": 7,
    "start_time": "2023-10-19T08:27:52.725Z"
   },
   {
    "duration": 6,
    "start_time": "2023-10-19T08:28:03.582Z"
   },
   {
    "duration": 105,
    "start_time": "2023-10-19T08:35:16.702Z"
   },
   {
    "duration": 14,
    "start_time": "2023-10-19T08:35:19.128Z"
   },
   {
    "duration": 3,
    "start_time": "2023-10-19T08:35:21.445Z"
   },
   {
    "duration": 1896,
    "start_time": "2023-10-19T08:35:21.910Z"
   },
   {
    "duration": 6,
    "start_time": "2023-10-19T08:35:23.809Z"
   },
   {
    "duration": 3,
    "start_time": "2023-10-19T08:38:16.682Z"
   },
   {
    "duration": 2947,
    "start_time": "2023-10-19T08:38:17.816Z"
   },
   {
    "duration": 4,
    "start_time": "2023-10-19T08:49:43.423Z"
   },
   {
    "duration": 4,
    "start_time": "2023-10-19T08:52:46.559Z"
   },
   {
    "duration": 1223,
    "start_time": "2023-10-19T09:56:37.868Z"
   },
   {
    "duration": 117,
    "start_time": "2023-10-19T09:56:39.093Z"
   },
   {
    "duration": 5,
    "start_time": "2023-10-19T09:56:39.212Z"
   },
   {
    "duration": 19,
    "start_time": "2023-10-19T09:56:39.219Z"
   },
   {
    "duration": 25,
    "start_time": "2023-10-19T09:56:39.240Z"
   },
   {
    "duration": 24,
    "start_time": "2023-10-19T09:56:39.267Z"
   },
   {
    "duration": 32,
    "start_time": "2023-10-19T09:56:39.293Z"
   },
   {
    "duration": 26,
    "start_time": "2023-10-19T09:56:39.326Z"
   },
   {
    "duration": 27,
    "start_time": "2023-10-19T09:56:39.353Z"
   },
   {
    "duration": 20,
    "start_time": "2023-10-19T09:56:39.382Z"
   },
   {
    "duration": 195,
    "start_time": "2023-10-19T09:56:39.403Z"
   },
   {
    "duration": 7,
    "start_time": "2023-10-19T09:56:39.599Z"
   },
   {
    "duration": 22,
    "start_time": "2023-10-19T09:56:39.608Z"
   },
   {
    "duration": 86,
    "start_time": "2023-10-19T09:56:39.634Z"
   },
   {
    "duration": 177,
    "start_time": "2023-10-19T09:56:39.722Z"
   },
   {
    "duration": 5,
    "start_time": "2023-10-19T09:56:39.900Z"
   },
   {
    "duration": 17,
    "start_time": "2023-10-19T09:56:39.907Z"
   },
   {
    "duration": 185,
    "start_time": "2023-10-19T09:56:39.925Z"
   },
   {
    "duration": 5,
    "start_time": "2023-10-19T09:56:40.112Z"
   },
   {
    "duration": 25,
    "start_time": "2023-10-19T09:56:40.118Z"
   },
   {
    "duration": 168,
    "start_time": "2023-10-19T09:56:40.145Z"
   },
   {
    "duration": 8,
    "start_time": "2023-10-19T09:56:40.314Z"
   },
   {
    "duration": 10,
    "start_time": "2023-10-19T09:56:40.324Z"
   },
   {
    "duration": 36,
    "start_time": "2023-10-19T09:56:40.347Z"
   },
   {
    "duration": 14,
    "start_time": "2023-10-19T09:56:40.385Z"
   },
   {
    "duration": 186,
    "start_time": "2023-10-19T09:56:40.401Z"
   },
   {
    "duration": 183,
    "start_time": "2023-10-19T09:56:40.589Z"
   },
   {
    "duration": 5,
    "start_time": "2023-10-19T09:56:40.774Z"
   },
   {
    "duration": 117,
    "start_time": "2023-10-19T09:56:40.780Z"
   },
   {
    "duration": 75,
    "start_time": "2023-10-19T09:56:40.898Z"
   },
   {
    "duration": 134,
    "start_time": "2023-10-19T09:56:40.975Z"
   },
   {
    "duration": 5,
    "start_time": "2023-10-19T09:56:41.111Z"
   },
   {
    "duration": 45,
    "start_time": "2023-10-19T09:56:41.118Z"
   },
   {
    "duration": 17,
    "start_time": "2023-10-19T09:56:41.165Z"
   },
   {
    "duration": 626,
    "start_time": "2023-10-19T09:56:41.184Z"
   },
   {
    "duration": 7,
    "start_time": "2023-10-19T09:56:41.812Z"
   },
   {
    "duration": 566,
    "start_time": "2023-10-19T09:56:41.821Z"
   },
   {
    "duration": 354,
    "start_time": "2023-10-19T09:56:42.389Z"
   },
   {
    "duration": 6,
    "start_time": "2023-10-19T09:56:42.746Z"
   },
   {
    "duration": 53,
    "start_time": "2023-10-19T09:56:42.753Z"
   },
   {
    "duration": 3262,
    "start_time": "2023-10-19T09:56:42.810Z"
   },
   {
    "duration": 6,
    "start_time": "2023-10-19T09:56:46.074Z"
   },
   {
    "duration": 3,
    "start_time": "2023-10-19T10:03:03.919Z"
   },
   {
    "duration": 6,
    "start_time": "2023-10-19T10:07:59.418Z"
   },
   {
    "duration": 1433,
    "start_time": "2023-10-19T10:29:31.102Z"
   },
   {
    "duration": 361,
    "start_time": "2023-10-19T10:29:32.538Z"
   },
   {
    "duration": 7,
    "start_time": "2023-10-19T10:29:32.901Z"
   },
   {
    "duration": 35,
    "start_time": "2023-10-19T10:29:32.911Z"
   },
   {
    "duration": 40,
    "start_time": "2023-10-19T10:29:32.948Z"
   },
   {
    "duration": 44,
    "start_time": "2023-10-19T10:29:32.990Z"
   },
   {
    "duration": 34,
    "start_time": "2023-10-19T10:29:33.035Z"
   },
   {
    "duration": 55,
    "start_time": "2023-10-19T10:29:33.071Z"
   },
   {
    "duration": 18,
    "start_time": "2023-10-19T10:29:33.127Z"
   },
   {
    "duration": 15,
    "start_time": "2023-10-19T10:29:33.148Z"
   },
   {
    "duration": 229,
    "start_time": "2023-10-19T10:29:33.165Z"
   },
   {
    "duration": 6,
    "start_time": "2023-10-19T10:29:33.396Z"
   },
   {
    "duration": 14,
    "start_time": "2023-10-19T10:29:33.404Z"
   },
   {
    "duration": 99,
    "start_time": "2023-10-19T10:29:33.420Z"
   },
   {
    "duration": 164,
    "start_time": "2023-10-19T10:29:40.160Z"
   },
   {
    "duration": 153,
    "start_time": "2023-10-19T10:29:48.369Z"
   },
   {
    "duration": 115,
    "start_time": "2023-10-19T12:26:11.165Z"
   },
   {
    "duration": 8,
    "start_time": "2023-10-19T12:26:24.469Z"
   },
   {
    "duration": 3,
    "start_time": "2023-10-19T12:44:35.993Z"
   },
   {
    "duration": 173,
    "start_time": "2023-10-19T12:44:35.998Z"
   },
   {
    "duration": 6,
    "start_time": "2023-10-19T12:44:36.174Z"
   },
   {
    "duration": 38,
    "start_time": "2023-10-19T12:44:36.182Z"
   },
   {
    "duration": 21,
    "start_time": "2023-10-19T12:44:36.222Z"
   },
   {
    "duration": 66,
    "start_time": "2023-10-19T12:44:36.245Z"
   },
   {
    "duration": 55,
    "start_time": "2023-10-19T12:44:36.313Z"
   },
   {
    "duration": 22,
    "start_time": "2023-10-19T12:44:36.370Z"
   },
   {
    "duration": 23,
    "start_time": "2023-10-19T12:44:36.394Z"
   },
   {
    "duration": 20,
    "start_time": "2023-10-19T12:44:36.420Z"
   },
   {
    "duration": 233,
    "start_time": "2023-10-19T12:44:36.442Z"
   },
   {
    "duration": 6,
    "start_time": "2023-10-19T12:44:36.677Z"
   },
   {
    "duration": 39,
    "start_time": "2023-10-19T12:44:36.685Z"
   },
   {
    "duration": 113,
    "start_time": "2023-10-19T12:44:36.726Z"
   },
   {
    "duration": 203,
    "start_time": "2023-10-19T12:44:36.842Z"
   },
   {
    "duration": 9,
    "start_time": "2023-10-19T12:44:37.048Z"
   },
   {
    "duration": 7,
    "start_time": "2023-10-19T12:44:37.059Z"
   },
   {
    "duration": 187,
    "start_time": "2023-10-19T12:44:37.069Z"
   },
   {
    "duration": 8,
    "start_time": "2023-10-19T12:44:37.260Z"
   },
   {
    "duration": 22,
    "start_time": "2023-10-19T12:44:37.271Z"
   },
   {
    "duration": 288,
    "start_time": "2023-10-19T12:44:37.294Z"
   },
   {
    "duration": 7,
    "start_time": "2023-10-19T12:44:37.584Z"
   },
   {
    "duration": 42,
    "start_time": "2023-10-19T12:44:37.593Z"
   },
   {
    "duration": 48,
    "start_time": "2023-10-19T12:44:37.637Z"
   },
   {
    "duration": 10,
    "start_time": "2023-10-19T12:44:37.687Z"
   },
   {
    "duration": 205,
    "start_time": "2023-10-19T12:44:37.699Z"
   },
   {
    "duration": 201,
    "start_time": "2023-10-19T12:44:37.906Z"
   },
   {
    "duration": 5,
    "start_time": "2023-10-19T12:44:38.111Z"
   },
   {
    "duration": 114,
    "start_time": "2023-10-19T12:44:38.117Z"
   },
   {
    "duration": 101,
    "start_time": "2023-10-19T12:44:38.234Z"
   },
   {
    "duration": 147,
    "start_time": "2023-10-19T12:44:38.337Z"
   },
   {
    "duration": 5,
    "start_time": "2023-10-19T12:44:38.487Z"
   },
   {
    "duration": 37,
    "start_time": "2023-10-19T12:44:38.494Z"
   },
   {
    "duration": 25,
    "start_time": "2023-10-19T12:44:38.534Z"
   },
   {
    "duration": 649,
    "start_time": "2023-10-19T12:44:38.561Z"
   },
   {
    "duration": 8,
    "start_time": "2023-10-19T12:44:39.213Z"
   },
   {
    "duration": 589,
    "start_time": "2023-10-19T12:44:39.223Z"
   },
   {
    "duration": 398,
    "start_time": "2023-10-19T12:44:39.814Z"
   },
   {
    "duration": 6,
    "start_time": "2023-10-19T12:44:40.215Z"
   },
   {
    "duration": 5,
    "start_time": "2023-10-19T12:44:40.224Z"
   },
   {
    "duration": 4998,
    "start_time": "2023-10-19T12:44:40.230Z"
   },
   {
    "duration": 7,
    "start_time": "2023-10-19T12:44:45.230Z"
   },
   {
    "duration": 58,
    "start_time": "2024-03-26T15:22:02.435Z"
   },
   {
    "duration": 1464,
    "start_time": "2024-03-26T15:22:06.168Z"
   },
   {
    "duration": 362,
    "start_time": "2024-03-26T15:22:07.636Z"
   },
   {
    "duration": 5,
    "start_time": "2024-03-26T15:22:08.000Z"
   },
   {
    "duration": 12,
    "start_time": "2024-03-26T15:22:08.007Z"
   },
   {
    "duration": 13,
    "start_time": "2024-03-26T15:22:08.021Z"
   },
   {
    "duration": 19,
    "start_time": "2024-03-26T15:22:08.035Z"
   },
   {
    "duration": 24,
    "start_time": "2024-03-26T15:22:08.055Z"
   },
   {
    "duration": 15,
    "start_time": "2024-03-26T15:22:08.081Z"
   },
   {
    "duration": 13,
    "start_time": "2024-03-26T15:22:08.098Z"
   },
   {
    "duration": 7,
    "start_time": "2024-03-26T15:22:08.114Z"
   },
   {
    "duration": 213,
    "start_time": "2024-03-26T15:22:08.122Z"
   },
   {
    "duration": 5,
    "start_time": "2024-03-26T15:22:08.337Z"
   },
   {
    "duration": 8,
    "start_time": "2024-03-26T15:22:08.344Z"
   },
   {
    "duration": 96,
    "start_time": "2024-03-26T15:22:08.354Z"
   },
   {
    "duration": 164,
    "start_time": "2024-03-26T15:22:08.452Z"
   },
   {
    "duration": 4,
    "start_time": "2024-03-26T15:22:08.617Z"
   },
   {
    "duration": 4,
    "start_time": "2024-03-26T15:22:27.622Z"
   },
   {
    "duration": 6,
    "start_time": "2024-03-26T15:23:44.818Z"
   },
   {
    "duration": 5,
    "start_time": "2024-03-26T15:25:43.477Z"
   },
   {
    "duration": 4,
    "start_time": "2024-03-26T15:25:47.251Z"
   },
   {
    "duration": 4,
    "start_time": "2024-03-26T15:25:58.237Z"
   },
   {
    "duration": 149,
    "start_time": "2024-03-26T15:26:15.016Z"
   },
   {
    "duration": 4,
    "start_time": "2024-03-26T15:27:14.064Z"
   },
   {
    "duration": 66,
    "start_time": "2024-03-26T15:31:16.418Z"
   },
   {
    "duration": 3,
    "start_time": "2024-03-26T15:31:19.697Z"
   },
   {
    "duration": 139,
    "start_time": "2024-03-26T15:31:19.702Z"
   },
   {
    "duration": 5,
    "start_time": "2024-03-26T15:31:19.843Z"
   },
   {
    "duration": 12,
    "start_time": "2024-03-26T15:31:19.849Z"
   },
   {
    "duration": 19,
    "start_time": "2024-03-26T15:31:19.863Z"
   },
   {
    "duration": 17,
    "start_time": "2024-03-26T15:31:19.883Z"
   },
   {
    "duration": 11,
    "start_time": "2024-03-26T15:31:19.902Z"
   },
   {
    "duration": 8,
    "start_time": "2024-03-26T15:31:19.915Z"
   },
   {
    "duration": 8,
    "start_time": "2024-03-26T15:31:19.925Z"
   },
   {
    "duration": 12,
    "start_time": "2024-03-26T15:31:19.935Z"
   },
   {
    "duration": 189,
    "start_time": "2024-03-26T15:31:19.950Z"
   },
   {
    "duration": 5,
    "start_time": "2024-03-26T15:31:20.141Z"
   },
   {
    "duration": 38,
    "start_time": "2024-03-26T15:31:20.148Z"
   },
   {
    "duration": 84,
    "start_time": "2024-03-26T15:31:20.188Z"
   },
   {
    "duration": 154,
    "start_time": "2024-03-26T15:31:20.273Z"
   },
   {
    "duration": 3,
    "start_time": "2024-03-26T15:31:20.429Z"
   },
   {
    "duration": 10,
    "start_time": "2024-03-26T15:31:20.434Z"
   },
   {
    "duration": 235,
    "start_time": "2024-03-26T15:31:20.446Z"
   },
   {
    "duration": 4,
    "start_time": "2024-03-26T15:31:20.683Z"
   },
   {
    "duration": 14,
    "start_time": "2024-03-26T15:31:20.689Z"
   },
   {
    "duration": 179,
    "start_time": "2024-03-26T15:31:20.704Z"
   },
   {
    "duration": 7,
    "start_time": "2024-03-26T15:31:20.884Z"
   },
   {
    "duration": 17,
    "start_time": "2024-03-26T15:31:20.893Z"
   },
   {
    "duration": 73,
    "start_time": "2024-03-26T15:31:20.911Z"
   },
   {
    "duration": 34,
    "start_time": "2024-03-26T15:31:20.985Z"
   },
   {
    "duration": 231,
    "start_time": "2024-03-26T15:31:21.020Z"
   },
   {
    "duration": 163,
    "start_time": "2024-03-26T15:31:21.253Z"
   },
   {
    "duration": 4,
    "start_time": "2024-03-26T15:31:21.418Z"
   },
   {
    "duration": 120,
    "start_time": "2024-03-26T15:31:21.425Z"
   },
   {
    "duration": 92,
    "start_time": "2024-03-26T15:31:21.546Z"
   },
   {
    "duration": 129,
    "start_time": "2024-03-26T15:31:21.640Z"
   },
   {
    "duration": 12,
    "start_time": "2024-03-26T15:31:21.770Z"
   },
   {
    "duration": 20,
    "start_time": "2024-03-26T15:31:21.783Z"
   },
   {
    "duration": 22,
    "start_time": "2024-03-26T15:31:21.804Z"
   },
   {
    "duration": 518,
    "start_time": "2024-03-26T15:31:21.827Z"
   },
   {
    "duration": 543,
    "start_time": "2024-03-26T15:32:41.048Z"
   },
   {
    "duration": 11,
    "start_time": "2024-03-26T15:34:37.208Z"
   },
   {
    "duration": 3,
    "start_time": "2024-03-26T15:34:40.268Z"
   },
   {
    "duration": 121,
    "start_time": "2024-03-26T15:34:40.273Z"
   },
   {
    "duration": 5,
    "start_time": "2024-03-26T15:34:40.395Z"
   },
   {
    "duration": 11,
    "start_time": "2024-03-26T15:34:40.401Z"
   },
   {
    "duration": 3,
    "start_time": "2024-03-26T15:34:40.414Z"
   },
   {
    "duration": 8,
    "start_time": "2024-03-26T15:34:40.419Z"
   },
   {
    "duration": 10,
    "start_time": "2024-03-26T15:34:40.429Z"
   },
   {
    "duration": 44,
    "start_time": "2024-03-26T15:34:40.441Z"
   },
   {
    "duration": 9,
    "start_time": "2024-03-26T15:34:40.487Z"
   },
   {
    "duration": 5,
    "start_time": "2024-03-26T15:34:40.498Z"
   },
   {
    "duration": 183,
    "start_time": "2024-03-26T15:34:40.505Z"
   },
   {
    "duration": 6,
    "start_time": "2024-03-26T15:34:40.689Z"
   },
   {
    "duration": 8,
    "start_time": "2024-03-26T15:34:40.697Z"
   },
   {
    "duration": 102,
    "start_time": "2024-03-26T15:34:40.706Z"
   },
   {
    "duration": 191,
    "start_time": "2024-03-26T15:34:40.809Z"
   },
   {
    "duration": 4,
    "start_time": "2024-03-26T15:34:41.001Z"
   },
   {
    "duration": 9,
    "start_time": "2024-03-26T15:34:41.006Z"
   },
   {
    "duration": 296,
    "start_time": "2024-03-26T15:34:41.017Z"
   },
   {
    "duration": 5,
    "start_time": "2024-03-26T15:34:41.314Z"
   },
   {
    "duration": 12,
    "start_time": "2024-03-26T15:34:41.321Z"
   },
   {
    "duration": 189,
    "start_time": "2024-03-26T15:34:41.335Z"
   },
   {
    "duration": 6,
    "start_time": "2024-03-26T15:34:41.526Z"
   },
   {
    "duration": 5,
    "start_time": "2024-03-26T15:34:41.534Z"
   },
   {
    "duration": 52,
    "start_time": "2024-03-26T15:34:41.540Z"
   },
   {
    "duration": 13,
    "start_time": "2024-03-26T15:34:41.594Z"
   },
   {
    "duration": 173,
    "start_time": "2024-03-26T15:34:41.608Z"
   },
   {
    "duration": 156,
    "start_time": "2024-03-26T15:34:41.783Z"
   },
   {
    "duration": 5,
    "start_time": "2024-03-26T15:34:41.940Z"
   },
   {
    "duration": 89,
    "start_time": "2024-03-26T15:34:41.948Z"
   },
   {
    "duration": 71,
    "start_time": "2024-03-26T15:34:42.038Z"
   },
   {
    "duration": 118,
    "start_time": "2024-03-26T15:34:42.111Z"
   },
   {
    "duration": 5,
    "start_time": "2024-03-26T15:34:42.231Z"
   },
   {
    "duration": 14,
    "start_time": "2024-03-26T15:34:42.237Z"
   },
   {
    "duration": 29,
    "start_time": "2024-03-26T15:34:42.253Z"
   },
   {
    "duration": 459,
    "start_time": "2024-03-26T15:34:42.285Z"
   },
   {
    "duration": 6,
    "start_time": "2024-03-26T15:34:42.746Z"
   },
   {
    "duration": 531,
    "start_time": "2024-03-26T15:34:42.753Z"
   },
   {
    "duration": 336,
    "start_time": "2024-03-26T15:34:43.286Z"
   },
   {
    "duration": 6,
    "start_time": "2024-03-26T15:34:43.625Z"
   },
   {
    "duration": 15,
    "start_time": "2024-03-26T15:34:43.633Z"
   },
   {
    "duration": 3007,
    "start_time": "2024-03-26T15:34:43.649Z"
   },
   {
    "duration": 1329,
    "start_time": "2024-03-27T09:46:32.343Z"
   },
   {
    "duration": 244,
    "start_time": "2024-03-27T09:46:33.675Z"
   },
   {
    "duration": 4,
    "start_time": "2024-03-27T09:46:33.920Z"
   },
   {
    "duration": 6,
    "start_time": "2024-03-27T09:46:33.926Z"
   },
   {
    "duration": 3,
    "start_time": "2024-03-27T09:46:33.933Z"
   },
   {
    "duration": 6,
    "start_time": "2024-03-27T09:46:33.938Z"
   },
   {
    "duration": 35,
    "start_time": "2024-03-27T09:46:33.946Z"
   },
   {
    "duration": 17,
    "start_time": "2024-03-27T09:47:35.292Z"
   },
   {
    "duration": 13,
    "start_time": "2024-03-27T09:48:23.228Z"
   },
   {
    "duration": 11,
    "start_time": "2024-03-27T09:48:29.390Z"
   },
   {
    "duration": 16,
    "start_time": "2024-03-27T09:49:50.726Z"
   },
   {
    "duration": 8,
    "start_time": "2024-03-27T09:51:44.952Z"
   },
   {
    "duration": 8,
    "start_time": "2024-03-27T09:51:51.045Z"
   },
   {
    "duration": 86,
    "start_time": "2024-03-27T09:52:16.414Z"
   },
   {
    "duration": 2,
    "start_time": "2024-03-27T09:52:53.475Z"
   },
   {
    "duration": 101,
    "start_time": "2024-03-27T09:52:53.480Z"
   },
   {
    "duration": 5,
    "start_time": "2024-03-27T09:52:53.582Z"
   },
   {
    "duration": 12,
    "start_time": "2024-03-27T09:52:53.588Z"
   },
   {
    "duration": 4,
    "start_time": "2024-03-27T09:52:53.601Z"
   },
   {
    "duration": 4,
    "start_time": "2024-03-27T09:52:53.607Z"
   },
   {
    "duration": 18,
    "start_time": "2024-03-27T09:52:53.612Z"
   },
   {
    "duration": 35,
    "start_time": "2024-03-27T09:52:53.632Z"
   },
   {
    "duration": 180,
    "start_time": "2024-03-27T09:52:53.669Z"
   },
   {
    "duration": 15,
    "start_time": "2024-03-27T09:52:53.850Z"
   },
   {
    "duration": 8,
    "start_time": "2024-03-27T09:52:53.866Z"
   },
   {
    "duration": 81,
    "start_time": "2024-03-27T09:52:53.875Z"
   },
   {
    "duration": 162,
    "start_time": "2024-03-27T09:52:53.957Z"
   },
   {
    "duration": 4,
    "start_time": "2024-03-27T09:52:54.121Z"
   },
   {
    "duration": 5,
    "start_time": "2024-03-27T09:52:54.128Z"
   },
   {
    "duration": 137,
    "start_time": "2024-03-27T09:53:22.165Z"
   },
   {
    "duration": 136,
    "start_time": "2024-03-27T09:53:26.900Z"
   },
   {
    "duration": 136,
    "start_time": "2024-03-27T09:54:29.505Z"
   },
   {
    "duration": 7,
    "start_time": "2024-03-27T09:54:47.164Z"
   },
   {
    "duration": 5,
    "start_time": "2024-03-27T09:54:47.578Z"
   },
   {
    "duration": 37,
    "start_time": "2024-03-27T09:56:27.106Z"
   },
   {
    "duration": 3,
    "start_time": "2024-03-27T09:57:57.190Z"
   },
   {
    "duration": 110,
    "start_time": "2024-03-27T09:57:57.194Z"
   },
   {
    "duration": 5,
    "start_time": "2024-03-27T09:57:57.305Z"
   },
   {
    "duration": 11,
    "start_time": "2024-03-27T09:57:57.311Z"
   },
   {
    "duration": 10,
    "start_time": "2024-03-27T09:57:57.324Z"
   },
   {
    "duration": 5,
    "start_time": "2024-03-27T09:57:57.336Z"
   },
   {
    "duration": 31,
    "start_time": "2024-03-27T09:57:57.342Z"
   },
   {
    "duration": 9,
    "start_time": "2024-03-27T09:57:57.375Z"
   },
   {
    "duration": 169,
    "start_time": "2024-03-27T09:57:57.385Z"
   },
   {
    "duration": 11,
    "start_time": "2024-03-27T09:57:57.556Z"
   },
   {
    "duration": 8,
    "start_time": "2024-03-27T09:57:57.570Z"
   },
   {
    "duration": 144,
    "start_time": "2024-03-27T09:57:57.579Z"
   },
   {
    "duration": 155,
    "start_time": "2024-03-27T09:57:57.725Z"
   },
   {
    "duration": 3,
    "start_time": "2024-03-27T09:57:57.882Z"
   },
   {
    "duration": 5,
    "start_time": "2024-03-27T09:57:57.887Z"
   },
   {
    "duration": 152,
    "start_time": "2024-03-27T09:57:57.893Z"
   },
   {
    "duration": 5,
    "start_time": "2024-03-27T09:57:58.046Z"
   },
   {
    "duration": 17,
    "start_time": "2024-03-27T09:57:58.052Z"
   },
   {
    "duration": 142,
    "start_time": "2024-03-27T09:57:58.070Z"
   },
   {
    "duration": 7,
    "start_time": "2024-03-27T09:57:58.213Z"
   },
   {
    "duration": 5,
    "start_time": "2024-03-27T09:57:58.221Z"
   },
   {
    "duration": 51,
    "start_time": "2024-03-27T09:57:58.228Z"
   },
   {
    "duration": 8,
    "start_time": "2024-03-27T09:57:58.281Z"
   },
   {
    "duration": 169,
    "start_time": "2024-03-27T09:57:58.291Z"
   },
   {
    "duration": 162,
    "start_time": "2024-03-27T09:57:58.461Z"
   },
   {
    "duration": 5,
    "start_time": "2024-03-27T09:57:58.625Z"
   },
   {
    "duration": 96,
    "start_time": "2024-03-27T09:57:58.632Z"
   },
   {
    "duration": 70,
    "start_time": "2024-03-27T09:57:58.729Z"
   },
   {
    "duration": 132,
    "start_time": "2024-03-27T09:57:58.802Z"
   },
   {
    "duration": 6,
    "start_time": "2024-03-27T09:57:58.936Z"
   },
   {
    "duration": 24,
    "start_time": "2024-03-27T09:57:58.943Z"
   },
   {
    "duration": 4,
    "start_time": "2024-03-27T10:02:55.769Z"
   },
   {
    "duration": 3,
    "start_time": "2024-03-27T10:06:58.500Z"
   },
   {
    "duration": 1078,
    "start_time": "2024-03-27T10:07:06.898Z"
   },
   {
    "duration": 104,
    "start_time": "2024-03-27T10:07:07.977Z"
   },
   {
    "duration": 4,
    "start_time": "2024-03-27T10:07:08.082Z"
   },
   {
    "duration": 13,
    "start_time": "2024-03-27T10:07:08.088Z"
   },
   {
    "duration": 3,
    "start_time": "2024-03-27T10:07:08.103Z"
   },
   {
    "duration": 5,
    "start_time": "2024-03-27T10:07:08.108Z"
   },
   {
    "duration": 14,
    "start_time": "2024-03-27T10:07:08.114Z"
   },
   {
    "duration": 8,
    "start_time": "2024-03-27T10:07:08.129Z"
   },
   {
    "duration": 191,
    "start_time": "2024-03-27T10:07:08.138Z"
   },
   {
    "duration": 5,
    "start_time": "2024-03-27T10:07:08.331Z"
   },
   {
    "duration": 9,
    "start_time": "2024-03-27T10:07:08.337Z"
   },
   {
    "duration": 78,
    "start_time": "2024-03-27T10:07:08.347Z"
   },
   {
    "duration": 156,
    "start_time": "2024-03-27T10:07:08.426Z"
   },
   {
    "duration": 4,
    "start_time": "2024-03-27T10:07:08.583Z"
   },
   {
    "duration": 13,
    "start_time": "2024-03-27T10:07:08.588Z"
   },
   {
    "duration": 142,
    "start_time": "2024-03-27T10:07:08.602Z"
   },
   {
    "duration": 5,
    "start_time": "2024-03-27T10:07:08.745Z"
   },
   {
    "duration": 17,
    "start_time": "2024-03-27T10:07:08.751Z"
   },
   {
    "duration": 150,
    "start_time": "2024-03-27T10:07:08.770Z"
   },
   {
    "duration": 8,
    "start_time": "2024-03-27T10:07:08.922Z"
   },
   {
    "duration": 5,
    "start_time": "2024-03-27T10:07:08.933Z"
   },
   {
    "duration": 55,
    "start_time": "2024-03-27T10:07:08.940Z"
   },
   {
    "duration": 11,
    "start_time": "2024-03-27T10:07:08.997Z"
   },
   {
    "duration": 170,
    "start_time": "2024-03-27T10:07:09.010Z"
   },
   {
    "duration": 161,
    "start_time": "2024-03-27T10:07:09.181Z"
   },
   {
    "duration": 4,
    "start_time": "2024-03-27T10:07:09.344Z"
   },
   {
    "duration": 87,
    "start_time": "2024-03-27T10:07:09.349Z"
   },
   {
    "duration": 68,
    "start_time": "2024-03-27T10:07:09.439Z"
   },
   {
    "duration": 118,
    "start_time": "2024-03-27T10:07:09.508Z"
   },
   {
    "duration": 4,
    "start_time": "2024-03-27T10:07:09.627Z"
   },
   {
    "duration": 19,
    "start_time": "2024-03-27T10:07:09.632Z"
   },
   {
    "duration": 13,
    "start_time": "2024-03-27T10:07:09.653Z"
   },
   {
    "duration": 517,
    "start_time": "2024-03-27T10:07:09.668Z"
   },
   {
    "duration": 5,
    "start_time": "2024-03-27T10:07:10.186Z"
   },
   {
    "duration": 527,
    "start_time": "2024-03-27T10:07:10.192Z"
   },
   {
    "duration": 295,
    "start_time": "2024-03-27T10:07:10.720Z"
   },
   {
    "duration": 5,
    "start_time": "2024-03-27T10:07:11.016Z"
   },
   {
    "duration": 34,
    "start_time": "2024-03-27T10:07:11.022Z"
   },
   {
    "duration": 2787,
    "start_time": "2024-03-27T10:07:11.057Z"
   },
   {
    "duration": 6,
    "start_time": "2024-03-27T10:07:13.846Z"
   }
  ],
  "kernelspec": {
   "display_name": "Python 3 (ipykernel)",
   "language": "python",
   "name": "python3"
  },
  "language_info": {
   "codemirror_mode": {
    "name": "ipython",
    "version": 3
   },
   "file_extension": ".py",
   "mimetype": "text/x-python",
   "name": "python",
   "nbconvert_exporter": "python",
   "pygments_lexer": "ipython3",
   "version": "3.11.3"
  },
  "toc": {
   "base_numbering": 1,
   "nav_menu": {},
   "number_sections": true,
   "sideBar": true,
   "skip_h1_title": true,
   "title_cell": "Table of Contents",
   "title_sidebar": "Contents",
   "toc_cell": false,
   "toc_position": {
    "height": "calc(100% - 180px)",
    "left": "10px",
    "top": "150px",
    "width": "314.901px"
   },
   "toc_section_display": true,
   "toc_window_display": true
  }
 },
 "nbformat": 4,
 "nbformat_minor": 5
}
