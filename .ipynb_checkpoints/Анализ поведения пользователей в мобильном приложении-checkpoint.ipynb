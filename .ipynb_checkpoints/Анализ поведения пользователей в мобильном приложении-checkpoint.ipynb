{
 "cells": [
  {
   "cell_type": "markdown",
   "metadata": {},
   "source": [
    "# Мобильные приложения — Анализ поведения пользователей\n",
    "**Цели исследования**: \n",
    "- управление вовлеченностью клиентов(адаптация приложений по целевой и смежной аудитории). Для этого необходимо понять какая аудитория в принципе\n",
    "- получить на основе поведения пользователей гипотезы о том, как можно было бы улучшить приложение с т.зр. пользовательского опыта. Дать рекомендации.\n",
    "\n",
    "**Задачи**:  \n",
    "1. Проанализируйте связь целевого события — просмотра контактов — и других действий пользователей. \n",
    "2. Оцените, какие действия чаще совершают те пользователи, которые просматривают контакты.\n",
    "- Проведите исследовательский анализ данных\n",
    "- Проанализируйте влияние событий на совершение целевого события\n",
    "- Проверьте статистические гипотезы\n",
    "    1. Одни пользователи совершают действия tips_show и tips_click , другие — только tips_show . Проверьте гипотезу: конверсия в просмотры контактов различается у этих двух групп.\n",
    "    2. Сформулируйте собственную статистическую гипотезу. Дополните её нулевой и альтернативной гипотезами. Проверьте гипотезу с помощью статистического теста.\n"
   ]
  },
  {
   "cell_type": "markdown",
   "metadata": {},
   "source": [
    "## Материалы\n",
    "- [Презентация](https://docs.google.com/presentation/d/14BznAYkjk8R9BM2mYK7veWCpZNmipYBdO_ZA4q0opmM/edit?usp=sharing)"
   ]
  },
  {
   "cell_type": "markdown",
   "metadata": {},
   "source": [
    "## Описание данных  \n",
    " Датасет содержит данные о событиях, совершенных в мобильном приложении \"Ненужные вещи\". В нем пользователи продают свои ненужные вещи, размещая их на доске объявлений. В датасете содержатся данные пользователей, впервые совершивших действия в приложении после 7 октября 2019 года.\n",
    "\n",
    "Колонки в _mobile_sources.csv_ :   \n",
    "`userId` — идентификатор пользователя,  \n",
    "`source` — источник, с которого пользователь установил приложение.  \n",
    "Колонки в _mobile_dataset.csv_ :  \n",
    "`event.time` — время совершения,   \n",
    "`user.id` — идентификатор пользователя,  \n",
    "`event.name` — действие пользователя.  \n",
    "Виды действий:  \n",
    "- `advert_open` — открыл карточки объявления,  \n",
    "- `photos_show` — просмотрел фотографий в объявлении,  \n",
    "- `tips_show` — увидел рекомендованные объявления,  \n",
    "- `tips_click` — кликнул по рекомендованному объявлению,  \n",
    "- `contacts_show` и `show_contacts` — посмотрел номер телефона,  \n",
    "- `contacts_call` — позвонил по номеру из объявления,  \n",
    "- `map` — открыл карту объявлений,  \n",
    "- `search_1 — search_7` — разные действия, связанные с поиском по сайту,  \n",
    "- `favorites_add` — добавил объявление в избранное.  "
   ]
  },
  {
   "cell_type": "markdown",
   "metadata": {},
   "source": [
    "### Выполнение проекта \n",
    "**Шаг 1. Открыть _mobile_dataset.csv_ и _mobile_sourсes.csv_, изучить общую информацию.**\n",
    "- проверить на наличие пропусков, явных и неявных дубликатов. Откорректировать, если нужно\n",
    "- проверить, что заявленные данные соответствуют предоставленному описанию\n",
    "- заменить названия столбов на удобные\n",
    "- сколько всего уникальных пользователей в каждом датасете?\n",
    "- посмотреть на события столбца `event_name`. По результатам найти прожатие обычной кнопки поиска в _search_1..7_\n",
    "\n",
    "**Шаг 2. Предобработка**\n",
    "- удалить _tips_show_ из  `event_name` для  шага анализа данных, сохранить копию исходного датасета для проверки гипотез\n",
    "- разделить _search_1..7_ на простой и остальной поиск\n",
    "\n",
    "**Шаг 3. Анализ данных**\n",
    "- оценить активность по дням недели через гистограмму\n",
    "- посчитать retantional rate этого месяца\n",
    "- посчитать DAU. Построить график.\n",
    "- оценить количесво приходящих новых пользователей за каждый день. Построить график.\n",
    "- скопировать датасет. Оценить тайм-аут, не являющийся выбросом. Создать столбец с `session_id` на основании тайм-аута - каждой новой сессии присваивается порядковый номер\n",
    "- построить диаграмму Сэнкей по `session_id`. Выбрать от 3 до 5 наиболее распространенных сценария прохода пользователей по приложению.\n",
    "- по выбранным сценариям по `user_id` построить воронки. Сделать выводы\n",
    "- Оценить какие действия чаще всего совершают те пользователи, которые просматривают контакты:рассчитать относительную частоту событий в разрезе двух групп пользователей: группа, которые смотрели contacts_show и не смотрели\n",
    "\n",
    "**Шаг 4.  Проверка гипотез**\n",
    "- Одни пользователи совершают действия _tips_show_ и _tips_click_ , другие — только _tips_show_ . Проверить гипотезу: конверсия в просмотры контактов различается у этих двух групп. Для этого выделить пользователей, которые совершили и  _tips_show_, и _tips_click_, и _contacts_show_ в группу А, _tips_show_ и _contacts_show_ в группу В. \n",
    "- аналогично проверить, что конверсия пользователей, просмотревших фотографии, в просмотр контактов больше, чем конверсия пользователей, не просмотревших"
   ]
  },
  {
   "cell_type": "markdown",
   "metadata": {},
   "source": [
    "## Импорт библиотек"
   ]
  },
  {
   "cell_type": "code",
   "execution_count": 1,
   "metadata": {},
   "outputs": [],
   "source": [
    "import pandas as pd\n",
    "import numpy as np\n",
    "import math as mth # для рассчета статистики ст.отклонениях стандартного нормального распределения\n",
    "from scipy import stats as st #для проверки гипотезы 1\n",
    "from datetime import datetime, timedelta\n",
    "import locale # для переключения дат на русский (н-р, пн/вт/октябрь)\n",
    "import matplotlib.pyplot as plt \n",
    "import seaborn as sns\n",
    "from tqdm import tqdm # помощь при построении диаграммы Сэнкей\n",
    "from plotly import graph_objects as go # графическая часть построения диаграммы Сэнкей"
   ]
  },
  {
   "cell_type": "code",
   "execution_count": 2,
   "metadata": {},
   "outputs": [],
   "source": [
    "# если раскомментировать строку - Даты будут выведены на русском\n",
    "#locale.setlocale(locale.LC_ALL, 'ru_RU.UTF-8')"
   ]
  },
  {
   "cell_type": "markdown",
   "metadata": {},
   "source": [
    "## Общий обзор дынных"
   ]
  },
  {
   "cell_type": "code",
   "execution_count": 3,
   "metadata": {},
   "outputs": [],
   "source": [
    "def watch_basics(df):\n",
    "    \"\"\"\n",
    "    Отображает базовую информацию о датасете\n",
    "    \"\"\"\n",
    "    p = 20\n",
    "    print('*'*p, 'Общая информация', '*'*p)\n",
    "    display(df.head())\n",
    "    df.info()\n",
    "    print('*'*p, 'Пропуски', '*'*p)\n",
    "    if not (df.isna().sum() > 0).any():\n",
    "        print('*'*p, 'Пропусков не найдено', '*'*p)\n",
    "    else:\n",
    "        display(df.isna().sum())\n",
    "    print('*'*p, 'Явные дубликаты', '*'*p)\n",
    "    display(df[df.duplicated()].count())"
   ]
  },
  {
   "cell_type": "markdown",
   "metadata": {},
   "source": [
    "### Выгрузка _mobile_dataset.csv_"
   ]
  },
  {
   "cell_type": "code",
   "execution_count": 4,
   "metadata": {},
   "outputs": [
    {
     "name": "stdout",
     "output_type": "stream",
     "text": [
      "******************** Общая информация ********************\n"
     ]
    },
    {
     "data": {
      "text/html": [
       "<div>\n",
       "<style scoped>\n",
       "    .dataframe tbody tr th:only-of-type {\n",
       "        vertical-align: middle;\n",
       "    }\n",
       "\n",
       "    .dataframe tbody tr th {\n",
       "        vertical-align: top;\n",
       "    }\n",
       "\n",
       "    .dataframe thead th {\n",
       "        text-align: right;\n",
       "    }\n",
       "</style>\n",
       "<table border=\"1\" class=\"dataframe\">\n",
       "  <thead>\n",
       "    <tr style=\"text-align: right;\">\n",
       "      <th></th>\n",
       "      <th>event.time</th>\n",
       "      <th>event.name</th>\n",
       "      <th>user.id</th>\n",
       "    </tr>\n",
       "  </thead>\n",
       "  <tbody>\n",
       "    <tr>\n",
       "      <th>0</th>\n",
       "      <td>2019-10-07 00:00:00.431357</td>\n",
       "      <td>advert_open</td>\n",
       "      <td>020292ab-89bc-4156-9acf-68bc2783f894</td>\n",
       "    </tr>\n",
       "    <tr>\n",
       "      <th>1</th>\n",
       "      <td>2019-10-07 00:00:01.236320</td>\n",
       "      <td>tips_show</td>\n",
       "      <td>020292ab-89bc-4156-9acf-68bc2783f894</td>\n",
       "    </tr>\n",
       "    <tr>\n",
       "      <th>2</th>\n",
       "      <td>2019-10-07 00:00:02.245341</td>\n",
       "      <td>tips_show</td>\n",
       "      <td>cf7eda61-9349-469f-ac27-e5b6f5ec475c</td>\n",
       "    </tr>\n",
       "    <tr>\n",
       "      <th>3</th>\n",
       "      <td>2019-10-07 00:00:07.039334</td>\n",
       "      <td>tips_show</td>\n",
       "      <td>020292ab-89bc-4156-9acf-68bc2783f894</td>\n",
       "    </tr>\n",
       "    <tr>\n",
       "      <th>4</th>\n",
       "      <td>2019-10-07 00:00:56.319813</td>\n",
       "      <td>advert_open</td>\n",
       "      <td>cf7eda61-9349-469f-ac27-e5b6f5ec475c</td>\n",
       "    </tr>\n",
       "  </tbody>\n",
       "</table>\n",
       "</div>"
      ],
      "text/plain": [
       "                  event.time   event.name  \\\n",
       "0 2019-10-07 00:00:00.431357  advert_open   \n",
       "1 2019-10-07 00:00:01.236320    tips_show   \n",
       "2 2019-10-07 00:00:02.245341    tips_show   \n",
       "3 2019-10-07 00:00:07.039334    tips_show   \n",
       "4 2019-10-07 00:00:56.319813  advert_open   \n",
       "\n",
       "                                user.id  \n",
       "0  020292ab-89bc-4156-9acf-68bc2783f894  \n",
       "1  020292ab-89bc-4156-9acf-68bc2783f894  \n",
       "2  cf7eda61-9349-469f-ac27-e5b6f5ec475c  \n",
       "3  020292ab-89bc-4156-9acf-68bc2783f894  \n",
       "4  cf7eda61-9349-469f-ac27-e5b6f5ec475c  "
      ]
     },
     "metadata": {},
     "output_type": "display_data"
    },
    {
     "name": "stdout",
     "output_type": "stream",
     "text": [
      "<class 'pandas.core.frame.DataFrame'>\n",
      "RangeIndex: 74197 entries, 0 to 74196\n",
      "Data columns (total 3 columns):\n",
      " #   Column      Non-Null Count  Dtype         \n",
      "---  ------      --------------  -----         \n",
      " 0   event.time  74197 non-null  datetime64[ns]\n",
      " 1   event.name  74197 non-null  string        \n",
      " 2   user.id     74197 non-null  string        \n",
      "dtypes: datetime64[ns](1), string(2)\n",
      "memory usage: 1.7 MB\n",
      "******************** Пропуски ********************\n",
      "******************** Пропусков не найдено ********************\n",
      "******************** Явные дубликаты ********************\n"
     ]
    },
    {
     "data": {
      "text/plain": [
       "event.time    0\n",
       "event.name    0\n",
       "user.id       0\n",
       "dtype: int64"
      ]
     },
     "metadata": {},
     "output_type": "display_data"
    }
   ],
   "source": [
    "dataset = pd.read_csv('mobile_dataset.csv', dtype={'user.id': 'string', 'event.name': 'string'}, parse_dates=['event.time'])\n",
    "watch_basics(dataset)"
   ]
  },
  {
   "cell_type": "markdown",
   "metadata": {},
   "source": [
    "Очень удачно, что нет пропусков или явных дубликатов. Заранее указали некоторый более экономный(с т.зр. памяти) тип данных. Но есть неявные дубликаты в виде _contacts_show_ и _show_contacts_, образованные, скорее всего, из-за слияния нескольких баз данных. Избавимся от них."
   ]
  },
  {
   "cell_type": "code",
   "execution_count": 5,
   "metadata": {},
   "outputs": [],
   "source": [
    "# сначала переименуем столбцы на более удобные\n",
    "dataset = dataset.rename(columns={'event.time': 'event_time', 'event.name': 'event_name', 'user.id': 'user_id'})\n",
    "# избавляемся от неявныз дубликатов\n",
    "dataset.loc[dataset['event_name'] == 'show_contacts', 'event_name'] = 'contacts_show'"
   ]
  },
  {
   "cell_type": "code",
   "execution_count": 6,
   "metadata": {},
   "outputs": [
    {
     "name": "stdout",
     "output_type": "stream",
     "text": [
      "Минимальная дата: 07 Oct 2019 (Mon)\n",
      "Максимальная дата: 03 Nov 2019 (Sun)\n",
      "В датасете представлено 4293 уникальных пользователей.\n"
     ]
    }
   ],
   "source": [
    "print('Минимальная дата:', dataset['event_time'].min().strftime('%d %b %Y (%a)'))\n",
    "print('Максимальная дата:', dataset['event_time'].max().strftime('%d %b %Y (%a)')) \n",
    "# у заведения может быть несколько точек. Посмотрим тогда только на уникальные \n",
    "print('В датасете представлено', len(dataset['user_id'].unique()), 'уникальных пользователей.')"
   ]
  },
  {
   "cell_type": "code",
   "execution_count": 7,
   "metadata": {},
   "outputs": [],
   "source": [
    "# создадим столбец с датами\n",
    "dataset['date'] =  pd.DatetimeIndex(dataset['event_time']).date"
   ]
  },
  {
   "cell_type": "code",
   "execution_count": 8,
   "metadata": {
    "scrolled": false
   },
   "outputs": [
    {
     "data": {
      "image/png": "[encoded data removed]",
      "text/plain": [
       "<Figure size 1600x1600 with 15 Axes>"
      ]
     },
     "metadata": {},
     "output_type": "display_data"
    }
   ],
   "source": [
    "import warnings\n",
    "warnings.filterwarnings('ignore')\n",
    "\n",
    "events_list = list(dataset['event_name'].unique())\n",
    "# в датасете 15 возможных собитий - разделим\n",
    "fig,axes = plt.subplots(nrows=3,ncols=5,figsize=(16,16), sharey=True)\n",
    "num = 0\n",
    "for i in range(3):\n",
    "    for j in range(5):\n",
    "        sett = dataset[dataset['event_name'] == events_list[num]]\n",
    "        sns.histplot(ax=axes[i][j],data=sett,x='date')\n",
    "        axes[i][j].set_title(events_list[num])\n",
    "        axes[i][j].set_xlabel('Дата')\n",
    "        axes[i][j].set_ylabel('Количество')\n",
    "        axes[i][j].set_xticklabels(list(pd.DatetimeIndex(dataset['date'].unique()).day))\n",
    "        #for tick in axes[i][j].get_xticklabels():\n",
    "        #    tick.set_rotation(35)\n",
    "        num += 1\n",
    "# С помощью wspace,hspace можно регулировать расстояния между наборами осей\n",
    "fig.subplots_adjust(hspace=0.3)\n",
    "fig.suptitle('Гистограммы по событиям',fontsize=16);\n"
   ]
  },
  {
   "cell_type": "markdown",
   "metadata": {},
   "source": [
    "По результатам доработки ТЗ было выявлено, что tips_show появляется автоматически и может появиться на любом из этапов. Не удивительно, что его так много, к тому же он влияет на весь датасет и последующий анализ. Однако странно, что не логируется заглавная страница: это могло бы стать более точной метрикой количества заходов в приложение, могло бы стать стартовой позицией для большинства воронок, стало бы проще отслеживать пики популярности по загодам в разные дни месяца и/или недели. Рекомендуется вести счет.\n",
    "Так как tips_show выставляется автоматически, а в ТЗ указано провести анализ пользователей, то этап не характеризует действия человека и будет исключен.\n",
    "\n",
    "Можно заметить, что количество `advert_open`(открыл карточки объявления) гораздо больше, чем `tips_click`(кликнул по рекомендованному объявлению) - похоже, рекомендательной системе стоит уделить внимание.\n",
    "\n",
    "search_1..7 являются результатами поисковой строки, причем скоре всего бОльшая часть - с фильтрами. Тогда логично предположить, что наибольшее количество - это прожатие строки поиска после ввода запроса - это search_1. Разъединим данные на обычный поиск и специальный.\n",
    "\n",
    "В contacts_show 3 \"гребня волны\". В месяц как раз умещается 3-4 недели - стоит в дальнейшем проверить не является ли это регулярной активностью по неделям"
   ]
  },
  {
   "cell_type": "markdown",
   "metadata": {},
   "source": [
    "### Выгрузка _mobile_sourсes.csv_"
   ]
  },
  {
   "cell_type": "code",
   "execution_count": 10,
   "metadata": {},
   "outputs": [
    {
     "ename": "FileNotFoundError",
     "evalue": "[Errno 2] No such file or directory: '/mobile_sources.csv'",
     "output_type": "error",
     "traceback": [
      "\u001b[1;31m---------------------------------------------------------------------------\u001b[0m",
      "\u001b[1;31mFileNotFoundError\u001b[0m                         Traceback (most recent call last)",
      "Cell \u001b[1;32mIn[10], line 1\u001b[0m\n\u001b[1;32m----> 1\u001b[0m sourсes \u001b[38;5;241m=\u001b[39m pd\u001b[38;5;241m.\u001b[39mread_csv(\u001b[38;5;124m'\u001b[39m\u001b[38;5;124m/mobile_sources.csv\u001b[39m\u001b[38;5;124m'\u001b[39m, dtype\u001b[38;5;241m=\u001b[39m{\u001b[38;5;124m'\u001b[39m\u001b[38;5;124muserId\u001b[39m\u001b[38;5;124m'\u001b[39m: \u001b[38;5;124m'\u001b[39m\u001b[38;5;124mstring\u001b[39m\u001b[38;5;124m'\u001b[39m, \u001b[38;5;124m'\u001b[39m\u001b[38;5;124msource\u001b[39m\u001b[38;5;124m'\u001b[39m: \u001b[38;5;124m'\u001b[39m\u001b[38;5;124mstring\u001b[39m\u001b[38;5;124m'\u001b[39m})\n\u001b[0;32m      2\u001b[0m watch_basics(sourсes)\n",
      "File \u001b[1;32mD:\\Users\\kate2\\anaconda3\\Lib\\site-packages\\pandas\\util\\_decorators.py:211\u001b[0m, in \u001b[0;36mdeprecate_kwarg.<locals>._deprecate_kwarg.<locals>.wrapper\u001b[1;34m(*args, **kwargs)\u001b[0m\n\u001b[0;32m    209\u001b[0m     \u001b[38;5;28;01melse\u001b[39;00m:\n\u001b[0;32m    210\u001b[0m         kwargs[new_arg_name] \u001b[38;5;241m=\u001b[39m new_arg_value\n\u001b[1;32m--> 211\u001b[0m \u001b[38;5;28;01mreturn\u001b[39;00m func(\u001b[38;5;241m*\u001b[39margs, \u001b[38;5;241m*\u001b[39m\u001b[38;5;241m*\u001b[39mkwargs)\n",
      "File \u001b[1;32mD:\\Users\\kate2\\anaconda3\\Lib\\site-packages\\pandas\\util\\_decorators.py:331\u001b[0m, in \u001b[0;36mdeprecate_nonkeyword_arguments.<locals>.decorate.<locals>.wrapper\u001b[1;34m(*args, **kwargs)\u001b[0m\n\u001b[0;32m    325\u001b[0m \u001b[38;5;28;01mif\u001b[39;00m \u001b[38;5;28mlen\u001b[39m(args) \u001b[38;5;241m>\u001b[39m num_allow_args:\n\u001b[0;32m    326\u001b[0m     warnings\u001b[38;5;241m.\u001b[39mwarn(\n\u001b[0;32m    327\u001b[0m         msg\u001b[38;5;241m.\u001b[39mformat(arguments\u001b[38;5;241m=\u001b[39m_format_argument_list(allow_args)),\n\u001b[0;32m    328\u001b[0m         \u001b[38;5;167;01mFutureWarning\u001b[39;00m,\n\u001b[0;32m    329\u001b[0m         stacklevel\u001b[38;5;241m=\u001b[39mfind_stack_level(),\n\u001b[0;32m    330\u001b[0m     )\n\u001b[1;32m--> 331\u001b[0m \u001b[38;5;28;01mreturn\u001b[39;00m func(\u001b[38;5;241m*\u001b[39margs, \u001b[38;5;241m*\u001b[39m\u001b[38;5;241m*\u001b[39mkwargs)\n",
      "File \u001b[1;32mD:\\Users\\kate2\\anaconda3\\Lib\\site-packages\\pandas\\io\\parsers\\readers.py:950\u001b[0m, in \u001b[0;36mread_csv\u001b[1;34m(filepath_or_buffer, sep, delimiter, header, names, index_col, usecols, squeeze, prefix, mangle_dupe_cols, dtype, engine, converters, true_values, false_values, skipinitialspace, skiprows, skipfooter, nrows, na_values, keep_default_na, na_filter, verbose, skip_blank_lines, parse_dates, infer_datetime_format, keep_date_col, date_parser, dayfirst, cache_dates, iterator, chunksize, compression, thousands, decimal, lineterminator, quotechar, quoting, doublequote, escapechar, comment, encoding, encoding_errors, dialect, error_bad_lines, warn_bad_lines, on_bad_lines, delim_whitespace, low_memory, memory_map, float_precision, storage_options)\u001b[0m\n\u001b[0;32m    935\u001b[0m kwds_defaults \u001b[38;5;241m=\u001b[39m _refine_defaults_read(\n\u001b[0;32m    936\u001b[0m     dialect,\n\u001b[0;32m    937\u001b[0m     delimiter,\n\u001b[1;32m   (...)\u001b[0m\n\u001b[0;32m    946\u001b[0m     defaults\u001b[38;5;241m=\u001b[39m{\u001b[38;5;124m\"\u001b[39m\u001b[38;5;124mdelimiter\u001b[39m\u001b[38;5;124m\"\u001b[39m: \u001b[38;5;124m\"\u001b[39m\u001b[38;5;124m,\u001b[39m\u001b[38;5;124m\"\u001b[39m},\n\u001b[0;32m    947\u001b[0m )\n\u001b[0;32m    948\u001b[0m kwds\u001b[38;5;241m.\u001b[39mupdate(kwds_defaults)\n\u001b[1;32m--> 950\u001b[0m \u001b[38;5;28;01mreturn\u001b[39;00m _read(filepath_or_buffer, kwds)\n",
      "File \u001b[1;32mD:\\Users\\kate2\\anaconda3\\Lib\\site-packages\\pandas\\io\\parsers\\readers.py:605\u001b[0m, in \u001b[0;36m_read\u001b[1;34m(filepath_or_buffer, kwds)\u001b[0m\n\u001b[0;32m    602\u001b[0m _validate_names(kwds\u001b[38;5;241m.\u001b[39mget(\u001b[38;5;124m\"\u001b[39m\u001b[38;5;124mnames\u001b[39m\u001b[38;5;124m\"\u001b[39m, \u001b[38;5;28;01mNone\u001b[39;00m))\n\u001b[0;32m    604\u001b[0m \u001b[38;5;66;03m# Create the parser.\u001b[39;00m\n\u001b[1;32m--> 605\u001b[0m parser \u001b[38;5;241m=\u001b[39m TextFileReader(filepath_or_buffer, \u001b[38;5;241m*\u001b[39m\u001b[38;5;241m*\u001b[39mkwds)\n\u001b[0;32m    607\u001b[0m \u001b[38;5;28;01mif\u001b[39;00m chunksize \u001b[38;5;129;01mor\u001b[39;00m iterator:\n\u001b[0;32m    608\u001b[0m     \u001b[38;5;28;01mreturn\u001b[39;00m parser\n",
      "File \u001b[1;32mD:\\Users\\kate2\\anaconda3\\Lib\\site-packages\\pandas\\io\\parsers\\readers.py:1442\u001b[0m, in \u001b[0;36mTextFileReader.__init__\u001b[1;34m(self, f, engine, **kwds)\u001b[0m\n\u001b[0;32m   1439\u001b[0m     \u001b[38;5;28mself\u001b[39m\u001b[38;5;241m.\u001b[39moptions[\u001b[38;5;124m\"\u001b[39m\u001b[38;5;124mhas_index_names\u001b[39m\u001b[38;5;124m\"\u001b[39m] \u001b[38;5;241m=\u001b[39m kwds[\u001b[38;5;124m\"\u001b[39m\u001b[38;5;124mhas_index_names\u001b[39m\u001b[38;5;124m\"\u001b[39m]\n\u001b[0;32m   1441\u001b[0m \u001b[38;5;28mself\u001b[39m\u001b[38;5;241m.\u001b[39mhandles: IOHandles \u001b[38;5;241m|\u001b[39m \u001b[38;5;28;01mNone\u001b[39;00m \u001b[38;5;241m=\u001b[39m \u001b[38;5;28;01mNone\u001b[39;00m\n\u001b[1;32m-> 1442\u001b[0m \u001b[38;5;28mself\u001b[39m\u001b[38;5;241m.\u001b[39m_engine \u001b[38;5;241m=\u001b[39m \u001b[38;5;28mself\u001b[39m\u001b[38;5;241m.\u001b[39m_make_engine(f, \u001b[38;5;28mself\u001b[39m\u001b[38;5;241m.\u001b[39mengine)\n",
      "File \u001b[1;32mD:\\Users\\kate2\\anaconda3\\Lib\\site-packages\\pandas\\io\\parsers\\readers.py:1735\u001b[0m, in \u001b[0;36mTextFileReader._make_engine\u001b[1;34m(self, f, engine)\u001b[0m\n\u001b[0;32m   1733\u001b[0m     \u001b[38;5;28;01mif\u001b[39;00m \u001b[38;5;124m\"\u001b[39m\u001b[38;5;124mb\u001b[39m\u001b[38;5;124m\"\u001b[39m \u001b[38;5;129;01mnot\u001b[39;00m \u001b[38;5;129;01min\u001b[39;00m mode:\n\u001b[0;32m   1734\u001b[0m         mode \u001b[38;5;241m+\u001b[39m\u001b[38;5;241m=\u001b[39m \u001b[38;5;124m\"\u001b[39m\u001b[38;5;124mb\u001b[39m\u001b[38;5;124m\"\u001b[39m\n\u001b[1;32m-> 1735\u001b[0m \u001b[38;5;28mself\u001b[39m\u001b[38;5;241m.\u001b[39mhandles \u001b[38;5;241m=\u001b[39m get_handle(\n\u001b[0;32m   1736\u001b[0m     f,\n\u001b[0;32m   1737\u001b[0m     mode,\n\u001b[0;32m   1738\u001b[0m     encoding\u001b[38;5;241m=\u001b[39m\u001b[38;5;28mself\u001b[39m\u001b[38;5;241m.\u001b[39moptions\u001b[38;5;241m.\u001b[39mget(\u001b[38;5;124m\"\u001b[39m\u001b[38;5;124mencoding\u001b[39m\u001b[38;5;124m\"\u001b[39m, \u001b[38;5;28;01mNone\u001b[39;00m),\n\u001b[0;32m   1739\u001b[0m     compression\u001b[38;5;241m=\u001b[39m\u001b[38;5;28mself\u001b[39m\u001b[38;5;241m.\u001b[39moptions\u001b[38;5;241m.\u001b[39mget(\u001b[38;5;124m\"\u001b[39m\u001b[38;5;124mcompression\u001b[39m\u001b[38;5;124m\"\u001b[39m, \u001b[38;5;28;01mNone\u001b[39;00m),\n\u001b[0;32m   1740\u001b[0m     memory_map\u001b[38;5;241m=\u001b[39m\u001b[38;5;28mself\u001b[39m\u001b[38;5;241m.\u001b[39moptions\u001b[38;5;241m.\u001b[39mget(\u001b[38;5;124m\"\u001b[39m\u001b[38;5;124mmemory_map\u001b[39m\u001b[38;5;124m\"\u001b[39m, \u001b[38;5;28;01mFalse\u001b[39;00m),\n\u001b[0;32m   1741\u001b[0m     is_text\u001b[38;5;241m=\u001b[39mis_text,\n\u001b[0;32m   1742\u001b[0m     errors\u001b[38;5;241m=\u001b[39m\u001b[38;5;28mself\u001b[39m\u001b[38;5;241m.\u001b[39moptions\u001b[38;5;241m.\u001b[39mget(\u001b[38;5;124m\"\u001b[39m\u001b[38;5;124mencoding_errors\u001b[39m\u001b[38;5;124m\"\u001b[39m, \u001b[38;5;124m\"\u001b[39m\u001b[38;5;124mstrict\u001b[39m\u001b[38;5;124m\"\u001b[39m),\n\u001b[0;32m   1743\u001b[0m     storage_options\u001b[38;5;241m=\u001b[39m\u001b[38;5;28mself\u001b[39m\u001b[38;5;241m.\u001b[39moptions\u001b[38;5;241m.\u001b[39mget(\u001b[38;5;124m\"\u001b[39m\u001b[38;5;124mstorage_options\u001b[39m\u001b[38;5;124m\"\u001b[39m, \u001b[38;5;28;01mNone\u001b[39;00m),\n\u001b[0;32m   1744\u001b[0m )\n\u001b[0;32m   1745\u001b[0m \u001b[38;5;28;01massert\u001b[39;00m \u001b[38;5;28mself\u001b[39m\u001b[38;5;241m.\u001b[39mhandles \u001b[38;5;129;01mis\u001b[39;00m \u001b[38;5;129;01mnot\u001b[39;00m \u001b[38;5;28;01mNone\u001b[39;00m\n\u001b[0;32m   1746\u001b[0m f \u001b[38;5;241m=\u001b[39m \u001b[38;5;28mself\u001b[39m\u001b[38;5;241m.\u001b[39mhandles\u001b[38;5;241m.\u001b[39mhandle\n",
      "File \u001b[1;32mD:\\Users\\kate2\\anaconda3\\Lib\\site-packages\\pandas\\io\\common.py:856\u001b[0m, in \u001b[0;36mget_handle\u001b[1;34m(path_or_buf, mode, encoding, compression, memory_map, is_text, errors, storage_options)\u001b[0m\n\u001b[0;32m    851\u001b[0m \u001b[38;5;28;01melif\u001b[39;00m \u001b[38;5;28misinstance\u001b[39m(handle, \u001b[38;5;28mstr\u001b[39m):\n\u001b[0;32m    852\u001b[0m     \u001b[38;5;66;03m# Check whether the filename is to be opened in binary mode.\u001b[39;00m\n\u001b[0;32m    853\u001b[0m     \u001b[38;5;66;03m# Binary mode does not support 'encoding' and 'newline'.\u001b[39;00m\n\u001b[0;32m    854\u001b[0m     \u001b[38;5;28;01mif\u001b[39;00m ioargs\u001b[38;5;241m.\u001b[39mencoding \u001b[38;5;129;01mand\u001b[39;00m \u001b[38;5;124m\"\u001b[39m\u001b[38;5;124mb\u001b[39m\u001b[38;5;124m\"\u001b[39m \u001b[38;5;129;01mnot\u001b[39;00m \u001b[38;5;129;01min\u001b[39;00m ioargs\u001b[38;5;241m.\u001b[39mmode:\n\u001b[0;32m    855\u001b[0m         \u001b[38;5;66;03m# Encoding\u001b[39;00m\n\u001b[1;32m--> 856\u001b[0m         handle \u001b[38;5;241m=\u001b[39m \u001b[38;5;28mopen\u001b[39m(\n\u001b[0;32m    857\u001b[0m             handle,\n\u001b[0;32m    858\u001b[0m             ioargs\u001b[38;5;241m.\u001b[39mmode,\n\u001b[0;32m    859\u001b[0m             encoding\u001b[38;5;241m=\u001b[39mioargs\u001b[38;5;241m.\u001b[39mencoding,\n\u001b[0;32m    860\u001b[0m             errors\u001b[38;5;241m=\u001b[39merrors,\n\u001b[0;32m    861\u001b[0m             newline\u001b[38;5;241m=\u001b[39m\u001b[38;5;124m\"\u001b[39m\u001b[38;5;124m\"\u001b[39m,\n\u001b[0;32m    862\u001b[0m         )\n\u001b[0;32m    863\u001b[0m     \u001b[38;5;28;01melse\u001b[39;00m:\n\u001b[0;32m    864\u001b[0m         \u001b[38;5;66;03m# Binary mode\u001b[39;00m\n\u001b[0;32m    865\u001b[0m         handle \u001b[38;5;241m=\u001b[39m \u001b[38;5;28mopen\u001b[39m(handle, ioargs\u001b[38;5;241m.\u001b[39mmode)\n",
      "\u001b[1;31mFileNotFoundError\u001b[0m: [Errno 2] No such file or directory: '/mobile_sources.csv'"
     ]
    }
   ],
   "source": [
    "sourсes = pd.read_csv('/mobile_sources.csv', dtype={'userId': 'string', 'source': 'string'})\n",
    "watch_basics(sourсes)"
   ]
  },
  {
   "cell_type": "markdown",
   "metadata": {},
   "source": [
    "Пропусков и явных дубликатов нет. Привели данные к типу string."
   ]
  },
  {
   "cell_type": "code",
   "execution_count": null,
   "metadata": {},
   "outputs": [],
   "source": [
    "sourсes['source'].unique()"
   ]
  },
  {
   "cell_type": "code",
   "execution_count": null,
   "metadata": {},
   "outputs": [],
   "source": [
    "sourсes = sourсes.rename(columns={'userId': 'user_id'})"
   ]
  },
  {
   "cell_type": "code",
   "execution_count": null,
   "metadata": {},
   "outputs": [],
   "source": [
    "y = sourсes.groupby('source')['source'].count()\n",
    "x = list(y.index)\n",
    "y = list(y.values)\n",
    "plt.figure(figsize=(10,4),dpi=200)\n",
    "plt.bar(x,y)\n",
    "plt.title('Загрузки с источников')\n",
    "plt.xlabel(\"Источники\")\n",
    "plt.ylabel(\"Количество\");"
   ]
  },
  {
   "cell_type": "markdown",
   "metadata": {},
   "source": [
    "К сожалению, имеется только 3 источника. Необычно, что не используются PlayMarket/AppStore/AppGalary или другие платформы для скачивания - мобильные версии на уже исзветсных платформах намного эффективнее, поскольку пользователи им доверяют. К тому же, если ведется запись прихода пользователей с реклам, рекомендуется провести аналитику и с точки зрения эффективности привлечения новых пользователей."
   ]
  },
  {
   "cell_type": "code",
   "execution_count": null,
   "metadata": {},
   "outputs": [],
   "source": [
    "print('Количество уникальных пользователей в датасете:', len(sourсes['user_id'].unique()))"
   ]
  },
  {
   "cell_type": "markdown",
   "metadata": {},
   "source": [
    "Возможно, приложение только запустилось, поскольку количество скачиваний уникальными пользователями и поличество уникальных пользователей в _mobile_dataset.csv_ идеально совпадают. В этом также видно хорошие новости: ни один из них не удалил и не скачал приложение заново(иначе в последних было бы меньше)"
   ]
  },
  {
   "cell_type": "markdown",
   "metadata": {},
   "source": [
    "### Краткий вывод  <a class=\"anchor\" id=\"general\"></a>"
   ]
  },
  {
   "cell_type": "markdown",
   "metadata": {},
   "source": [
    "Переименовали столбцы в обоих датафреймах. Привели столбцы к типу данных string, а _event.time_ к datetime. Устранили неявные дубликаты в виде _contacts_show_ и _show_contacts_, обозначив как _contacts_show_. Такое произошло, скорее всего, из-за слияния двух баз данных. \n",
    "\n",
    "Рекомендация: Логировать заглавную страницу. Счет пользователей бы стать более точной метрикой количества заходов в приложение, а также стартовой позицией для большинства воронок, стало бы проще отслеживать как часто пользователи заходят в приложение в разные дни месяца и/или недели. \n",
    "\n",
    "Можно заметить, что количество `advert_open`(открыл карточки объявления) гораздо больше, чем `tips_click`(кликнул по рекомендованному объявлению) - похоже, рекомендательной системе стоит уделить внимание.\n",
    "\n",
    "_search_1..7_ являются результатами поисковой строки, причем скоре всего бОльшая часть - с фильтрами. Тогда логично предположить, что наибольшее количество - это прожатие строки поиска после ввода запроса - это _search_1_. В предобработке разъединим данные на обычный поиск и специальный.\n",
    "\n"
   ]
  },
  {
   "cell_type": "markdown",
   "metadata": {},
   "source": [
    " ## Предобработка"
   ]
  },
  {
   "cell_type": "markdown",
   "metadata": {},
   "source": [
    "Мы уже избавились от неявных дубликатов в _mobile_dataset.csv_. "
   ]
  },
  {
   "cell_type": "code",
   "execution_count": null,
   "metadata": {},
   "outputs": [],
   "source": [
    "# сохраним копию для проверки гипотез\n",
    "dataset_with_tips_show = dataset.copy()\n",
    "dataset = dataset[dataset['event_name'] != 'tips_show']\n",
    "# объединим поиски в простой и специальный\n",
    "dataset.loc[dataset['event_name'] == 'search_1', 'event_name'] = 'search_simple'\n",
    "dataset.loc[dataset['event_name'].isin(['search_2', 'search_3', 'search_4', 'search_5', 'search_6', 'search_7']),\\\n",
    "             'event_name'] = 'search_special'"
   ]
  },
  {
   "cell_type": "markdown",
   "metadata": {},
   "source": [
    "### Краткий вывод <a class=\"anchor\" id=\"preprocessing\"></a>\n",
    "Создана копия датафрейма с tips_show для проверки гипотез.Однако, tips_show показывается автоматически и является лишним при анализе данных и поведении пользователей, поскольку поведением непосредственно пользователя не является.\n",
    "Переименовать _search_1_ в _search_simple_, остальные объединили в search_special."
   ]
  },
  {
   "cell_type": "markdown",
   "metadata": {},
   "source": [
    "## Анализ данных "
   ]
  },
  {
   "cell_type": "markdown",
   "metadata": {},
   "source": [
    "### Общая конверсия"
   ]
  },
  {
   "cell_type": "code",
   "execution_count": null,
   "metadata": {},
   "outputs": [],
   "source": [
    "print('Общая конверсия пользователей, дошедших к просмотру контактов {0:.2%}'.format(\\\n",
    "        dataset[dataset['event_name'] == 'contacts_show']['user_id'].unique().shape[0] / dataset['user_id'].unique().shape[0]))"
   ]
  },
  {
   "cell_type": "markdown",
   "metadata": {},
   "source": [
    "27% - это весьма неплохой показатель. Кажется, \"Ненужные вещи\" пользователям нужны."
   ]
  },
  {
   "cell_type": "markdown",
   "metadata": {},
   "source": [
    "### Активность по дням недели"
   ]
  },
  {
   "cell_type": "code",
   "execution_count": null,
   "metadata": {},
   "outputs": [],
   "source": [
    "plt.figure(figsize=(10,4),dpi=200)\n",
    "dataset['event_time'].dt.weekday.hist(bins=7)\n",
    "plt.title('Заходы по дням неделям с понедельника')\n",
    "plt.xlabel(\"Дни недели\")\n",
    "plt.ylabel(\"Количество\");"
   ]
  },
  {
   "cell_type": "markdown",
   "metadata": {},
   "source": [
    "Было бы логично, если бы заходили в выходные и четверг, однако самый популятрный день все же вс, а 2 непопулярных - пт и сб. Видимо, люди откдыхают и не особо заботятся о вещах."
   ]
  },
  {
   "cell_type": "markdown",
   "metadata": {},
   "source": [
    "### Относительная частота событий в разрезе двух групп"
   ]
  },
  {
   "cell_type": "code",
   "execution_count": null,
   "metadata": {},
   "outputs": [],
   "source": [
    "def make_table_for_pie_chart(df, contacts_show = True):\n",
    "    dataset_pie = df.groupby('event_name')['event_name'].count().sort_values(ascending=False)\n",
    "    if contacts_show:\n",
    "        dataset_true_pie = pd.Series([dataset_pie['contacts_show']], index=[\"contacts_show\"])\n",
    "        dataset_true_pie = dataset_true_pie.append(dataset_pie.drop('contacts_show').head())\n",
    "    else:\n",
    "        dataset_true_pie =  pd.Series([],dtype=pd.StringDtype()) \n",
    "        dataset_true_pie = dataset_true_pie.append(dataset_pie.head())\n",
    "    dataset_true_pie = (dataset_true_pie.append(pd.Series([dataset_pie[~dataset_pie.isin(dataset_true_pie)].sum()],\n",
    "                                                          index=[\"other\"])))\n",
    "    return dataset_true_pie"
   ]
  },
  {
   "cell_type": "code",
   "execution_count": null,
   "metadata": {
    "scrolled": false
   },
   "outputs": [],
   "source": [
    "users_watched_contacts = dataset[dataset['event_name'] == 'contacts_show']"
   ]
  },
  {
   "cell_type": "code",
   "execution_count": null,
   "metadata": {},
   "outputs": [],
   "source": [
    "users_NOTwatched_contacts = make_table_for_pie_chart(dataset[~dataset['user_id'].isin(users_watched_contacts['user_id'])], \\\n",
    "                                                     contacts_show=False)"
   ]
  },
  {
   "cell_type": "code",
   "execution_count": null,
   "metadata": {},
   "outputs": [],
   "source": [
    "users_watched_contacts = make_table_for_pie_chart(dataset[dataset['user_id'].isin(users_watched_contacts['user_id'])])"
   ]
  },
  {
   "cell_type": "code",
   "execution_count": null,
   "metadata": {},
   "outputs": [],
   "source": [
    "fig,axes = plt.subplots(nrows=1,ncols=2,figsize=(16,6))\n",
    "\n",
    "explode = tuple([0.2] + [0]*(len(users_watched_contacts)-1))\n",
    "colors = sns.color_palette('pastel')[0:(len(users_watched_contacts)+1)]\n",
    "labels = list(users_watched_contacts.index)\n",
    "axes[0].set_title('Посмотревших контакты')\n",
    "axes[0].pie(users_watched_contacts, labels=labels, \\\n",
    "                autopct='%1.1f%%', startangle=90, colors = colors,wedgeprops=dict(width=0.7), explode= explode,\\\n",
    "                     pctdistance=0.8)\n",
    "# каждому ивенту поставим в соответствие цвет из предыдущей палитры\n",
    "tipe = {name:color for name,color in zip(users_watched_contacts.index, colors)}\n",
    "explode = tuple([0]*(len(users_NOTwatched_contacts)))\n",
    "colors.clear()\n",
    "# обозначаем цвета\n",
    "for name in users_NOTwatched_contacts.index:\n",
    "    colors.append(tipe[name])\n",
    "labels = list(users_NOTwatched_contacts.index)\n",
    "axes[1].set_title('Не посмотревших контакты')\n",
    "axes[1].pie(users_NOTwatched_contacts, labels=labels, \\\n",
    "                autopct='%1.1f%%', startangle=90, colors = colors,wedgeprops=dict(width=0.7), explode= explode,\\\n",
    "                     pctdistance=0.8)\n",
    "fig.suptitle('Относительное число событий',fontsize=16);"
   ]
  },
  {
   "cell_type": "markdown",
   "metadata": {},
   "source": [
    "Выделили 2 группы пользователей: достигших ключевого события _contacts_show_ и тех, кто не достиг такового. В целом, за исключением самого ключевого события, больших различий нет: сначала просмотр фото, затем - открытие объявлений. Это вполне логично, посмольку именно так обычно происходит просмотр \"ненужной вещи\". Однако, есть небольшое различие есть: пользователи.ю которые смотрят контакты, предпочитают простой поиск, зато те, что не доходят целевого события пользуются поиском по карте и специальным поиском.  Не исключено, что они связаны: например, в одним из изначальных search_2..7 может быть фильтр, располагающий объявления от наиболее близкого к наиболее удаленному по карте. Возможно, разработчикам проще всего было посчитать удаленность по радиусу, а не по времени езды до пункта? В любом случае, стоит присмотреться к карте и выяснить почему пользователи не доходят до целевого события. "
   ]
  },
  {
   "cell_type": "markdown",
   "metadata": {},
   "source": [
    "### Retantional rate этого месяца"
   ]
  },
  {
   "cell_type": "code",
   "execution_count": null,
   "metadata": {
    "scrolled": true
   },
   "outputs": [],
   "source": [
    "# функция для создания пользовательских профилей\n",
    "\n",
    "def get_profiles(sessions):\n",
    "    sessions['date'] = pd.to_datetime(dataset['date'])\n",
    "    # находим параметры первых посещений\n",
    "    profiles = (\n",
    "        sessions.sort_values(by=['user_id', 'date'])\n",
    "        .groupby('user_id')\n",
    "        .agg(\n",
    "            {\n",
    "                'date': 'first'\n",
    "            }\n",
    "        )\n",
    "        .rename(columns={'date': 'first_ts'})\n",
    "        .reset_index()\n",
    "    )\n",
    "\n",
    "    # для когортного анализа определяем дату первого посещения\n",
    "    # и первый день месяца, в который это посещение произошло\n",
    "    profiles['dt'] = pd.to_datetime(profiles['first_ts'].dt.date)\n",
    "    profiles['month'] = profiles['first_ts'].astype('datetime64[M]')\n",
    "\n",
    "   \n",
    "    # считаем количество уникальных пользователей\n",
    "    # с датой привлечения\n",
    "    new_users = (\n",
    "        profiles.groupby(['dt'])\n",
    "        .agg({'user_id': 'nunique'})\n",
    "        .rename(columns={'user_id': 'unique_users'})\n",
    "        .reset_index()\n",
    "    )\n",
    "    new_users['dt'] = pd.to_datetime(new_users['dt'])\n",
    "\n",
    "    return profiles\n"
   ]
  },
  {
   "cell_type": "code",
   "execution_count": null,
   "metadata": {
    "scrolled": true
   },
   "outputs": [],
   "source": [
    "profiles = get_profiles(dataset)"
   ]
  },
  {
   "cell_type": "code",
   "execution_count": null,
   "metadata": {},
   "outputs": [],
   "source": [
    "def get_retention(\n",
    "    profiles, sessions, observation_date, horizon_days, ignore_horizon=False\n",
    "    ):\n",
    "\n",
    "    # исключаем пользователей, не «доживших» до горизонта анализа\n",
    "    last_suitable_acquisition_date = observation_date\n",
    "    if not ignore_horizon:\n",
    "        last_suitable_acquisition_date = observation_date - timedelta(\n",
    "            days=horizon_days - 1\n",
    "        )\n",
    "    result_raw = profiles.query('dt <= @last_suitable_acquisition_date')\n",
    "    \n",
    "    # собираем «сырые» данные для расчёта удержания\n",
    "    result_raw = result_raw.merge(\n",
    "    dataset[['user_id', 'date']], on='user_id', how='left'\n",
    "    )\n",
    "    result_raw['lifetime'] = (\n",
    "    result_raw['date'] - result_raw['first_ts']\n",
    "    ).dt.days\n",
    "\n",
    "    \"\"\"\n",
    "    Применим метод `pivot_table()`. Чтобы сделать даты первого посещения заголовками строк, лайфтаймы — заголовками столбцов,\n",
    "    а количество уникальных пользователей — значениями, передадим параметру `index` значения столбца `dt`,\n",
    "    параметру `columns` — значения `lifetime`, параметру `values` — значения `user_id`, \n",
    "    а параметру `aggfunc` — функцию для подсчёта уникальных значений `nunique`.\n",
    "    \"\"\"\n",
    "    result_grouped = result_raw.pivot_table(\n",
    "        index=['dt'], columns='lifetime', values='user_id', aggfunc='nunique'\n",
    "    )\n",
    "    cohort_sizes = (\n",
    "        result_raw.groupby('dt')\n",
    "        .agg({'user_id': 'nunique'})\n",
    "        .rename(columns={'user_id': 'cohort_size'})\n",
    "    )\n",
    "    result_grouped = cohort_sizes.merge(\n",
    "        result_grouped, on='dt', how='left'\n",
    "    ).fillna(0)\n",
    "    result_grouped = result_grouped.div(result_grouped['cohort_size'], axis=0)\n",
    "\n",
    "    # исключаем все лайфтаймы, превышающие горизонт анализа\n",
    "    result_grouped = result_grouped[\n",
    "        ['cohort_size'] + list(range(horizon_days))\n",
    "    ]\n",
    "\n",
    "    # восстанавливаем столбец с размерами когорт\n",
    "    result_grouped['cohort_size'] = cohort_sizes\n",
    "\n",
    "    # возвращаем таблицу удержания и сырые данные\n",
    "    # сырые данные пригодятся, если нужно будет отыскать ошибку в расчётах\n",
    "    return result_raw, result_grouped"
   ]
  },
  {
   "cell_type": "markdown",
   "metadata": {},
   "source": [
    "Возьмем за горизонт анализа 2 недели, получится 15 полноценных когорт"
   ]
  },
  {
   "cell_type": "code",
   "execution_count": null,
   "metadata": {
    "scrolled": true
   },
   "outputs": [],
   "source": [
    "retention_raw, retention = get_retention(\n",
    "    profiles, dataset,  dataset['event_time'].max().date(), 14)\n",
    "retention.index = retention.index.strftime('%m/%d')"
   ]
  },
  {
   "cell_type": "code",
   "execution_count": null,
   "metadata": {
    "scrolled": false
   },
   "outputs": [],
   "source": [
    "plt.figure(figsize=(10,4),dpi=200)\n",
    "sns.heatmap(retention.drop(['cohort_size', 0],axis=1),\n",
    "            annot=True,  # включаем подписи\n",
    "            fmt = '.2%')  # отображаем значения в виде процентов\n",
    "plt.title('Тепловая карта коэффициента удержания')\n",
    "plt.xlabel(\"День жизни\")\n",
    "plt.ylabel(\"Дата начала когорты\");"
   ]
  },
  {
   "cell_type": "markdown",
   "metadata": {},
   "source": [
    "Показатели когорт не столь радужны: удержание седьмого дня составляет менее 8%, а местами к концу(на 14 день) падает ниже 1%. Самая «мрачная» когорта на графике — пользователи, привлечённые 28 октября.\n",
    "Также заметно, что во вт и вс приходит больше пользователей, чем в другие дни. Однако, тенденции в их удержании не видно. Есть даже 0%(что приходится как раз на сб)"
   ]
  },
  {
   "cell_type": "code",
   "execution_count": null,
   "metadata": {},
   "outputs": [],
   "source": [
    "retention.drop(['cohort_size', 0],axis=1).T.plot(\n",
    "    grid=True,  # добавляем сетку\n",
    "    xticks=list(retention.drop(['cohort_size', 0],axis=1).columns.values),  # отметки на оси X — названия колонок\n",
    "    figsize=(15, 5),  # размер графика\n",
    ")\n",
    "plt.legend(loc='right', bbox_to_anchor=(0.6, 0.2, 0.5, 0.5))\n",
    "plt.xlabel('Лайфтайм')  # название оси X\n",
    "plt.title('Кривые удержания по дням привлечения')  # название графика\n",
    "plt.show() "
   ]
  },
  {
   "cell_type": "markdown",
   "metadata": {},
   "source": [
    "Как и ожидалось, удержание падает. Показатели в целом довольно низкие."
   ]
  },
  {
   "cell_type": "markdown",
   "metadata": {},
   "source": [
    "### DAU"
   ]
  },
  {
   "cell_type": "code",
   "execution_count": null,
   "metadata": {},
   "outputs": [],
   "source": [
    "temp = dataset.pivot_table(index='date', values='user_id', aggfunc='nunique')\n",
    "name_x = 'Дни с ' + str(temp.index[0].strftime('%d %b %Y')) + ' по ' + str(temp.index[-1].strftime('%d %b %Y'))\n",
    "temp.index = temp.index.strftime('%d')"
   ]
  },
  {
   "cell_type": "code",
   "execution_count": null,
   "metadata": {},
   "outputs": [],
   "source": [
    "plt.figure(figsize=(10,4),dpi=200)\n",
    "plt.bar(list(temp.index), temp['user_id'])\n",
    "plt.title('Количество уникальных пользователей в день')\n",
    "plt.xlabel(name_x)\n",
    "plt.ylabel(\"Число пользователей\");"
   ]
  },
  {
   "cell_type": "markdown",
   "metadata": {},
   "source": [
    "Что ж, Хотябы общее количество уникальных пользователей в день растет. Это хороший показатель для приложения "
   ]
  },
  {
   "cell_type": "markdown",
   "metadata": {},
   "source": [
    "### Количество новых пользователей в день"
   ]
  },
  {
   "cell_type": "code",
   "execution_count": null,
   "metadata": {},
   "outputs": [],
   "source": [
    "was_here = []\n",
    "def in_previous_days(users):\n",
    "    count_new_users = 0\n",
    "    for user in users:\n",
    "        if user not in was_here:\n",
    "            was_here.append(user)\n",
    "            count_new_users += 1\n",
    "    return count_new_users"
   ]
  },
  {
   "cell_type": "code",
   "execution_count": null,
   "metadata": {},
   "outputs": [],
   "source": [
    "temp = dataset.pivot_table(index='date', values='user_id', aggfunc=[lambda x: in_previous_days(x)])\n",
    "name_x = 'Дни с ' + str(temp.index[0].strftime('%d %b %Y')) + ' по ' + str(temp.index[-1].strftime('%d %b %Y'))\n",
    "temp.index = temp.index.strftime('%d')\n",
    "del was_here"
   ]
  },
  {
   "cell_type": "code",
   "execution_count": null,
   "metadata": {},
   "outputs": [],
   "source": [
    "plt.figure(figsize=(10,4),dpi=200)\n",
    "plt.bar(list(temp.index), temp[('<lambda>', 'user_id')])\n",
    "plt.title('Количество новых пользователей в день')\n",
    "plt.xlabel(name_x)\n",
    "plt.ylabel(\"Число пользователей\");"
   ]
  },
  {
   "cell_type": "markdown",
   "metadata": {},
   "source": [
    "Интересно, что больше новых пользователей приходит в начале недели, но чем ближе к концу - тем, как правило, меньше. Это расходится с тем, что больше всего заходов в выходные. Также возможна тенденция к общему уменьшению количества новых пользователей. Это странно, поскольку хорошее приложение со временем обычно привлекает все больше и больше новых. Возможно, для \"Ненужные вещи\" стоит провести маркетинговую кампанию по привлечению новых. Уже исзвестно, что большинство пришли из Яндекса, поэтому ориентироваться стоит на данный поисковик."
   ]
  },
  {
   "cell_type": "markdown",
   "metadata": {},
   "source": [
    "### Тайм-аут\n",
    " Сколько пользователи проводят времени на сайте: <https://www.statista.com/statistics/1201901/most-visited-websites-worldwide-time-visit/>\n",
    "\n",
    "Среднее время на сайте Амазон составляло около 13мин.  Проверим насколько близко значение в данном датасете"
   ]
  },
  {
   "cell_type": "code",
   "execution_count": null,
   "metadata": {
    "scrolled": false
   },
   "outputs": [],
   "source": [
    "new_dataset = dataset.copy().sort_values(['user_id', 'event_time'])\n",
    "new_dataset['session'] = new_dataset.groupby('user_id')['event_time'].diff()\n",
    "# проверим подсчет на каком-л одном пользователе\n",
    "new_dataset[new_dataset['user_id']== '0001b1d5-b74a-4cbf-aeb0-7df5947bf349'].sort_values(by='event_time')"
   ]
  },
  {
   "cell_type": "code",
   "execution_count": null,
   "metadata": {},
   "outputs": [],
   "source": [
    "plt.figure(figsize=(10,4),dpi=200)\n",
    "new_dataset['session_minutes'] = new_dataset['session'].dt.total_seconds() / 60\n",
    "print('Максимально высчитаное время сессии',round(new_dataset['session_minutes'].max()/ 60),'часов')\n",
    "temp = new_dataset[(new_dataset['session_minutes'] < 60) & (new_dataset['session_minutes'] != 0)]\n",
    "temp['session_minutes'].hist(bins = 1000)\n",
    "#посмотрим на час\n",
    "plt.xlim(0,60)\n",
    "plt.title('Время пользователей в приложении')\n",
    "plt.xlabel(\"Минуты\")\n",
    "plt.ylabel(\"Количество\");"
   ]
  },
  {
   "cell_type": "code",
   "execution_count": null,
   "metadata": {},
   "outputs": [],
   "source": [
    "plt.figure(figsize=(4,3),dpi=200)\n",
    "temp['session_minutes'].plot.box()\n",
    "plt.ylim(0,10)\n",
    "plt.title('Время пользователя в приложении')\n",
    "plt.xlabel(\" \")\n",
    "plt.ylabel(\"Минуты\");"
   ]
  },
  {
   "cell_type": "code",
   "execution_count": null,
   "metadata": {
    "scrolled": true
   },
   "outputs": [],
   "source": [
    "median = temp['session_minutes'].median()\n",
    "print(f'Медиана = {median:.1f} мин.')"
   ]
  },
  {
   "cell_type": "code",
   "execution_count": null,
   "metadata": {},
   "outputs": [],
   "source": [
    "g = (new_dataset['session'] > pd.Timedelta('30Min')).cumsum()\n",
    "new_dataset['session_id'] = new_dataset.groupby(['user_id', g], sort=False).ngroup() + 1\n",
    "temp = pd.pivot_table(new_dataset,\n",
    "               index=[\"session_id\"],\n",
    "               values=[\"session\"],\n",
    "               aggfunc=['sum','max'])\n",
    "temp.loc[temp[('max', 'session')] != temp[('sum', 'session')], 'real_session'] = (temp[('sum', 'session')] - \n",
    "                                                                                  temp[('max', 'session')])\n",
    "plt.figure(figsize=(10,4),dpi=200)\n",
    "temp.loc[temp['real_session'].isna(), 'real_session'] = temp[('sum', 'session')]\n",
    "temp['session_minutes'] = temp['real_session'].dt.total_seconds() / 60\n",
    "temp = temp[(temp['session_minutes'] < 480) & (temp['session_minutes'] != 0)]\n",
    "temp['session_minutes'].hist(bins = 1000)\n",
    "#посмотрим на час\n",
    "plt.xlim(0,60)\n",
    "plt.title('Время пользователей в приложении')\n",
    "plt.xlabel(\"Минуты\")\n",
    "plt.ylabel(\"Количество\");"
   ]
  },
  {
   "cell_type": "markdown",
   "metadata": {},
   "source": [
    "Видно, что очень много пользователей быстро заходят и уходят. График имеет убывающий гиперболически вид, то есть чем больше количество минут в приложении, тем меньше таких пользователей. Значение тайм-аута, подобранное гугл аналитиками, тоже нам подходит, поэтому диаграмму строим со срезом в 30мин "
   ]
  },
  {
   "cell_type": "markdown",
   "metadata": {},
   "source": [
    "### Диаграмма Сэнкей"
   ]
  },
  {
   "cell_type": "code",
   "execution_count": null,
   "metadata": {
    "scrolled": true
   },
   "outputs": [],
   "source": [
    "#пересчитаем session_id\n",
    "temp = (new_dataset['session'] > pd.Timedelta('30Min')).cumsum()\n",
    "new_dataset['session_id'] = new_dataset.groupby(['user_id', temp], sort=False).ngroup() + 1\n",
    "new_dataset = new_dataset[~new_dataset.duplicated(subset=[\"session_id\", \"event_name\"])]\n",
    "# некоторые столбцы просто не пригодятся - незачем таскать с собой\n",
    "new_dataset = new_dataset.drop([ 'date'], axis=1)"
   ]
  },
  {
   "cell_type": "code",
   "execution_count": null,
   "metadata": {},
   "outputs": [],
   "source": [
    "new_dataset.info()"
   ]
  },
  {
   "cell_type": "code",
   "execution_count": null,
   "metadata": {
    "scrolled": false
   },
   "outputs": [],
   "source": [
    "def add_features(df):\n",
    "    \n",
    "    \"\"\"\n",
    "    Функция генерации новых столбцов для исходной таблицы\n",
    "\n",
    "    Args:\n",
    "        df (pd.DataFrame): исходная таблица.\n",
    "    Returns:\n",
    "        pd.DataFrame: таблица с новыми признаками.\n",
    "    \"\"\"\n",
    "    \n",
    "    # сортируем по id и времени\n",
    "    sorted_df = df.sort_values(by=['session_id', 'event_time']).copy()\n",
    "    # добавляем шаги событий\n",
    "    sorted_df['step'] = sorted_df.groupby('session_id').cumcount() + 1\n",
    "    \n",
    "    # добавляем узлы-источники и целевые узлы\n",
    "    # узлы-источники - это сами события\n",
    "    sorted_df['source'] = sorted_df['event_name'].astype(str)\n",
    "    # добавляем целевые узлы\n",
    "    sorted_df['target'] = sorted_df.groupby('session_id')['source'].shift(-1)\n",
    "    \n",
    "    # возврат таблицы без имени событий\n",
    "    return sorted_df.drop(['event_name'], axis=1)\n",
    "  \n",
    "# преобразуем таблицу\n",
    "table = add_features(new_dataset)\n",
    "table.head()"
   ]
  },
  {
   "cell_type": "code",
   "execution_count": null,
   "metadata": {},
   "outputs": [],
   "source": [
    "df_comp = table.copy() #table[table['step'] <= 6].copy().reset_index(drop=True)"
   ]
  },
  {
   "cell_type": "code",
   "execution_count": null,
   "metadata": {},
   "outputs": [],
   "source": [
    "def get_source_index(df):\n",
    "    \n",
    "    \"\"\"Функция генерации индексов source\n",
    "\n",
    "    Args:\n",
    "        df (pd.DataFrame): исходная таблица с признаками step, source, target.\n",
    "    Returns:\n",
    "        dict: словарь с индексами, именами и соответсвиями индексов именам source.\n",
    "    \"\"\"\n",
    "    \n",
    "    res_dict = {}\n",
    "    \n",
    "    count = 0\n",
    "    # получаем индексы источников\n",
    "    for no, step in enumerate(df['step'].unique().tolist()):\n",
    "        # получаем уникальные наименования для шага\n",
    "        res_dict[no+1] = {}\n",
    "        res_dict[no+1]['sources'] = df[df['step'] == step]['source'].unique().tolist()\n",
    "        res_dict[no+1]['sources_index'] = []\n",
    "        for i in range(len(res_dict[no+1]['sources'])):\n",
    "            res_dict[no+1]['sources_index'].append(count)\n",
    "            count += 1\n",
    "            \n",
    "    # соединим списки\n",
    "    for key in res_dict:\n",
    "        res_dict[key]['sources_dict'] = {}\n",
    "        for name, no in zip(res_dict[key]['sources'], res_dict[key]['sources_index']):\n",
    "            res_dict[key]['sources_dict'][name] = no\n",
    "    return res_dict\n",
    "  \n",
    "\n",
    "# создаем словарь\n",
    "source_indexes = get_source_index(df_comp)"
   ]
  },
  {
   "cell_type": "code",
   "execution_count": null,
   "metadata": {},
   "outputs": [],
   "source": [
    "def generate_random_color():\n",
    "    \n",
    "    \"\"\"Случайная генерация цветов rgba\n",
    "\n",
    "    Args:\n",
    "        \n",
    "    Returns:\n",
    "        str: Строка со сгенерированными параметрами цвета\n",
    "    \"\"\"\n",
    "    \n",
    "    # сгенерим значение для каждого канала\n",
    "    r, g, b = np.random.randint(255, size=3)\n",
    "    return f'rgba({r}, {g}, {b}, 1)'"
   ]
  },
  {
   "cell_type": "code",
   "execution_count": null,
   "metadata": {},
   "outputs": [],
   "source": [
    "def colors_for_sources(mode):\n",
    "    \n",
    "    \"\"\"Генерация цветов rgba\n",
    "\n",
    "    Args:\n",
    "        mode (str): сгенерировать случайные цвета, если 'random', а если 'custom' - \n",
    "                    использовать заранее подготовленные\n",
    "    Returns:\n",
    "        dict: словарь с цветами, соответствующими каждому индексу\n",
    "    \"\"\"\n",
    "    # словарь, в который сложим цвета в соответствии с индексом\n",
    "    colors_dict = {}\n",
    "\n",
    "    # генерим случайные цвета\n",
    "    for label in df_comp['source'].unique():\n",
    "        r, g, b = np.random.randint(255, size=3)            \n",
    "        colors_dict[label] = f'rgba({r}, {g}, {b}, 1)'\n",
    "            \n",
    "    \n",
    "            \n",
    "    return colors_dict\n",
    "  \n",
    "  \n",
    "# генерю цвета \n",
    "colors_dict = colors_for_sources(mode='random')"
   ]
  },
  {
   "cell_type": "code",
   "execution_count": null,
   "metadata": {},
   "outputs": [],
   "source": [
    "def percent_users(sources, targets, values):\n",
    "    \n",
    "    \"\"\"\n",
    "    Расчет уникальных id в процентах (для вывода в hover text каждого узла)\n",
    "    \n",
    "    Args:\n",
    "        sources (list): список с индексами source.\n",
    "        targets (list): список с индексами target.\n",
    "        values (list): список с \"объемами\" потоков.\n",
    "        \n",
    "    Returns:\n",
    "        list: список с \"объемами\" потоков в процентах\n",
    "    \"\"\"\n",
    "    \n",
    "    # объединим источники и метки и найдем пары\n",
    "    zip_lists = list(zip(sources, targets, values))\n",
    "    \n",
    "    new_list = []\n",
    "    \n",
    "    # подготовим список словарь с общим объемом трафика в узлах\n",
    "    unique_dict = {}\n",
    "    \n",
    "    # проходим по каждому узлу\n",
    "    for source, target, value in zip_lists:\n",
    "        if source not in unique_dict:\n",
    "            # находим все источники и считаем общий трафик\n",
    "            unique_dict[source] = 0\n",
    "            for sr, tg, vl in zip_lists:\n",
    "                if sr == source:\n",
    "                    unique_dict[source] += vl\n",
    "                    \n",
    "    # считаем проценты\n",
    "    for source, target, value in zip_lists:\n",
    "        new_list.append(round(100 * value / unique_dict[source], 1))\n",
    "    \n",
    "    return new_list"
   ]
  },
  {
   "cell_type": "code",
   "execution_count": null,
   "metadata": {},
   "outputs": [],
   "source": [
    "def lists_for_plot(source_indexes=source_indexes, colors=colors_dict, frac=10):\n",
    "    \n",
    "    \"\"\"\n",
    "    Создаем необходимые для отрисовки диаграммы переменные списков и возвращаем\n",
    "    их в виде словаря\n",
    "    \n",
    "    Args:\n",
    "        source_indexes (dict): словарь с именами и индексами source.\n",
    "        colors (dict): словарь с цветами source.\n",
    "        frac (int): ограничение на минимальный \"объем\" между узлами.\n",
    "        \n",
    "    Returns:\n",
    "        dict: словарь со списками, необходимыми для диаграммы.\n",
    "    \"\"\"\n",
    "    \n",
    "    sources = []\n",
    "    targets = []\n",
    "    values = []\n",
    "    labels = []\n",
    "    link_color = []\n",
    "    link_text = []\n",
    "\n",
    "    # проходим по каждому шагу\n",
    "    for step in tqdm(sorted(df_comp['step'].unique()), desc='Шаг'):\n",
    "        if step + 1 not in source_indexes:\n",
    "            continue\n",
    "\n",
    "        # получаем индекс источника\n",
    "        temp_dict_source = source_indexes[step]['sources_dict']\n",
    "\n",
    "        # получаем индексы цели\n",
    "        temp_dict_target = source_indexes[step+1]['sources_dict']\n",
    "\n",
    "        # проходим по каждой возможной паре, считаем количество таких пар\n",
    "        for source, index_source in tqdm(temp_dict_source.items()):\n",
    "            for target, index_target in temp_dict_target.items():\n",
    "                # делаем срез данных и считаем количество id            \n",
    "                temp_df = df_comp[(df_comp['step'] == step)&(df_comp['source'] == source)&(df_comp['target'] == target)]\n",
    "                value = len(temp_df)\n",
    "                # проверяем минимальный объем потока и добавляем нужные данные\n",
    "                if value > frac:\n",
    "                    sources.append(index_source)\n",
    "                    targets.append(index_target)\n",
    "                    values.append(value)\n",
    "                    # делаем поток прозрачным для лучшего отображения\n",
    "                    link_color.append(colors[source].replace(', 1)', ', 0.2)'))\n",
    "                    \n",
    "    labels = []\n",
    "    colors_labels = []\n",
    "    for key in source_indexes:\n",
    "        for name in source_indexes[key]['sources']:\n",
    "            labels.append(name)\n",
    "            colors_labels.append(colors[name])\n",
    "            \n",
    "    # посчитаем проценты всех потоков\n",
    "    perc_values = percent_users(sources, targets, values)\n",
    "    \n",
    "    # добавим значения процентов для howertext\n",
    "    link_text = []\n",
    "    for perc in perc_values:\n",
    "        link_text.append(f\"{perc}%\")\n",
    "    \n",
    "    # возвратим словарь с вложенными списками\n",
    "    return {'sources': sources, \n",
    "            'targets': targets, \n",
    "            'values': values, \n",
    "            'labels': labels, \n",
    "            'colors_labels': colors_labels, \n",
    "            'link_color': link_color, \n",
    "            'link_text': link_text}\n",
    "  \n",
    "\n",
    "# создаем словарь\n",
    "data_for_plot = lists_for_plot()"
   ]
  },
  {
   "cell_type": "code",
   "execution_count": null,
   "metadata": {},
   "outputs": [],
   "source": [
    "def plot_senkey_diagram(data_dict=data_for_plot):    \n",
    "    \n",
    "    \"\"\"\n",
    "    Функция для генерации объекта диаграммы Сенкей \n",
    "    \n",
    "    Args:\n",
    "        data_dict (dict): словарь со списками данных для построения.\n",
    "        \n",
    "    Returns:\n",
    "        plotly.graph_objs._figure.Figure: объект изображения.\n",
    "    \"\"\"\n",
    "    \n",
    "    fig = go.Figure(data=[go.Sankey(\n",
    "        domain = dict(\n",
    "          x =  [0,1],\n",
    "          y =  [0,1]\n",
    "        ),\n",
    "        orientation = \"h\",\n",
    "        valueformat = \".0f\",\n",
    "        node = dict(\n",
    "          pad = 50,\n",
    "          thickness = 15,\n",
    "          line = dict(color = \"black\", width = 0.1),\n",
    "          label = data_dict['labels'],\n",
    "          color = data_dict['colors_labels']\n",
    "        ),\n",
    "        link = dict(\n",
    "          source = data_dict['sources'],\n",
    "          target = data_dict['targets'],\n",
    "          value = data_dict['values'],\n",
    "          label = data_dict['link_text'],\n",
    "          color = data_dict['link_color']\n",
    "      ))])\n",
    "    fig.update_layout(title_text=\"Sankey Diagram\", font_size=10, width=1000, height=1020)\n",
    "    \n",
    "    # возвращаем объект диаграммы\n",
    "    return fig\n",
    "  \n",
    "\n",
    "# сохраняем диаграмму в переменную\n",
    "senkey_diagram = plot_senkey_diagram()"
   ]
  },
  {
   "cell_type": "markdown",
   "metadata": {},
   "source": [
    "<a class=\"anchor\" id=\"sankey\"></a>"
   ]
  },
  {
   "cell_type": "code",
   "execution_count": null,
   "metadata": {},
   "outputs": [],
   "source": [
    "senkey_diagram.show()"
   ]
  },
  {
   "cell_type": "markdown",
   "metadata": {},
   "source": [
    " Много пользователей в принципе идет из простого поиска и с карт. Также в карты заходят из специального поиска. Интересно, что отображается не более 4 этапов, а очень многие достигают ключевого на втором.\n",
    "Выберем для воронок: \n",
    "1. search_simple -> photos_show -> contacts_show;  \n",
    "2. photos_show -> contacts_show;  \n",
    "3. map -> contacts_show;  \n",
    "4. search_special -> map -> advert_open -> contacts_show"
   ]
  },
  {
   "cell_type": "markdown",
   "metadata": {},
   "source": [
    "### Воронки"
   ]
  },
  {
   "cell_type": "markdown",
   "metadata": {},
   "source": [
    "#### Задание функций для построения"
   ]
  },
  {
   "cell_type": "code",
   "execution_count": null,
   "metadata": {},
   "outputs": [],
   "source": [
    "def filtred_data(df, *args):\n",
    "    new_df = df[df['event_name'] == args[0]]\n",
    "    users_id = new_df['user_id'].unique()\n",
    "    temp = pd.DataFrame({'unique_users':len(new_df['user_id'].unique()), \\\n",
    "                        ('general_users',        ''):new_df.shape[0]\n",
    "                        }, index=[args[0]])\n",
    "    for i in range(1, len(args)):\n",
    "        new_df = df[(df['user_id'].isin(users_id)) & (df['event_name'] == args[i])]\n",
    "        users_id = new_df['user_id'].unique()\n",
    "        new_row = pd.DataFrame({'unique_users':len(new_df['user_id'].unique()), \\\n",
    "                        ('general_users',        ''):new_df.shape[0]\n",
    "                        }, index=[args[i]])\n",
    "        new_row['general_users'] = new_df['user_id'].nunique()\n",
    "        temp = pd.concat([temp,new_row.loc[:]])\n",
    "    return temp\n",
    "\n",
    "table_temp = filtred_data(dataset, 'search_simple', 'photos_show', 'contacts_show')\n",
    "table_temp"
   ]
  },
  {
   "cell_type": "code",
   "execution_count": null,
   "metadata": {},
   "outputs": [],
   "source": [
    "def build_funnel(df, n=''):\n",
    "    # Для дальнейшей визулизации создадим список с именами воронки\n",
    "    events = list(df.index)\n",
    "    # а также со значениями уникальных поьзователей\n",
    "    x_val = list(df['unique_users'])\n",
    "    # построение воронки\n",
    "    fig = go.Figure(go.Funnel(\n",
    "    y = events[:4],\n",
    "    x = x_val[:4],\n",
    "    textposition = \"inside\",\n",
    "    textinfo = \"value+percent initial+percent previous\",\n",
    "    opacity = 0.65, marker = {\"color\": [\"deepskyblue\", \"lightsalmon\", \"tan\", \"teal\", \"silver\"],\n",
    "    \"line\": {\"width\": [4, 2, 2, 3, 1, 1], \"color\": [\"wheat\", \"wheat\", \"blue\", \"wheat\", \"wheat\"]}},\n",
    "    connector = {\"line\": {\"color\": \"royalblue\", \"dash\": \"dot\", \"width\": 3}})\n",
    "    )\n",
    "    fig.update_layout(title=dict(text='Воронка событий ' + str(n), x=0.5, font_family=\"Times New Roman\"),\n",
    "                      yaxis_title='Этапы', \n",
    "                      yaxis = dict(\n",
    "                        tickfont = dict(family = 'Times New Roman'), # оформление самих значений на оси Y\n",
    "                        title_font = dict(family = 'Times New Roman') # оформление подписи Y\n",
    "                      )\n",
    "    )\n",
    "    # для подсчета процента относительно начального количества пользователей можно заменить percent previous на percent initial\n",
    "    fig.show()"
   ]
  },
  {
   "cell_type": "markdown",
   "metadata": {},
   "source": [
    "#### search_simple -> photos_show -> contacts_show <a class=\"anchor\" id=\"three_steps\"></a>"
   ]
  },
  {
   "cell_type": "code",
   "execution_count": null,
   "metadata": {},
   "outputs": [],
   "source": [
    "build_funnel(table_temp, 1)"
   ]
  },
  {
   "cell_type": "markdown",
   "metadata": {},
   "source": [
    "Здесь хороший переход от простого поиска к показу фото, но куда меньше людей смотрят потом контакты: относительно предыдущего шага 30% - чуть более, чем в 3 раза уменьшилось количество пользователей с предыдушего шага."
   ]
  },
  {
   "cell_type": "markdown",
   "metadata": {},
   "source": [
    " #### photos_show -> contacts_show <a class=\"anchor\" id=\"best_funnel\"></a>"
   ]
  },
  {
   "cell_type": "code",
   "execution_count": null,
   "metadata": {},
   "outputs": [],
   "source": [
    "table_temp = filtred_data(dataset,'photos_show', 'contacts_show')\n",
    "build_funnel(table_temp, 2)"
   ]
  },
  {
   "cell_type": "markdown",
   "metadata": {},
   "source": [
    "С показа фото сразу к контактам переходит 31%"
   ]
  },
  {
   "cell_type": "markdown",
   "metadata": {},
   "source": [
    "####  map -> contacts_show"
   ]
  },
  {
   "cell_type": "code",
   "execution_count": null,
   "metadata": {},
   "outputs": [],
   "source": [
    "table_temp = filtred_data(dataset,'map', 'contacts_show')\n",
    "build_funnel(table_temp, 3)"
   ]
  },
  {
   "cell_type": "markdown",
   "metadata": {},
   "source": [
    "Здесь Чуть меньше 20%"
   ]
  },
  {
   "cell_type": "markdown",
   "metadata": {},
   "source": [
    "#### search_special -> map -> advert_open -> contacts_show <a class=\"anchor\" id=\"four_steps\"></a>"
   ]
  },
  {
   "cell_type": "code",
   "execution_count": null,
   "metadata": {},
   "outputs": [],
   "source": [
    "table_temp = filtred_data(dataset,'search_special', 'map', 'advert_open', 'contacts_show')\n",
    "build_funnel(table_temp, 4)"
   ]
  },
  {
   "cell_type": "markdown",
   "metadata": {},
   "source": [
    "Данная воронка была выбранна из-за четырех этапов, и наглядно демонстрирует, что пользователи, которые проходят больше 2 этапов, сильно теряют в конверссии со ступени на ступень. К концу осталось не более 6% от первоначального числа. "
   ]
  },
  {
   "cell_type": "markdown",
   "metadata": {},
   "source": [
    "### Краткий вывод <a class=\"anchor\" id=\"analysis\"></a>"
   ]
  },
  {
   "cell_type": "markdown",
   "metadata": {},
   "source": [
    "- Общая конверсия в период в 7 октября по 3 ноября 2019 составила 27.36%\n",
    "- самый популярный день - вс, а 2 непопулярных - пт и сб\n",
    "- разделили на 2 группы пользователей: достигших  _contacts_show_ и нет. В обоих группах наиболее популятны сначала просмотр фото, затем - открытие объявлений. Однако, есть небольшое различие есть: пользователи, которые смотрят контакты, предпочитают простой поиск, зато те, что не доходят целевого события пользуются поиском по карте и специальным\n",
    "- коэффициент удержания этого месяца равен 74.42%\n",
    "- общее количество уникальных пользователей в день растет\n",
    "- количество новых пользователей в день падает\n",
    "- медианное время в приложении:1мин; не являющееся выбросом взято 30мин\n",
    "- по результатам диаграммы Сэнкей построены 5 воронок: \n",
    "        1. search_simple -> photos_show -> contacts_show;  \n",
    "        2. photos_show -> contacts_show;  \n",
    "        3. map -> contacts_show;  \n",
    "        4. photos_show -> contacts_show\n",
    "        5. search_special -> map -> advert_open -> contacts_show\n",
    "   Конверсия лучше всего у двуэтапных воронок. Пользователи не ходят больше, чем по 4 этапам, неспотря на возможные 15шт в датасете. Причем, чем больше воронка, тем хуже абсолютная конверсия. Лучшиq результат у photos_show -> contacts_show. "
   ]
  },
  {
   "cell_type": "markdown",
   "metadata": {},
   "source": [
    "## Проверка гипотез\n",
    "### Гипотеза №1\n",
    "Пользователи группы А совершают действия _tips_show_ и _tips_click_ , группы B - только _tips_show_ . Необходимо проверить гипотезу: конверсия в просмотры контактов различается у этих двух групп.\n",
    "Сформулируем гипотезы:\n",
    "\n",
    "**Нулевая**: нет различий в конверсии между группами А и B.   \n",
    "**Альтернативная**: различия между группами есть."
   ]
  },
  {
   "cell_type": "code",
   "execution_count": null,
   "metadata": {},
   "outputs": [],
   "source": [
    "# формируем данные по группе А - пользователи совершили действия:\n",
    "# tips_show, tips_click\n",
    "# множества быстро работают, поэтому будем пользоваться ими\n",
    "\n",
    "def unique_users(df, event):\n",
    "    return set(df[df['event_name'] == event]['user_id'])\n",
    "\n",
    "# пользователи, которые совершили действие tips_show\n",
    "users_tips_show = unique_users(dataset_with_tips_show, 'tips_show')\n",
    "# пользователи, которые совершили действие tips_click\n",
    "users_tips_click = unique_users(dataset_with_tips_show, 'tips_click')\n",
    "# пользователи, которые совершили действие contacts_show\n",
    "users_contacts_show = unique_users(dataset_with_tips_show, 'contacts_show')\n",
    "\n",
    "# поскольку нам нужно только количество, далее будем пользоваться только длиной\n",
    "# пользователи, которые совершили и contacts_show, и tips_show, и tips_click - группа А изначальная\n",
    "usersA1_contacts_show = len(users_tips_show.intersection(users_tips_click,users_contacts_show))\n",
    "usersA1 = len(users_tips_show.intersection(users_tips_click))\n",
    "\n",
    "#итак, нам понадобится конверсия группы А: пользователи, которые совершили просто  и tips_show, и tips_click\n",
    "# к пользователям, которые совершили и contacts_show, и tips_show, и tips_click\n",
    "# т.о. пропорция успехов в первой группе:\n",
    "p1A1 = usersA1_contacts_show / usersA1\n",
    "print('Пропорция успехов в первой группе:{0:.2%}'.format(p1A1))\n",
    "\n",
    "# конверсия группы B: пользователи, которые совершили только tips_show, без tips_click\n",
    "# к пользователям, которые совершили и contacts_show, tips_click\n",
    "usersB1 = users_tips_show.difference(users_tips_click)\n",
    "# пользователи, которые совершили и contacts_show, и tips_show - группа B\n",
    "usersB1_contacts_show = len(usersB1.intersection(users_contacts_show))\n",
    "usersB1 = len(usersB1)\n",
    "# пропорция успехов во второй группе:\n",
    "p2B1 = usersB1_contacts_show / usersB1\n",
    "print('Пропорция успехов во второй группе:{0:.2%}'.format(p2B1))\n",
    "\n",
    "# пропорция успехов в комбинированном датасете:\n",
    "p_combined = (usersA1_contacts_show + usersB1_contacts_show) / (usersA1 + usersB1)"
   ]
  },
  {
   "cell_type": "code",
   "execution_count": null,
   "metadata": {},
   "outputs": [],
   "source": [
    "alpha = .05 # критический уровень статистической значимости\n",
    "\n",
    "# разница пропорций в датасетах\n",
    "difference = p1A1 - p2B1\n",
    "\n",
    "# считаем статистику в ст.отклонениях стандартного нормального распределения\n",
    "z_value = difference / mth.sqrt(p_combined * (1 - p_combined) * (1/usersA1 + 1/usersB1))\n",
    "\n",
    "# задаем стандартное нормальное распределение (среднее 0, ст.отклонение 1)\n",
    "distr = st.norm(0, 1) \n",
    "\n",
    "p_value = (1- distr.cdf(abs(z_value))) * 2\n",
    "print('p-значение: ', p_value)\n",
    "if p_value < alpha:\n",
    "    print('Отвергаем нулевую гипотезу: между долями есть значимая разница')\n",
    "else:\n",
    "    print(\n",
    "        'Не получилось отвергнуть нулевую гипотезу, нет оснований считать доли разными') \n"
   ]
  },
  {
   "cell_type": "markdown",
   "metadata": {},
   "source": [
    "Такая разница в пропорциях при указанных размерах выборок достаточна, чтобы говорить о статистически значимом различии. Придется отвергнуть нулевую гипотезу в пользу альтернативной."
   ]
  },
  {
   "cell_type": "markdown",
   "metadata": {},
   "source": [
    "### Гипотеза №2\n",
    "Пользователи группы А совершают действия _photos_show_, группы B - только _tips_show_ . Необходимо проверить гипотезу: конверсия в просмотры контактов различается у этих двух групп.\n",
    "Сформулируем гипотезы:\n",
    "\n",
    "**Нулевая**: нет различий в конверсии между группами А и B.   \n",
    "**Альтернативная**: различия между группами есть."
   ]
  },
  {
   "cell_type": "code",
   "execution_count": null,
   "metadata": {
    "scrolled": true
   },
   "outputs": [],
   "source": [
    "# пользователи, которые совершили действие photos_show\n",
    "users_photos_show = unique_users(dataset_with_tips_show, 'photos_show')\n",
    "# пользователи, которые не смотрели фото\n",
    "temp = dataset_with_tips_show[~dataset_with_tips_show['user_id'].isin(users_photos_show)]\n",
    "users_without_photos_show = set(temp['user_id'])\n",
    "# пользователи, которые совершили действие contacts_show\n",
    "users_contacts_show = unique_users(dataset_with_tips_show, 'contacts_show')\n",
    "\n",
    "# поскольку нам нужно только количество, далее будем пользоваться только длиной\n",
    "# пользователи, которые совершили и contacts_show, и photos_show - группа А\n",
    "usersA2_contacts_show = len(users_photos_show.intersection(users_contacts_show))\n",
    "usersA2 = len(users_photos_show)\n",
    "\n",
    "#итак, нам понадобится конверсия группы А: пользователи, которые совершили просто photos_show\n",
    "# к пользователям, которые совершили и contacts_show, и photos_show\n",
    "# т.о. пропорция успехов в первой группе:\n",
    "p1A2 = usersA2_contacts_show / usersA2\n",
    "print('Пропорция успехов в первой группе:{0:.2%}'.format(p1A2))\n",
    "\n",
    "# конверсия группы B: пользователи, которые совершили не смотрели фото\n",
    "# к пользователям, которые совершили и видели контакты, совершив целевое действие, и не видели фото\n",
    "# пользователи, которые совершили и contacts_show, и tips_show - группа B\n",
    "usersB2_contacts_show = len(users_without_photos_show.intersection(users_contacts_show))\n",
    "usersB2 = len(users_without_photos_show)\n",
    "# пропорция успехов во второй группе:\n",
    "p2B2 = usersB2_contacts_show / usersB2\n",
    "print('Пропорция успехов во второй группе:{0:.2%}'.format(p2B2))\n",
    "\n",
    "# пропорция успехов в комбинированном датасете:\n",
    "p_combined = (usersA2_contacts_show + usersB2_contacts_show) / (usersA2 + usersB2)"
   ]
  },
  {
   "cell_type": "code",
   "execution_count": null,
   "metadata": {},
   "outputs": [],
   "source": [
    "alpha = .01 # критический уровень статистической значимости\n",
    "\n",
    "# разница пропорций в датасетах\n",
    "difference = p1A2 - p2B2\n",
    "\n",
    "# считаем статистику в ст.отклонениях стандартного нормального распределения\n",
    "z_value = difference / mth.sqrt(p_combined * (1 - p_combined) * (1/usersA2 + 1/usersB2))\n",
    "\n",
    "# задаем стандартное нормальное распределение (среднее 0, ст.отклонение 1)\n",
    "distr = st.norm(0, 1) \n",
    "\n",
    "p_value = (1- distr.cdf(abs(z_value))) * 2\n",
    "print('p-значение: ', p_value)\n",
    "if p_value < alpha:\n",
    "    print('Отвергаем нулевую гипотезу: между долями есть значимая разница')\n",
    "else:\n",
    "    print(\n",
    "        'Не получилось отвергнуть нулевую гипотезу, нет оснований считать доли разными') \n"
   ]
  },
  {
   "cell_type": "markdown",
   "metadata": {},
   "source": [
    "Казалось бы, между 31% и 20% не такая большая разница, однако она статически значимая. Пользователи, которые смотрят фото, чаще доходят до целевого действия. "
   ]
  },
  {
   "cell_type": "markdown",
   "metadata": {},
   "source": [
    "### Краткий вывод <a class=\"anchor\" id=\"gip\"></a>\n",
    "Различие в конверсии пользователей, которые совершают действия _tips_show_ и _tips_click_ и пользователей, совершающих только _tips_show_ является статичтически значимой, причем в первой группе выше.\n",
    "Также различие в конверсии пользователей, просматривающих фото и не смотревших, тоже статичтически значима. Дополнительно известно, что в первой группе 31%, а во второй 20%."
   ]
  },
  {
   "cell_type": "markdown",
   "metadata": {},
   "source": [
    "## Вывод\n"
   ]
  },
  {
   "cell_type": "markdown",
   "metadata": {},
   "source": [
    "[**По общему обзору**](#general) :  \n",
    "- переименовали столбцы\n",
    "- привели столбцы к типу данных string и к datetime  \n",
    "- устранили неявные дубликаты в виде _contacts_show_ и _show_contacts_  \n",
    "\n",
    "_Рекомендации_: \n",
    "- логировать заглавную страницу. Плюсы: счет пользователей бы стать более точной метрикой количества заходов в приложение, а также стартовой позицией для большинства воронок, стало бы проще отслеживать как часто пользователи заходят в приложение в разные дни месяца и/или недели\n",
    "- уделить внимание системе рекомендаций\n",
    "- рассмотреть возможность выйти на рынок мобильных приложений: PlayMarket/AppStore/AppGalary\n",
    "- привести к общему виду базы данных, чтобы избежать дубликатов _contacts_show_ и _show_contacts_\n",
    "- рассмотреть возможность хранения части данных в string, поскольку это более экономно с т.зр. памяти, чем в object\n",
    "\n",
    "\n"
   ]
  },
  {
   "cell_type": "markdown",
   "metadata": {},
   "source": [
    "[**По предобработке**](#preprocessing):\n",
    "- глава анализа данных проходила без _tips_show_, поскольку действие является автоматическим и не отображает поведелния пользователей, глава проверки гипотез - с _tips_show_\n",
    "- переименовали _search_1_ в _search_simple_(поиск по прожатию кнопки), остальные объединили в search_special(возможно, предполагающие фильтры)\n",
    "\n",
    "_Рекомендации_:  \n",
    "- переименовать _search_1..7_ на более интуитивно понятные параметры поиска или прописать их значение в документации"
   ]
  },
  {
   "cell_type": "markdown",
   "metadata": {},
   "source": [
    "[**По анализу данных**](#analysis):\n",
    "- отношение уникальных пользователей, дошедщих до целевого событи - просмотр контактов - к общему числу в период в 7 октября по 3 ноября 2019 составила 27.36%\n",
    "- люди чаще заходят во вторник и воскресенье, меньше всего в пятницу и субботу\n",
    "- разделили пользователей на 2 группы: достигших ключевого события(группа 1) и нет(группа 2). В целом, больших различий нет. Интересно, что группа 1 предпочитает простой поиск, группа 2 пользуется поиском по карте и специальным\n",
    "- разделили пользователей на когорты, посчитали retantionl rate. Показатели когорт не столь радужны: удержание седьмого дня составляет менее 8%, а местами к концу(на 14 день) падает ниже 1%\n",
    "- количество новых пользователей в день имеет тенденцию уменьшаться\n",
    "- медиана времени, которое пользователи проводят в приложении составляет около 5мин,\n",
    "- построена [диаграмма Сэнкей](#sankey) с тайм-аутом 50мин, на основании выделены сценарии:\n",
    "    1. [search_simple -> photos_show -> contacts_show](#three_steps)  \n",
    "        _Вывод_: сценарий соотносится с результатами раздела рассчета относительной частоты и достаточно популярен. Однако за переход от 2 этапа к 3 количество пользователей уменьшется почти в 3 раза\n",
    "    2.[photos_show -> contacts_show](#best_funnel)  \n",
    "         _Вывод_: конверсия 31%\n",
    "    3. map -> contacts_show  \n",
    "        _Вывод_: конверсия 20%\n",
    "    4. [search_special -> map -> advert_open -> contacts_show](#four_steps)  \n",
    "        _Вывод_: Данная воронка была выбранна из-за четырех этапов, и наглядно демонстрирует, что пользователи, которые проходят больше 2 этапов, сильно теряют в конверссии со ступени на ступень. К концу осталось не более 6% от первоначального числа  \n",
    "  \n",
    "  Конверсия лучше всего у двуэтапных воронок. Пользователи не ходят больше, чем по 4 этапам, несмотря на возможные 15шт в датасете. Причем, чем больше воронка, тем хуже абсолютная конверсия. Лучшие результат у photos_show -> contacts_show. \n",
    "\n",
    "_Рекомендации:_\n",
    "- акции, скидки, дополнительные предложения по продвижению и другую подобную активную деятельность лучше планировать на вс или вт - в это время больше всего пользователей заходит в приложение\n",
    "- собрать фокус-группу, выяснить почему retantionl rate такой низкий\n"
   ]
  },
  {
   "cell_type": "markdown",
   "metadata": {},
   "source": [
    "[**По проверке гипотез**](#gip)\n",
    "- различие в конверсии пользователей, которые совершают действия _tips_show_ и _tips_click_ и пользователей, совершающих только _tips_show_ является статичтически значимой, причем в первой группе выше.\n",
    "- различие в конверсии пользователей, просматривающих фото и не смотревших, тоже статичтически значима. Дополнительно известно, что в первой группе 31%, а во второй 20%."
   ]
  },
  {
   "cell_type": "code",
   "execution_count": null,
   "metadata": {},
   "outputs": [],
   "source": []
  }
 ],
 "metadata": {
  "ExecuteTimeLog": [
   {
    "duration": 1488,
    "start_time": "2024-02-29T08:49:30.598Z"
   },
   {
    "duration": 5,
    "start_time": "2024-02-29T08:49:47.182Z"
   },
   {
    "duration": 147,
    "start_time": "2024-02-29T08:52:23.810Z"
   },
   {
    "duration": 528,
    "start_time": "2024-02-29T08:54:52.503Z"
   },
   {
    "duration": 28,
    "start_time": "2024-02-29T08:55:55.511Z"
   },
   {
    "duration": 82,
    "start_time": "2024-02-29T09:00:19.351Z"
   },
   {
    "duration": 9,
    "start_time": "2024-02-29T09:00:42.370Z"
   },
   {
    "duration": 18,
    "start_time": "2024-02-29T09:04:38.200Z"
   },
   {
    "duration": 14,
    "start_time": "2024-02-29T09:04:40.160Z"
   },
   {
    "duration": 25,
    "start_time": "2024-02-29T09:05:34.650Z"
   },
   {
    "duration": 2789,
    "start_time": "2024-02-29T09:05:46.509Z"
   },
   {
    "duration": 50,
    "start_time": "2024-02-29T09:10:59.384Z"
   },
   {
    "duration": 49,
    "start_time": "2024-02-29T09:11:16.162Z"
   },
   {
    "duration": 45,
    "start_time": "2024-02-29T09:11:23.220Z"
   },
   {
    "duration": 184,
    "start_time": "2024-02-29T09:12:02.544Z"
   },
   {
    "duration": 1216,
    "start_time": "2024-02-29T09:12:32.420Z"
   },
   {
    "duration": 136,
    "start_time": "2024-02-29T09:13:11.855Z"
   },
   {
    "duration": 3,
    "start_time": "2024-02-29T09:13:15.937Z"
   },
   {
    "duration": 6,
    "start_time": "2024-02-29T09:13:28.230Z"
   },
   {
    "duration": 5,
    "start_time": "2024-02-29T09:13:39.425Z"
   },
   {
    "duration": 131,
    "start_time": "2024-02-29T09:20:45.774Z"
   },
   {
    "duration": 133,
    "start_time": "2024-02-29T09:27:07.702Z"
   },
   {
    "duration": 131,
    "start_time": "2024-02-29T09:28:33.406Z"
   },
   {
    "duration": 134,
    "start_time": "2024-02-29T09:30:37.717Z"
   },
   {
    "duration": 116,
    "start_time": "2024-02-29T09:31:24.850Z"
   },
   {
    "duration": 139,
    "start_time": "2024-02-29T09:31:34.218Z"
   },
   {
    "duration": 5,
    "start_time": "2024-02-29T09:33:06.387Z"
   },
   {
    "duration": 133,
    "start_time": "2024-02-29T09:34:26.557Z"
   },
   {
    "duration": 228,
    "start_time": "2024-02-29T09:34:38.156Z"
   },
   {
    "duration": 29,
    "start_time": "2024-02-29T10:50:30.706Z"
   },
   {
    "duration": 11,
    "start_time": "2024-02-29T10:54:56.315Z"
   },
   {
    "duration": 136,
    "start_time": "2024-02-29T10:55:39.382Z"
   },
   {
    "duration": 15,
    "start_time": "2024-02-29T11:00:42.983Z"
   },
   {
    "duration": 18,
    "start_time": "2024-02-29T11:01:08.523Z"
   },
   {
    "duration": 370,
    "start_time": "2024-02-29T11:01:16.377Z"
   },
   {
    "duration": 3,
    "start_time": "2024-02-29T11:52:18.480Z"
   },
   {
    "duration": 1023,
    "start_time": "2024-02-29T11:52:25.432Z"
   },
   {
    "duration": 389,
    "start_time": "2024-02-29T11:52:33.066Z"
   },
   {
    "duration": 707,
    "start_time": "2024-02-29T11:58:29.462Z"
   },
   {
    "duration": 14,
    "start_time": "2024-02-29T11:59:16.228Z"
   },
   {
    "duration": 757,
    "start_time": "2024-02-29T11:59:28.106Z"
   },
   {
    "duration": 2158,
    "start_time": "2024-02-29T11:59:53.551Z"
   },
   {
    "duration": 103,
    "start_time": "2024-02-29T12:00:12.768Z"
   },
   {
    "duration": 32,
    "start_time": "2024-02-29T12:09:56.326Z"
   },
   {
    "duration": 36,
    "start_time": "2024-02-29T12:10:08.070Z"
   },
   {
    "duration": 4,
    "start_time": "2024-02-29T12:10:34.542Z"
   },
   {
    "duration": 14,
    "start_time": "2024-02-29T12:10:34.548Z"
   },
   {
    "duration": 20,
    "start_time": "2024-02-29T12:10:34.563Z"
   },
   {
    "duration": 204,
    "start_time": "2024-02-29T12:10:34.586Z"
   },
   {
    "duration": 26,
    "start_time": "2024-02-29T12:10:34.791Z"
   },
   {
    "duration": 12,
    "start_time": "2024-02-29T12:10:34.819Z"
   },
   {
    "duration": 34,
    "start_time": "2024-02-29T12:10:34.832Z"
   },
   {
    "duration": 2715,
    "start_time": "2024-02-29T12:10:34.868Z"
   },
   {
    "duration": 51,
    "start_time": "2024-02-29T12:10:37.584Z"
   },
   {
    "duration": 5,
    "start_time": "2024-02-29T12:10:37.637Z"
   },
   {
    "duration": 157,
    "start_time": "2024-02-29T12:10:37.643Z"
   },
   {
    "duration": 4,
    "start_time": "2024-02-29T12:10:37.801Z"
   },
   {
    "duration": 26,
    "start_time": "2024-02-29T12:10:37.815Z"
   },
   {
    "duration": 11,
    "start_time": "2024-02-29T12:10:37.843Z"
   },
   {
    "duration": 149,
    "start_time": "2024-02-29T12:10:37.855Z"
   },
   {
    "duration": 15,
    "start_time": "2024-02-29T12:10:38.005Z"
   },
   {
    "duration": 20,
    "start_time": "2024-02-29T12:10:38.022Z"
   },
   {
    "duration": 388,
    "start_time": "2024-02-29T12:10:38.044Z"
   },
   {
    "duration": 3,
    "start_time": "2024-02-29T12:10:38.434Z"
   },
   {
    "duration": 949,
    "start_time": "2024-02-29T12:10:38.439Z"
   },
   {
    "duration": 380,
    "start_time": "2024-02-29T12:10:39.390Z"
   },
   {
    "duration": 713,
    "start_time": "2024-02-29T12:10:39.772Z"
   },
   {
    "duration": 2106,
    "start_time": "2024-02-29T12:10:40.487Z"
   },
   {
    "duration": 98,
    "start_time": "2024-02-29T12:10:42.595Z"
   },
   {
    "duration": 46,
    "start_time": "2024-02-29T12:10:42.695Z"
   },
   {
    "duration": 30,
    "start_time": "2024-02-29T12:10:42.742Z"
   },
   {
    "duration": 12,
    "start_time": "2024-02-29T12:13:23.201Z"
   },
   {
    "duration": 16,
    "start_time": "2024-02-29T12:13:39.506Z"
   },
   {
    "duration": 12,
    "start_time": "2024-02-29T12:13:39.968Z"
   },
   {
    "duration": 17,
    "start_time": "2024-02-29T12:13:40.447Z"
   },
   {
    "duration": 5,
    "start_time": "2024-02-29T12:15:36.692Z"
   },
   {
    "duration": 19,
    "start_time": "2024-02-29T12:15:36.699Z"
   },
   {
    "duration": 14,
    "start_time": "2024-02-29T12:15:36.720Z"
   },
   {
    "duration": 201,
    "start_time": "2024-02-29T12:15:36.736Z"
   },
   {
    "duration": 15,
    "start_time": "2024-02-29T12:15:36.939Z"
   },
   {
    "duration": 20,
    "start_time": "2024-02-29T12:15:36.956Z"
   },
   {
    "duration": 24,
    "start_time": "2024-02-29T12:15:36.977Z"
   },
   {
    "duration": 2632,
    "start_time": "2024-02-29T12:15:37.003Z"
   },
   {
    "duration": 48,
    "start_time": "2024-02-29T12:15:39.637Z"
   },
   {
    "duration": 3,
    "start_time": "2024-02-29T12:15:39.687Z"
   },
   {
    "duration": 125,
    "start_time": "2024-02-29T12:15:39.692Z"
   },
   {
    "duration": 4,
    "start_time": "2024-02-29T12:15:39.819Z"
   },
   {
    "duration": 34,
    "start_time": "2024-02-29T12:15:39.825Z"
   },
   {
    "duration": 11,
    "start_time": "2024-02-29T12:15:39.861Z"
   },
   {
    "duration": 280,
    "start_time": "2024-02-29T12:15:39.873Z"
   },
   {
    "duration": 13,
    "start_time": "2024-02-29T12:15:40.154Z"
   },
   {
    "duration": 24,
    "start_time": "2024-02-29T12:15:40.168Z"
   },
   {
    "duration": 394,
    "start_time": "2024-02-29T12:15:40.193Z"
   },
   {
    "duration": 3,
    "start_time": "2024-02-29T12:15:40.589Z"
   },
   {
    "duration": 1007,
    "start_time": "2024-02-29T12:15:40.594Z"
   },
   {
    "duration": 402,
    "start_time": "2024-02-29T12:15:41.603Z"
   },
   {
    "duration": 718,
    "start_time": "2024-02-29T12:15:42.006Z"
   },
   {
    "duration": 2153,
    "start_time": "2024-02-29T12:15:42.725Z"
   },
   {
    "duration": 106,
    "start_time": "2024-02-29T12:15:44.880Z"
   },
   {
    "duration": 33,
    "start_time": "2024-02-29T12:15:44.988Z"
   },
   {
    "duration": 18,
    "start_time": "2024-02-29T12:15:45.023Z"
   },
   {
    "duration": 20,
    "start_time": "2024-02-29T12:15:45.042Z"
   },
   {
    "duration": 3,
    "start_time": "2024-02-29T12:16:04.013Z"
   },
   {
    "duration": 10,
    "start_time": "2024-02-29T12:16:04.018Z"
   },
   {
    "duration": 9,
    "start_time": "2024-02-29T12:16:04.029Z"
   },
   {
    "duration": 219,
    "start_time": "2024-02-29T12:16:04.039Z"
   },
   {
    "duration": 17,
    "start_time": "2024-02-29T12:16:04.261Z"
   },
   {
    "duration": 36,
    "start_time": "2024-02-29T12:16:04.279Z"
   },
   {
    "duration": 25,
    "start_time": "2024-02-29T12:16:04.316Z"
   },
   {
    "duration": 2710,
    "start_time": "2024-02-29T12:16:04.342Z"
   },
   {
    "duration": 48,
    "start_time": "2024-02-29T12:16:07.054Z"
   },
   {
    "duration": 5,
    "start_time": "2024-02-29T12:16:07.103Z"
   },
   {
    "duration": 130,
    "start_time": "2024-02-29T12:16:07.109Z"
   },
   {
    "duration": 4,
    "start_time": "2024-02-29T12:16:07.241Z"
   },
   {
    "duration": 28,
    "start_time": "2024-02-29T12:16:07.246Z"
   },
   {
    "duration": 11,
    "start_time": "2024-02-29T12:16:07.277Z"
   },
   {
    "duration": 153,
    "start_time": "2024-02-29T12:16:07.290Z"
   },
   {
    "duration": 12,
    "start_time": "2024-02-29T12:16:07.445Z"
   },
   {
    "duration": 31,
    "start_time": "2024-02-29T12:16:07.459Z"
   },
   {
    "duration": 391,
    "start_time": "2024-02-29T12:16:07.492Z"
   },
   {
    "duration": 3,
    "start_time": "2024-02-29T12:16:07.885Z"
   },
   {
    "duration": 949,
    "start_time": "2024-02-29T12:16:07.890Z"
   },
   {
    "duration": 404,
    "start_time": "2024-02-29T12:16:08.841Z"
   },
   {
    "duration": 719,
    "start_time": "2024-02-29T12:16:09.247Z"
   },
   {
    "duration": 2130,
    "start_time": "2024-02-29T12:16:09.968Z"
   },
   {
    "duration": 94,
    "start_time": "2024-02-29T12:16:12.099Z"
   },
   {
    "duration": 37,
    "start_time": "2024-02-29T12:16:12.195Z"
   },
   {
    "duration": 11,
    "start_time": "2024-02-29T12:16:12.233Z"
   },
   {
    "duration": 28,
    "start_time": "2024-02-29T12:16:12.246Z"
   },
   {
    "duration": 1451,
    "start_time": "2024-02-29T15:40:03.197Z"
   },
   {
    "duration": 2,
    "start_time": "2024-02-29T15:40:04.650Z"
   },
   {
    "duration": 6,
    "start_time": "2024-02-29T15:40:04.654Z"
   },
   {
    "duration": 535,
    "start_time": "2024-02-29T15:40:04.661Z"
   },
   {
    "duration": 17,
    "start_time": "2024-02-29T15:40:05.199Z"
   },
   {
    "duration": 32,
    "start_time": "2024-02-29T15:40:05.217Z"
   },
   {
    "duration": 32,
    "start_time": "2024-02-29T15:40:05.252Z"
   },
   {
    "duration": 2833,
    "start_time": "2024-02-29T15:40:05.286Z"
   },
   {
    "duration": 135,
    "start_time": "2024-02-29T15:40:08.120Z"
   },
   {
    "duration": 6,
    "start_time": "2024-02-29T15:40:08.259Z"
   },
   {
    "duration": 157,
    "start_time": "2024-02-29T15:40:08.267Z"
   },
   {
    "duration": 9,
    "start_time": "2024-02-29T15:40:08.425Z"
   },
   {
    "duration": 36,
    "start_time": "2024-02-29T15:40:08.436Z"
   },
   {
    "duration": 13,
    "start_time": "2024-02-29T15:40:08.475Z"
   },
   {
    "duration": 170,
    "start_time": "2024-02-29T15:40:08.490Z"
   },
   {
    "duration": 16,
    "start_time": "2024-02-29T15:40:08.662Z"
   },
   {
    "duration": 21,
    "start_time": "2024-02-29T15:40:08.680Z"
   },
   {
    "duration": 408,
    "start_time": "2024-02-29T15:40:08.702Z"
   },
   {
    "duration": 3,
    "start_time": "2024-02-29T15:40:09.112Z"
   },
   {
    "duration": 1069,
    "start_time": "2024-02-29T15:40:09.117Z"
   },
   {
    "duration": 389,
    "start_time": "2024-02-29T15:40:10.188Z"
   },
   {
    "duration": 732,
    "start_time": "2024-02-29T15:40:10.578Z"
   },
   {
    "duration": 2181,
    "start_time": "2024-02-29T15:40:11.311Z"
   },
   {
    "duration": 113,
    "start_time": "2024-02-29T15:40:13.494Z"
   },
   {
    "duration": 26,
    "start_time": "2024-02-29T15:40:13.609Z"
   },
   {
    "duration": 51,
    "start_time": "2024-02-29T15:40:13.637Z"
   },
   {
    "duration": 132,
    "start_time": "2024-02-29T15:40:13.690Z"
   },
   {
    "duration": 34,
    "start_time": "2024-02-29T15:46:26.229Z"
   },
   {
    "duration": 40,
    "start_time": "2024-02-29T15:48:27.430Z"
   },
   {
    "duration": 7,
    "start_time": "2024-02-29T15:49:06.954Z"
   },
   {
    "duration": 18,
    "start_time": "2024-02-29T15:49:17.183Z"
   },
   {
    "duration": 4,
    "start_time": "2024-02-29T15:49:23.357Z"
   },
   {
    "duration": 5,
    "start_time": "2024-02-29T15:49:29.068Z"
   },
   {
    "duration": 5,
    "start_time": "2024-02-29T15:49:35.408Z"
   },
   {
    "duration": 822,
    "start_time": "2024-02-29T15:49:41.350Z"
   },
   {
    "duration": 51,
    "start_time": "2024-02-29T15:49:49.307Z"
   },
   {
    "duration": 308,
    "start_time": "2024-02-29T15:50:01.217Z"
   },
   {
    "duration": 49,
    "start_time": "2024-02-29T15:54:17.029Z"
   },
   {
    "duration": 7,
    "start_time": "2024-02-29T15:54:24.577Z"
   },
   {
    "duration": 40,
    "start_time": "2024-02-29T15:55:14.786Z"
   },
   {
    "duration": 19,
    "start_time": "2024-02-29T16:12:11.770Z"
   },
   {
    "duration": 8,
    "start_time": "2024-02-29T16:13:10.654Z"
   },
   {
    "duration": 141,
    "start_time": "2024-02-29T16:13:35.130Z"
   },
   {
    "duration": 11,
    "start_time": "2024-02-29T16:15:26.925Z"
   },
   {
    "duration": 14,
    "start_time": "2024-02-29T16:15:54.154Z"
   },
   {
    "duration": 9,
    "start_time": "2024-02-29T16:15:57.944Z"
   },
   {
    "duration": 14,
    "start_time": "2024-02-29T16:15:57.956Z"
   },
   {
    "duration": 7,
    "start_time": "2024-02-29T16:15:57.972Z"
   },
   {
    "duration": 227,
    "start_time": "2024-02-29T16:15:57.982Z"
   },
   {
    "duration": 15,
    "start_time": "2024-02-29T16:15:58.211Z"
   },
   {
    "duration": 27,
    "start_time": "2024-02-29T16:15:58.228Z"
   },
   {
    "duration": 28,
    "start_time": "2024-02-29T16:15:58.258Z"
   },
   {
    "duration": 2886,
    "start_time": "2024-02-29T16:15:58.288Z"
   },
   {
    "duration": 53,
    "start_time": "2024-02-29T16:16:01.176Z"
   },
   {
    "duration": 32,
    "start_time": "2024-02-29T16:16:01.230Z"
   },
   {
    "duration": 358,
    "start_time": "2024-02-29T16:16:01.264Z"
   },
   {
    "duration": 10,
    "start_time": "2024-02-29T16:16:01.624Z"
   },
   {
    "duration": 74,
    "start_time": "2024-02-29T16:16:01.637Z"
   },
   {
    "duration": 176,
    "start_time": "2024-02-29T16:16:01.713Z"
   },
   {
    "duration": 289,
    "start_time": "2024-02-29T16:16:01.890Z"
   },
   {
    "duration": 7,
    "start_time": "2024-02-29T16:16:02.180Z"
   },
   {
    "duration": 63,
    "start_time": "2024-02-29T16:16:02.189Z"
   },
   {
    "duration": 155,
    "start_time": "2024-02-29T16:16:28.422Z"
   },
   {
    "duration": 131,
    "start_time": "2024-02-29T16:17:55.348Z"
   },
   {
    "duration": 134,
    "start_time": "2024-02-29T16:18:46.918Z"
   },
   {
    "duration": 137,
    "start_time": "2024-02-29T16:18:54.894Z"
   },
   {
    "duration": 134,
    "start_time": "2024-02-29T16:19:02.113Z"
   },
   {
    "duration": 5,
    "start_time": "2024-02-29T16:19:21.615Z"
   },
   {
    "duration": 140,
    "start_time": "2024-02-29T16:19:33.879Z"
   },
   {
    "duration": 181,
    "start_time": "2024-02-29T16:19:47.560Z"
   },
   {
    "duration": 19,
    "start_time": "2024-02-29T16:20:55.997Z"
   },
   {
    "duration": 191,
    "start_time": "2024-02-29T16:21:01.831Z"
   },
   {
    "duration": 9,
    "start_time": "2024-02-29T16:21:23.755Z"
   },
   {
    "duration": 12,
    "start_time": "2024-02-29T16:23:25.429Z"
   },
   {
    "duration": 11,
    "start_time": "2024-02-29T16:24:07.853Z"
   },
   {
    "duration": 18,
    "start_time": "2024-02-29T16:25:14.905Z"
   },
   {
    "duration": 15,
    "start_time": "2024-02-29T16:25:48.855Z"
   },
   {
    "duration": 11,
    "start_time": "2024-02-29T16:26:50.306Z"
   },
   {
    "duration": 20,
    "start_time": "2024-02-29T16:27:18.474Z"
   },
   {
    "duration": 77,
    "start_time": "2024-02-29T16:32:47.568Z"
   },
   {
    "duration": 11,
    "start_time": "2024-02-29T16:32:50.718Z"
   },
   {
    "duration": 12,
    "start_time": "2024-02-29T16:32:54.635Z"
   },
   {
    "duration": 14,
    "start_time": "2024-02-29T16:34:48.979Z"
   },
   {
    "duration": 19,
    "start_time": "2024-02-29T16:37:22.333Z"
   },
   {
    "duration": 16,
    "start_time": "2024-02-29T16:37:26.913Z"
   },
   {
    "duration": 70,
    "start_time": "2024-02-29T16:38:01.352Z"
   },
   {
    "duration": 18,
    "start_time": "2024-02-29T16:38:04.422Z"
   },
   {
    "duration": 13,
    "start_time": "2024-02-29T16:39:09.745Z"
   },
   {
    "duration": 19,
    "start_time": "2024-02-29T16:40:34.688Z"
   },
   {
    "duration": 13,
    "start_time": "2024-02-29T16:40:46.032Z"
   },
   {
    "duration": 20,
    "start_time": "2024-02-29T16:40:55.034Z"
   },
   {
    "duration": 20,
    "start_time": "2024-02-29T16:42:58.959Z"
   },
   {
    "duration": 13,
    "start_time": "2024-02-29T16:43:04.871Z"
   },
   {
    "duration": 18,
    "start_time": "2024-02-29T16:43:34.605Z"
   },
   {
    "duration": 23,
    "start_time": "2024-02-29T16:43:54.535Z"
   },
   {
    "duration": 167,
    "start_time": "2024-02-29T16:43:57.822Z"
   },
   {
    "duration": 115,
    "start_time": "2024-02-29T16:44:05.935Z"
   },
   {
    "duration": 112,
    "start_time": "2024-02-29T16:44:18.776Z"
   },
   {
    "duration": 3,
    "start_time": "2024-02-29T16:44:44.686Z"
   },
   {
    "duration": 4,
    "start_time": "2024-02-29T16:44:55.806Z"
   },
   {
    "duration": 5,
    "start_time": "2024-02-29T16:45:10.220Z"
   },
   {
    "duration": 12,
    "start_time": "2024-02-29T16:45:24.283Z"
   },
   {
    "duration": 8,
    "start_time": "2024-02-29T16:45:30.421Z"
   },
   {
    "duration": 9,
    "start_time": "2024-02-29T16:45:38.344Z"
   },
   {
    "duration": 9,
    "start_time": "2024-02-29T16:45:44.429Z"
   },
   {
    "duration": 10,
    "start_time": "2024-02-29T16:45:48.209Z"
   },
   {
    "duration": 11,
    "start_time": "2024-02-29T16:46:04.235Z"
   },
   {
    "duration": 8,
    "start_time": "2024-02-29T16:46:18.682Z"
   },
   {
    "duration": 9,
    "start_time": "2024-02-29T16:46:23.299Z"
   },
   {
    "duration": 8,
    "start_time": "2024-02-29T16:46:26.080Z"
   },
   {
    "duration": 9,
    "start_time": "2024-02-29T16:46:31.476Z"
   },
   {
    "duration": 12,
    "start_time": "2024-02-29T16:46:54.860Z"
   },
   {
    "duration": 7,
    "start_time": "2024-02-29T16:47:01.166Z"
   },
   {
    "duration": 5,
    "start_time": "2024-02-29T16:47:06.952Z"
   },
   {
    "duration": 129,
    "start_time": "2024-02-29T16:47:12.825Z"
   },
   {
    "duration": 5,
    "start_time": "2024-02-29T16:47:23.582Z"
   },
   {
    "duration": 136,
    "start_time": "2024-02-29T16:47:45.129Z"
   },
   {
    "duration": 129,
    "start_time": "2024-02-29T16:47:50.785Z"
   },
   {
    "duration": 4,
    "start_time": "2024-02-29T16:50:23.401Z"
   },
   {
    "duration": 9,
    "start_time": "2024-02-29T16:51:13.222Z"
   },
   {
    "duration": 162,
    "start_time": "2024-02-29T17:05:09.266Z"
   },
   {
    "duration": 5,
    "start_time": "2024-02-29T17:05:17.166Z"
   },
   {
    "duration": 9,
    "start_time": "2024-02-29T17:05:22.099Z"
   },
   {
    "duration": 5,
    "start_time": "2024-02-29T17:05:59.738Z"
   },
   {
    "duration": 5,
    "start_time": "2024-02-29T17:06:13.963Z"
   },
   {
    "duration": 6,
    "start_time": "2024-02-29T17:06:18.474Z"
   },
   {
    "duration": 106,
    "start_time": "2024-02-29T17:06:21.601Z"
   },
   {
    "duration": 107,
    "start_time": "2024-02-29T17:06:40.585Z"
   },
   {
    "duration": 14,
    "start_time": "2024-02-29T17:16:09.415Z"
   },
   {
    "duration": 147,
    "start_time": "2024-02-29T17:16:09.802Z"
   },
   {
    "duration": 15,
    "start_time": "2024-02-29T17:23:22.728Z"
   },
   {
    "duration": 19,
    "start_time": "2024-02-29T17:24:24.513Z"
   },
   {
    "duration": 16,
    "start_time": "2024-02-29T17:24:51.075Z"
   },
   {
    "duration": 21,
    "start_time": "2024-02-29T17:26:27.733Z"
   },
   {
    "duration": 19,
    "start_time": "2024-02-29T17:26:35.642Z"
   },
   {
    "duration": 24,
    "start_time": "2024-02-29T17:26:51.314Z"
   },
   {
    "duration": 21,
    "start_time": "2024-02-29T17:26:57.636Z"
   },
   {
    "duration": 21,
    "start_time": "2024-02-29T17:27:00.171Z"
   },
   {
    "duration": 136,
    "start_time": "2024-02-29T17:27:04.525Z"
   },
   {
    "duration": 10,
    "start_time": "2024-02-29T17:28:52.075Z"
   },
   {
    "duration": 69,
    "start_time": "2024-02-29T17:28:55.518Z"
   },
   {
    "duration": 9,
    "start_time": "2024-02-29T17:28:55.778Z"
   },
   {
    "duration": 4,
    "start_time": "2024-02-29T17:28:58.509Z"
   },
   {
    "duration": 130,
    "start_time": "2024-02-29T17:28:58.983Z"
   },
   {
    "duration": 1120,
    "start_time": "2024-02-29T17:29:20.051Z"
   },
   {
    "duration": 4,
    "start_time": "2024-02-29T17:30:09.285Z"
   },
   {
    "duration": 145,
    "start_time": "2024-02-29T17:30:09.752Z"
   },
   {
    "duration": 23,
    "start_time": "2024-02-29T17:30:18.943Z"
   },
   {
    "duration": 7,
    "start_time": "2024-02-29T17:31:05.337Z"
   },
   {
    "duration": 137,
    "start_time": "2024-02-29T17:31:06.685Z"
   },
   {
    "duration": 4,
    "start_time": "2024-02-29T17:31:19.290Z"
   },
   {
    "duration": 125,
    "start_time": "2024-02-29T17:31:19.550Z"
   },
   {
    "duration": 26,
    "start_time": "2024-02-29T17:31:20.861Z"
   },
   {
    "duration": 4,
    "start_time": "2024-02-29T17:32:17.754Z"
   },
   {
    "duration": 4,
    "start_time": "2024-02-29T17:32:22.450Z"
   },
   {
    "duration": 148,
    "start_time": "2024-02-29T17:32:22.832Z"
   },
   {
    "duration": 25,
    "start_time": "2024-02-29T17:32:24.834Z"
   },
   {
    "duration": 5,
    "start_time": "2024-02-29T17:32:54.278Z"
   },
   {
    "duration": 127,
    "start_time": "2024-02-29T17:33:34.816Z"
   },
   {
    "duration": 105,
    "start_time": "2024-02-29T17:33:50.683Z"
   },
   {
    "duration": 122,
    "start_time": "2024-02-29T17:34:06.320Z"
   },
   {
    "duration": 144,
    "start_time": "2024-02-29T17:39:31.028Z"
   },
   {
    "duration": 127,
    "start_time": "2024-02-29T17:39:39.116Z"
   },
   {
    "duration": 177,
    "start_time": "2024-02-29T17:41:15.937Z"
   },
   {
    "duration": 186,
    "start_time": "2024-02-29T17:41:41.957Z"
   },
   {
    "duration": 242,
    "start_time": "2024-02-29T17:42:37.019Z"
   },
   {
    "duration": 140,
    "start_time": "2024-02-29T17:42:58.969Z"
   },
   {
    "duration": 245,
    "start_time": "2024-02-29T17:43:40.843Z"
   },
   {
    "duration": 277,
    "start_time": "2024-02-29T17:44:07.657Z"
   },
   {
    "duration": 367,
    "start_time": "2024-02-29T17:44:47.695Z"
   },
   {
    "duration": 422,
    "start_time": "2024-02-29T17:45:00.764Z"
   },
   {
    "duration": 25,
    "start_time": "2024-02-29T17:45:42.677Z"
   },
   {
    "duration": 14,
    "start_time": "2024-02-29T18:01:54.419Z"
   },
   {
    "duration": 15,
    "start_time": "2024-02-29T18:02:14.259Z"
   },
   {
    "duration": 27,
    "start_time": "2024-02-29T18:03:35.748Z"
   },
   {
    "duration": 26,
    "start_time": "2024-02-29T18:04:33.185Z"
   },
   {
    "duration": 25,
    "start_time": "2024-02-29T18:10:16.031Z"
   },
   {
    "duration": 37,
    "start_time": "2024-02-29T18:10:53.870Z"
   },
   {
    "duration": 30,
    "start_time": "2024-02-29T18:17:28.761Z"
   },
   {
    "duration": 4,
    "start_time": "2024-02-29T18:17:30.508Z"
   },
   {
    "duration": 38,
    "start_time": "2024-02-29T18:27:19.869Z"
   },
   {
    "duration": 31,
    "start_time": "2024-02-29T18:27:39.438Z"
   },
   {
    "duration": 34,
    "start_time": "2024-02-29T18:44:13.999Z"
   },
   {
    "duration": 31,
    "start_time": "2024-02-29T18:46:04.681Z"
   },
   {
    "duration": 33,
    "start_time": "2024-02-29T18:46:13.449Z"
   },
   {
    "duration": 35,
    "start_time": "2024-02-29T18:47:43.892Z"
   },
   {
    "duration": 73,
    "start_time": "2024-02-29T18:48:10.663Z"
   },
   {
    "duration": 10,
    "start_time": "2024-02-29T18:48:16.652Z"
   },
   {
    "duration": 3,
    "start_time": "2024-02-29T18:49:35.005Z"
   },
   {
    "duration": 10,
    "start_time": "2024-02-29T18:49:38.850Z"
   },
   {
    "duration": 9,
    "start_time": "2024-02-29T18:49:56.279Z"
   },
   {
    "duration": 3,
    "start_time": "2024-02-29T18:50:50.292Z"
   },
   {
    "duration": 6,
    "start_time": "2024-02-29T18:50:53.686Z"
   },
   {
    "duration": 51,
    "start_time": "2024-02-29T18:59:30.500Z"
   },
   {
    "duration": 33,
    "start_time": "2024-02-29T18:59:59.281Z"
   },
   {
    "duration": 36,
    "start_time": "2024-02-29T19:00:11.900Z"
   },
   {
    "duration": 14,
    "start_time": "2024-02-29T20:28:11.195Z"
   },
   {
    "duration": 8,
    "start_time": "2024-02-29T20:28:25.100Z"
   },
   {
    "duration": 12,
    "start_time": "2024-02-29T20:30:25.972Z"
   },
   {
    "duration": 41,
    "start_time": "2024-02-29T20:36:19.442Z"
   },
   {
    "duration": 39,
    "start_time": "2024-02-29T20:36:47.584Z"
   },
   {
    "duration": 55,
    "start_time": "2024-02-29T20:36:52.768Z"
   },
   {
    "duration": 48,
    "start_time": "2024-02-29T20:37:04.345Z"
   },
   {
    "duration": 56,
    "start_time": "2024-02-29T20:37:10.912Z"
   },
   {
    "duration": 7,
    "start_time": "2024-02-29T20:38:08.568Z"
   },
   {
    "duration": 5,
    "start_time": "2024-02-29T20:43:30.168Z"
   },
   {
    "duration": 4,
    "start_time": "2024-02-29T20:46:36.133Z"
   },
   {
    "duration": 43,
    "start_time": "2024-02-29T20:46:54.481Z"
   },
   {
    "duration": 6,
    "start_time": "2024-02-29T20:46:54.525Z"
   },
   {
    "duration": 12,
    "start_time": "2024-02-29T20:46:54.532Z"
   },
   {
    "duration": 53,
    "start_time": "2024-02-29T20:46:54.545Z"
   },
   {
    "duration": 5,
    "start_time": "2024-02-29T20:46:54.600Z"
   },
   {
    "duration": 7,
    "start_time": "2024-02-29T20:46:54.606Z"
   },
   {
    "duration": 45,
    "start_time": "2024-02-29T20:48:07.655Z"
   },
   {
    "duration": 5,
    "start_time": "2024-02-29T20:48:08.196Z"
   },
   {
    "duration": 54,
    "start_time": "2024-02-29T20:48:46.340Z"
   },
   {
    "duration": 6,
    "start_time": "2024-02-29T20:48:47.001Z"
   },
   {
    "duration": 27,
    "start_time": "2024-02-29T21:07:07.240Z"
   },
   {
    "duration": 1082,
    "start_time": "2024-02-29T21:08:13.769Z"
   },
   {
    "duration": 2,
    "start_time": "2024-02-29T21:08:14.853Z"
   },
   {
    "duration": 4,
    "start_time": "2024-02-29T21:08:14.857Z"
   },
   {
    "duration": 200,
    "start_time": "2024-02-29T21:08:14.862Z"
   },
   {
    "duration": 15,
    "start_time": "2024-02-29T21:08:15.065Z"
   },
   {
    "duration": 34,
    "start_time": "2024-02-29T21:08:15.082Z"
   },
   {
    "duration": 26,
    "start_time": "2024-02-29T21:08:15.118Z"
   },
   {
    "duration": 2448,
    "start_time": "2024-02-29T21:08:15.146Z"
   },
   {
    "duration": 46,
    "start_time": "2024-02-29T21:08:17.596Z"
   },
   {
    "duration": 6,
    "start_time": "2024-02-29T21:08:17.643Z"
   },
   {
    "duration": 13,
    "start_time": "2024-02-29T21:08:17.650Z"
   },
   {
    "duration": 116,
    "start_time": "2024-02-29T21:08:17.664Z"
   },
   {
    "duration": 5,
    "start_time": "2024-02-29T21:08:17.781Z"
   },
   {
    "duration": 62,
    "start_time": "2024-02-29T21:08:17.788Z"
   },
   {
    "duration": 10,
    "start_time": "2024-02-29T21:08:17.851Z"
   },
   {
    "duration": 142,
    "start_time": "2024-02-29T21:08:17.863Z"
   },
   {
    "duration": 3,
    "start_time": "2024-02-29T21:08:18.007Z"
   },
   {
    "duration": 43,
    "start_time": "2024-02-29T21:08:18.011Z"
   },
   {
    "duration": 255,
    "start_time": "2024-02-29T21:08:18.056Z"
   },
   {
    "duration": 21,
    "start_time": "2024-02-29T21:08:18.313Z"
   },
   {
    "duration": 17,
    "start_time": "2024-02-29T21:08:18.335Z"
   },
   {
    "duration": 347,
    "start_time": "2024-02-29T21:08:18.354Z"
   },
   {
    "duration": 3,
    "start_time": "2024-02-29T21:08:18.703Z"
   },
   {
    "duration": 999,
    "start_time": "2024-02-29T21:08:18.707Z"
   },
   {
    "duration": 391,
    "start_time": "2024-02-29T21:08:19.707Z"
   },
   {
    "duration": 722,
    "start_time": "2024-02-29T21:08:20.099Z"
   },
   {
    "duration": 1960,
    "start_time": "2024-02-29T21:08:20.822Z"
   },
   {
    "duration": 103,
    "start_time": "2024-02-29T21:08:22.784Z"
   },
   {
    "duration": 46,
    "start_time": "2024-02-29T21:08:22.889Z"
   },
   {
    "duration": 12,
    "start_time": "2024-02-29T21:08:22.936Z"
   },
   {
    "duration": 29,
    "start_time": "2024-02-29T21:08:22.949Z"
   },
   {
    "duration": 6,
    "start_time": "2024-02-29T21:08:22.979Z"
   },
   {
    "duration": 12,
    "start_time": "2024-02-29T21:08:22.987Z"
   },
   {
    "duration": 32,
    "start_time": "2024-02-29T21:08:23.001Z"
   },
   {
    "duration": 16,
    "start_time": "2024-02-29T21:08:23.035Z"
   },
   {
    "duration": 10,
    "start_time": "2024-02-29T21:08:23.053Z"
   },
   {
    "duration": 674,
    "start_time": "2024-02-29T21:08:23.064Z"
   },
   {
    "duration": 35,
    "start_time": "2024-02-29T21:08:23.740Z"
   },
   {
    "duration": 323,
    "start_time": "2024-02-29T21:08:23.777Z"
   },
   {
    "duration": 42,
    "start_time": "2024-02-29T21:08:24.101Z"
   },
   {
    "duration": 5,
    "start_time": "2024-02-29T21:08:24.146Z"
   },
   {
    "duration": 28,
    "start_time": "2024-02-29T21:08:24.152Z"
   },
   {
    "duration": 27,
    "start_time": "2024-02-29T21:08:24.181Z"
   },
   {
    "duration": 46,
    "start_time": "2024-02-29T21:08:24.210Z"
   },
   {
    "duration": 38,
    "start_time": "2024-02-29T21:08:24.257Z"
   },
   {
    "duration": 63,
    "start_time": "2024-02-29T21:08:24.297Z"
   },
   {
    "duration": 5,
    "start_time": "2024-02-29T21:08:24.362Z"
   },
   {
    "duration": 65,
    "start_time": "2024-02-29T21:08:24.369Z"
   },
   {
    "duration": 6,
    "start_time": "2024-02-29T21:08:24.435Z"
   },
   {
    "duration": 1306,
    "start_time": "2024-03-01T09:21:35.324Z"
   },
   {
    "duration": 3,
    "start_time": "2024-03-01T09:21:36.632Z"
   },
   {
    "duration": 41,
    "start_time": "2024-03-01T09:21:36.636Z"
   },
   {
    "duration": 267,
    "start_time": "2024-03-01T09:21:36.678Z"
   },
   {
    "duration": 17,
    "start_time": "2024-03-01T09:21:36.948Z"
   },
   {
    "duration": 16,
    "start_time": "2024-03-01T09:21:36.966Z"
   },
   {
    "duration": 32,
    "start_time": "2024-03-01T09:21:36.983Z"
   },
   {
    "duration": 2568,
    "start_time": "2024-03-01T09:21:37.016Z"
   },
   {
    "duration": 81,
    "start_time": "2024-03-01T09:21:39.585Z"
   },
   {
    "duration": 4,
    "start_time": "2024-03-01T09:21:39.667Z"
   },
   {
    "duration": 6,
    "start_time": "2024-03-01T09:21:39.673Z"
   },
   {
    "duration": 111,
    "start_time": "2024-03-01T09:21:39.681Z"
   },
   {
    "duration": 4,
    "start_time": "2024-03-01T09:21:39.794Z"
   },
   {
    "duration": 32,
    "start_time": "2024-03-01T09:21:39.800Z"
   },
   {
    "duration": 11,
    "start_time": "2024-03-01T09:21:39.833Z"
   },
   {
    "duration": 151,
    "start_time": "2024-03-01T09:21:39.846Z"
   },
   {
    "duration": 5,
    "start_time": "2024-03-01T09:21:39.999Z"
   },
   {
    "duration": 42,
    "start_time": "2024-03-01T09:21:40.006Z"
   },
   {
    "duration": 269,
    "start_time": "2024-03-01T09:21:40.050Z"
   },
   {
    "duration": 14,
    "start_time": "2024-03-01T09:21:40.321Z"
   },
   {
    "duration": 44,
    "start_time": "2024-03-01T09:21:40.337Z"
   },
   {
    "duration": 357,
    "start_time": "2024-03-01T09:21:40.383Z"
   },
   {
    "duration": 5,
    "start_time": "2024-03-01T09:21:40.742Z"
   },
   {
    "duration": 939,
    "start_time": "2024-03-01T09:21:40.748Z"
   },
   {
    "duration": 369,
    "start_time": "2024-03-01T09:21:41.689Z"
   },
   {
    "duration": 635,
    "start_time": "2024-03-01T09:21:42.059Z"
   },
   {
    "duration": 1964,
    "start_time": "2024-03-01T09:21:42.696Z"
   },
   {
    "duration": 92,
    "start_time": "2024-03-01T09:21:44.661Z"
   },
   {
    "duration": 22,
    "start_time": "2024-03-01T09:21:44.755Z"
   },
   {
    "duration": 19,
    "start_time": "2024-03-01T09:21:44.779Z"
   },
   {
    "duration": 25,
    "start_time": "2024-03-01T09:21:44.800Z"
   },
   {
    "duration": 7,
    "start_time": "2024-03-01T09:21:44.827Z"
   },
   {
    "duration": 30,
    "start_time": "2024-03-01T09:21:44.835Z"
   },
   {
    "duration": 11,
    "start_time": "2024-03-01T09:21:44.866Z"
   },
   {
    "duration": 21,
    "start_time": "2024-03-01T09:21:44.879Z"
   },
   {
    "duration": 8,
    "start_time": "2024-03-01T09:21:44.902Z"
   },
   {
    "duration": 747,
    "start_time": "2024-03-01T09:21:44.912Z"
   },
   {
    "duration": 63,
    "start_time": "2024-03-01T09:21:45.660Z"
   },
   {
    "duration": 708,
    "start_time": "2024-03-01T09:21:45.725Z"
   },
   {
    "duration": 34,
    "start_time": "2024-03-01T09:21:46.434Z"
   },
   {
    "duration": 27,
    "start_time": "2024-03-01T09:21:46.471Z"
   },
   {
    "duration": 62,
    "start_time": "2024-03-01T09:21:46.500Z"
   },
   {
    "duration": 36,
    "start_time": "2024-03-01T09:21:46.563Z"
   },
   {
    "duration": 27,
    "start_time": "2024-03-01T09:21:46.601Z"
   },
   {
    "duration": 37,
    "start_time": "2024-03-01T09:21:46.630Z"
   },
   {
    "duration": 65,
    "start_time": "2024-03-01T09:21:46.669Z"
   },
   {
    "duration": 18,
    "start_time": "2024-03-01T09:21:46.736Z"
   },
   {
    "duration": 108,
    "start_time": "2024-03-01T09:21:46.757Z"
   },
   {
    "duration": 10,
    "start_time": "2024-03-01T09:21:46.866Z"
   },
   {
    "duration": 1306,
    "start_time": "2024-03-01T12:39:41.328Z"
   },
   {
    "duration": 2,
    "start_time": "2024-03-01T12:39:42.636Z"
   },
   {
    "duration": 5,
    "start_time": "2024-03-01T12:39:42.640Z"
   },
   {
    "duration": 517,
    "start_time": "2024-03-01T12:39:42.647Z"
   },
   {
    "duration": 16,
    "start_time": "2024-03-01T12:39:43.165Z"
   },
   {
    "duration": 11,
    "start_time": "2024-03-01T12:39:43.183Z"
   },
   {
    "duration": 42,
    "start_time": "2024-03-01T12:39:43.196Z"
   },
   {
    "duration": 2665,
    "start_time": "2024-03-01T12:39:43.239Z"
   },
   {
    "duration": 137,
    "start_time": "2024-03-01T12:39:45.906Z"
   },
   {
    "duration": 8,
    "start_time": "2024-03-01T12:39:46.046Z"
   },
   {
    "duration": 5,
    "start_time": "2024-03-01T12:39:46.055Z"
   },
   {
    "duration": 137,
    "start_time": "2024-03-01T12:39:46.061Z"
   },
   {
    "duration": 4,
    "start_time": "2024-03-01T12:39:46.200Z"
   },
   {
    "duration": 48,
    "start_time": "2024-03-01T12:39:46.206Z"
   },
   {
    "duration": 11,
    "start_time": "2024-03-01T12:39:46.258Z"
   },
   {
    "duration": 150,
    "start_time": "2024-03-01T12:39:46.271Z"
   },
   {
    "duration": 4,
    "start_time": "2024-03-01T12:39:46.422Z"
   },
   {
    "duration": 40,
    "start_time": "2024-03-01T12:39:46.432Z"
   },
   {
    "duration": 265,
    "start_time": "2024-03-01T12:39:46.473Z"
   },
   {
    "duration": 14,
    "start_time": "2024-03-01T12:39:46.739Z"
   },
   {
    "duration": 18,
    "start_time": "2024-03-01T12:39:46.755Z"
   },
   {
    "duration": 396,
    "start_time": "2024-03-01T12:39:46.775Z"
   },
   {
    "duration": 4,
    "start_time": "2024-03-01T12:39:47.172Z"
   },
   {
    "duration": 998,
    "start_time": "2024-03-01T12:39:47.177Z"
   },
   {
    "duration": 358,
    "start_time": "2024-03-01T12:39:48.177Z"
   },
   {
    "duration": 660,
    "start_time": "2024-03-01T12:39:48.536Z"
   },
   {
    "duration": 1876,
    "start_time": "2024-03-01T12:39:49.197Z"
   },
   {
    "duration": 115,
    "start_time": "2024-03-01T12:39:51.077Z"
   },
   {
    "duration": 25,
    "start_time": "2024-03-01T12:39:51.194Z"
   },
   {
    "duration": 32,
    "start_time": "2024-03-01T12:39:51.221Z"
   },
   {
    "duration": 35,
    "start_time": "2024-03-01T12:39:51.255Z"
   },
   {
    "duration": 7,
    "start_time": "2024-03-01T12:39:51.291Z"
   },
   {
    "duration": 27,
    "start_time": "2024-03-01T12:39:51.300Z"
   },
   {
    "duration": 15,
    "start_time": "2024-03-01T12:39:51.328Z"
   },
   {
    "duration": 7,
    "start_time": "2024-03-01T12:39:51.345Z"
   },
   {
    "duration": 20,
    "start_time": "2024-03-01T12:39:51.354Z"
   },
   {
    "duration": 777,
    "start_time": "2024-03-01T12:39:51.376Z"
   },
   {
    "duration": 39,
    "start_time": "2024-03-01T12:39:52.154Z"
   },
   {
    "duration": 597,
    "start_time": "2024-03-01T12:39:52.194Z"
   },
   {
    "duration": 52,
    "start_time": "2024-03-01T12:39:52.793Z"
   },
   {
    "duration": 5,
    "start_time": "2024-03-01T12:39:52.847Z"
   },
   {
    "duration": 93,
    "start_time": "2024-03-01T12:39:52.853Z"
   },
   {
    "duration": 26,
    "start_time": "2024-03-01T12:39:52.947Z"
   },
   {
    "duration": 26,
    "start_time": "2024-03-01T12:39:52.974Z"
   },
   {
    "duration": 63,
    "start_time": "2024-03-01T12:39:53.001Z"
   },
   {
    "duration": 48,
    "start_time": "2024-03-01T12:39:53.066Z"
   },
   {
    "duration": 21,
    "start_time": "2024-03-01T12:39:53.116Z"
   },
   {
    "duration": 59,
    "start_time": "2024-03-01T12:39:53.139Z"
   },
   {
    "duration": 6,
    "start_time": "2024-03-01T12:39:53.199Z"
   },
   {
    "duration": 9,
    "start_time": "2024-03-01T13:07:40.468Z"
   },
   {
    "duration": 3,
    "start_time": "2024-03-01T13:07:47.215Z"
   },
   {
    "duration": 7,
    "start_time": "2024-03-01T13:07:49.536Z"
   },
   {
    "duration": 17,
    "start_time": "2024-03-01T13:11:42.854Z"
   },
   {
    "duration": 5,
    "start_time": "2024-03-01T13:17:22.304Z"
   },
   {
    "duration": 4,
    "start_time": "2024-03-01T13:17:31.255Z"
   },
   {
    "duration": 5,
    "start_time": "2024-03-01T13:17:38.688Z"
   },
   {
    "duration": 58,
    "start_time": "2024-03-01T14:21:38.781Z"
   },
   {
    "duration": 1272,
    "start_time": "2024-03-01T14:21:43.552Z"
   },
   {
    "duration": 3,
    "start_time": "2024-03-01T14:21:44.826Z"
   },
   {
    "duration": 34,
    "start_time": "2024-03-01T14:21:44.832Z"
   },
   {
    "duration": 513,
    "start_time": "2024-03-01T14:21:44.868Z"
   },
   {
    "duration": 17,
    "start_time": "2024-03-01T14:21:45.382Z"
   },
   {
    "duration": 68,
    "start_time": "2024-03-01T14:21:45.400Z"
   },
   {
    "duration": 52,
    "start_time": "2024-03-01T14:21:45.470Z"
   },
   {
    "duration": 2477,
    "start_time": "2024-03-01T14:21:45.524Z"
   },
   {
    "duration": 131,
    "start_time": "2024-03-01T14:21:48.002Z"
   },
   {
    "duration": 5,
    "start_time": "2024-03-01T14:21:48.135Z"
   },
   {
    "duration": 47,
    "start_time": "2024-03-01T14:21:48.141Z"
   },
   {
    "duration": 150,
    "start_time": "2024-03-01T14:21:48.190Z"
   },
   {
    "duration": 4,
    "start_time": "2024-03-01T14:21:48.342Z"
   },
   {
    "duration": 51,
    "start_time": "2024-03-01T14:21:48.348Z"
   },
   {
    "duration": 14,
    "start_time": "2024-03-01T14:21:48.401Z"
   },
   {
    "duration": 150,
    "start_time": "2024-03-01T14:21:48.417Z"
   },
   {
    "duration": 4,
    "start_time": "2024-03-01T14:21:48.569Z"
   },
   {
    "duration": 58,
    "start_time": "2024-03-01T14:21:48.575Z"
   },
   {
    "duration": 261,
    "start_time": "2024-03-01T14:21:48.636Z"
   },
   {
    "duration": 285,
    "start_time": "2024-03-01T14:22:55.194Z"
   },
   {
    "duration": 254,
    "start_time": "2024-03-01T14:24:58.452Z"
   },
   {
    "duration": 261,
    "start_time": "2024-03-01T14:25:17.810Z"
   },
   {
    "duration": 245,
    "start_time": "2024-03-01T14:25:31.254Z"
   },
   {
    "duration": 265,
    "start_time": "2024-03-01T14:26:46.098Z"
   },
   {
    "duration": 366,
    "start_time": "2024-03-01T14:27:04.539Z"
   },
   {
    "duration": 240,
    "start_time": "2024-03-01T14:27:10.017Z"
   },
   {
    "duration": 4,
    "start_time": "2024-03-01T14:29:02.722Z"
   },
   {
    "duration": 5,
    "start_time": "2024-03-01T14:29:50.450Z"
   },
   {
    "duration": 8,
    "start_time": "2024-03-01T14:30:55.921Z"
   },
   {
    "duration": 5,
    "start_time": "2024-03-01T14:31:04.189Z"
   },
   {
    "duration": 74,
    "start_time": "2024-03-01T14:33:20.500Z"
   },
   {
    "duration": 5,
    "start_time": "2024-03-01T14:37:47.191Z"
   },
   {
    "duration": 5,
    "start_time": "2024-03-01T14:51:05.550Z"
   },
   {
    "duration": 3,
    "start_time": "2024-03-01T14:59:24.910Z"
   },
   {
    "duration": 7,
    "start_time": "2024-03-01T14:59:29.830Z"
   },
   {
    "duration": 3,
    "start_time": "2024-03-01T15:03:14.974Z"
   },
   {
    "duration": 8,
    "start_time": "2024-03-01T15:04:43.466Z"
   },
   {
    "duration": 10,
    "start_time": "2024-03-01T15:04:49.737Z"
   },
   {
    "duration": 258,
    "start_time": "2024-03-01T15:05:30.495Z"
   },
   {
    "duration": 243,
    "start_time": "2024-03-01T15:06:37.148Z"
   },
   {
    "duration": 1140,
    "start_time": "2024-03-01T15:06:46.534Z"
   },
   {
    "duration": 2,
    "start_time": "2024-03-01T15:06:47.676Z"
   },
   {
    "duration": 7,
    "start_time": "2024-03-01T15:06:47.680Z"
   },
   {
    "duration": 374,
    "start_time": "2024-03-01T15:06:47.688Z"
   },
   {
    "duration": 71,
    "start_time": "2024-03-01T15:06:48.063Z"
   },
   {
    "duration": 12,
    "start_time": "2024-03-01T15:06:48.136Z"
   },
   {
    "duration": 28,
    "start_time": "2024-03-01T15:06:48.150Z"
   },
   {
    "duration": 3101,
    "start_time": "2024-03-01T15:06:48.180Z"
   },
   {
    "duration": 47,
    "start_time": "2024-03-01T15:06:51.283Z"
   },
   {
    "duration": 5,
    "start_time": "2024-03-01T15:06:51.334Z"
   },
   {
    "duration": 15,
    "start_time": "2024-03-01T15:06:51.341Z"
   },
   {
    "duration": 132,
    "start_time": "2024-03-01T15:06:51.357Z"
   },
   {
    "duration": 4,
    "start_time": "2024-03-01T15:06:51.490Z"
   },
   {
    "duration": 26,
    "start_time": "2024-03-01T15:06:51.496Z"
   },
   {
    "duration": 13,
    "start_time": "2024-03-01T15:06:51.533Z"
   },
   {
    "duration": 148,
    "start_time": "2024-03-01T15:06:51.548Z"
   },
   {
    "duration": 4,
    "start_time": "2024-03-01T15:06:51.698Z"
   },
   {
    "duration": 41,
    "start_time": "2024-03-01T15:06:51.704Z"
   },
   {
    "duration": 325,
    "start_time": "2024-03-01T15:06:51.746Z"
   },
   {
    "duration": 15,
    "start_time": "2024-03-01T15:06:52.072Z"
   },
   {
    "duration": 17,
    "start_time": "2024-03-01T15:06:52.088Z"
   },
   {
    "duration": 394,
    "start_time": "2024-03-01T15:06:52.106Z"
   },
   {
    "duration": 3,
    "start_time": "2024-03-01T15:06:52.502Z"
   },
   {
    "duration": 930,
    "start_time": "2024-03-01T15:06:52.506Z"
   },
   {
    "duration": 368,
    "start_time": "2024-03-01T15:06:53.438Z"
   },
   {
    "duration": 666,
    "start_time": "2024-03-01T15:06:53.808Z"
   },
   {
    "duration": 1879,
    "start_time": "2024-03-01T15:06:54.475Z"
   },
   {
    "duration": 95,
    "start_time": "2024-03-01T15:06:56.357Z"
   },
   {
    "duration": 22,
    "start_time": "2024-03-01T15:06:56.453Z"
   },
   {
    "duration": 13,
    "start_time": "2024-03-01T15:06:56.476Z"
   },
   {
    "duration": 43,
    "start_time": "2024-03-01T15:06:56.491Z"
   },
   {
    "duration": 9,
    "start_time": "2024-03-01T15:06:56.535Z"
   },
   {
    "duration": 44,
    "start_time": "2024-03-01T15:06:56.545Z"
   },
   {
    "duration": 23,
    "start_time": "2024-03-01T15:06:56.591Z"
   },
   {
    "duration": 18,
    "start_time": "2024-03-01T15:06:56.616Z"
   },
   {
    "duration": 37,
    "start_time": "2024-03-01T15:06:56.635Z"
   },
   {
    "duration": 698,
    "start_time": "2024-03-01T15:06:56.673Z"
   },
   {
    "duration": 36,
    "start_time": "2024-03-01T15:06:57.373Z"
   },
   {
    "duration": 155,
    "start_time": "2024-03-01T15:06:57.411Z"
   },
   {
    "duration": 275,
    "start_time": "2024-03-01T15:06:57.568Z"
   },
   {
    "duration": 5,
    "start_time": "2024-03-01T15:06:57.845Z"
   },
   {
    "duration": 36,
    "start_time": "2024-03-01T15:06:57.852Z"
   },
   {
    "duration": 27,
    "start_time": "2024-03-01T15:06:57.889Z"
   },
   {
    "duration": 40,
    "start_time": "2024-03-01T15:06:57.918Z"
   },
   {
    "duration": 39,
    "start_time": "2024-03-01T15:06:57.959Z"
   },
   {
    "duration": 61,
    "start_time": "2024-03-01T15:06:58.000Z"
   },
   {
    "duration": 6,
    "start_time": "2024-03-01T15:06:58.063Z"
   },
   {
    "duration": 68,
    "start_time": "2024-03-01T15:06:58.070Z"
   },
   {
    "duration": 6,
    "start_time": "2024-03-01T15:06:58.140Z"
   },
   {
    "duration": 4,
    "start_time": "2024-03-01T15:22:12.678Z"
   },
   {
    "duration": 110,
    "start_time": "2024-03-01T15:24:06.018Z"
   },
   {
    "duration": 4,
    "start_time": "2024-03-01T15:24:14.202Z"
   },
   {
    "duration": 45,
    "start_time": "2024-03-01T15:24:50.057Z"
   },
   {
    "duration": 19,
    "start_time": "2024-03-01T15:25:05.806Z"
   },
   {
    "duration": 13,
    "start_time": "2024-03-01T15:25:22.681Z"
   },
   {
    "duration": 4,
    "start_time": "2024-03-01T15:25:41.193Z"
   },
   {
    "duration": 4,
    "start_time": "2024-03-01T15:25:45.458Z"
   },
   {
    "duration": 7,
    "start_time": "2024-03-01T15:59:36.937Z"
   },
   {
    "duration": 13,
    "start_time": "2024-03-01T15:59:38.709Z"
   },
   {
    "duration": 10,
    "start_time": "2024-03-01T15:59:40.559Z"
   },
   {
    "duration": 6,
    "start_time": "2024-03-01T16:00:17.589Z"
   },
   {
    "duration": 10,
    "start_time": "2024-03-01T16:00:17.959Z"
   },
   {
    "duration": 21,
    "start_time": "2024-03-01T16:00:18.432Z"
   },
   {
    "duration": 5,
    "start_time": "2024-03-01T16:01:40.555Z"
   },
   {
    "duration": 7,
    "start_time": "2024-03-01T16:01:41.069Z"
   },
   {
    "duration": 13,
    "start_time": "2024-03-01T16:01:41.558Z"
   },
   {
    "duration": 5,
    "start_time": "2024-03-01T16:02:04.955Z"
   },
   {
    "duration": 8,
    "start_time": "2024-03-01T16:02:05.650Z"
   },
   {
    "duration": 29,
    "start_time": "2024-03-01T16:02:05.964Z"
   },
   {
    "duration": 4,
    "start_time": "2024-03-01T16:02:29.453Z"
   },
   {
    "duration": 7,
    "start_time": "2024-03-01T16:02:29.737Z"
   },
   {
    "duration": 12,
    "start_time": "2024-03-01T16:02:30.397Z"
   },
   {
    "duration": 4,
    "start_time": "2024-03-01T16:02:41.953Z"
   },
   {
    "duration": 6,
    "start_time": "2024-03-01T16:02:42.187Z"
   },
   {
    "duration": 14,
    "start_time": "2024-03-01T16:02:42.415Z"
   },
   {
    "duration": 4,
    "start_time": "2024-03-01T16:04:49.050Z"
   },
   {
    "duration": 7,
    "start_time": "2024-03-01T16:04:49.321Z"
   },
   {
    "duration": 11,
    "start_time": "2024-03-01T16:04:49.710Z"
   },
   {
    "duration": 5,
    "start_time": "2024-03-01T16:17:13.714Z"
   },
   {
    "duration": 12,
    "start_time": "2024-03-01T16:22:05.234Z"
   },
   {
    "duration": 14,
    "start_time": "2024-03-01T16:24:23.604Z"
   },
   {
    "duration": 11,
    "start_time": "2024-03-01T16:24:28.854Z"
   },
   {
    "duration": 1329,
    "start_time": "2024-03-02T17:08:45.236Z"
   },
   {
    "duration": 2,
    "start_time": "2024-03-02T17:08:46.568Z"
   },
   {
    "duration": 5,
    "start_time": "2024-03-02T17:08:46.582Z"
   },
   {
    "duration": 527,
    "start_time": "2024-03-02T17:08:46.589Z"
   },
   {
    "duration": 18,
    "start_time": "2024-03-02T17:08:47.117Z"
   },
   {
    "duration": 11,
    "start_time": "2024-03-02T17:08:47.137Z"
   },
   {
    "duration": 40,
    "start_time": "2024-03-02T17:08:47.150Z"
   },
   {
    "duration": 2760,
    "start_time": "2024-03-02T17:08:47.192Z"
   },
   {
    "duration": 137,
    "start_time": "2024-03-02T17:08:49.954Z"
   },
   {
    "duration": 5,
    "start_time": "2024-03-02T17:08:50.094Z"
   },
   {
    "duration": 5,
    "start_time": "2024-03-02T17:08:50.101Z"
   },
   {
    "duration": 163,
    "start_time": "2024-03-02T17:08:50.107Z"
   },
   {
    "duration": 10,
    "start_time": "2024-03-02T17:08:50.272Z"
   },
   {
    "duration": 30,
    "start_time": "2024-03-02T17:08:50.284Z"
   },
   {
    "duration": 15,
    "start_time": "2024-03-02T17:08:50.316Z"
   },
   {
    "duration": 182,
    "start_time": "2024-03-02T17:08:50.333Z"
   },
   {
    "duration": 5,
    "start_time": "2024-03-02T17:08:50.517Z"
   },
   {
    "duration": 29,
    "start_time": "2024-03-02T17:08:50.524Z"
   },
   {
    "duration": 36,
    "start_time": "2024-03-02T17:08:50.554Z"
   },
   {
    "duration": 13,
    "start_time": "2024-03-02T17:08:50.591Z"
   },
   {
    "duration": 5,
    "start_time": "2024-03-02T17:08:50.606Z"
   },
   {
    "duration": 299,
    "start_time": "2024-03-02T17:08:50.613Z"
   },
   {
    "duration": 16,
    "start_time": "2024-03-02T17:08:50.914Z"
   },
   {
    "duration": 19,
    "start_time": "2024-03-02T17:08:50.932Z"
   },
   {
    "duration": 409,
    "start_time": "2024-03-02T17:08:50.953Z"
   },
   {
    "duration": 3,
    "start_time": "2024-03-02T17:08:51.364Z"
   },
   {
    "duration": 1014,
    "start_time": "2024-03-02T17:08:51.369Z"
   },
   {
    "duration": 425,
    "start_time": "2024-03-02T17:08:52.387Z"
   },
   {
    "duration": 765,
    "start_time": "2024-03-02T17:08:52.814Z"
   },
   {
    "duration": 2053,
    "start_time": "2024-03-02T17:08:53.582Z"
   },
   {
    "duration": 107,
    "start_time": "2024-03-02T17:08:55.637Z"
   },
   {
    "duration": 37,
    "start_time": "2024-03-02T17:08:55.745Z"
   },
   {
    "duration": 14,
    "start_time": "2024-03-02T17:08:55.784Z"
   },
   {
    "duration": 32,
    "start_time": "2024-03-02T17:08:55.799Z"
   },
   {
    "duration": 6,
    "start_time": "2024-03-02T17:08:55.833Z"
   },
   {
    "duration": 45,
    "start_time": "2024-03-02T17:08:55.841Z"
   },
   {
    "duration": 6,
    "start_time": "2024-03-02T17:08:55.888Z"
   },
   {
    "duration": 14,
    "start_time": "2024-03-02T17:08:55.896Z"
   },
   {
    "duration": 23,
    "start_time": "2024-03-02T17:08:55.912Z"
   },
   {
    "duration": 7,
    "start_time": "2024-03-02T17:08:55.937Z"
   },
   {
    "duration": 5,
    "start_time": "2024-03-02T17:08:55.945Z"
   },
   {
    "duration": 745,
    "start_time": "2024-03-02T17:08:55.952Z"
   },
   {
    "duration": 39,
    "start_time": "2024-03-02T17:08:56.699Z"
   },
   {
    "duration": 171,
    "start_time": "2024-03-02T17:08:56.740Z"
   },
   {
    "duration": 287,
    "start_time": "2024-03-02T17:08:56.913Z"
   },
   {
    "duration": 5,
    "start_time": "2024-03-02T17:08:57.201Z"
   },
   {
    "duration": 33,
    "start_time": "2024-03-02T17:08:57.208Z"
   },
   {
    "duration": 42,
    "start_time": "2024-03-02T17:08:57.242Z"
   },
   {
    "duration": 27,
    "start_time": "2024-03-02T17:08:57.286Z"
   },
   {
    "duration": 41,
    "start_time": "2024-03-02T17:08:57.314Z"
   },
   {
    "duration": 71,
    "start_time": "2024-03-02T17:08:57.357Z"
   },
   {
    "duration": 6,
    "start_time": "2024-03-02T17:08:57.430Z"
   },
   {
    "duration": 77,
    "start_time": "2024-03-02T17:08:57.437Z"
   },
   {
    "duration": 6,
    "start_time": "2024-03-02T17:08:57.516Z"
   },
   {
    "duration": 15,
    "start_time": "2024-03-02T17:30:41.891Z"
   },
   {
    "duration": 20,
    "start_time": "2024-03-02T17:38:07.627Z"
   },
   {
    "duration": 15,
    "start_time": "2024-03-02T17:38:09.664Z"
   },
   {
    "duration": 5,
    "start_time": "2024-03-02T18:52:07.472Z"
   },
   {
    "duration": 47,
    "start_time": "2024-03-02T18:52:15.614Z"
   },
   {
    "duration": 14,
    "start_time": "2024-03-02T19:36:39.308Z"
   },
   {
    "duration": 41,
    "start_time": "2024-03-02T19:36:47.203Z"
   },
   {
    "duration": 1277,
    "start_time": "2024-03-02T19:37:04.073Z"
   },
   {
    "duration": 23,
    "start_time": "2024-03-02T19:37:10.262Z"
   },
   {
    "duration": 72,
    "start_time": "2024-03-02T19:37:45.677Z"
   },
   {
    "duration": 12,
    "start_time": "2024-03-02T19:39:15.234Z"
   },
   {
    "duration": 55,
    "start_time": "2024-03-02T19:39:31.934Z"
   },
   {
    "duration": 65,
    "start_time": "2024-03-02T19:39:35.188Z"
   },
   {
    "duration": 1189,
    "start_time": "2024-03-02T19:40:16.372Z"
   },
   {
    "duration": 6,
    "start_time": "2024-03-02T19:40:46.049Z"
   },
   {
    "duration": 5,
    "start_time": "2024-03-02T19:40:52.478Z"
   },
   {
    "duration": 35,
    "start_time": "2024-03-02T19:41:42.255Z"
   },
   {
    "duration": 9,
    "start_time": "2024-03-02T19:56:44.715Z"
   },
   {
    "duration": 7,
    "start_time": "2024-03-02T19:58:38.528Z"
   },
   {
    "duration": 43,
    "start_time": "2024-03-02T19:58:39.287Z"
   },
   {
    "duration": 51,
    "start_time": "2024-03-02T19:58:45.215Z"
   },
   {
    "duration": 5,
    "start_time": "2024-03-02T19:59:02.721Z"
   },
   {
    "duration": 11,
    "start_time": "2024-03-02T19:59:02.727Z"
   },
   {
    "duration": 12,
    "start_time": "2024-03-02T19:59:02.740Z"
   },
   {
    "duration": 213,
    "start_time": "2024-03-02T19:59:02.753Z"
   },
   {
    "duration": 28,
    "start_time": "2024-03-02T19:59:02.967Z"
   },
   {
    "duration": 12,
    "start_time": "2024-03-02T19:59:02.997Z"
   },
   {
    "duration": 34,
    "start_time": "2024-03-02T19:59:03.010Z"
   },
   {
    "duration": 2758,
    "start_time": "2024-03-02T19:59:03.045Z"
   },
   {
    "duration": 53,
    "start_time": "2024-03-02T19:59:05.805Z"
   },
   {
    "duration": 5,
    "start_time": "2024-03-02T19:59:05.860Z"
   },
   {
    "duration": 12,
    "start_time": "2024-03-02T19:59:05.868Z"
   },
   {
    "duration": 128,
    "start_time": "2024-03-02T19:59:05.882Z"
   },
   {
    "duration": 5,
    "start_time": "2024-03-02T19:59:06.012Z"
   },
   {
    "duration": 28,
    "start_time": "2024-03-02T19:59:06.018Z"
   },
   {
    "duration": 12,
    "start_time": "2024-03-02T19:59:06.048Z"
   },
   {
    "duration": 151,
    "start_time": "2024-03-02T19:59:06.083Z"
   },
   {
    "duration": 4,
    "start_time": "2024-03-02T19:59:06.236Z"
   },
   {
    "duration": 15,
    "start_time": "2024-03-02T19:59:06.241Z"
   },
   {
    "duration": 23,
    "start_time": "2024-03-02T19:59:06.258Z"
   },
   {
    "duration": 15,
    "start_time": "2024-03-02T19:59:06.283Z"
   },
   {
    "duration": 5,
    "start_time": "2024-03-02T19:59:06.300Z"
   },
   {
    "duration": 307,
    "start_time": "2024-03-02T19:59:06.307Z"
   },
   {
    "duration": 5,
    "start_time": "2024-03-02T19:59:06.616Z"
   },
   {
    "duration": 63,
    "start_time": "2024-03-02T19:59:06.623Z"
   },
   {
    "duration": 0,
    "start_time": "2024-03-02T19:59:06.687Z"
   },
   {
    "duration": 0,
    "start_time": "2024-03-02T19:59:06.688Z"
   },
   {
    "duration": 7,
    "start_time": "2024-03-02T20:25:33.832Z"
   },
   {
    "duration": 48,
    "start_time": "2024-03-02T20:25:34.353Z"
   },
   {
    "duration": 7,
    "start_time": "2024-03-02T20:25:36.610Z"
   },
   {
    "duration": 50,
    "start_time": "2024-03-02T20:25:38.074Z"
   },
   {
    "duration": 1139,
    "start_time": "2024-03-02T20:26:06.102Z"
   },
   {
    "duration": 3,
    "start_time": "2024-03-02T20:26:07.243Z"
   },
   {
    "duration": 8,
    "start_time": "2024-03-02T20:26:07.247Z"
   },
   {
    "duration": 211,
    "start_time": "2024-03-02T20:26:07.257Z"
   },
   {
    "duration": 26,
    "start_time": "2024-03-02T20:26:07.470Z"
   },
   {
    "duration": 13,
    "start_time": "2024-03-02T20:26:07.497Z"
   },
   {
    "duration": 25,
    "start_time": "2024-03-02T20:26:07.511Z"
   },
   {
    "duration": 2765,
    "start_time": "2024-03-02T20:26:07.538Z"
   },
   {
    "duration": 48,
    "start_time": "2024-03-02T20:26:10.304Z"
   },
   {
    "duration": 5,
    "start_time": "2024-03-02T20:26:10.355Z"
   },
   {
    "duration": 10,
    "start_time": "2024-03-02T20:26:10.361Z"
   },
   {
    "duration": 117,
    "start_time": "2024-03-02T20:26:10.373Z"
   },
   {
    "duration": 4,
    "start_time": "2024-03-02T20:26:10.492Z"
   },
   {
    "duration": 28,
    "start_time": "2024-03-02T20:26:10.497Z"
   },
   {
    "duration": 12,
    "start_time": "2024-03-02T20:26:10.527Z"
   },
   {
    "duration": 169,
    "start_time": "2024-03-02T20:26:10.540Z"
   },
   {
    "duration": 5,
    "start_time": "2024-03-02T20:26:10.711Z"
   },
   {
    "duration": 11,
    "start_time": "2024-03-02T20:26:10.717Z"
   },
   {
    "duration": 15,
    "start_time": "2024-03-02T20:26:10.729Z"
   },
   {
    "duration": 14,
    "start_time": "2024-03-02T20:26:10.745Z"
   },
   {
    "duration": 23,
    "start_time": "2024-03-02T20:26:10.761Z"
   },
   {
    "duration": 292,
    "start_time": "2024-03-02T20:26:10.786Z"
   },
   {
    "duration": 5,
    "start_time": "2024-03-02T20:26:11.080Z"
   },
   {
    "duration": 148,
    "start_time": "2024-03-02T20:26:11.087Z"
   },
   {
    "duration": 0,
    "start_time": "2024-03-02T20:26:11.238Z"
   },
   {
    "duration": 0,
    "start_time": "2024-03-02T20:26:11.239Z"
   },
   {
    "duration": 0,
    "start_time": "2024-03-02T20:26:11.240Z"
   },
   {
    "duration": 0,
    "start_time": "2024-03-02T20:26:11.241Z"
   },
   {
    "duration": 0,
    "start_time": "2024-03-02T20:26:11.243Z"
   },
   {
    "duration": 0,
    "start_time": "2024-03-02T20:26:11.244Z"
   },
   {
    "duration": 0,
    "start_time": "2024-03-02T20:26:11.245Z"
   },
   {
    "duration": 0,
    "start_time": "2024-03-02T20:26:11.246Z"
   },
   {
    "duration": 0,
    "start_time": "2024-03-02T20:26:11.247Z"
   },
   {
    "duration": 0,
    "start_time": "2024-03-02T20:26:11.248Z"
   },
   {
    "duration": 0,
    "start_time": "2024-03-02T20:26:11.249Z"
   },
   {
    "duration": 0,
    "start_time": "2024-03-02T20:26:11.249Z"
   },
   {
    "duration": 0,
    "start_time": "2024-03-02T20:26:11.250Z"
   },
   {
    "duration": 0,
    "start_time": "2024-03-02T20:26:11.251Z"
   },
   {
    "duration": 0,
    "start_time": "2024-03-02T20:26:11.283Z"
   },
   {
    "duration": 0,
    "start_time": "2024-03-02T20:26:11.284Z"
   },
   {
    "duration": 0,
    "start_time": "2024-03-02T20:26:11.284Z"
   },
   {
    "duration": 0,
    "start_time": "2024-03-02T20:26:11.285Z"
   },
   {
    "duration": 0,
    "start_time": "2024-03-02T20:26:11.287Z"
   },
   {
    "duration": 0,
    "start_time": "2024-03-02T20:26:11.287Z"
   },
   {
    "duration": 0,
    "start_time": "2024-03-02T20:26:11.288Z"
   },
   {
    "duration": 0,
    "start_time": "2024-03-02T20:26:11.289Z"
   },
   {
    "duration": 0,
    "start_time": "2024-03-02T20:26:11.290Z"
   },
   {
    "duration": 0,
    "start_time": "2024-03-02T20:26:11.291Z"
   },
   {
    "duration": 0,
    "start_time": "2024-03-02T20:26:11.292Z"
   },
   {
    "duration": 0,
    "start_time": "2024-03-02T20:26:11.294Z"
   },
   {
    "duration": 0,
    "start_time": "2024-03-02T20:26:11.294Z"
   },
   {
    "duration": 0,
    "start_time": "2024-03-02T20:26:11.296Z"
   },
   {
    "duration": 0,
    "start_time": "2024-03-02T20:26:11.297Z"
   },
   {
    "duration": 0,
    "start_time": "2024-03-02T20:26:11.298Z"
   },
   {
    "duration": 1,
    "start_time": "2024-03-02T20:26:11.298Z"
   },
   {
    "duration": 0,
    "start_time": "2024-03-02T20:26:11.299Z"
   },
   {
    "duration": 0,
    "start_time": "2024-03-02T20:26:11.300Z"
   },
   {
    "duration": 0,
    "start_time": "2024-03-02T20:26:11.301Z"
   },
   {
    "duration": 0,
    "start_time": "2024-03-02T20:26:11.303Z"
   },
   {
    "duration": 0,
    "start_time": "2024-03-02T20:26:11.304Z"
   },
   {
    "duration": 0,
    "start_time": "2024-03-02T20:26:11.305Z"
   },
   {
    "duration": 0,
    "start_time": "2024-03-02T20:26:11.306Z"
   },
   {
    "duration": 45,
    "start_time": "2024-03-02T20:29:50.399Z"
   },
   {
    "duration": 8,
    "start_time": "2024-03-02T20:29:51.492Z"
   },
   {
    "duration": 52,
    "start_time": "2024-03-02T20:29:52.219Z"
   },
   {
    "duration": 60,
    "start_time": "2024-03-02T20:33:03.490Z"
   },
   {
    "duration": 427,
    "start_time": "2024-03-02T20:51:19.948Z"
   },
   {
    "duration": 60,
    "start_time": "2024-03-02T20:51:40.865Z"
   },
   {
    "duration": 17,
    "start_time": "2024-03-02T20:51:56.082Z"
   },
   {
    "duration": 409,
    "start_time": "2024-03-02T20:54:04.845Z"
   },
   {
    "duration": 48,
    "start_time": "2024-03-02T20:54:16.157Z"
   },
   {
    "duration": 65,
    "start_time": "2024-03-02T20:54:19.896Z"
   },
   {
    "duration": 52,
    "start_time": "2024-03-02T20:54:41.830Z"
   },
   {
    "duration": 54,
    "start_time": "2024-03-02T20:54:51.395Z"
   },
   {
    "duration": 393,
    "start_time": "2024-03-02T20:54:56.376Z"
   },
   {
    "duration": 5,
    "start_time": "2024-03-02T20:56:59.147Z"
   },
   {
    "duration": 3,
    "start_time": "2024-03-02T20:57:58.336Z"
   },
   {
    "duration": 463,
    "start_time": "2024-03-02T20:58:00.102Z"
   },
   {
    "duration": 383,
    "start_time": "2024-03-02T20:58:25.443Z"
   },
   {
    "duration": 1019,
    "start_time": "2024-03-02T20:58:57.973Z"
   },
   {
    "duration": 46,
    "start_time": "2024-03-03T14:57:53.314Z"
   },
   {
    "duration": 1280,
    "start_time": "2024-03-03T14:57:56.599Z"
   },
   {
    "duration": 2,
    "start_time": "2024-03-03T14:57:57.882Z"
   },
   {
    "duration": 6,
    "start_time": "2024-03-03T14:57:57.885Z"
   },
   {
    "duration": 241,
    "start_time": "2024-03-03T14:57:57.892Z"
   },
   {
    "duration": 16,
    "start_time": "2024-03-03T14:57:58.134Z"
   },
   {
    "duration": 12,
    "start_time": "2024-03-03T14:57:58.151Z"
   },
   {
    "duration": 31,
    "start_time": "2024-03-03T14:57:58.164Z"
   },
   {
    "duration": 2437,
    "start_time": "2024-03-03T14:57:58.196Z"
   },
   {
    "duration": 2524,
    "start_time": "2024-03-03T15:02:27.329Z"
   },
   {
    "duration": 2541,
    "start_time": "2024-03-03T15:03:07.638Z"
   },
   {
    "duration": 2532,
    "start_time": "2024-03-03T15:03:22.049Z"
   },
   {
    "duration": 2566,
    "start_time": "2024-03-03T16:04:16.817Z"
   },
   {
    "duration": 2469,
    "start_time": "2024-03-03T16:16:45.346Z"
   },
   {
    "duration": 2670,
    "start_time": "2024-03-03T16:18:09.882Z"
   },
   {
    "duration": 2453,
    "start_time": "2024-03-03T16:18:16.097Z"
   },
   {
    "duration": 2524,
    "start_time": "2024-03-03T16:22:25.371Z"
   },
   {
    "duration": 944,
    "start_time": "2024-03-03T16:23:51.649Z"
   },
   {
    "duration": 1050,
    "start_time": "2024-03-03T16:25:25.732Z"
   },
   {
    "duration": 2603,
    "start_time": "2024-03-03T16:25:30.446Z"
   },
   {
    "duration": 3,
    "start_time": "2024-03-03T16:26:19.184Z"
   },
   {
    "duration": 18,
    "start_time": "2024-03-03T16:26:19.189Z"
   },
   {
    "duration": 4,
    "start_time": "2024-03-03T16:26:19.209Z"
   },
   {
    "duration": 197,
    "start_time": "2024-03-03T16:26:19.214Z"
   },
   {
    "duration": 16,
    "start_time": "2024-03-03T16:26:19.414Z"
   },
   {
    "duration": 32,
    "start_time": "2024-03-03T16:26:19.431Z"
   },
   {
    "duration": 42,
    "start_time": "2024-03-03T16:26:19.465Z"
   },
   {
    "duration": 2725,
    "start_time": "2024-03-03T16:26:19.509Z"
   },
   {
    "duration": 81,
    "start_time": "2024-03-03T16:26:22.236Z"
   },
   {
    "duration": 4,
    "start_time": "2024-03-03T16:26:22.319Z"
   },
   {
    "duration": 5,
    "start_time": "2024-03-03T16:26:22.326Z"
   },
   {
    "duration": 110,
    "start_time": "2024-03-03T16:26:22.332Z"
   },
   {
    "duration": 5,
    "start_time": "2024-03-03T16:26:22.443Z"
   },
   {
    "duration": 28,
    "start_time": "2024-03-03T16:26:22.449Z"
   },
   {
    "duration": 11,
    "start_time": "2024-03-03T16:26:22.479Z"
   },
   {
    "duration": 159,
    "start_time": "2024-03-03T16:26:22.491Z"
   },
   {
    "duration": 5,
    "start_time": "2024-03-03T16:26:22.652Z"
   },
   {
    "duration": 11,
    "start_time": "2024-03-03T16:26:22.658Z"
   },
   {
    "duration": 13,
    "start_time": "2024-03-03T16:26:22.670Z"
   },
   {
    "duration": 12,
    "start_time": "2024-03-03T16:26:22.685Z"
   },
   {
    "duration": 6,
    "start_time": "2024-03-03T16:26:22.698Z"
   },
   {
    "duration": 281,
    "start_time": "2024-03-03T16:26:22.705Z"
   },
   {
    "duration": 4,
    "start_time": "2024-03-03T16:26:22.988Z"
   },
   {
    "duration": 46,
    "start_time": "2024-03-03T16:26:22.994Z"
   },
   {
    "duration": 16,
    "start_time": "2024-03-03T16:26:23.042Z"
   },
   {
    "duration": 39,
    "start_time": "2024-03-03T16:26:23.060Z"
   },
   {
    "duration": 3,
    "start_time": "2024-03-03T16:26:23.101Z"
   },
   {
    "duration": 997,
    "start_time": "2024-03-03T16:26:23.105Z"
   },
   {
    "duration": 16,
    "start_time": "2024-03-03T16:26:24.105Z"
   },
   {
    "duration": 46,
    "start_time": "2024-03-03T16:26:24.122Z"
   },
   {
    "duration": 335,
    "start_time": "2024-03-03T16:26:24.170Z"
   },
   {
    "duration": 3,
    "start_time": "2024-03-03T16:26:24.506Z"
   },
   {
    "duration": 1028,
    "start_time": "2024-03-03T16:26:24.510Z"
   },
   {
    "duration": 359,
    "start_time": "2024-03-03T16:26:25.540Z"
   },
   {
    "duration": 1059,
    "start_time": "2024-03-03T16:26:25.901Z"
   },
   {
    "duration": 2459,
    "start_time": "2024-03-03T16:26:26.961Z"
   },
   {
    "duration": 94,
    "start_time": "2024-03-03T16:26:29.422Z"
   },
   {
    "duration": 23,
    "start_time": "2024-03-03T16:26:29.517Z"
   },
   {
    "duration": 23,
    "start_time": "2024-03-03T16:26:29.541Z"
   },
   {
    "duration": 53,
    "start_time": "2024-03-03T16:26:29.565Z"
   },
   {
    "duration": 4,
    "start_time": "2024-03-03T16:26:29.620Z"
   },
   {
    "duration": 19,
    "start_time": "2024-03-03T16:26:29.625Z"
   },
   {
    "duration": 18,
    "start_time": "2024-03-03T16:26:29.645Z"
   },
   {
    "duration": 33,
    "start_time": "2024-03-03T16:26:29.664Z"
   },
   {
    "duration": 19,
    "start_time": "2024-03-03T16:26:29.699Z"
   },
   {
    "duration": 23,
    "start_time": "2024-03-03T16:26:29.720Z"
   },
   {
    "duration": 17,
    "start_time": "2024-03-03T16:26:29.745Z"
   },
   {
    "duration": 724,
    "start_time": "2024-03-03T16:26:29.763Z"
   },
   {
    "duration": 35,
    "start_time": "2024-03-03T16:26:30.489Z"
   },
   {
    "duration": 505,
    "start_time": "2024-03-03T16:26:30.526Z"
   },
   {
    "duration": 47,
    "start_time": "2024-03-03T16:26:31.033Z"
   },
   {
    "duration": 151,
    "start_time": "2024-03-03T16:26:31.081Z"
   },
   {
    "duration": 122,
    "start_time": "2024-03-03T16:26:31.234Z"
   },
   {
    "duration": 68,
    "start_time": "2024-03-03T16:26:31.357Z"
   },
   {
    "duration": 37,
    "start_time": "2024-03-03T16:26:31.426Z"
   },
   {
    "duration": 64,
    "start_time": "2024-03-03T16:26:31.465Z"
   },
   {
    "duration": 56,
    "start_time": "2024-03-03T16:26:31.535Z"
   },
   {
    "duration": 11,
    "start_time": "2024-03-03T16:26:31.593Z"
   },
   {
    "duration": 101,
    "start_time": "2024-03-03T16:26:31.606Z"
   },
   {
    "duration": 26,
    "start_time": "2024-03-03T16:26:31.709Z"
   },
   {
    "duration": 1311,
    "start_time": "2024-03-03T16:47:11.458Z"
   },
   {
    "duration": 1080,
    "start_time": "2024-03-03T17:01:25.772Z"
   },
   {
    "duration": 1198,
    "start_time": "2024-03-03T17:02:12.523Z"
   },
   {
    "duration": 1745,
    "start_time": "2024-03-03T17:03:02.816Z"
   },
   {
    "duration": 10,
    "start_time": "2024-03-03T17:04:03.458Z"
   },
   {
    "duration": 4,
    "start_time": "2024-03-03T17:04:15.477Z"
   },
   {
    "duration": 4,
    "start_time": "2024-03-03T17:04:21.341Z"
   },
   {
    "duration": 10,
    "start_time": "2024-03-03T17:07:51.516Z"
   },
   {
    "duration": 11,
    "start_time": "2024-03-03T17:08:09.204Z"
   },
   {
    "duration": 9,
    "start_time": "2024-03-03T17:08:13.193Z"
   },
   {
    "duration": 5,
    "start_time": "2024-03-03T17:08:19.993Z"
   },
   {
    "duration": 4,
    "start_time": "2024-03-03T17:09:46.820Z"
   },
   {
    "duration": 9,
    "start_time": "2024-03-03T17:10:02.539Z"
   },
   {
    "duration": 9,
    "start_time": "2024-03-03T17:10:07.561Z"
   },
   {
    "duration": 12,
    "start_time": "2024-03-03T17:13:19.994Z"
   },
   {
    "duration": 37,
    "start_time": "2024-03-03T17:22:56.128Z"
   },
   {
    "duration": 11,
    "start_time": "2024-03-03T17:23:18.518Z"
   },
   {
    "duration": 4,
    "start_time": "2024-03-03T17:23:27.260Z"
   },
   {
    "duration": 4,
    "start_time": "2024-03-03T17:24:33.963Z"
   },
   {
    "duration": 4,
    "start_time": "2024-03-03T17:24:56.385Z"
   },
   {
    "duration": 99,
    "start_time": "2024-03-03T17:25:43.489Z"
   },
   {
    "duration": 4,
    "start_time": "2024-03-03T17:25:47.879Z"
   },
   {
    "duration": 1596,
    "start_time": "2024-03-03T17:26:04.100Z"
   },
   {
    "duration": 1615,
    "start_time": "2024-03-03T17:27:38.930Z"
   },
   {
    "duration": 4,
    "start_time": "2024-03-03T17:28:04.010Z"
   },
   {
    "duration": 6,
    "start_time": "2024-03-03T17:28:04.015Z"
   },
   {
    "duration": 7,
    "start_time": "2024-03-03T17:28:04.023Z"
   },
   {
    "duration": 209,
    "start_time": "2024-03-03T17:28:04.031Z"
   },
   {
    "duration": 24,
    "start_time": "2024-03-03T17:28:04.242Z"
   },
   {
    "duration": 12,
    "start_time": "2024-03-03T17:28:04.268Z"
   },
   {
    "duration": 23,
    "start_time": "2024-03-03T17:28:04.281Z"
   },
   {
    "duration": 10,
    "start_time": "2024-03-03T17:28:04.305Z"
   },
   {
    "duration": 2439,
    "start_time": "2024-03-03T17:28:04.316Z"
   },
   {
    "duration": 2904,
    "start_time": "2024-03-03T17:30:40.421Z"
   },
   {
    "duration": 2388,
    "start_time": "2024-03-03T17:31:04.948Z"
   },
   {
    "duration": 3001,
    "start_time": "2024-03-03T17:31:26.915Z"
   },
   {
    "duration": 2436,
    "start_time": "2024-03-03T17:31:54.762Z"
   },
   {
    "duration": 43,
    "start_time": "2024-03-04T09:51:18.561Z"
   },
   {
    "duration": 1216,
    "start_time": "2024-03-04T09:51:22.357Z"
   },
   {
    "duration": 2,
    "start_time": "2024-03-04T09:51:23.575Z"
   },
   {
    "duration": 14,
    "start_time": "2024-03-04T09:51:23.578Z"
   },
   {
    "duration": 456,
    "start_time": "2024-03-04T09:51:23.593Z"
   },
   {
    "duration": 15,
    "start_time": "2024-03-04T09:51:24.050Z"
   },
   {
    "duration": 11,
    "start_time": "2024-03-04T09:51:24.067Z"
   },
   {
    "duration": 18,
    "start_time": "2024-03-04T09:51:24.080Z"
   },
   {
    "duration": 24,
    "start_time": "2024-03-04T09:51:24.099Z"
   },
   {
    "duration": 2082,
    "start_time": "2024-03-04T09:51:24.125Z"
   },
   {
    "duration": 1962,
    "start_time": "2024-03-04T09:51:43.360Z"
   },
   {
    "duration": 2008,
    "start_time": "2024-03-04T09:51:56.388Z"
   },
   {
    "duration": 1991,
    "start_time": "2024-03-04T09:52:05.987Z"
   },
   {
    "duration": 1972,
    "start_time": "2024-03-04T09:52:16.979Z"
   },
   {
    "duration": 2094,
    "start_time": "2024-03-04T09:52:25.973Z"
   },
   {
    "duration": 2058,
    "start_time": "2024-03-04T09:52:32.650Z"
   },
   {
    "duration": 2066,
    "start_time": "2024-03-04T09:52:43.907Z"
   },
   {
    "duration": 8,
    "start_time": "2024-03-04T09:54:36.609Z"
   },
   {
    "duration": 3,
    "start_time": "2024-03-04T09:54:44.383Z"
   },
   {
    "duration": 4,
    "start_time": "2024-03-04T09:54:44.388Z"
   },
   {
    "duration": 4,
    "start_time": "2024-03-04T09:54:44.393Z"
   },
   {
    "duration": 148,
    "start_time": "2024-03-04T09:54:44.398Z"
   },
   {
    "duration": 15,
    "start_time": "2024-03-04T09:54:44.547Z"
   },
   {
    "duration": 12,
    "start_time": "2024-03-04T09:54:44.563Z"
   },
   {
    "duration": 20,
    "start_time": "2024-03-04T09:54:44.576Z"
   },
   {
    "duration": 7,
    "start_time": "2024-03-04T09:54:44.597Z"
   },
   {
    "duration": 2089,
    "start_time": "2024-03-04T09:54:44.606Z"
   },
   {
    "duration": 125,
    "start_time": "2024-03-04T09:54:46.696Z"
   },
   {
    "duration": 4,
    "start_time": "2024-03-04T09:54:46.822Z"
   },
   {
    "duration": 13,
    "start_time": "2024-03-04T09:54:46.827Z"
   },
   {
    "duration": 102,
    "start_time": "2024-03-04T09:54:46.842Z"
   },
   {
    "duration": 4,
    "start_time": "2024-03-04T09:54:46.945Z"
   },
   {
    "duration": 31,
    "start_time": "2024-03-04T09:54:46.950Z"
   },
   {
    "duration": 9,
    "start_time": "2024-03-04T09:54:46.982Z"
   },
   {
    "duration": 120,
    "start_time": "2024-03-04T09:54:46.992Z"
   },
   {
    "duration": 4,
    "start_time": "2024-03-04T09:54:47.114Z"
   },
   {
    "duration": 8,
    "start_time": "2024-03-04T09:54:47.119Z"
   },
   {
    "duration": 13,
    "start_time": "2024-03-04T09:54:47.129Z"
   },
   {
    "duration": 17,
    "start_time": "2024-03-04T09:54:47.144Z"
   },
   {
    "duration": 15,
    "start_time": "2024-03-04T09:54:47.162Z"
   },
   {
    "duration": 243,
    "start_time": "2024-03-04T09:54:47.178Z"
   },
   {
    "duration": 4,
    "start_time": "2024-03-04T09:54:47.422Z"
   },
   {
    "duration": 43,
    "start_time": "2024-03-04T09:54:47.428Z"
   },
   {
    "duration": 5,
    "start_time": "2024-03-04T09:54:47.473Z"
   },
   {
    "duration": 42,
    "start_time": "2024-03-04T09:54:47.479Z"
   },
   {
    "duration": 3,
    "start_time": "2024-03-04T09:54:47.522Z"
   },
   {
    "duration": 890,
    "start_time": "2024-03-04T09:54:47.526Z"
   },
   {
    "duration": 755,
    "start_time": "2024-03-04T09:55:37.581Z"
   },
   {
    "duration": 9,
    "start_time": "2024-03-04T10:02:26.982Z"
   },
   {
    "duration": 425,
    "start_time": "2024-03-04T10:02:34.551Z"
   },
   {
    "duration": 335,
    "start_time": "2024-03-04T10:03:03.938Z"
   },
   {
    "duration": 357,
    "start_time": "2024-03-04T10:04:03.071Z"
   },
   {
    "duration": 96,
    "start_time": "2024-03-04T10:05:32.195Z"
   },
   {
    "duration": 877,
    "start_time": "2024-03-04T10:05:40.650Z"
   },
   {
    "duration": 1000,
    "start_time": "2024-03-04T10:07:06.744Z"
   },
   {
    "duration": 269,
    "start_time": "2024-03-04T10:09:49.526Z"
   },
   {
    "duration": 332,
    "start_time": "2024-03-04T10:10:01.811Z"
   },
   {
    "duration": 302,
    "start_time": "2024-03-04T10:11:46.887Z"
   },
   {
    "duration": 295,
    "start_time": "2024-03-04T10:12:13.807Z"
   },
   {
    "duration": 290,
    "start_time": "2024-03-04T10:12:18.554Z"
   },
   {
    "duration": 325,
    "start_time": "2024-03-04T10:13:48.884Z"
   },
   {
    "duration": 365,
    "start_time": "2024-03-04T10:14:28.307Z"
   },
   {
    "duration": 458,
    "start_time": "2024-03-04T10:14:55.735Z"
   },
   {
    "duration": 321,
    "start_time": "2024-03-04T10:15:04.118Z"
   },
   {
    "duration": 306,
    "start_time": "2024-03-04T10:15:12.795Z"
   },
   {
    "duration": 305,
    "start_time": "2024-03-04T10:15:18.270Z"
   },
   {
    "duration": 367,
    "start_time": "2024-03-04T10:15:23.902Z"
   },
   {
    "duration": 295,
    "start_time": "2024-03-04T10:15:27.679Z"
   },
   {
    "duration": 303,
    "start_time": "2024-03-04T10:15:36.914Z"
   },
   {
    "duration": 297,
    "start_time": "2024-03-04T10:15:40.328Z"
   },
   {
    "duration": 4,
    "start_time": "2024-03-04T10:15:48.278Z"
   },
   {
    "duration": 6,
    "start_time": "2024-03-04T10:15:48.284Z"
   },
   {
    "duration": 6,
    "start_time": "2024-03-04T10:15:48.292Z"
   },
   {
    "duration": 150,
    "start_time": "2024-03-04T10:15:48.299Z"
   },
   {
    "duration": 17,
    "start_time": "2024-03-04T10:15:48.450Z"
   },
   {
    "duration": 11,
    "start_time": "2024-03-04T10:15:48.468Z"
   },
   {
    "duration": 24,
    "start_time": "2024-03-04T10:15:48.480Z"
   },
   {
    "duration": 8,
    "start_time": "2024-03-04T10:15:48.606Z"
   },
   {
    "duration": 1924,
    "start_time": "2024-03-04T10:15:48.615Z"
   },
   {
    "duration": 42,
    "start_time": "2024-03-04T10:15:50.541Z"
   },
   {
    "duration": 4,
    "start_time": "2024-03-04T10:15:50.584Z"
   },
   {
    "duration": 11,
    "start_time": "2024-03-04T10:15:50.589Z"
   },
   {
    "duration": 100,
    "start_time": "2024-03-04T10:15:50.601Z"
   },
   {
    "duration": 4,
    "start_time": "2024-03-04T10:15:50.702Z"
   },
   {
    "duration": 23,
    "start_time": "2024-03-04T10:15:50.708Z"
   },
   {
    "duration": 30,
    "start_time": "2024-03-04T10:15:50.732Z"
   },
   {
    "duration": 128,
    "start_time": "2024-03-04T10:15:50.765Z"
   },
   {
    "duration": 4,
    "start_time": "2024-03-04T10:15:50.895Z"
   },
   {
    "duration": 15,
    "start_time": "2024-03-04T10:15:50.900Z"
   },
   {
    "duration": 14,
    "start_time": "2024-03-04T10:15:50.917Z"
   },
   {
    "duration": 28,
    "start_time": "2024-03-04T10:15:50.932Z"
   },
   {
    "duration": 4,
    "start_time": "2024-03-04T10:15:50.962Z"
   },
   {
    "duration": 237,
    "start_time": "2024-03-04T10:15:50.967Z"
   },
   {
    "duration": 5,
    "start_time": "2024-03-04T10:15:51.205Z"
   },
   {
    "duration": 46,
    "start_time": "2024-03-04T10:15:51.211Z"
   },
   {
    "duration": 5,
    "start_time": "2024-03-04T10:15:51.259Z"
   },
   {
    "duration": 46,
    "start_time": "2024-03-04T10:15:51.265Z"
   },
   {
    "duration": 3,
    "start_time": "2024-03-04T10:15:51.312Z"
   },
   {
    "duration": 1706,
    "start_time": "2024-03-04T10:15:51.316Z"
   },
   {
    "duration": 292,
    "start_time": "2024-03-04T10:15:53.024Z"
   },
   {
    "duration": 3,
    "start_time": "2024-03-04T10:27:43.860Z"
   },
   {
    "duration": 6,
    "start_time": "2024-03-04T10:27:43.865Z"
   },
   {
    "duration": 7,
    "start_time": "2024-03-04T10:27:43.872Z"
   },
   {
    "duration": 157,
    "start_time": "2024-03-04T10:27:43.923Z"
   },
   {
    "duration": 13,
    "start_time": "2024-03-04T10:27:44.082Z"
   },
   {
    "duration": 18,
    "start_time": "2024-03-04T10:27:44.097Z"
   },
   {
    "duration": 44,
    "start_time": "2024-03-04T10:27:44.117Z"
   },
   {
    "duration": 8,
    "start_time": "2024-03-04T10:27:44.162Z"
   },
   {
    "duration": 1993,
    "start_time": "2024-03-04T10:27:44.172Z"
   },
   {
    "duration": 43,
    "start_time": "2024-03-04T10:27:46.167Z"
   },
   {
    "duration": 4,
    "start_time": "2024-03-04T10:27:46.211Z"
   },
   {
    "duration": 15,
    "start_time": "2024-03-04T10:27:46.216Z"
   },
   {
    "duration": 100,
    "start_time": "2024-03-04T10:27:46.233Z"
   },
   {
    "duration": 4,
    "start_time": "2024-03-04T10:27:46.334Z"
   },
   {
    "duration": 28,
    "start_time": "2024-03-04T10:27:46.339Z"
   },
   {
    "duration": 22,
    "start_time": "2024-03-04T10:27:46.368Z"
   },
   {
    "duration": 122,
    "start_time": "2024-03-04T10:27:46.392Z"
   },
   {
    "duration": 4,
    "start_time": "2024-03-04T10:27:46.516Z"
   },
   {
    "duration": 12,
    "start_time": "2024-03-04T10:27:46.521Z"
   },
   {
    "duration": 16,
    "start_time": "2024-03-04T10:27:46.534Z"
   },
   {
    "duration": 12,
    "start_time": "2024-03-04T10:27:46.551Z"
   },
   {
    "duration": 21,
    "start_time": "2024-03-04T10:27:46.564Z"
   },
   {
    "duration": 245,
    "start_time": "2024-03-04T10:27:46.586Z"
   },
   {
    "duration": 4,
    "start_time": "2024-03-04T10:27:46.832Z"
   },
   {
    "duration": 53,
    "start_time": "2024-03-04T10:27:46.837Z"
   },
   {
    "duration": 7,
    "start_time": "2024-03-04T10:27:46.891Z"
   },
   {
    "duration": 48,
    "start_time": "2024-03-04T10:27:46.899Z"
   },
   {
    "duration": 3,
    "start_time": "2024-03-04T10:27:46.948Z"
   },
   {
    "duration": 1333,
    "start_time": "2024-03-04T10:27:46.952Z"
   },
   {
    "duration": 371,
    "start_time": "2024-03-04T10:27:48.286Z"
   },
   {
    "duration": 14,
    "start_time": "2024-03-04T10:27:48.661Z"
   },
   {
    "duration": 485,
    "start_time": "2024-03-04T10:27:48.676Z"
   },
   {
    "duration": 3,
    "start_time": "2024-03-04T10:27:49.163Z"
   },
   {
    "duration": 1086,
    "start_time": "2024-03-04T10:27:49.167Z"
   },
   {
    "duration": 334,
    "start_time": "2024-03-04T10:27:50.254Z"
   },
   {
    "duration": 581,
    "start_time": "2024-03-04T10:27:50.589Z"
   },
   {
    "duration": 1610,
    "start_time": "2024-03-04T10:27:51.171Z"
   },
   {
    "duration": 83,
    "start_time": "2024-03-04T10:27:52.782Z"
   },
   {
    "duration": 19,
    "start_time": "2024-03-04T10:27:52.866Z"
   },
   {
    "duration": 9,
    "start_time": "2024-03-04T10:27:52.886Z"
   },
   {
    "duration": 23,
    "start_time": "2024-03-04T10:27:52.897Z"
   },
   {
    "duration": 3,
    "start_time": "2024-03-04T10:27:52.922Z"
   },
   {
    "duration": 37,
    "start_time": "2024-03-04T10:27:52.927Z"
   },
   {
    "duration": 6,
    "start_time": "2024-03-04T10:27:52.966Z"
   },
   {
    "duration": 11,
    "start_time": "2024-03-04T10:27:52.973Z"
   },
   {
    "duration": 3,
    "start_time": "2024-03-04T10:27:52.985Z"
   },
   {
    "duration": 6,
    "start_time": "2024-03-04T10:27:52.989Z"
   },
   {
    "duration": 9,
    "start_time": "2024-03-04T10:27:52.996Z"
   },
   {
    "duration": 582,
    "start_time": "2024-03-04T10:27:53.007Z"
   },
   {
    "duration": 32,
    "start_time": "2024-03-04T10:27:53.590Z"
   },
   {
    "duration": 116,
    "start_time": "2024-03-04T10:27:53.623Z"
   },
   {
    "duration": 51,
    "start_time": "2024-03-04T10:27:53.741Z"
   },
   {
    "duration": 4,
    "start_time": "2024-03-04T10:27:53.793Z"
   },
   {
    "duration": 81,
    "start_time": "2024-03-04T10:27:53.798Z"
   },
   {
    "duration": 22,
    "start_time": "2024-03-04T10:27:53.880Z"
   },
   {
    "duration": 57,
    "start_time": "2024-03-04T10:27:53.903Z"
   },
   {
    "duration": 34,
    "start_time": "2024-03-04T10:27:53.961Z"
   },
   {
    "duration": 40,
    "start_time": "2024-03-04T10:27:53.996Z"
   },
   {
    "duration": 22,
    "start_time": "2024-03-04T10:27:54.037Z"
   },
   {
    "duration": 129,
    "start_time": "2024-03-04T10:27:54.061Z"
   },
   {
    "duration": 6,
    "start_time": "2024-03-04T10:27:54.191Z"
   },
   {
    "duration": 11,
    "start_time": "2024-03-04T10:40:19.359Z"
   },
   {
    "duration": 8,
    "start_time": "2024-03-04T10:41:31.029Z"
   },
   {
    "duration": 1247,
    "start_time": "2024-03-04T10:43:05.684Z"
   },
   {
    "duration": 60,
    "start_time": "2024-03-04T11:18:43.360Z"
   },
   {
    "duration": 15,
    "start_time": "2024-03-04T11:18:55.367Z"
   },
   {
    "duration": 1076,
    "start_time": "2024-03-04T11:47:25.342Z"
   },
   {
    "duration": 2,
    "start_time": "2024-03-04T11:47:26.420Z"
   },
   {
    "duration": 34,
    "start_time": "2024-03-04T11:47:26.423Z"
   },
   {
    "duration": 162,
    "start_time": "2024-03-04T11:47:26.459Z"
   },
   {
    "duration": 13,
    "start_time": "2024-03-04T11:47:26.623Z"
   },
   {
    "duration": 27,
    "start_time": "2024-03-04T11:47:26.637Z"
   },
   {
    "duration": 17,
    "start_time": "2024-03-04T11:47:26.665Z"
   },
   {
    "duration": 2064,
    "start_time": "2024-03-04T11:47:26.683Z"
   },
   {
    "duration": 44,
    "start_time": "2024-03-04T11:47:28.748Z"
   },
   {
    "duration": 4,
    "start_time": "2024-03-04T11:47:28.794Z"
   },
   {
    "duration": 5,
    "start_time": "2024-03-04T11:47:28.799Z"
   },
   {
    "duration": 95,
    "start_time": "2024-03-04T11:47:28.805Z"
   },
   {
    "duration": 4,
    "start_time": "2024-03-04T11:47:28.901Z"
   },
   {
    "duration": 46,
    "start_time": "2024-03-04T11:47:28.906Z"
   },
   {
    "duration": 10,
    "start_time": "2024-03-04T11:47:28.954Z"
   },
   {
    "duration": 139,
    "start_time": "2024-03-04T11:47:28.965Z"
   },
   {
    "duration": 3,
    "start_time": "2024-03-04T11:47:29.106Z"
   },
   {
    "duration": 12,
    "start_time": "2024-03-04T11:47:29.111Z"
   },
   {
    "duration": 12,
    "start_time": "2024-03-04T11:47:29.124Z"
   },
   {
    "duration": 10,
    "start_time": "2024-03-04T11:47:29.137Z"
   },
   {
    "duration": 234,
    "start_time": "2024-03-04T11:47:29.149Z"
   },
   {
    "duration": 4,
    "start_time": "2024-03-04T11:47:29.385Z"
   },
   {
    "duration": 40,
    "start_time": "2024-03-04T11:47:29.390Z"
   },
   {
    "duration": 5,
    "start_time": "2024-03-04T11:47:29.432Z"
   },
   {
    "duration": 41,
    "start_time": "2024-03-04T11:47:29.438Z"
   },
   {
    "duration": 3,
    "start_time": "2024-03-04T11:47:29.480Z"
   },
   {
    "duration": 1322,
    "start_time": "2024-03-04T11:47:29.484Z"
   },
   {
    "duration": 314,
    "start_time": "2024-03-04T11:47:30.811Z"
   },
   {
    "duration": 16,
    "start_time": "2024-03-04T11:47:31.126Z"
   },
   {
    "duration": 446,
    "start_time": "2024-03-04T11:47:31.143Z"
   },
   {
    "duration": 3,
    "start_time": "2024-03-04T11:47:31.590Z"
   },
   {
    "duration": 717,
    "start_time": "2024-03-04T11:47:31.594Z"
   },
   {
    "duration": 330,
    "start_time": "2024-03-04T11:47:32.313Z"
   },
   {
    "duration": 577,
    "start_time": "2024-03-04T11:47:32.645Z"
   },
   {
    "duration": 1608,
    "start_time": "2024-03-04T11:47:33.223Z"
   },
   {
    "duration": 84,
    "start_time": "2024-03-04T11:47:34.832Z"
   },
   {
    "duration": 21,
    "start_time": "2024-03-04T11:47:34.917Z"
   },
   {
    "duration": 18,
    "start_time": "2024-03-04T11:47:34.939Z"
   },
   {
    "duration": 24,
    "start_time": "2024-03-04T11:47:34.959Z"
   },
   {
    "duration": 3,
    "start_time": "2024-03-04T11:47:34.985Z"
   },
   {
    "duration": 33,
    "start_time": "2024-03-04T11:47:34.990Z"
   },
   {
    "duration": 7,
    "start_time": "2024-03-04T11:47:35.024Z"
   },
   {
    "duration": 20,
    "start_time": "2024-03-04T11:47:35.033Z"
   },
   {
    "duration": 32,
    "start_time": "2024-03-04T11:47:35.055Z"
   },
   {
    "duration": 50,
    "start_time": "2024-03-04T11:47:35.088Z"
   },
   {
    "duration": 41,
    "start_time": "2024-03-04T11:47:35.140Z"
   },
   {
    "duration": 607,
    "start_time": "2024-03-04T11:47:35.183Z"
   },
   {
    "duration": 34,
    "start_time": "2024-03-04T11:47:35.791Z"
   },
   {
    "duration": 127,
    "start_time": "2024-03-04T11:47:35.826Z"
   },
   {
    "duration": 41,
    "start_time": "2024-03-04T11:47:35.954Z"
   },
   {
    "duration": 4,
    "start_time": "2024-03-04T11:47:35.997Z"
   },
   {
    "duration": 75,
    "start_time": "2024-03-04T11:47:36.003Z"
   },
   {
    "duration": 22,
    "start_time": "2024-03-04T11:47:36.080Z"
   },
   {
    "duration": 60,
    "start_time": "2024-03-04T11:47:36.104Z"
   },
   {
    "duration": 34,
    "start_time": "2024-03-04T11:47:36.165Z"
   },
   {
    "duration": 56,
    "start_time": "2024-03-04T11:47:36.201Z"
   },
   {
    "duration": 6,
    "start_time": "2024-03-04T11:47:36.259Z"
   },
   {
    "duration": 65,
    "start_time": "2024-03-04T11:47:36.267Z"
   },
   {
    "duration": 4,
    "start_time": "2024-03-04T11:47:36.334Z"
   },
   {
    "duration": 30,
    "start_time": "2024-03-04T12:00:05.827Z"
   },
   {
    "duration": 1187,
    "start_time": "2024-03-04T12:00:06.714Z"
   },
   {
    "duration": 248,
    "start_time": "2024-03-04T12:00:12.538Z"
   },
   {
    "duration": 130,
    "start_time": "2024-03-04T12:00:19.893Z"
   },
   {
    "duration": 1306,
    "start_time": "2024-03-04T12:00:20.261Z"
   },
   {
    "duration": 27,
    "start_time": "2024-03-04T12:00:25.520Z"
   },
   {
    "duration": 951,
    "start_time": "2024-03-04T12:00:26.412Z"
   },
   {
    "duration": 241,
    "start_time": "2024-03-04T12:00:30.024Z"
   },
   {
    "duration": 33,
    "start_time": "2024-03-04T12:00:38.297Z"
   },
   {
    "duration": 1275,
    "start_time": "2024-03-04T12:00:38.502Z"
   },
   {
    "duration": 278,
    "start_time": "2024-03-04T12:00:42.658Z"
   },
   {
    "duration": 1722,
    "start_time": "2024-03-04T12:41:49.213Z"
   },
   {
    "duration": 88,
    "start_time": "2024-03-04T12:42:31.751Z"
   },
   {
    "duration": 88,
    "start_time": "2024-03-04T12:42:36.026Z"
   },
   {
    "duration": 99,
    "start_time": "2024-03-04T12:42:44.959Z"
   },
   {
    "duration": 1797,
    "start_time": "2024-03-04T12:44:47.350Z"
   },
   {
    "duration": 218,
    "start_time": "2024-03-04T12:44:54.943Z"
   },
   {
    "duration": 153,
    "start_time": "2024-03-04T12:46:02.021Z"
   },
   {
    "duration": 129,
    "start_time": "2024-03-04T12:46:10.770Z"
   },
   {
    "duration": 139,
    "start_time": "2024-03-04T12:46:15.043Z"
   },
   {
    "duration": 234,
    "start_time": "2024-03-04T12:46:20.061Z"
   },
   {
    "duration": 6,
    "start_time": "2024-03-04T12:47:28.914Z"
   },
   {
    "duration": 10,
    "start_time": "2024-03-04T12:48:37.208Z"
   },
   {
    "duration": 10,
    "start_time": "2024-03-04T12:48:48.095Z"
   },
   {
    "duration": 12,
    "start_time": "2024-03-04T12:48:57.828Z"
   },
   {
    "duration": 13,
    "start_time": "2024-03-04T12:49:02.439Z"
   },
   {
    "duration": 12,
    "start_time": "2024-03-04T12:49:07.909Z"
   },
   {
    "duration": 9,
    "start_time": "2024-03-04T12:49:10.294Z"
   },
   {
    "duration": 5,
    "start_time": "2024-03-04T12:50:30.515Z"
   },
   {
    "duration": 5,
    "start_time": "2024-03-04T12:50:40.948Z"
   },
   {
    "duration": 4,
    "start_time": "2024-03-04T12:50:48.595Z"
   },
   {
    "duration": 5,
    "start_time": "2024-03-04T12:50:58.613Z"
   },
   {
    "duration": 6,
    "start_time": "2024-03-04T12:51:46.804Z"
   },
   {
    "duration": 225,
    "start_time": "2024-03-04T13:06:15.662Z"
   },
   {
    "duration": 228,
    "start_time": "2024-03-04T13:06:23.596Z"
   },
   {
    "duration": 1213,
    "start_time": "2024-03-04T20:02:46.060Z"
   },
   {
    "duration": 2,
    "start_time": "2024-03-04T20:02:47.276Z"
   },
   {
    "duration": 11,
    "start_time": "2024-03-04T20:02:47.279Z"
   },
   {
    "duration": 508,
    "start_time": "2024-03-04T20:02:47.292Z"
   },
   {
    "duration": 14,
    "start_time": "2024-03-04T20:02:47.802Z"
   },
   {
    "duration": 11,
    "start_time": "2024-03-04T20:02:47.818Z"
   },
   {
    "duration": 19,
    "start_time": "2024-03-04T20:02:47.830Z"
   },
   {
    "duration": 2070,
    "start_time": "2024-03-04T20:02:47.850Z"
   },
   {
    "duration": 135,
    "start_time": "2024-03-04T20:02:49.921Z"
   },
   {
    "duration": 4,
    "start_time": "2024-03-04T20:02:50.057Z"
   },
   {
    "duration": 10,
    "start_time": "2024-03-04T20:02:50.062Z"
   },
   {
    "duration": 244,
    "start_time": "2024-03-04T20:02:50.073Z"
   },
   {
    "duration": 5,
    "start_time": "2024-03-04T20:02:50.319Z"
   },
   {
    "duration": 29,
    "start_time": "2024-03-04T20:02:50.327Z"
   },
   {
    "duration": 17,
    "start_time": "2024-03-04T20:02:50.357Z"
   },
   {
    "duration": 263,
    "start_time": "2024-03-04T20:02:50.375Z"
   },
   {
    "duration": 4,
    "start_time": "2024-03-04T20:02:50.639Z"
   },
   {
    "duration": 12,
    "start_time": "2024-03-04T20:02:50.644Z"
   },
   {
    "duration": 16,
    "start_time": "2024-03-04T20:02:50.657Z"
   },
   {
    "duration": 10,
    "start_time": "2024-03-04T20:02:50.674Z"
   },
   {
    "duration": 232,
    "start_time": "2024-03-04T20:02:50.686Z"
   },
   {
    "duration": 5,
    "start_time": "2024-03-04T20:02:50.919Z"
   },
   {
    "duration": 43,
    "start_time": "2024-03-04T20:02:50.926Z"
   },
   {
    "duration": 6,
    "start_time": "2024-03-04T20:02:50.970Z"
   },
   {
    "duration": 55,
    "start_time": "2024-03-04T20:02:50.978Z"
   },
   {
    "duration": 1333,
    "start_time": "2024-03-04T20:02:51.035Z"
   },
   {
    "duration": 271,
    "start_time": "2024-03-04T20:02:52.370Z"
   },
   {
    "duration": 15,
    "start_time": "2024-03-04T20:02:52.642Z"
   },
   {
    "duration": 427,
    "start_time": "2024-03-04T20:02:52.659Z"
   },
   {
    "duration": 3,
    "start_time": "2024-03-04T20:02:53.087Z"
   },
   {
    "duration": 615,
    "start_time": "2024-03-04T20:02:53.092Z"
   },
   {
    "duration": 324,
    "start_time": "2024-03-04T20:02:53.708Z"
   },
   {
    "duration": 609,
    "start_time": "2024-03-04T20:02:54.034Z"
   },
   {
    "duration": 1749,
    "start_time": "2024-03-04T20:02:54.645Z"
   },
   {
    "duration": 7,
    "start_time": "2024-03-04T20:02:56.402Z"
   },
   {
    "duration": 157,
    "start_time": "2024-03-04T20:02:56.411Z"
   },
   {
    "duration": 22,
    "start_time": "2024-03-04T20:02:56.569Z"
   },
   {
    "duration": 18,
    "start_time": "2024-03-04T20:02:56.608Z"
   },
   {
    "duration": 34,
    "start_time": "2024-03-04T20:02:56.628Z"
   },
   {
    "duration": 25,
    "start_time": "2024-03-04T20:02:56.664Z"
   },
   {
    "duration": 10,
    "start_time": "2024-03-04T20:02:56.692Z"
   },
   {
    "duration": 9,
    "start_time": "2024-03-04T20:02:56.703Z"
   },
   {
    "duration": 14,
    "start_time": "2024-03-04T20:02:56.714Z"
   },
   {
    "duration": 5,
    "start_time": "2024-03-04T20:02:56.730Z"
   },
   {
    "duration": 5,
    "start_time": "2024-03-04T20:02:56.737Z"
   },
   {
    "duration": 7,
    "start_time": "2024-03-04T20:02:56.743Z"
   },
   {
    "duration": 611,
    "start_time": "2024-03-04T20:02:56.752Z"
   },
   {
    "duration": 49,
    "start_time": "2024-03-04T20:02:57.365Z"
   },
   {
    "duration": 394,
    "start_time": "2024-03-04T20:02:57.415Z"
   },
   {
    "duration": 30,
    "start_time": "2024-03-04T20:02:57.811Z"
   },
   {
    "duration": 6,
    "start_time": "2024-03-04T20:02:57.842Z"
   },
   {
    "duration": 75,
    "start_time": "2024-03-04T20:02:57.849Z"
   },
   {
    "duration": 25,
    "start_time": "2024-03-04T20:02:57.925Z"
   },
   {
    "duration": 24,
    "start_time": "2024-03-04T20:02:58.002Z"
   },
   {
    "duration": 34,
    "start_time": "2024-03-04T20:02:58.027Z"
   },
   {
    "duration": 51,
    "start_time": "2024-03-04T20:02:58.062Z"
   },
   {
    "duration": 5,
    "start_time": "2024-03-04T20:02:58.114Z"
   },
   {
    "duration": 49,
    "start_time": "2024-03-04T20:02:58.120Z"
   },
   {
    "duration": 5,
    "start_time": "2024-03-04T20:02:58.170Z"
   },
   {
    "duration": 52,
    "start_time": "2024-03-04T20:41:41.221Z"
   },
   {
    "duration": 1494,
    "start_time": "2024-03-04T20:41:45.066Z"
   },
   {
    "duration": 4,
    "start_time": "2024-03-04T20:41:46.563Z"
   },
   {
    "duration": 24,
    "start_time": "2024-03-04T20:41:46.569Z"
   },
   {
    "duration": 279,
    "start_time": "2024-03-04T20:41:46.595Z"
   },
   {
    "duration": 19,
    "start_time": "2024-03-04T20:41:46.875Z"
   },
   {
    "duration": 14,
    "start_time": "2024-03-04T20:41:46.895Z"
   },
   {
    "duration": 24,
    "start_time": "2024-03-04T20:41:46.911Z"
   },
   {
    "duration": 2885,
    "start_time": "2024-03-04T20:41:46.937Z"
   },
   {
    "duration": 86,
    "start_time": "2024-03-04T20:55:40.622Z"
   },
   {
    "duration": 14,
    "start_time": "2024-03-04T20:55:51.052Z"
   },
   {
    "duration": 5,
    "start_time": "2024-03-04T20:55:55.304Z"
   },
   {
    "duration": 37,
    "start_time": "2024-03-04T20:55:55.312Z"
   },
   {
    "duration": 30,
    "start_time": "2024-03-04T20:55:55.350Z"
   },
   {
    "duration": 237,
    "start_time": "2024-03-04T20:55:55.382Z"
   },
   {
    "duration": 18,
    "start_time": "2024-03-04T20:55:55.621Z"
   },
   {
    "duration": 18,
    "start_time": "2024-03-04T20:55:55.641Z"
   },
   {
    "duration": 26,
    "start_time": "2024-03-04T20:55:55.679Z"
   },
   {
    "duration": 2752,
    "start_time": "2024-03-04T20:55:55.707Z"
   },
   {
    "duration": 85,
    "start_time": "2024-03-04T20:55:58.462Z"
   },
   {
    "duration": 5,
    "start_time": "2024-03-04T20:55:58.548Z"
   },
   {
    "duration": 7,
    "start_time": "2024-03-04T20:55:58.555Z"
   },
   {
    "duration": 292,
    "start_time": "2024-03-04T20:55:58.564Z"
   },
   {
    "duration": 4,
    "start_time": "2024-03-04T20:55:58.858Z"
   },
   {
    "duration": 41,
    "start_time": "2024-03-04T20:55:58.864Z"
   },
   {
    "duration": 12,
    "start_time": "2024-03-04T20:55:58.907Z"
   },
   {
    "duration": 293,
    "start_time": "2024-03-04T20:55:58.921Z"
   },
   {
    "duration": 5,
    "start_time": "2024-03-04T20:55:59.215Z"
   },
   {
    "duration": 14,
    "start_time": "2024-03-04T20:55:59.222Z"
   },
   {
    "duration": 33,
    "start_time": "2024-03-04T20:55:59.237Z"
   },
   {
    "duration": 33,
    "start_time": "2024-03-04T20:55:59.272Z"
   },
   {
    "duration": 314,
    "start_time": "2024-03-04T20:55:59.307Z"
   },
   {
    "duration": 5,
    "start_time": "2024-03-04T20:55:59.623Z"
   },
   {
    "duration": 60,
    "start_time": "2024-03-04T20:55:59.629Z"
   },
   {
    "duration": 6,
    "start_time": "2024-03-04T20:55:59.693Z"
   },
   {
    "duration": 48,
    "start_time": "2024-03-04T20:55:59.701Z"
   },
   {
    "duration": 1774,
    "start_time": "2024-03-04T20:55:59.751Z"
   },
   {
    "duration": 531,
    "start_time": "2024-03-04T20:56:01.527Z"
   },
   {
    "duration": 31,
    "start_time": "2024-03-04T20:56:02.060Z"
   },
   {
    "duration": 491,
    "start_time": "2024-03-04T20:56:02.093Z"
   },
   {
    "duration": 5,
    "start_time": "2024-03-04T20:56:02.586Z"
   },
   {
    "duration": 1044,
    "start_time": "2024-03-04T20:56:02.592Z"
   },
   {
    "duration": 421,
    "start_time": "2024-03-04T20:56:03.637Z"
   },
   {
    "duration": 730,
    "start_time": "2024-03-04T20:56:04.059Z"
   },
   {
    "duration": 1599,
    "start_time": "2024-03-04T20:56:04.791Z"
   },
   {
    "duration": 1584,
    "start_time": "2024-03-04T20:56:24.610Z"
   },
   {
    "duration": 13129,
    "start_time": "2024-03-04T20:56:36.816Z"
   },
   {
    "duration": 2527,
    "start_time": "2024-03-04T20:57:24.875Z"
   },
   {
    "duration": 386,
    "start_time": "2024-03-04T20:57:39.613Z"
   },
   {
    "duration": 6,
    "start_time": "2024-03-04T21:02:01.529Z"
   },
   {
    "duration": 174,
    "start_time": "2024-03-04T21:02:09.681Z"
   },
   {
    "duration": 392,
    "start_time": "2024-03-04T21:03:16.618Z"
   },
   {
    "duration": 757,
    "start_time": "2024-03-04T21:03:23.143Z"
   },
   {
    "duration": 382,
    "start_time": "2024-03-04T21:03:24.014Z"
   },
   {
    "duration": 1648,
    "start_time": "2024-03-04T21:03:48.176Z"
   },
   {
    "duration": 3,
    "start_time": "2024-03-04T21:04:00.702Z"
   },
   {
    "duration": 47,
    "start_time": "2024-03-04T21:04:00.707Z"
   },
   {
    "duration": 59,
    "start_time": "2024-03-04T21:04:00.756Z"
   },
   {
    "duration": 256,
    "start_time": "2024-03-04T21:04:00.817Z"
   },
   {
    "duration": 18,
    "start_time": "2024-03-04T21:04:01.079Z"
   },
   {
    "duration": 90,
    "start_time": "2024-03-04T21:04:01.099Z"
   },
   {
    "duration": 65,
    "start_time": "2024-03-04T21:04:01.191Z"
   },
   {
    "duration": 2799,
    "start_time": "2024-03-04T21:04:01.258Z"
   },
   {
    "duration": 49,
    "start_time": "2024-03-04T21:04:04.058Z"
   },
   {
    "duration": 4,
    "start_time": "2024-03-04T21:04:04.109Z"
   },
   {
    "duration": 26,
    "start_time": "2024-03-04T21:04:04.116Z"
   },
   {
    "duration": 290,
    "start_time": "2024-03-04T21:04:04.143Z"
   },
   {
    "duration": 5,
    "start_time": "2024-03-04T21:04:04.435Z"
   },
   {
    "duration": 46,
    "start_time": "2024-03-04T21:04:04.441Z"
   },
   {
    "duration": 13,
    "start_time": "2024-03-04T21:04:04.489Z"
   },
   {
    "duration": 302,
    "start_time": "2024-03-04T21:04:04.504Z"
   },
   {
    "duration": 4,
    "start_time": "2024-03-04T21:04:04.807Z"
   },
   {
    "duration": 16,
    "start_time": "2024-03-04T21:04:04.813Z"
   },
   {
    "duration": 17,
    "start_time": "2024-03-04T21:04:04.830Z"
   },
   {
    "duration": 20,
    "start_time": "2024-03-04T21:04:04.848Z"
   },
   {
    "duration": 317,
    "start_time": "2024-03-04T21:04:04.869Z"
   },
   {
    "duration": 5,
    "start_time": "2024-03-04T21:04:05.187Z"
   },
   {
    "duration": 54,
    "start_time": "2024-03-04T21:04:05.194Z"
   },
   {
    "duration": 6,
    "start_time": "2024-03-04T21:04:05.250Z"
   },
   {
    "duration": 55,
    "start_time": "2024-03-04T21:04:05.257Z"
   },
   {
    "duration": 1821,
    "start_time": "2024-03-04T21:04:05.313Z"
   },
   {
    "duration": 405,
    "start_time": "2024-03-04T21:04:07.136Z"
   },
   {
    "duration": 37,
    "start_time": "2024-03-04T21:04:07.543Z"
   },
   {
    "duration": 385,
    "start_time": "2024-03-04T21:04:07.584Z"
   },
   {
    "duration": 9,
    "start_time": "2024-03-04T21:04:07.971Z"
   },
   {
    "duration": 1327,
    "start_time": "2024-03-04T21:04:07.982Z"
   },
   {
    "duration": 489,
    "start_time": "2024-03-04T21:04:09.311Z"
   },
   {
    "duration": 782,
    "start_time": "2024-03-04T21:04:09.802Z"
   },
   {
    "duration": 1624,
    "start_time": "2024-03-04T21:04:10.585Z"
   },
   {
    "duration": 1654,
    "start_time": "2024-03-04T21:04:26.538Z"
   },
   {
    "duration": 158,
    "start_time": "2024-03-04T21:06:30.309Z"
   },
   {
    "duration": 1641,
    "start_time": "2024-03-04T21:06:38.769Z"
   },
   {
    "duration": 9,
    "start_time": "2024-03-04T21:07:02.459Z"
   },
   {
    "duration": 6,
    "start_time": "2024-03-04T21:07:09.181Z"
   },
   {
    "duration": 1664,
    "start_time": "2024-03-04T21:07:32.369Z"
   },
   {
    "duration": 7,
    "start_time": "2024-03-04T21:07:35.387Z"
   },
   {
    "duration": 6,
    "start_time": "2024-03-04T21:07:39.541Z"
   },
   {
    "duration": 1665,
    "start_time": "2024-03-04T21:08:09.684Z"
   },
   {
    "duration": 1687,
    "start_time": "2024-03-04T21:08:19.058Z"
   },
   {
    "duration": 14457,
    "start_time": "2024-03-04T21:08:30.185Z"
   },
   {
    "duration": 6,
    "start_time": "2024-03-04T21:10:06.197Z"
   },
   {
    "duration": 4,
    "start_time": "2024-03-04T21:10:14.762Z"
   },
   {
    "duration": 5,
    "start_time": "2024-03-04T21:10:56.546Z"
   },
   {
    "duration": 15206,
    "start_time": "2024-03-04T21:11:10.842Z"
   },
   {
    "duration": 15248,
    "start_time": "2024-03-04T21:11:27.962Z"
   },
   {
    "duration": 2656,
    "start_time": "2024-03-04T21:12:11.890Z"
   },
   {
    "duration": 3010,
    "start_time": "2024-03-04T21:12:14.548Z"
   },
   {
    "duration": 1687,
    "start_time": "2024-03-04T21:12:53.715Z"
   },
   {
    "duration": 635,
    "start_time": "2024-03-04T21:12:57.484Z"
   },
   {
    "duration": 1889,
    "start_time": "2024-03-04T21:12:58.121Z"
   },
   {
    "duration": 0,
    "start_time": "2024-03-04T21:13:00.012Z"
   },
   {
    "duration": 1661,
    "start_time": "2024-03-04T21:13:12.965Z"
   },
   {
    "duration": 1806,
    "start_time": "2024-03-04T21:13:31.168Z"
   },
   {
    "duration": 2630,
    "start_time": "2024-03-04T21:14:04.431Z"
   },
   {
    "duration": 6,
    "start_time": "2024-03-04T21:14:18.768Z"
   },
   {
    "duration": 178,
    "start_time": "2024-03-04T21:14:19.804Z"
   },
   {
    "duration": 169,
    "start_time": "2024-03-04T21:14:32.107Z"
   },
   {
    "duration": 789,
    "start_time": "2024-03-04T21:22:41.435Z"
   },
   {
    "duration": 1627,
    "start_time": "2024-03-04T21:22:42.227Z"
   },
   {
    "duration": 172,
    "start_time": "2024-03-04T21:22:49.795Z"
   },
   {
    "duration": 4,
    "start_time": "2024-03-04T21:23:15.839Z"
   },
   {
    "duration": 27,
    "start_time": "2024-03-04T21:24:07.456Z"
   },
   {
    "duration": 14,
    "start_time": "2024-03-04T21:24:09.500Z"
   },
   {
    "duration": 35,
    "start_time": "2024-03-04T21:24:09.516Z"
   },
   {
    "duration": 5,
    "start_time": "2024-03-04T21:24:09.719Z"
   },
   {
    "duration": 15,
    "start_time": "2024-03-04T21:24:10.218Z"
   },
   {
    "duration": 7,
    "start_time": "2024-03-04T21:24:10.447Z"
   },
   {
    "duration": 15,
    "start_time": "2024-03-04T21:24:11.962Z"
   },
   {
    "duration": 3,
    "start_time": "2024-03-04T21:24:12.458Z"
   },
   {
    "duration": 5,
    "start_time": "2024-03-04T21:24:12.756Z"
   },
   {
    "duration": 5,
    "start_time": "2024-03-04T21:24:13.042Z"
   },
   {
    "duration": 838,
    "start_time": "2024-03-04T21:24:13.352Z"
   },
   {
    "duration": 40,
    "start_time": "2024-03-04T21:24:14.192Z"
   },
   {
    "duration": 150,
    "start_time": "2024-03-04T21:24:17.118Z"
   },
   {
    "duration": 1547,
    "start_time": "2024-03-04T21:27:21.587Z"
   },
   {
    "duration": 1726,
    "start_time": "2024-03-04T21:27:31.723Z"
   },
   {
    "duration": 159,
    "start_time": "2024-03-04T21:27:33.683Z"
   },
   {
    "duration": 745,
    "start_time": "2024-03-04T21:27:52.679Z"
   },
   {
    "duration": 1607,
    "start_time": "2024-03-04T21:27:53.426Z"
   },
   {
    "duration": 154,
    "start_time": "2024-03-04T21:27:58.141Z"
   },
   {
    "duration": 2518,
    "start_time": "2024-03-04T21:28:45.874Z"
   },
   {
    "duration": 173,
    "start_time": "2024-03-04T21:28:48.393Z"
   },
   {
    "duration": 162,
    "start_time": "2024-03-04T21:28:53.854Z"
   },
   {
    "duration": 1217,
    "start_time": "2024-03-04T21:46:18.674Z"
   },
   {
    "duration": 3,
    "start_time": "2024-03-04T21:46:19.893Z"
   },
   {
    "duration": 26,
    "start_time": "2024-03-04T21:46:19.897Z"
   },
   {
    "duration": 208,
    "start_time": "2024-03-04T21:46:19.925Z"
   },
   {
    "duration": 18,
    "start_time": "2024-03-04T21:46:20.135Z"
   },
   {
    "duration": 31,
    "start_time": "2024-03-04T21:46:20.155Z"
   },
   {
    "duration": 45,
    "start_time": "2024-03-04T21:46:20.187Z"
   },
   {
    "duration": 2846,
    "start_time": "2024-03-04T21:46:20.234Z"
   },
   {
    "duration": 49,
    "start_time": "2024-03-04T21:46:23.082Z"
   },
   {
    "duration": 6,
    "start_time": "2024-03-04T21:46:23.135Z"
   },
   {
    "duration": 13,
    "start_time": "2024-03-04T21:46:23.142Z"
   },
   {
    "duration": 260,
    "start_time": "2024-03-04T21:46:23.156Z"
   },
   {
    "duration": 5,
    "start_time": "2024-03-04T21:46:23.419Z"
   },
   {
    "duration": 26,
    "start_time": "2024-03-04T21:46:23.426Z"
   },
   {
    "duration": 34,
    "start_time": "2024-03-04T21:46:23.454Z"
   },
   {
    "duration": 307,
    "start_time": "2024-03-04T21:46:23.490Z"
   },
   {
    "duration": 5,
    "start_time": "2024-03-04T21:46:23.799Z"
   },
   {
    "duration": 25,
    "start_time": "2024-03-04T21:46:23.806Z"
   },
   {
    "duration": 23,
    "start_time": "2024-03-04T21:46:23.833Z"
   },
   {
    "duration": 15,
    "start_time": "2024-03-04T21:46:23.858Z"
   },
   {
    "duration": 299,
    "start_time": "2024-03-04T21:46:23.881Z"
   },
   {
    "duration": 5,
    "start_time": "2024-03-04T21:46:24.182Z"
   },
   {
    "duration": 53,
    "start_time": "2024-03-04T21:46:24.188Z"
   },
   {
    "duration": 6,
    "start_time": "2024-03-04T21:46:24.243Z"
   },
   {
    "duration": 42,
    "start_time": "2024-03-04T21:46:24.281Z"
   },
   {
    "duration": 2469,
    "start_time": "2024-03-04T21:46:24.325Z"
   },
   {
    "duration": 360,
    "start_time": "2024-03-04T21:46:26.796Z"
   },
   {
    "duration": 26,
    "start_time": "2024-03-04T21:46:27.160Z"
   },
   {
    "duration": 537,
    "start_time": "2024-03-04T21:46:27.188Z"
   },
   {
    "duration": 4,
    "start_time": "2024-03-04T21:46:27.726Z"
   },
   {
    "duration": 1066,
    "start_time": "2024-03-04T21:46:27.731Z"
   },
   {
    "duration": 395,
    "start_time": "2024-03-04T21:46:28.799Z"
   },
   {
    "duration": 727,
    "start_time": "2024-03-04T21:46:29.195Z"
   },
   {
    "duration": 1494,
    "start_time": "2024-03-04T21:46:29.924Z"
   },
   {
    "duration": 308,
    "start_time": "2024-03-04T21:46:31.419Z"
   },
   {
    "duration": 6,
    "start_time": "2024-03-04T21:46:31.729Z"
   },
   {
    "duration": 2482,
    "start_time": "2024-03-04T21:46:31.736Z"
   },
   {
    "duration": 26,
    "start_time": "2024-03-04T21:46:34.220Z"
   },
   {
    "duration": 12,
    "start_time": "2024-03-04T21:46:34.247Z"
   },
   {
    "duration": 38,
    "start_time": "2024-03-04T21:46:34.279Z"
   },
   {
    "duration": 5,
    "start_time": "2024-03-04T21:46:34.319Z"
   },
   {
    "duration": 12,
    "start_time": "2024-03-04T21:46:34.325Z"
   },
   {
    "duration": 4,
    "start_time": "2024-03-04T21:46:34.338Z"
   },
   {
    "duration": 43,
    "start_time": "2024-03-04T21:46:34.344Z"
   },
   {
    "duration": 3,
    "start_time": "2024-03-04T21:46:34.390Z"
   },
   {
    "duration": 12,
    "start_time": "2024-03-04T21:46:34.394Z"
   },
   {
    "duration": 13,
    "start_time": "2024-03-04T21:46:34.408Z"
   },
   {
    "duration": 772,
    "start_time": "2024-03-04T21:46:34.422Z"
   },
   {
    "duration": 40,
    "start_time": "2024-03-04T21:46:35.196Z"
   },
   {
    "duration": 131,
    "start_time": "2024-03-04T21:46:35.237Z"
   },
   {
    "duration": 41,
    "start_time": "2024-03-04T21:46:35.369Z"
   },
   {
    "duration": 5,
    "start_time": "2024-03-04T21:46:35.412Z"
   },
   {
    "duration": 88,
    "start_time": "2024-03-04T21:46:35.418Z"
   },
   {
    "duration": 30,
    "start_time": "2024-03-04T21:46:35.508Z"
   },
   {
    "duration": 64,
    "start_time": "2024-03-04T21:46:35.540Z"
   },
   {
    "duration": 51,
    "start_time": "2024-03-04T21:46:35.606Z"
   },
   {
    "duration": 69,
    "start_time": "2024-03-04T21:46:35.659Z"
   },
   {
    "duration": 6,
    "start_time": "2024-03-04T21:46:35.730Z"
   },
   {
    "duration": 85,
    "start_time": "2024-03-04T21:46:35.738Z"
   },
   {
    "duration": 7,
    "start_time": "2024-03-04T21:46:35.824Z"
   },
   {
    "duration": 104,
    "start_time": "2024-03-04T21:47:12.994Z"
   },
   {
    "duration": 109,
    "start_time": "2024-03-04T21:47:33.472Z"
   },
   {
    "duration": 98,
    "start_time": "2024-03-04T21:47:38.584Z"
   },
   {
    "duration": 95,
    "start_time": "2024-03-04T21:47:46.331Z"
   },
   {
    "duration": 108,
    "start_time": "2024-03-04T21:47:54.082Z"
   },
   {
    "duration": 107,
    "start_time": "2024-03-04T21:49:08.001Z"
   },
   {
    "duration": 101,
    "start_time": "2024-03-04T21:49:14.765Z"
   },
   {
    "duration": 106,
    "start_time": "2024-03-04T21:50:10.088Z"
   },
   {
    "duration": 100,
    "start_time": "2024-03-04T21:50:15.944Z"
   },
   {
    "duration": 101,
    "start_time": "2024-03-04T21:50:27.889Z"
   },
   {
    "duration": 105,
    "start_time": "2024-03-04T21:50:34.304Z"
   },
   {
    "duration": 111,
    "start_time": "2024-03-04T21:50:50.155Z"
   },
   {
    "duration": 97,
    "start_time": "2024-03-04T21:50:54.914Z"
   },
   {
    "duration": 1346,
    "start_time": "2024-03-04T22:01:04.573Z"
   },
   {
    "duration": 3,
    "start_time": "2024-03-04T22:01:05.922Z"
   },
   {
    "duration": 6,
    "start_time": "2024-03-04T22:01:05.926Z"
   },
   {
    "duration": 223,
    "start_time": "2024-03-04T22:01:05.934Z"
   },
   {
    "duration": 30,
    "start_time": "2024-03-04T22:01:06.159Z"
   },
   {
    "duration": 12,
    "start_time": "2024-03-04T22:01:06.191Z"
   },
   {
    "duration": 25,
    "start_time": "2024-03-04T22:01:06.205Z"
   },
   {
    "duration": 2881,
    "start_time": "2024-03-04T22:01:06.232Z"
   },
   {
    "duration": 51,
    "start_time": "2024-03-04T22:01:09.114Z"
   },
   {
    "duration": 5,
    "start_time": "2024-03-04T22:01:09.169Z"
   },
   {
    "duration": 5,
    "start_time": "2024-03-04T22:01:09.179Z"
   },
   {
    "duration": 275,
    "start_time": "2024-03-04T22:01:09.186Z"
   },
   {
    "duration": 5,
    "start_time": "2024-03-04T22:01:09.463Z"
   },
   {
    "duration": 36,
    "start_time": "2024-03-04T22:01:09.469Z"
   },
   {
    "duration": 16,
    "start_time": "2024-03-04T22:01:09.507Z"
   },
   {
    "duration": 318,
    "start_time": "2024-03-04T22:01:09.525Z"
   },
   {
    "duration": 4,
    "start_time": "2024-03-04T22:01:09.845Z"
   },
   {
    "duration": 11,
    "start_time": "2024-03-04T22:01:09.852Z"
   },
   {
    "duration": 25,
    "start_time": "2024-03-04T22:01:09.865Z"
   },
   {
    "duration": 13,
    "start_time": "2024-03-04T22:01:09.892Z"
   },
   {
    "duration": 302,
    "start_time": "2024-03-04T22:01:09.907Z"
   },
   {
    "duration": 6,
    "start_time": "2024-03-04T22:01:10.211Z"
   },
   {
    "duration": 61,
    "start_time": "2024-03-04T22:01:10.219Z"
   },
   {
    "duration": 8,
    "start_time": "2024-03-04T22:01:10.282Z"
   },
   {
    "duration": 47,
    "start_time": "2024-03-04T22:01:10.292Z"
   },
   {
    "duration": 1793,
    "start_time": "2024-03-04T22:01:10.341Z"
   },
   {
    "duration": 381,
    "start_time": "2024-03-04T22:01:12.136Z"
   },
   {
    "duration": 20,
    "start_time": "2024-03-04T22:01:12.521Z"
   },
   {
    "duration": 541,
    "start_time": "2024-03-04T22:01:12.542Z"
   },
   {
    "duration": 3,
    "start_time": "2024-03-04T22:01:13.085Z"
   },
   {
    "duration": 1061,
    "start_time": "2024-03-04T22:01:13.089Z"
   },
   {
    "duration": 417,
    "start_time": "2024-03-04T22:01:14.151Z"
   },
   {
    "duration": 683,
    "start_time": "2024-03-04T22:01:14.571Z"
   },
   {
    "duration": 1544,
    "start_time": "2024-03-04T22:01:15.255Z"
   },
   {
    "duration": 304,
    "start_time": "2024-03-04T22:01:16.801Z"
   },
   {
    "duration": 5,
    "start_time": "2024-03-04T22:01:17.106Z"
   },
   {
    "duration": 2533,
    "start_time": "2024-03-04T22:01:17.113Z"
   },
   {
    "duration": 53,
    "start_time": "2024-03-04T22:01:19.649Z"
   },
   {
    "duration": 13,
    "start_time": "2024-03-04T22:01:19.704Z"
   },
   {
    "duration": 32,
    "start_time": "2024-03-04T22:01:19.719Z"
   },
   {
    "duration": 4,
    "start_time": "2024-03-04T22:01:19.752Z"
   },
   {
    "duration": 37,
    "start_time": "2024-03-04T22:01:19.757Z"
   },
   {
    "duration": 4,
    "start_time": "2024-03-04T22:01:19.796Z"
   },
   {
    "duration": 5,
    "start_time": "2024-03-04T22:01:19.802Z"
   },
   {
    "duration": 6,
    "start_time": "2024-03-04T22:01:19.809Z"
   },
   {
    "duration": 868,
    "start_time": "2024-03-04T22:01:19.816Z"
   },
   {
    "duration": 40,
    "start_time": "2024-03-04T22:01:20.686Z"
   },
   {
    "duration": 178,
    "start_time": "2024-03-04T22:01:20.727Z"
   },
   {
    "duration": 86,
    "start_time": "2024-03-04T22:01:20.907Z"
   },
   {
    "duration": 6,
    "start_time": "2024-03-04T22:01:20.995Z"
   },
   {
    "duration": 82,
    "start_time": "2024-03-04T22:01:21.002Z"
   },
   {
    "duration": 40,
    "start_time": "2024-03-04T22:01:21.086Z"
   },
   {
    "duration": 67,
    "start_time": "2024-03-04T22:01:21.128Z"
   },
   {
    "duration": 45,
    "start_time": "2024-03-04T22:01:21.196Z"
   },
   {
    "duration": 79,
    "start_time": "2024-03-04T22:01:21.242Z"
   },
   {
    "duration": 7,
    "start_time": "2024-03-04T22:01:21.323Z"
   },
   {
    "duration": 81,
    "start_time": "2024-03-04T22:01:21.331Z"
   },
   {
    "duration": 9,
    "start_time": "2024-03-04T22:01:21.413Z"
   },
   {
    "duration": 1545,
    "start_time": "2024-03-05T06:37:08.723Z"
   },
   {
    "duration": 2,
    "start_time": "2024-03-05T06:37:10.270Z"
   },
   {
    "duration": 15,
    "start_time": "2024-03-05T06:37:10.275Z"
   },
   {
    "duration": 520,
    "start_time": "2024-03-05T06:37:10.293Z"
   },
   {
    "duration": 19,
    "start_time": "2024-03-05T06:37:10.815Z"
   },
   {
    "duration": 20,
    "start_time": "2024-03-05T06:37:10.836Z"
   },
   {
    "duration": 25,
    "start_time": "2024-03-05T06:37:10.858Z"
   },
   {
    "duration": 2855,
    "start_time": "2024-03-05T06:37:10.885Z"
   },
   {
    "duration": 144,
    "start_time": "2024-03-05T06:37:13.741Z"
   },
   {
    "duration": 6,
    "start_time": "2024-03-05T06:37:13.887Z"
   },
   {
    "duration": 4,
    "start_time": "2024-03-05T06:37:13.895Z"
   },
   {
    "duration": 273,
    "start_time": "2024-03-05T06:37:13.901Z"
   },
   {
    "duration": 4,
    "start_time": "2024-03-05T06:37:14.176Z"
   },
   {
    "duration": 40,
    "start_time": "2024-03-05T06:37:14.183Z"
   },
   {
    "duration": 11,
    "start_time": "2024-03-05T06:37:14.225Z"
   },
   {
    "duration": 299,
    "start_time": "2024-03-05T06:37:14.238Z"
   },
   {
    "duration": 4,
    "start_time": "2024-03-05T06:37:14.539Z"
   },
   {
    "duration": 10,
    "start_time": "2024-03-05T06:37:14.545Z"
   },
   {
    "duration": 14,
    "start_time": "2024-03-05T06:37:14.556Z"
   },
   {
    "duration": 13,
    "start_time": "2024-03-05T06:37:14.571Z"
   },
   {
    "duration": 329,
    "start_time": "2024-03-05T06:37:14.585Z"
   },
   {
    "duration": 7,
    "start_time": "2024-03-05T06:37:14.916Z"
   },
   {
    "duration": 68,
    "start_time": "2024-03-05T06:37:14.925Z"
   },
   {
    "duration": 9,
    "start_time": "2024-03-05T06:37:14.996Z"
   },
   {
    "duration": 101,
    "start_time": "2024-03-05T06:37:15.007Z"
   },
   {
    "duration": 1780,
    "start_time": "2024-03-05T06:37:15.110Z"
   },
   {
    "duration": 341,
    "start_time": "2024-03-05T06:37:16.892Z"
   },
   {
    "duration": 19,
    "start_time": "2024-03-05T06:37:17.234Z"
   },
   {
    "duration": 548,
    "start_time": "2024-03-05T06:37:17.255Z"
   },
   {
    "duration": 4,
    "start_time": "2024-03-05T06:37:17.804Z"
   },
   {
    "duration": 1031,
    "start_time": "2024-03-05T06:37:17.809Z"
   },
   {
    "duration": 419,
    "start_time": "2024-03-05T06:37:18.842Z"
   },
   {
    "duration": 722,
    "start_time": "2024-03-05T06:37:19.263Z"
   },
   {
    "duration": 1558,
    "start_time": "2024-03-05T06:37:19.987Z"
   },
   {
    "duration": 322,
    "start_time": "2024-03-05T06:37:21.546Z"
   },
   {
    "duration": 6,
    "start_time": "2024-03-05T06:37:21.870Z"
   },
   {
    "duration": 2468,
    "start_time": "2024-03-05T06:37:21.877Z"
   },
   {
    "duration": 25,
    "start_time": "2024-03-05T06:37:24.347Z"
   },
   {
    "duration": 12,
    "start_time": "2024-03-05T06:37:24.374Z"
   },
   {
    "duration": 53,
    "start_time": "2024-03-05T06:37:24.388Z"
   },
   {
    "duration": 4,
    "start_time": "2024-03-05T06:37:24.445Z"
   },
   {
    "duration": 15,
    "start_time": "2024-03-05T06:37:24.450Z"
   },
   {
    "duration": 14,
    "start_time": "2024-03-05T06:37:24.467Z"
   },
   {
    "duration": 10,
    "start_time": "2024-03-05T06:37:24.483Z"
   },
   {
    "duration": 17,
    "start_time": "2024-03-05T06:37:24.494Z"
   },
   {
    "duration": 812,
    "start_time": "2024-03-05T06:37:24.513Z"
   },
   {
    "duration": 39,
    "start_time": "2024-03-05T06:37:25.327Z"
   },
   {
    "duration": 521,
    "start_time": "2024-03-05T06:37:25.367Z"
   },
   {
    "duration": 60,
    "start_time": "2024-03-05T06:37:25.890Z"
   },
   {
    "duration": 6,
    "start_time": "2024-03-05T06:37:25.951Z"
   },
   {
    "duration": 90,
    "start_time": "2024-03-05T06:37:25.959Z"
   },
   {
    "duration": 29,
    "start_time": "2024-03-05T06:37:26.050Z"
   },
   {
    "duration": 70,
    "start_time": "2024-03-05T06:37:26.081Z"
   },
   {
    "duration": 44,
    "start_time": "2024-03-05T06:37:26.153Z"
   },
   {
    "duration": 66,
    "start_time": "2024-03-05T06:37:26.198Z"
   },
   {
    "duration": 8,
    "start_time": "2024-03-05T06:37:26.266Z"
   },
   {
    "duration": 90,
    "start_time": "2024-03-05T06:37:26.276Z"
   },
   {
    "duration": 7,
    "start_time": "2024-03-05T06:37:26.368Z"
   },
   {
    "duration": 1145,
    "start_time": "2024-03-07T14:27:51.084Z"
   },
   {
    "duration": 2,
    "start_time": "2024-03-07T14:27:52.231Z"
   },
   {
    "duration": 5,
    "start_time": "2024-03-07T14:27:52.234Z"
   },
   {
    "duration": 489,
    "start_time": "2024-03-07T14:27:52.240Z"
   },
   {
    "duration": 23,
    "start_time": "2024-03-07T14:27:52.731Z"
   },
   {
    "duration": 16,
    "start_time": "2024-03-07T14:27:52.757Z"
   },
   {
    "duration": 46,
    "start_time": "2024-03-07T14:27:52.775Z"
   },
   {
    "duration": 2470,
    "start_time": "2024-03-07T14:27:52.822Z"
   },
   {
    "duration": 129,
    "start_time": "2024-03-07T14:27:55.294Z"
   },
   {
    "duration": 4,
    "start_time": "2024-03-07T14:27:55.426Z"
   },
   {
    "duration": 4,
    "start_time": "2024-03-07T14:27:55.432Z"
   },
   {
    "duration": 291,
    "start_time": "2024-03-07T14:27:55.437Z"
   },
   {
    "duration": 4,
    "start_time": "2024-03-07T14:27:55.729Z"
   },
   {
    "duration": 36,
    "start_time": "2024-03-07T14:27:55.735Z"
   },
   {
    "duration": 11,
    "start_time": "2024-03-07T14:27:55.773Z"
   },
   {
    "duration": 273,
    "start_time": "2024-03-07T14:27:55.786Z"
   },
   {
    "duration": 5,
    "start_time": "2024-03-07T14:27:56.060Z"
   },
   {
    "duration": 38,
    "start_time": "2024-03-07T14:27:56.066Z"
   },
   {
    "duration": 13,
    "start_time": "2024-03-07T14:27:56.105Z"
   },
   {
    "duration": 11,
    "start_time": "2024-03-07T14:27:56.119Z"
   },
   {
    "duration": 278,
    "start_time": "2024-03-07T14:27:56.131Z"
   },
   {
    "duration": 8,
    "start_time": "2024-03-07T14:27:56.411Z"
   },
   {
    "duration": 44,
    "start_time": "2024-03-07T14:27:56.421Z"
   },
   {
    "duration": 6,
    "start_time": "2024-03-07T14:27:56.467Z"
   },
   {
    "duration": 50,
    "start_time": "2024-03-07T14:27:56.474Z"
   },
   {
    "duration": 1485,
    "start_time": "2024-03-07T14:27:56.526Z"
   },
   {
    "duration": 328,
    "start_time": "2024-03-07T14:27:58.025Z"
   },
   {
    "duration": 16,
    "start_time": "2024-03-07T14:27:58.357Z"
   },
   {
    "duration": 493,
    "start_time": "2024-03-07T14:27:58.375Z"
   },
   {
    "duration": 3,
    "start_time": "2024-03-07T14:27:58.870Z"
   },
   {
    "duration": 981,
    "start_time": "2024-03-07T14:27:58.874Z"
   },
   {
    "duration": 337,
    "start_time": "2024-03-07T14:27:59.857Z"
   },
   {
    "duration": 672,
    "start_time": "2024-03-07T14:28:00.195Z"
   },
   {
    "duration": 1395,
    "start_time": "2024-03-07T14:28:00.868Z"
   },
   {
    "duration": 273,
    "start_time": "2024-03-07T14:28:02.265Z"
   },
   {
    "duration": 5,
    "start_time": "2024-03-07T14:28:02.539Z"
   },
   {
    "duration": 2240,
    "start_time": "2024-03-07T14:28:02.546Z"
   },
   {
    "duration": 30,
    "start_time": "2024-03-07T14:28:04.788Z"
   },
   {
    "duration": 11,
    "start_time": "2024-03-07T14:28:04.819Z"
   },
   {
    "duration": 26,
    "start_time": "2024-03-07T14:28:04.831Z"
   },
   {
    "duration": 3,
    "start_time": "2024-03-07T14:28:04.859Z"
   },
   {
    "duration": 12,
    "start_time": "2024-03-07T14:28:04.863Z"
   },
   {
    "duration": 3,
    "start_time": "2024-03-07T14:28:04.877Z"
   },
   {
    "duration": 7,
    "start_time": "2024-03-07T14:28:04.881Z"
   },
   {
    "duration": 5,
    "start_time": "2024-03-07T14:28:04.918Z"
   },
   {
    "duration": 737,
    "start_time": "2024-03-07T14:28:04.924Z"
   },
   {
    "duration": 64,
    "start_time": "2024-03-07T14:28:05.663Z"
   },
   {
    "duration": 105,
    "start_time": "2024-03-07T14:28:05.730Z"
   },
   {
    "duration": 82,
    "start_time": "2024-03-07T14:28:05.837Z"
   },
   {
    "duration": 5,
    "start_time": "2024-03-07T14:28:05.921Z"
   },
   {
    "duration": 30,
    "start_time": "2024-03-07T14:28:05.927Z"
   },
   {
    "duration": 70,
    "start_time": "2024-03-07T14:28:05.959Z"
   },
   {
    "duration": 27,
    "start_time": "2024-03-07T14:28:06.030Z"
   },
   {
    "duration": 39,
    "start_time": "2024-03-07T14:28:06.058Z"
   },
   {
    "duration": 45,
    "start_time": "2024-03-07T14:28:06.119Z"
   },
   {
    "duration": 6,
    "start_time": "2024-03-07T14:28:06.165Z"
   },
   {
    "duration": 80,
    "start_time": "2024-03-07T14:28:06.173Z"
   },
   {
    "duration": 6,
    "start_time": "2024-03-07T14:28:06.254Z"
   }
  ],
  "kernelspec": {
   "display_name": "Python 3 (ipykernel)",
   "language": "python",
   "name": "python3"
  },
  "language_info": {
   "codemirror_mode": {
    "name": "ipython",
    "version": 3
   },
   "file_extension": ".py",
   "mimetype": "text/x-python",
   "name": "python",
   "nbconvert_exporter": "python",
   "pygments_lexer": "ipython3",
   "version": "3.11.3"
  },
  "toc": {
   "base_numbering": 1,
   "nav_menu": {},
   "number_sections": true,
   "sideBar": true,
   "skip_h1_title": true,
   "title_cell": "Table of Contents",
   "title_sidebar": "Contents",
   "toc_cell": false,
   "toc_position": {
    "height": "calc(100% - 180px)",
    "left": "10px",
    "top": "150px",
    "width": "165px"
   },
   "toc_section_display": true,
   "toc_window_display": true
  }
 },
 "nbformat": 4,
 "nbformat_minor": 2
}
