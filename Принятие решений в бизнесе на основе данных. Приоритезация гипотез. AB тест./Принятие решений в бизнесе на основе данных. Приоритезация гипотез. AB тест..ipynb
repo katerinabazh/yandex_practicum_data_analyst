{
 "cells": [
  {
   "cell_type": "markdown",
   "metadata": {},
   "source": [
    "# Принятие решений в бизнесе на основе данных. Приоритезация гипотез. A/B тест."
   ]
  },
  {
   "cell_type": "markdown",
   "metadata": {},
   "source": [
    "# Оглавление\n",
    "1. Описание провекта  \n",
    "    1.1 Описание данных  \n",
    "    1.2 Постановка задач  \n",
    "2. Импорт библиотек  \n",
    "3. Выгрузка _orders.csv_ и _visitors.csv_  \n",
    "    3.1 Краткий вывод  \n",
    "4. Приоретизация гипотез  \n",
    "    4.1 Данные _hypothesis.csv_  \n",
    "    4.2 Краткий вывод  \n",
    "5. Анализ А/В-теста  \n",
    "    5.1 Кумулятивная выручка  \n",
    "    5.2 Кумулятивный средний чек  \n",
    "    5.3 Относительное изменение кумулятивного среднего чека  \n",
    "    5.4 Кумулятивное среднее количества заказов на посетителя  \n",
    "    5.5 Относительное изменение кумулятивного среднего количества заказов на посетителя  \n",
    "    5.6 **Краткий вывод**  \n",
    "    5.7 Точечный график стоимостей заказов  \n",
    "    5.8 95 и 99 перцентили количества заказов на пользователя  \n",
    "    5.9 Точечный график стоимостей заказов  \n",
    "    5.10 95 и 99 перцентили количества заказов  \n",
    "    5.11 Стат. знач. различий в среднем количестве заказов на посетителя между группами по «сырым» данным  \n",
    "    5.12 Стат. знач. различий в среднем чеке заказа между группами по «сырым» данным   \n",
    "    5.13 Стат. знач. различий в среднем количестве заказов на посетителя между группами по «очищенным» данным  \n",
    "    5.14 Стат. знач. различий в среднем чеке заказа между группами по «очищенным» данным  \n",
    "6. Вывод"
   ]
  },
  {
   "cell_type": "markdown",
   "metadata": {},
   "source": [
    "## Описание проекта  \n",
    "Вы — аналитик крупного интернет-магазина. Вместе с отделом маркетинга вы подготовили список гипотез для увеличения выручки.\n",
    "Приоритизируйте гипотезы, запустите A/B-тест и проанализируйте результаты. "
   ]
  },
  {
   "cell_type": "markdown",
   "metadata": {},
   "source": [
    "### Описание данных\n",
    "\n",
    "Файл _hypothesis_ :  \n",
    "`Hypothesis` — краткое описание гипотезы;  \n",
    "`Reach` — охват пользователей по 10-балльной шкале;  \n",
    "`Impact` — влияние на пользователей по 10-балльной шкале;  \n",
    "`Confidence` — уверенность в гипотезе по 10-балльной шкале;  \n",
    "`Efforts` — затраты ресурсов на проверку гипотезы по 10-балльной шкале. Чем больше значение Efforts, тем дороже проверка гипотезы.\n",
    "\n",
    "Файл _orders_ :   \n",
    "`transactionId` — идентификатор заказа;  \n",
    "`visitorId` — идентификатор пользователя, совершившего заказ;  \n",
    "`date` — дата, когда был совершён заказ;  \n",
    "`revenue` — выручка заказа;  \n",
    "`group` — группа A/B-теста, в которую попал заказ.\n",
    "\n",
    "Файл _visitors_ :     \n",
    "`date` — дата;  \n",
    "`group` — группа A/B-теста;  \n",
    "`visitors` — количество пользователей в указанную дату в указанной группе A/B-теста\n",
    "\n"
   ]
  },
  {
   "cell_type": "markdown",
   "metadata": {},
   "source": [
    "### Постановка задач\n",
    "**Часть 1. Приоритизация гипотез.**\n",
    "\n",
    "В файле _hypothesis.csv_ 9 гипотез по увеличению выручки интернет-магазина с указанными параметрами Reach, Impact, Confidence, Effort.\n",
    "\n",
    "**Задача**  \n",
    "- Примените фреймворк ICE для приоритизации гипотез. Отсортируйте их по убыванию приоритета.\n",
    "- Примените фреймворк RICE для приоритизации гипотез. Отсортируйте их по убыванию приоритета.\n",
    "- Укажите, как изменилась приоритизация гипотез при применении RICE вместо ICE. Объясните, почему так произошло.\n",
    "\n",
    "**Часть 2. Анализ A/B-теста**\n",
    "\n",
    "Вы провели A/B-тест и получили результаты, которые описаны в файлах _orders.csv_ и _visitors.csv_.\n",
    "\n",
    "**Задача**  \n",
    "Проанализируйте A/B-тест:  \n",
    "- Постройте график кумулятивной выручки по группам. Сделайте выводы и предположения.\n",
    "- Постройте график кумулятивного среднего чека по группам. Сделайте выводы и предположения.\n",
    "- Постройте график относительного изменения кумулятивного среднего чека группы B к группе A. Сделайте выводы и предположения.\n",
    "- Постройте график кумулятивного среднего количества заказов на посетителя по группам. Сделайте выводы и предположения.\n",
    "- Постройте график относительного изменения кумулятивного среднего количества заказов на посетителя группы B к группе A. Сделайте выводы и предположения.\n",
    "- Постройте точечный график количества заказов по пользователям. Сделайте выводы и предположения.\n",
    "- Посчитайте 95-й и 99-й перцентили количества заказов на пользователя. Выберите границу для определения аномальных пользователей.\n",
    "- Постройте точечный график стоимостей заказов. Сделайте выводы и предположения.\n",
    "- Посчитайте 95-й и 99-й перцентили стоимости заказов. Выберите границу для определения аномальных заказов.\n",
    "- Посчитайте статистическую значимость различий в среднем количестве заказов на посетителя между группами между группами по «сырым» данным. Сделайте выводы и предположения.\n",
    "- Посчитайте статистическую значимость различий в среднем чеке заказа между группами по «сырым» данным. Сделайте выводы и предположения.\n",
    "- Посчитайте статистическую значимость различий в среднем количестве заказов на посетителя между группами между группами по «очищенным» данным. Сделайте выводы и предположения.\n",
    "- Посчитайте статистическую значимость различий в среднем чеке заказа между группами по «очищенным» данным. Сделайте выводы и предположения.\n",
    "- Примите решение по результатам теста и объясните его. Варианты решений:  \n",
    "        1. Остановить тест, зафиксировать победу одной из групп.  \n",
    "        2. Остановить тест, зафиксировать отсутствие различий между группами.  \n",
    "        3. Продолжить тест."
   ]
  },
  {
   "cell_type": "markdown",
   "metadata": {},
   "source": [
    "## Импорт библиотек"
   ]
  },
  {
   "cell_type": "code",
   "execution_count": 1,
   "metadata": {},
   "outputs": [],
   "source": [
    "import pandas as pd\n",
    "import numpy as np\n",
    "import matplotlib.pyplot as plt \n",
    "import seaborn as sns\n",
    "from datetime import datetime, timedelta\n",
    "import scipy.stats as stats"
   ]
  },
  {
   "cell_type": "markdown",
   "metadata": {},
   "source": [
    "## Выгрузка _orders.csv_ и _visitors.csv_"
   ]
  },
  {
   "cell_type": "code",
   "execution_count": 2,
   "metadata": {},
   "outputs": [],
   "source": [
    "def watch_basics(df):\n",
    "    print('---Общая информация---')\n",
    "    display(df.head())\n",
    "    display(df.info())\n",
    "    display(df.describe())\n",
    "    print('---Явные дубликаты---')\n",
    "    display(df[df.duplicated()].count())\n",
    "    "
   ]
  },
  {
   "cell_type": "code",
   "execution_count": 3,
   "metadata": {
    "scrolled": true
   },
   "outputs": [],
   "source": [
    "orders = pd.read_csv('orders.csv', parse_dates=['date'])\n",
    "visitors = pd.read_csv('visitors.csv', parse_dates=['date'])"
   ]
  },
  {
   "cell_type": "code",
   "execution_count": 4,
   "metadata": {},
   "outputs": [],
   "source": [
    "# переименуем для большей читаемости\n",
    "orders = orders.rename(columns={'transactionId': 'transaction_id', 'visitorId': 'visitor_id' })"
   ]
  },
  {
   "cell_type": "code",
   "execution_count": 5,
   "metadata": {},
   "outputs": [
    {
     "name": "stdout",
     "output_type": "stream",
     "text": [
      "---Общая информация---\n"
     ]
    },
    {
     "data": {
      "text/html": [
       "<div>\n",
       "<style scoped>\n",
       "    .dataframe tbody tr th:only-of-type {\n",
       "        vertical-align: middle;\n",
       "    }\n",
       "\n",
       "    .dataframe tbody tr th {\n",
       "        vertical-align: top;\n",
       "    }\n",
       "\n",
       "    .dataframe thead th {\n",
       "        text-align: right;\n",
       "    }\n",
       "</style>\n",
       "<table border=\"1\" class=\"dataframe\">\n",
       "  <thead>\n",
       "    <tr style=\"text-align: right;\">\n",
       "      <th></th>\n",
       "      <th>transaction_id</th>\n",
       "      <th>visitor_id</th>\n",
       "      <th>date</th>\n",
       "      <th>revenue</th>\n",
       "      <th>group</th>\n",
       "    </tr>\n",
       "  </thead>\n",
       "  <tbody>\n",
       "    <tr>\n",
       "      <th>0</th>\n",
       "      <td>3667963787</td>\n",
       "      <td>3312258926</td>\n",
       "      <td>2019-08-15</td>\n",
       "      <td>1650</td>\n",
       "      <td>B</td>\n",
       "    </tr>\n",
       "    <tr>\n",
       "      <th>1</th>\n",
       "      <td>2804400009</td>\n",
       "      <td>3642806036</td>\n",
       "      <td>2019-08-15</td>\n",
       "      <td>730</td>\n",
       "      <td>B</td>\n",
       "    </tr>\n",
       "    <tr>\n",
       "      <th>2</th>\n",
       "      <td>2961555356</td>\n",
       "      <td>4069496402</td>\n",
       "      <td>2019-08-15</td>\n",
       "      <td>400</td>\n",
       "      <td>A</td>\n",
       "    </tr>\n",
       "    <tr>\n",
       "      <th>3</th>\n",
       "      <td>3797467345</td>\n",
       "      <td>1196621759</td>\n",
       "      <td>2019-08-15</td>\n",
       "      <td>9759</td>\n",
       "      <td>B</td>\n",
       "    </tr>\n",
       "    <tr>\n",
       "      <th>4</th>\n",
       "      <td>2282983706</td>\n",
       "      <td>2322279887</td>\n",
       "      <td>2019-08-15</td>\n",
       "      <td>2308</td>\n",
       "      <td>B</td>\n",
       "    </tr>\n",
       "  </tbody>\n",
       "</table>\n",
       "</div>"
      ],
      "text/plain": [
       "   transaction_id  visitor_id       date  revenue group\n",
       "0      3667963787  3312258926 2019-08-15     1650     B\n",
       "1      2804400009  3642806036 2019-08-15      730     B\n",
       "2      2961555356  4069496402 2019-08-15      400     A\n",
       "3      3797467345  1196621759 2019-08-15     9759     B\n",
       "4      2282983706  2322279887 2019-08-15     2308     B"
      ]
     },
     "metadata": {},
     "output_type": "display_data"
    },
    {
     "name": "stdout",
     "output_type": "stream",
     "text": [
      "<class 'pandas.core.frame.DataFrame'>\n",
      "RangeIndex: 1197 entries, 0 to 1196\n",
      "Data columns (total 5 columns):\n",
      " #   Column          Non-Null Count  Dtype         \n",
      "---  ------          --------------  -----         \n",
      " 0   transaction_id  1197 non-null   int64         \n",
      " 1   visitor_id      1197 non-null   int64         \n",
      " 2   date            1197 non-null   datetime64[ns]\n",
      " 3   revenue         1197 non-null   int64         \n",
      " 4   group           1197 non-null   object        \n",
      "dtypes: datetime64[ns](1), int64(3), object(1)\n",
      "memory usage: 46.9+ KB\n"
     ]
    },
    {
     "data": {
      "text/plain": [
       "None"
      ]
     },
     "metadata": {},
     "output_type": "display_data"
    },
    {
     "data": {
      "text/html": [
       "<div>\n",
       "<style scoped>\n",
       "    .dataframe tbody tr th:only-of-type {\n",
       "        vertical-align: middle;\n",
       "    }\n",
       "\n",
       "    .dataframe tbody tr th {\n",
       "        vertical-align: top;\n",
       "    }\n",
       "\n",
       "    .dataframe thead th {\n",
       "        text-align: right;\n",
       "    }\n",
       "</style>\n",
       "<table border=\"1\" class=\"dataframe\">\n",
       "  <thead>\n",
       "    <tr style=\"text-align: right;\">\n",
       "      <th></th>\n",
       "      <th>transaction_id</th>\n",
       "      <th>visitor_id</th>\n",
       "      <th>revenue</th>\n",
       "    </tr>\n",
       "  </thead>\n",
       "  <tbody>\n",
       "    <tr>\n",
       "      <th>count</th>\n",
       "      <td>1.197000e+03</td>\n",
       "      <td>1.197000e+03</td>\n",
       "      <td>1.197000e+03</td>\n",
       "    </tr>\n",
       "    <tr>\n",
       "      <th>mean</th>\n",
       "      <td>2.155621e+09</td>\n",
       "      <td>2.165960e+09</td>\n",
       "      <td>8.348006e+03</td>\n",
       "    </tr>\n",
       "    <tr>\n",
       "      <th>std</th>\n",
       "      <td>1.229085e+09</td>\n",
       "      <td>1.236014e+09</td>\n",
       "      <td>3.919113e+04</td>\n",
       "    </tr>\n",
       "    <tr>\n",
       "      <th>min</th>\n",
       "      <td>1.062393e+06</td>\n",
       "      <td>5.114589e+06</td>\n",
       "      <td>5.000000e+01</td>\n",
       "    </tr>\n",
       "    <tr>\n",
       "      <th>25%</th>\n",
       "      <td>1.166776e+09</td>\n",
       "      <td>1.111826e+09</td>\n",
       "      <td>1.220000e+03</td>\n",
       "    </tr>\n",
       "    <tr>\n",
       "      <th>50%</th>\n",
       "      <td>2.145194e+09</td>\n",
       "      <td>2.217985e+09</td>\n",
       "      <td>2.978000e+03</td>\n",
       "    </tr>\n",
       "    <tr>\n",
       "      <th>75%</th>\n",
       "      <td>3.237740e+09</td>\n",
       "      <td>3.177606e+09</td>\n",
       "      <td>8.290000e+03</td>\n",
       "    </tr>\n",
       "    <tr>\n",
       "      <th>max</th>\n",
       "      <td>4.293856e+09</td>\n",
       "      <td>4.283872e+09</td>\n",
       "      <td>1.294500e+06</td>\n",
       "    </tr>\n",
       "  </tbody>\n",
       "</table>\n",
       "</div>"
      ],
      "text/plain": [
       "       transaction_id    visitor_id       revenue\n",
       "count    1.197000e+03  1.197000e+03  1.197000e+03\n",
       "mean     2.155621e+09  2.165960e+09  8.348006e+03\n",
       "std      1.229085e+09  1.236014e+09  3.919113e+04\n",
       "min      1.062393e+06  5.114589e+06  5.000000e+01\n",
       "25%      1.166776e+09  1.111826e+09  1.220000e+03\n",
       "50%      2.145194e+09  2.217985e+09  2.978000e+03\n",
       "75%      3.237740e+09  3.177606e+09  8.290000e+03\n",
       "max      4.293856e+09  4.283872e+09  1.294500e+06"
      ]
     },
     "metadata": {},
     "output_type": "display_data"
    },
    {
     "name": "stdout",
     "output_type": "stream",
     "text": [
      "---Явные дубликаты---\n"
     ]
    },
    {
     "data": {
      "text/plain": [
       "transaction_id    0\n",
       "visitor_id        0\n",
       "date              0\n",
       "revenue           0\n",
       "group             0\n",
       "dtype: int64"
      ]
     },
     "metadata": {},
     "output_type": "display_data"
    }
   ],
   "source": [
    "watch_basics(orders)"
   ]
  },
  {
   "cell_type": "code",
   "execution_count": 6,
   "metadata": {
    "scrolled": true
   },
   "outputs": [
    {
     "name": "stdout",
     "output_type": "stream",
     "text": [
      "---Общая информация---\n"
     ]
    },
    {
     "data": {
      "text/html": [
       "<div>\n",
       "<style scoped>\n",
       "    .dataframe tbody tr th:only-of-type {\n",
       "        vertical-align: middle;\n",
       "    }\n",
       "\n",
       "    .dataframe tbody tr th {\n",
       "        vertical-align: top;\n",
       "    }\n",
       "\n",
       "    .dataframe thead th {\n",
       "        text-align: right;\n",
       "    }\n",
       "</style>\n",
       "<table border=\"1\" class=\"dataframe\">\n",
       "  <thead>\n",
       "    <tr style=\"text-align: right;\">\n",
       "      <th></th>\n",
       "      <th>date</th>\n",
       "      <th>group</th>\n",
       "      <th>visitors</th>\n",
       "    </tr>\n",
       "  </thead>\n",
       "  <tbody>\n",
       "    <tr>\n",
       "      <th>0</th>\n",
       "      <td>2019-08-01</td>\n",
       "      <td>A</td>\n",
       "      <td>719</td>\n",
       "    </tr>\n",
       "    <tr>\n",
       "      <th>1</th>\n",
       "      <td>2019-08-02</td>\n",
       "      <td>A</td>\n",
       "      <td>619</td>\n",
       "    </tr>\n",
       "    <tr>\n",
       "      <th>2</th>\n",
       "      <td>2019-08-03</td>\n",
       "      <td>A</td>\n",
       "      <td>507</td>\n",
       "    </tr>\n",
       "    <tr>\n",
       "      <th>3</th>\n",
       "      <td>2019-08-04</td>\n",
       "      <td>A</td>\n",
       "      <td>717</td>\n",
       "    </tr>\n",
       "    <tr>\n",
       "      <th>4</th>\n",
       "      <td>2019-08-05</td>\n",
       "      <td>A</td>\n",
       "      <td>756</td>\n",
       "    </tr>\n",
       "  </tbody>\n",
       "</table>\n",
       "</div>"
      ],
      "text/plain": [
       "        date group  visitors\n",
       "0 2019-08-01     A       719\n",
       "1 2019-08-02     A       619\n",
       "2 2019-08-03     A       507\n",
       "3 2019-08-04     A       717\n",
       "4 2019-08-05     A       756"
      ]
     },
     "metadata": {},
     "output_type": "display_data"
    },
    {
     "name": "stdout",
     "output_type": "stream",
     "text": [
      "<class 'pandas.core.frame.DataFrame'>\n",
      "RangeIndex: 62 entries, 0 to 61\n",
      "Data columns (total 3 columns):\n",
      " #   Column    Non-Null Count  Dtype         \n",
      "---  ------    --------------  -----         \n",
      " 0   date      62 non-null     datetime64[ns]\n",
      " 1   group     62 non-null     object        \n",
      " 2   visitors  62 non-null     int64         \n",
      "dtypes: datetime64[ns](1), int64(1), object(1)\n",
      "memory usage: 1.6+ KB\n"
     ]
    },
    {
     "data": {
      "text/plain": [
       "None"
      ]
     },
     "metadata": {},
     "output_type": "display_data"
    },
    {
     "data": {
      "text/html": [
       "<div>\n",
       "<style scoped>\n",
       "    .dataframe tbody tr th:only-of-type {\n",
       "        vertical-align: middle;\n",
       "    }\n",
       "\n",
       "    .dataframe tbody tr th {\n",
       "        vertical-align: top;\n",
       "    }\n",
       "\n",
       "    .dataframe thead th {\n",
       "        text-align: right;\n",
       "    }\n",
       "</style>\n",
       "<table border=\"1\" class=\"dataframe\">\n",
       "  <thead>\n",
       "    <tr style=\"text-align: right;\">\n",
       "      <th></th>\n",
       "      <th>visitors</th>\n",
       "    </tr>\n",
       "  </thead>\n",
       "  <tbody>\n",
       "    <tr>\n",
       "      <th>count</th>\n",
       "      <td>62.000000</td>\n",
       "    </tr>\n",
       "    <tr>\n",
       "      <th>mean</th>\n",
       "      <td>607.290323</td>\n",
       "    </tr>\n",
       "    <tr>\n",
       "      <th>std</th>\n",
       "      <td>114.400560</td>\n",
       "    </tr>\n",
       "    <tr>\n",
       "      <th>min</th>\n",
       "      <td>361.000000</td>\n",
       "    </tr>\n",
       "    <tr>\n",
       "      <th>25%</th>\n",
       "      <td>534.000000</td>\n",
       "    </tr>\n",
       "    <tr>\n",
       "      <th>50%</th>\n",
       "      <td>624.500000</td>\n",
       "    </tr>\n",
       "    <tr>\n",
       "      <th>75%</th>\n",
       "      <td>710.500000</td>\n",
       "    </tr>\n",
       "    <tr>\n",
       "      <th>max</th>\n",
       "      <td>770.000000</td>\n",
       "    </tr>\n",
       "  </tbody>\n",
       "</table>\n",
       "</div>"
      ],
      "text/plain": [
       "         visitors\n",
       "count   62.000000\n",
       "mean   607.290323\n",
       "std    114.400560\n",
       "min    361.000000\n",
       "25%    534.000000\n",
       "50%    624.500000\n",
       "75%    710.500000\n",
       "max    770.000000"
      ]
     },
     "metadata": {},
     "output_type": "display_data"
    },
    {
     "name": "stdout",
     "output_type": "stream",
     "text": [
      "---Явные дубликаты---\n"
     ]
    },
    {
     "data": {
      "text/plain": [
       "date        0\n",
       "group       0\n",
       "visitors    0\n",
       "dtype: int64"
      ]
     },
     "metadata": {},
     "output_type": "display_data"
    }
   ],
   "source": [
    "watch_basics(visitors)"
   ]
  },
  {
   "cell_type": "code",
   "execution_count": 7,
   "metadata": {},
   "outputs": [
    {
     "name": "stdout",
     "output_type": "stream",
     "text": [
      "Количество посетителей в группе А: 18736\n",
      "Количество посетителей в группе B: 18736\n",
      "Количество заказов в группе A: 557\n",
      "Количество заказов в группе B: 640\n"
     ]
    }
   ],
   "source": [
    "print('Количество посетителей в группе А: {}'.format(visitors[visitors['group']=='A']['visitors'].sum()))\n",
    "print('Количество посетителей в группе B: {}'.format(visitors[visitors['group']=='A']['visitors'].sum()))\n",
    "print('Количество заказов в группе A: {}'.format(len(orders[orders['group']=='A'])))\n",
    "print('Количество заказов в группе B: {}'.format(len(orders[orders['group']=='B'])))"
   ]
  },
  {
   "cell_type": "code",
   "execution_count": 52,
   "metadata": {},
   "outputs": [
    {
     "name": "stdout",
     "output_type": "stream",
     "text": [
      "Минимальная дата: 01-08-2019\n",
      "Максимальная дата: 31-08-2019\n"
     ]
    }
   ],
   "source": [
    "# Взглянем на максимальную и минимальную даты\n",
    "min_date = visitors['date'].min()\n",
    "max_date = visitors['date'].max()\n",
    "print('Минимальная дата:', min_date.strftime('%d-%m-%Y'))\n",
    "print('Максимальная дата:', max_date.strftime('%d-%m-%Y'))"
   ]
  },
  {
   "cell_type": "markdown",
   "metadata": {},
   "source": [
    "Что ж, у нас данные за весь август 2019 года. "
   ]
  },
  {
   "cell_type": "code",
   "execution_count": 9,
   "metadata": {},
   "outputs": [
    {
     "name": "stdout",
     "output_type": "stream",
     "text": [
      "Количество человек, попавших в группы А и В: 58\n"
     ]
    }
   ],
   "source": [
    "people_in_a_and_b_groups = np.intersect1d(orders.query('group == \"A\"')['visitor_id'].unique(), orders.query('group == \"B\"')['visitor_id'].unique())\n",
    "print('Количество человек, попавших в группы А и В:', len(people_in_a_and_b_groups))"
   ]
  },
  {
   "cell_type": "markdown",
   "metadata": {},
   "source": [
    "### Краткий вывод\n",
    "\n",
    "Никаких пропусков или явных дубликатов не найдено ни в первом, ни во втором датафрейме. В _orders_ минимальная выгузка оказалась не 0, поэтому данные далее очищать от пользователей, не купивших ничего, не придется. Но вот максимум выручки сильно больше среднего. Тип данных object занимает лишнее пространоство в памяти. Это странно, но оставим.\n",
    "\n",
    "В _visitors_ среднее количество посетителей в день 607. В день приходит не менее 361 человека(за заданный все времяв датасете). На первый взгляд, данных достаточно для анализа"
   ]
  },
  {
   "cell_type": "markdown",
   "metadata": {},
   "source": [
    "## Приоритизация гипотез"
   ]
  },
  {
   "cell_type": "markdown",
   "metadata": {},
   "source": [
    "### Данные _hypothesis.csv_"
   ]
  },
  {
   "cell_type": "code",
   "execution_count": 10,
   "metadata": {
    "scrolled": false
   },
   "outputs": [
    {
     "name": "stdout",
     "output_type": "stream",
     "text": [
      "---Общая информация---\n"
     ]
    },
    {
     "data": {
      "text/html": [
       "<div>\n",
       "<style scoped>\n",
       "    .dataframe tbody tr th:only-of-type {\n",
       "        vertical-align: middle;\n",
       "    }\n",
       "\n",
       "    .dataframe tbody tr th {\n",
       "        vertical-align: top;\n",
       "    }\n",
       "\n",
       "    .dataframe thead th {\n",
       "        text-align: right;\n",
       "    }\n",
       "</style>\n",
       "<table border=\"1\" class=\"dataframe\">\n",
       "  <thead>\n",
       "    <tr style=\"text-align: right;\">\n",
       "      <th></th>\n",
       "      <th>Hypothesis</th>\n",
       "      <th>Reach</th>\n",
       "      <th>Impact</th>\n",
       "      <th>Confidence</th>\n",
       "      <th>Efforts</th>\n",
       "    </tr>\n",
       "  </thead>\n",
       "  <tbody>\n",
       "    <tr>\n",
       "      <th>0</th>\n",
       "      <td>Добавить два новых канала привлечения трафика,...</td>\n",
       "      <td>3</td>\n",
       "      <td>10</td>\n",
       "      <td>8</td>\n",
       "      <td>6</td>\n",
       "    </tr>\n",
       "    <tr>\n",
       "      <th>1</th>\n",
       "      <td>Запустить собственную службу доставки, что сок...</td>\n",
       "      <td>2</td>\n",
       "      <td>5</td>\n",
       "      <td>4</td>\n",
       "      <td>10</td>\n",
       "    </tr>\n",
       "    <tr>\n",
       "      <th>2</th>\n",
       "      <td>Добавить блоки рекомендаций товаров на сайт ин...</td>\n",
       "      <td>8</td>\n",
       "      <td>3</td>\n",
       "      <td>7</td>\n",
       "      <td>3</td>\n",
       "    </tr>\n",
       "    <tr>\n",
       "      <th>3</th>\n",
       "      <td>Изменить структура категорий, что увеличит кон...</td>\n",
       "      <td>8</td>\n",
       "      <td>3</td>\n",
       "      <td>3</td>\n",
       "      <td>8</td>\n",
       "    </tr>\n",
       "    <tr>\n",
       "      <th>4</th>\n",
       "      <td>Изменить цвет фона главной страницы, чтобы уве...</td>\n",
       "      <td>3</td>\n",
       "      <td>1</td>\n",
       "      <td>1</td>\n",
       "      <td>1</td>\n",
       "    </tr>\n",
       "  </tbody>\n",
       "</table>\n",
       "</div>"
      ],
      "text/plain": [
       "                                          Hypothesis  Reach  Impact  \\\n",
       "0  Добавить два новых канала привлечения трафика,...      3      10   \n",
       "1  Запустить собственную службу доставки, что сок...      2       5   \n",
       "2  Добавить блоки рекомендаций товаров на сайт ин...      8       3   \n",
       "3  Изменить структура категорий, что увеличит кон...      8       3   \n",
       "4  Изменить цвет фона главной страницы, чтобы уве...      3       1   \n",
       "\n",
       "   Confidence  Efforts  \n",
       "0           8        6  \n",
       "1           4       10  \n",
       "2           7        3  \n",
       "3           3        8  \n",
       "4           1        1  "
      ]
     },
     "metadata": {},
     "output_type": "display_data"
    },
    {
     "name": "stdout",
     "output_type": "stream",
     "text": [
      "<class 'pandas.core.frame.DataFrame'>\n",
      "RangeIndex: 9 entries, 0 to 8\n",
      "Data columns (total 5 columns):\n",
      " #   Column      Non-Null Count  Dtype \n",
      "---  ------      --------------  ----- \n",
      " 0   Hypothesis  9 non-null      object\n",
      " 1   Reach       9 non-null      int64 \n",
      " 2   Impact      9 non-null      int64 \n",
      " 3   Confidence  9 non-null      int64 \n",
      " 4   Efforts     9 non-null      int64 \n",
      "dtypes: int64(4), object(1)\n",
      "memory usage: 488.0+ bytes\n"
     ]
    },
    {
     "data": {
      "text/plain": [
       "None"
      ]
     },
     "metadata": {},
     "output_type": "display_data"
    },
    {
     "data": {
      "text/html": [
       "<div>\n",
       "<style scoped>\n",
       "    .dataframe tbody tr th:only-of-type {\n",
       "        vertical-align: middle;\n",
       "    }\n",
       "\n",
       "    .dataframe tbody tr th {\n",
       "        vertical-align: top;\n",
       "    }\n",
       "\n",
       "    .dataframe thead th {\n",
       "        text-align: right;\n",
       "    }\n",
       "</style>\n",
       "<table border=\"1\" class=\"dataframe\">\n",
       "  <thead>\n",
       "    <tr style=\"text-align: right;\">\n",
       "      <th></th>\n",
       "      <th>Reach</th>\n",
       "      <th>Impact</th>\n",
       "      <th>Confidence</th>\n",
       "      <th>Efforts</th>\n",
       "    </tr>\n",
       "  </thead>\n",
       "  <tbody>\n",
       "    <tr>\n",
       "      <th>count</th>\n",
       "      <td>9.000000</td>\n",
       "      <td>9.000000</td>\n",
       "      <td>9.000000</td>\n",
       "      <td>9.000000</td>\n",
       "    </tr>\n",
       "    <tr>\n",
       "      <th>mean</th>\n",
       "      <td>4.777778</td>\n",
       "      <td>4.777778</td>\n",
       "      <td>5.555556</td>\n",
       "      <td>4.888889</td>\n",
       "    </tr>\n",
       "    <tr>\n",
       "      <th>std</th>\n",
       "      <td>3.153481</td>\n",
       "      <td>3.192874</td>\n",
       "      <td>3.045944</td>\n",
       "      <td>2.803767</td>\n",
       "    </tr>\n",
       "    <tr>\n",
       "      <th>min</th>\n",
       "      <td>1.000000</td>\n",
       "      <td>1.000000</td>\n",
       "      <td>1.000000</td>\n",
       "      <td>1.000000</td>\n",
       "    </tr>\n",
       "    <tr>\n",
       "      <th>25%</th>\n",
       "      <td>3.000000</td>\n",
       "      <td>3.000000</td>\n",
       "      <td>3.000000</td>\n",
       "      <td>3.000000</td>\n",
       "    </tr>\n",
       "    <tr>\n",
       "      <th>50%</th>\n",
       "      <td>3.000000</td>\n",
       "      <td>3.000000</td>\n",
       "      <td>7.000000</td>\n",
       "      <td>5.000000</td>\n",
       "    </tr>\n",
       "    <tr>\n",
       "      <th>75%</th>\n",
       "      <td>8.000000</td>\n",
       "      <td>7.000000</td>\n",
       "      <td>8.000000</td>\n",
       "      <td>6.000000</td>\n",
       "    </tr>\n",
       "    <tr>\n",
       "      <th>max</th>\n",
       "      <td>10.000000</td>\n",
       "      <td>10.000000</td>\n",
       "      <td>9.000000</td>\n",
       "      <td>10.000000</td>\n",
       "    </tr>\n",
       "  </tbody>\n",
       "</table>\n",
       "</div>"
      ],
      "text/plain": [
       "           Reach     Impact  Confidence    Efforts\n",
       "count   9.000000   9.000000    9.000000   9.000000\n",
       "mean    4.777778   4.777778    5.555556   4.888889\n",
       "std     3.153481   3.192874    3.045944   2.803767\n",
       "min     1.000000   1.000000    1.000000   1.000000\n",
       "25%     3.000000   3.000000    3.000000   3.000000\n",
       "50%     3.000000   3.000000    7.000000   5.000000\n",
       "75%     8.000000   7.000000    8.000000   6.000000\n",
       "max    10.000000  10.000000    9.000000  10.000000"
      ]
     },
     "metadata": {},
     "output_type": "display_data"
    },
    {
     "name": "stdout",
     "output_type": "stream",
     "text": [
      "---Явные дубликаты---\n"
     ]
    },
    {
     "data": {
      "text/plain": [
       "Hypothesis    0\n",
       "Reach         0\n",
       "Impact        0\n",
       "Confidence    0\n",
       "Efforts       0\n",
       "dtype: int64"
      ]
     },
     "metadata": {},
     "output_type": "display_data"
    }
   ],
   "source": [
    "hypothesis = pd.read_csv('hypothesis.csv')\n",
    "watch_basics(hypothesis)"
   ]
  },
  {
   "cell_type": "markdown",
   "metadata": {},
   "source": [
    "Никаких пропусков или явных дубликатов. Гипотезам лучше бы быть типом string, нежели object. Также у нас нет гипотиз, где мы бы были абсолютно уверенны, что изменение повлияет именно так. Зато в среднем этот показатель довольно высок. Похоже, компания знает что делает. Всего вариантов для А/В теста 9"
   ]
  },
  {
   "cell_type": "code",
   "execution_count": 11,
   "metadata": {},
   "outputs": [],
   "source": [
    "# приведение заголовков к нижнему регистру\n",
    "hypothesis.columns = hypothesis.columns.str.lower()"
   ]
  },
  {
   "cell_type": "markdown",
   "metadata": {},
   "source": [
    "Применим фреймворк ICE score = (Impact * Confidence) / Efforts  \n",
    "И параллельно RISE score = (Reach * Impact * Confidence) / Efforts  \n",
    "_Reach_ — скольких пользователей затронет изменение, которое вы хотите внести;  \n",
    "_Impact_ — насколько сильно изменение повлияет на пользователей, их опыт и удовлетворение от продукта;  \n",
    "_Confidence_ — насколько вы уверены, что это изменение повлияет на пользователей именно так;  \n",
    "_Efforts_ — сколько стоит протестировать эту гипотезу.  "
   ]
  },
  {
   "cell_type": "code",
   "execution_count": 12,
   "metadata": {
    "scrolled": true
   },
   "outputs": [
    {
     "name": "stdout",
     "output_type": "stream",
     "text": [
      "Посмотрим на все 9 гипотез:\n",
      "\n",
      "1 Добавить два новых канала привлечения трафика, что позволит привлекать на 30% больше пользователей\n",
      "2 Запустить собственную службу доставки, что сократит срок доставки заказов\n",
      "3 Добавить блоки рекомендаций товаров на сайт интернет магазина, чтобы повысить конверсию и средний чек заказа\n",
      "4 Изменить структура категорий, что увеличит конверсию, т.к. пользователи быстрее найдут нужный товар\n",
      "5 Изменить цвет фона главной страницы, чтобы увеличить вовлеченность пользователей\n",
      "6 Добавить страницу отзывов клиентов о магазине, что позволит увеличить количество заказов\n",
      "7 Показать на главной странице баннеры с актуальными акциями и распродажами, чтобы увеличить конверсию\n",
      "8 Добавить форму подписки на все основные страницы, чтобы собрать базу клиентов для email-рассылок\n",
      "9 Запустить акцию, дающую скидку на товар в день рождения\n"
     ]
    }
   ],
   "source": [
    "print('Посмотрим на все 9 гипотез:\\n')\n",
    "[print(i + 1, elem) for i,elem in enumerate(hypothesis['hypothesis'])];"
   ]
  },
  {
   "cell_type": "code",
   "execution_count": 13,
   "metadata": {
    "scrolled": false
   },
   "outputs": [
    {
     "data": {
      "text/html": [
       "<div>\n",
       "<style scoped>\n",
       "    .dataframe tbody tr th:only-of-type {\n",
       "        vertical-align: middle;\n",
       "    }\n",
       "\n",
       "    .dataframe tbody tr th {\n",
       "        vertical-align: top;\n",
       "    }\n",
       "\n",
       "    .dataframe thead th {\n",
       "        text-align: right;\n",
       "    }\n",
       "</style>\n",
       "<table border=\"1\" class=\"dataframe\">\n",
       "  <thead>\n",
       "    <tr style=\"text-align: right;\">\n",
       "      <th></th>\n",
       "      <th>hypothesis</th>\n",
       "      <th>ICE</th>\n",
       "    </tr>\n",
       "  </thead>\n",
       "  <tbody>\n",
       "    <tr>\n",
       "      <th>8</th>\n",
       "      <td>Запустить акцию, дающую скидку на товар в день рождения</td>\n",
       "      <td>16.20</td>\n",
       "    </tr>\n",
       "    <tr>\n",
       "      <th>0</th>\n",
       "      <td>Добавить два новых канала привлечения трафика, что позволит привлекать на 30% больше пользователей</td>\n",
       "      <td>13.33</td>\n",
       "    </tr>\n",
       "    <tr>\n",
       "      <th>7</th>\n",
       "      <td>Добавить форму подписки на все основные страницы, чтобы собрать базу клиентов для email-рассылок</td>\n",
       "      <td>11.20</td>\n",
       "    </tr>\n",
       "    <tr>\n",
       "      <th>6</th>\n",
       "      <td>Показать на главной странице баннеры с актуальными акциями и распродажами, чтобы увеличить конверсию</td>\n",
       "      <td>8.00</td>\n",
       "    </tr>\n",
       "    <tr>\n",
       "      <th>2</th>\n",
       "      <td>Добавить блоки рекомендаций товаров на сайт интернет магазина, чтобы повысить конверсию и средний чек заказа</td>\n",
       "      <td>7.00</td>\n",
       "    </tr>\n",
       "    <tr>\n",
       "      <th>1</th>\n",
       "      <td>Запустить собственную службу доставки, что сократит срок доставки заказов</td>\n",
       "      <td>2.00</td>\n",
       "    </tr>\n",
       "    <tr>\n",
       "      <th>5</th>\n",
       "      <td>Добавить страницу отзывов клиентов о магазине, что позволит увеличить количество заказов</td>\n",
       "      <td>1.33</td>\n",
       "    </tr>\n",
       "    <tr>\n",
       "      <th>3</th>\n",
       "      <td>Изменить структура категорий, что увеличит конверсию, т.к. пользователи быстрее найдут нужный товар</td>\n",
       "      <td>1.12</td>\n",
       "    </tr>\n",
       "    <tr>\n",
       "      <th>4</th>\n",
       "      <td>Изменить цвет фона главной страницы, чтобы увеличить вовлеченность пользователей</td>\n",
       "      <td>1.00</td>\n",
       "    </tr>\n",
       "  </tbody>\n",
       "</table>\n",
       "</div>"
      ],
      "text/plain": [
       "                                                                                                     hypothesis  \\\n",
       "8  Запустить акцию, дающую скидку на товар в день рождения                                                        \n",
       "0  Добавить два новых канала привлечения трафика, что позволит привлекать на 30% больше пользователей             \n",
       "7  Добавить форму подписки на все основные страницы, чтобы собрать базу клиентов для email-рассылок               \n",
       "6  Показать на главной странице баннеры с актуальными акциями и распродажами, чтобы увеличить конверсию           \n",
       "2  Добавить блоки рекомендаций товаров на сайт интернет магазина, чтобы повысить конверсию и средний чек заказа   \n",
       "1  Запустить собственную службу доставки, что сократит срок доставки заказов                                      \n",
       "5  Добавить страницу отзывов клиентов о магазине, что позволит увеличить количество заказов                       \n",
       "3  Изменить структура категорий, что увеличит конверсию, т.к. пользователи быстрее найдут нужный товар            \n",
       "4  Изменить цвет фона главной страницы, чтобы увеличить вовлеченность пользователей                               \n",
       "\n",
       "     ICE  \n",
       "8  16.20  \n",
       "0  13.33  \n",
       "7  11.20  \n",
       "6  8.00   \n",
       "2  7.00   \n",
       "1  2.00   \n",
       "5  1.33   \n",
       "3  1.12   \n",
       "4  1.00   "
      ]
     },
     "metadata": {},
     "output_type": "display_data"
    }
   ],
   "source": [
    "hypothesis['ICE'] = round(( hypothesis['impact'] * hypothesis['confidence']) / hypothesis['efforts'], 2)\n",
    "pd.set_option('display.max_colwidth', False)\n",
    "display(hypothesis.loc[:,['hypothesis', 'ICE']].sort_values(by='ICE', ascending=False))"
   ]
  },
  {
   "cell_type": "markdown",
   "metadata": {},
   "source": [
    "По данной оценке явный победитель - \"Запустить акцию, дающую скидку на товар в день рождения\". А меньше всего веры в изменение фона главной страницы.   \n",
    "Посмотрим по RICE"
   ]
  },
  {
   "cell_type": "code",
   "execution_count": 14,
   "metadata": {},
   "outputs": [
    {
     "data": {
      "text/html": [
       "<div>\n",
       "<style scoped>\n",
       "    .dataframe tbody tr th:only-of-type {\n",
       "        vertical-align: middle;\n",
       "    }\n",
       "\n",
       "    .dataframe tbody tr th {\n",
       "        vertical-align: top;\n",
       "    }\n",
       "\n",
       "    .dataframe thead th {\n",
       "        text-align: right;\n",
       "    }\n",
       "</style>\n",
       "<table border=\"1\" class=\"dataframe\">\n",
       "  <thead>\n",
       "    <tr style=\"text-align: right;\">\n",
       "      <th></th>\n",
       "      <th>hypothesis</th>\n",
       "      <th>RICE</th>\n",
       "    </tr>\n",
       "  </thead>\n",
       "  <tbody>\n",
       "    <tr>\n",
       "      <th>7</th>\n",
       "      <td>Добавить форму подписки на все основные страницы, чтобы собрать базу клиентов для email-рассылок</td>\n",
       "      <td>112.0</td>\n",
       "    </tr>\n",
       "    <tr>\n",
       "      <th>2</th>\n",
       "      <td>Добавить блоки рекомендаций товаров на сайт интернет магазина, чтобы повысить конверсию и средний чек заказа</td>\n",
       "      <td>56.0</td>\n",
       "    </tr>\n",
       "    <tr>\n",
       "      <th>0</th>\n",
       "      <td>Добавить два новых канала привлечения трафика, что позволит привлекать на 30% больше пользователей</td>\n",
       "      <td>40.0</td>\n",
       "    </tr>\n",
       "    <tr>\n",
       "      <th>6</th>\n",
       "      <td>Показать на главной странице баннеры с актуальными акциями и распродажами, чтобы увеличить конверсию</td>\n",
       "      <td>40.0</td>\n",
       "    </tr>\n",
       "    <tr>\n",
       "      <th>8</th>\n",
       "      <td>Запустить акцию, дающую скидку на товар в день рождения</td>\n",
       "      <td>16.2</td>\n",
       "    </tr>\n",
       "    <tr>\n",
       "      <th>3</th>\n",
       "      <td>Изменить структура категорий, что увеличит конверсию, т.к. пользователи быстрее найдут нужный товар</td>\n",
       "      <td>9.0</td>\n",
       "    </tr>\n",
       "    <tr>\n",
       "      <th>1</th>\n",
       "      <td>Запустить собственную службу доставки, что сократит срок доставки заказов</td>\n",
       "      <td>4.0</td>\n",
       "    </tr>\n",
       "    <tr>\n",
       "      <th>5</th>\n",
       "      <td>Добавить страницу отзывов клиентов о магазине, что позволит увеличить количество заказов</td>\n",
       "      <td>4.0</td>\n",
       "    </tr>\n",
       "    <tr>\n",
       "      <th>4</th>\n",
       "      <td>Изменить цвет фона главной страницы, чтобы увеличить вовлеченность пользователей</td>\n",
       "      <td>3.0</td>\n",
       "    </tr>\n",
       "  </tbody>\n",
       "</table>\n",
       "</div>"
      ],
      "text/plain": [
       "                                                                                                     hypothesis  \\\n",
       "7  Добавить форму подписки на все основные страницы, чтобы собрать базу клиентов для email-рассылок               \n",
       "2  Добавить блоки рекомендаций товаров на сайт интернет магазина, чтобы повысить конверсию и средний чек заказа   \n",
       "0  Добавить два новых канала привлечения трафика, что позволит привлекать на 30% больше пользователей             \n",
       "6  Показать на главной странице баннеры с актуальными акциями и распродажами, чтобы увеличить конверсию           \n",
       "8  Запустить акцию, дающую скидку на товар в день рождения                                                        \n",
       "3  Изменить структура категорий, что увеличит конверсию, т.к. пользователи быстрее найдут нужный товар            \n",
       "1  Запустить собственную службу доставки, что сократит срок доставки заказов                                      \n",
       "5  Добавить страницу отзывов клиентов о магазине, что позволит увеличить количество заказов                       \n",
       "4  Изменить цвет фона главной страницы, чтобы увеличить вовлеченность пользователей                               \n",
       "\n",
       "    RICE  \n",
       "7  112.0  \n",
       "2  56.0   \n",
       "0  40.0   \n",
       "6  40.0   \n",
       "8  16.2   \n",
       "3  9.0    \n",
       "1  4.0    \n",
       "5  4.0    \n",
       "4  3.0    "
      ]
     },
     "metadata": {},
     "output_type": "display_data"
    }
   ],
   "source": [
    "hypothesis['RICE'] = round((hypothesis['reach'] * hypothesis['impact'] * hypothesis['confidence']) / hypothesis['efforts'] , 2)\n",
    "display(hypothesis.loc[:,['hypothesis', 'RICE']].sort_values(by='RICE', ascending=False))\n",
    "pd.set_option('display.max_colwidth', True)"
   ]
  },
  {
   "cell_type": "markdown",
   "metadata": {},
   "source": [
    "В таком случае, столбец reach имеет большое влияние, тк появляется в метрике RICE, тогда как в ICE его еще нет. Поскольку гипотеза \"Добавить форму подписки на все основные страницы, чтобы собрать базу клиентов для email-рассылок\" затрагивает большое количество клиентов, то теперь она выбилась в лидеры(тогда как по ICE была третьей). А вот запуск акции теперь в середине списка. "
   ]
  },
  {
   "cell_type": "markdown",
   "metadata": {},
   "source": [
    "### Краткий вывод\n",
    "\n",
    "В датасете пропусков и дубликаотов нет. Были рассмотрены и приоритезорованы 9 гипотез по RICE и ICE.   \n",
    "По ICE: лучшей гипотезой считается \"Запустить акцию, дающую скидку на товар в день рождения\", по RICE: \"Добавить форму подписки на все основные страницы, чтобы собрать базу клиентов для email-рассылок\". Такое смещение произошло из-за параметра _Reach_ — скольких пользователей затронет изменение. Неперспективной же в обоих случаях считается изменение фона главной страницы. \n",
    "\n",
    "Стоит заметить, что есть неточность в данных. Так, например, не ясно что значит 10 в столбце reach: возможно, принята шкала линейной оценки гипотезы от 0 до 10, где 0 — «охват гипотезы ни на кого не повлияет», а 10 — «гипотеза охватит хотя бы половину пользователей». Будем исходить из предположения, что 10 - это 100% охват"
   ]
  },
  {
   "cell_type": "markdown",
   "metadata": {},
   "source": [
    "## Анализ A/B-теста"
   ]
  },
  {
   "cell_type": "markdown",
   "metadata": {},
   "source": [
    "### Кумулятивная выручка"
   ]
  },
  {
   "cell_type": "code",
   "execution_count": 15,
   "metadata": {},
   "outputs": [],
   "source": [
    "datesGroups = orders[['date', 'group']].drop_duplicates()\n",
    "\n",
    "ordersAggregated = datesGroups.apply(\n",
    "    lambda x: orders[\n",
    "        np.logical_and(\n",
    "            orders['date'] <= x['date'], orders['group'] == x['group']\n",
    "        )\n",
    "    ].agg(\n",
    "        {\n",
    "            'date': 'max',\n",
    "            'group': 'max',\n",
    "            'transaction_id': 'nunique',\n",
    "            'visitor_id': 'nunique',\n",
    "            'revenue': 'sum',\n",
    "        }\n",
    "    ),\n",
    "    axis=1,\n",
    ").sort_values(by=['date', 'group'])"
   ]
  },
  {
   "cell_type": "code",
   "execution_count": 16,
   "metadata": {},
   "outputs": [],
   "source": [
    "visitorsAggregated = datesGroups.apply(\n",
    "    lambda x: visitors[\n",
    "        np.logical_and(\n",
    "            visitors['date'] <= x['date'], visitors['group'] == x['group']\n",
    "        )\n",
    "    ].agg({'date': 'max', 'group': 'max', 'visitors': 'sum'}),\n",
    "    axis=1,\n",
    ").sort_values(by=['date', 'group'])"
   ]
  },
  {
   "cell_type": "code",
   "execution_count": 17,
   "metadata": {},
   "outputs": [],
   "source": [
    "cumulativeData = ordersAggregated.merge(\n",
    "    visitorsAggregated, left_on=['date', 'group'], right_on=['date', 'group']\n",
    ")"
   ]
  },
  {
   "cell_type": "code",
   "execution_count": 18,
   "metadata": {},
   "outputs": [
    {
     "data": {
      "text/html": [
       "<div>\n",
       "<style scoped>\n",
       "    .dataframe tbody tr th:only-of-type {\n",
       "        vertical-align: middle;\n",
       "    }\n",
       "\n",
       "    .dataframe tbody tr th {\n",
       "        vertical-align: top;\n",
       "    }\n",
       "\n",
       "    .dataframe thead th {\n",
       "        text-align: right;\n",
       "    }\n",
       "</style>\n",
       "<table border=\"1\" class=\"dataframe\">\n",
       "  <thead>\n",
       "    <tr style=\"text-align: right;\">\n",
       "      <th></th>\n",
       "      <th>date</th>\n",
       "      <th>group</th>\n",
       "      <th>orders</th>\n",
       "      <th>buyers</th>\n",
       "      <th>revenue</th>\n",
       "      <th>visitors</th>\n",
       "    </tr>\n",
       "  </thead>\n",
       "  <tbody>\n",
       "    <tr>\n",
       "      <th>0</th>\n",
       "      <td>2019-08-01</td>\n",
       "      <td>A</td>\n",
       "      <td>24</td>\n",
       "      <td>20</td>\n",
       "      <td>148579</td>\n",
       "      <td>719</td>\n",
       "    </tr>\n",
       "    <tr>\n",
       "      <th>1</th>\n",
       "      <td>2019-08-01</td>\n",
       "      <td>B</td>\n",
       "      <td>21</td>\n",
       "      <td>20</td>\n",
       "      <td>101217</td>\n",
       "      <td>713</td>\n",
       "    </tr>\n",
       "    <tr>\n",
       "      <th>2</th>\n",
       "      <td>2019-08-02</td>\n",
       "      <td>A</td>\n",
       "      <td>44</td>\n",
       "      <td>38</td>\n",
       "      <td>242401</td>\n",
       "      <td>1338</td>\n",
       "    </tr>\n",
       "    <tr>\n",
       "      <th>3</th>\n",
       "      <td>2019-08-02</td>\n",
       "      <td>B</td>\n",
       "      <td>45</td>\n",
       "      <td>43</td>\n",
       "      <td>266748</td>\n",
       "      <td>1294</td>\n",
       "    </tr>\n",
       "    <tr>\n",
       "      <th>4</th>\n",
       "      <td>2019-08-03</td>\n",
       "      <td>A</td>\n",
       "      <td>68</td>\n",
       "      <td>62</td>\n",
       "      <td>354874</td>\n",
       "      <td>1845</td>\n",
       "    </tr>\n",
       "  </tbody>\n",
       "</table>\n",
       "</div>"
      ],
      "text/plain": [
       "        date group  orders  buyers  revenue  visitors\n",
       "0 2019-08-01  A     24      20      148579   719     \n",
       "1 2019-08-01  B     21      20      101217   713     \n",
       "2 2019-08-02  A     44      38      242401   1338    \n",
       "3 2019-08-02  B     45      43      266748   1294    \n",
       "4 2019-08-03  A     68      62      354874   1845    "
      ]
     },
     "metadata": {},
     "output_type": "display_data"
    }
   ],
   "source": [
    "cumulativeData = ordersAggregated.merge(\n",
    "    visitorsAggregated, left_on=['date', 'group'], right_on=['date', 'group']\n",
    ")\n",
    "cumulativeData.columns = [\n",
    "    'date',\n",
    "    'group',\n",
    "    'orders', # кол-во заказов\n",
    "    'buyers', # кол-во покупателей\n",
    "    'revenue', # выручка\n",
    "    'visitors', # кол-во посетителей\n",
    "]\n",
    "\n",
    "display(cumulativeData.head())"
   ]
  },
  {
   "cell_type": "code",
   "execution_count": 19,
   "metadata": {},
   "outputs": [],
   "source": [
    "# датафрейм с кумулятивным количеством заказов и кумулятивной выручкой по дням в группе А\n",
    "cumulativeRevenueA = cumulativeData[cumulativeData['group']=='A'][['date','revenue', 'orders']]\n",
    "\n",
    "# датафрейм с кумулятивным количеством заказов и кумулятивной выручкой по дням в группе B\n",
    "cumulativeRevenueB = cumulativeData[cumulativeData['group']=='B'][['date','revenue', 'orders']]"
   ]
  },
  {
   "cell_type": "code",
   "execution_count": 20,
   "metadata": {},
   "outputs": [
    {
     "data": {
      "image/png": "[encoded data removed]",
      "text/plain": [
       "<Figure size 1400x600 with 1 Axes>"
      ]
     },
     "metadata": {
      "needs_background": "light"
     },
     "output_type": "display_data"
    }
   ],
   "source": [
    "# Зададим размер\n",
    "plt.figure(figsize=(7,3),dpi=200)\n",
    "\n",
    "# Строим график выручки группы А\n",
    "plt.plot(cumulativeRevenueA['date'], cumulativeRevenueA['revenue']/1000000, label='A')\n",
    "\n",
    "# Строим график выручки группы B\n",
    "plt.plot(cumulativeRevenueB['date'], cumulativeRevenueB['revenue']/1000000, label='B')\n",
    "\n",
    "# Доп настройки\n",
    "plt.grid()\n",
    "plt.ylabel('Кумулятивная выручка, млн')\n",
    "plt.xlabel('День августа 2019г.')\n",
    "plt.title('Кумулятивная выручка по дням и группам A/B-тестирования')\n",
    "plt.xticks(cumulativeRevenueB['date'], labels=list(range(1,32)), rotation=60, ha='right')\n",
    "plt.legend();"
   ]
  },
  {
   "cell_type": "markdown",
   "metadata": {},
   "source": [
    "Выручка почти равномерно увеличивается в течение всего теста. Хороший знак. К тому же, группа B стабильно показывает результат лучше А.\n",
    "Однако графики выручки группы В в одну дату резко вырос. Это может сигнализировать о всплесках числа заказов, либо о появлении очень дорогих заказов в выборке."
   ]
  },
  {
   "cell_type": "markdown",
   "metadata": {},
   "source": [
    "### Кумулятивный средний чек"
   ]
  },
  {
   "cell_type": "code",
   "execution_count": 21,
   "metadata": {},
   "outputs": [
    {
     "data": {
      "image/png": "[encoded data removed]",
      "text/plain": [
       "<Figure size 1400x600 with 1 Axes>"
      ]
     },
     "metadata": {
      "needs_background": "light"
     },
     "output_type": "display_data"
    }
   ],
   "source": [
    "plt.figure(figsize=(7,3),dpi=200)\n",
    "plt.plot(cumulativeRevenueA['date'], cumulativeRevenueA['revenue']/cumulativeRevenueA['orders'], label='A')\n",
    "plt.plot(cumulativeRevenueB['date'], cumulativeRevenueB['revenue']/cumulativeRevenueB['orders'], label='B')\n",
    "plt.grid()\n",
    "plt.ylabel('Средний чек')\n",
    "plt.xlabel('День августа 2019г.')\n",
    "plt.title('Кумулятивноый средний чек по группам')\n",
    "plt.xticks(cumulativeRevenueB['date'], labels=list(range(1,32)), rotation=60, ha='right')\n",
    "plt.legend();"
   ]
  },
  {
   "cell_type": "markdown",
   "metadata": {},
   "source": [
    "19 августа 2019г заметен большой всплеск. Чуть позже проверим. Больше похоже на то, что кто-то сделал большую покупку, а потом график стал устанавливаться к стабильной средней цене. Скорее всего, обоим группам нужно больше данных, чтобы прийти к реальному среднему чеку и установиться на его уровне."
   ]
  },
  {
   "cell_type": "code",
   "execution_count": 22,
   "metadata": {},
   "outputs": [
    {
     "data": {
      "text/plain": [
       "group\n",
       "A    189743 \n",
       "B    1429920\n",
       "Name: revenue, dtype: int64"
      ]
     },
     "metadata": {},
     "output_type": "display_data"
    },
    {
     "data": {
      "text/html": [
       "<div>\n",
       "<style scoped>\n",
       "    .dataframe tbody tr th:only-of-type {\n",
       "        vertical-align: middle;\n",
       "    }\n",
       "\n",
       "    .dataframe tbody tr th {\n",
       "        vertical-align: top;\n",
       "    }\n",
       "\n",
       "    .dataframe thead th {\n",
       "        text-align: right;\n",
       "    }\n",
       "</style>\n",
       "<table border=\"1\" class=\"dataframe\">\n",
       "  <thead>\n",
       "    <tr style=\"text-align: right;\">\n",
       "      <th></th>\n",
       "      <th>transaction_id</th>\n",
       "      <th>visitor_id</th>\n",
       "      <th>date</th>\n",
       "      <th>revenue</th>\n",
       "      <th>group</th>\n",
       "    </tr>\n",
       "  </thead>\n",
       "  <tbody>\n",
       "    <tr>\n",
       "      <th>425</th>\n",
       "      <td>590470918</td>\n",
       "      <td>1920142716</td>\n",
       "      <td>2019-08-19</td>\n",
       "      <td>1294500</td>\n",
       "      <td>B</td>\n",
       "    </tr>\n",
       "    <tr>\n",
       "      <th>530</th>\n",
       "      <td>3970235543</td>\n",
       "      <td>2912540959</td>\n",
       "      <td>2019-08-19</td>\n",
       "      <td>43990</td>\n",
       "      <td>A</td>\n",
       "    </tr>\n",
       "    <tr>\n",
       "      <th>527</th>\n",
       "      <td>1570513684</td>\n",
       "      <td>2837914161</td>\n",
       "      <td>2019-08-19</td>\n",
       "      <td>33405</td>\n",
       "      <td>B</td>\n",
       "    </tr>\n",
       "    <tr>\n",
       "      <th>421</th>\n",
       "      <td>3765974140</td>\n",
       "      <td>1357170471</td>\n",
       "      <td>2019-08-19</td>\n",
       "      <td>31680</td>\n",
       "      <td>A</td>\n",
       "    </tr>\n",
       "    <tr>\n",
       "      <th>461</th>\n",
       "      <td>2683113224</td>\n",
       "      <td>154576532</td>\n",
       "      <td>2019-08-19</td>\n",
       "      <td>26550</td>\n",
       "      <td>B</td>\n",
       "    </tr>\n",
       "  </tbody>\n",
       "</table>\n",
       "</div>"
      ],
      "text/plain": [
       "     transaction_id  visitor_id       date  revenue group\n",
       "425  590470918       1920142716 2019-08-19  1294500  B   \n",
       "530  3970235543      2912540959 2019-08-19  43990    A   \n",
       "527  1570513684      2837914161 2019-08-19  33405    B   \n",
       "421  3765974140      1357170471 2019-08-19  31680    A   \n",
       "461  2683113224      154576532  2019-08-19  26550    B   "
      ]
     },
     "metadata": {},
     "output_type": "display_data"
    }
   ],
   "source": [
    "display(orders[orders['date']=='2019-08-19'].groupby('group')['revenue'].sum())\n",
    "display(orders[orders['date']=='2019-08-19'].sort_values(by='revenue', ascending=False).head())"
   ]
  },
  {
   "cell_type": "markdown",
   "metadata": {},
   "source": [
    "Действительно, выручка в этот день в группе В в 14 раз больше, чем в А, и все из-за пользователя 1920142716 группы В(покупка на 1 294 500), тогда как медиана чека 3000"
   ]
  },
  {
   "cell_type": "markdown",
   "metadata": {},
   "source": [
    "### Относительное изменение кумулятивного среднего чека"
   ]
  },
  {
   "cell_type": "code",
   "execution_count": 23,
   "metadata": {},
   "outputs": [
    {
     "data": {
      "image/png": "[encoded data removed]",
      "text/plain": [
       "<Figure size 1400x600 with 1 Axes>"
      ]
     },
     "metadata": {
      "needs_background": "light"
     },
     "output_type": "display_data"
    }
   ],
   "source": [
    "# собираем данные в одном датафрейме\n",
    "mergedCumulativeRevenue = cumulativeRevenueA.merge(cumulativeRevenueB, left_on='date', right_on='date', how='left', suffixes=['A', 'B'])\n",
    "\n",
    "# Масштаб и dpi\n",
    "plt.figure(figsize=(7,3),dpi=200)\n",
    "\n",
    "# cтроим отношение средних чеков\n",
    "plt.plot(mergedCumulativeRevenue['date'], (mergedCumulativeRevenue['revenueB']/mergedCumulativeRevenue['ordersB'])/(mergedCumulativeRevenue['revenueA']/mergedCumulativeRevenue['ordersA'])-1)\n",
    "\n",
    "# добавляем ось X\n",
    "plt.axhline(y=0, color='black', linestyle='--')\n",
    "plt.grid()\n",
    "plt.ylabel('Изменение')\n",
    "plt.xlabel('День августа 2019г.')\n",
    "plt.title('Относительное изменение кумулятивного среднего чека группы B к группе A')\n",
    "plt.xticks(mergedCumulativeRevenue['date'], labels=list(range(1,32)), rotation=60, ha='right');"
   ]
  },
  {
   "cell_type": "markdown",
   "metadata": {},
   "source": [
    "В той же точке 19 августа график различия между сегментами резко возрастает и имеет такой же вид, как тест группы В выше. Ничего удивительного - его значение в несколько тысяч раз привышает тест А по среднему чеку. "
   ]
  },
  {
   "cell_type": "markdown",
   "metadata": {},
   "source": [
    "### Кумулятивное среднее количества заказов на посетителя"
   ]
  },
  {
   "cell_type": "code",
   "execution_count": 24,
   "metadata": {},
   "outputs": [
    {
     "data": {
      "image/png": "[encoded data removed]",
      "text/plain": [
       "<Figure size 1400x600 with 1 Axes>"
      ]
     },
     "metadata": {
      "needs_background": "light"
     },
     "output_type": "display_data"
    }
   ],
   "source": [
    "# считаем среднее количество заказов на посетителя\n",
    "cumulativeData['conversion'] = cumulativeData['orders']/cumulativeData['visitors']\n",
    "\n",
    "plt.figure(figsize=(7,3),dpi=200)\n",
    "\n",
    "# отделяем данные по группе A\n",
    "cumulativeDataA = cumulativeData[cumulativeData['group']=='A']\n",
    "\n",
    "# отделяем данные по группе B\n",
    "cumulativeDataB = cumulativeData[cumulativeData['group']=='B']\n",
    "\n",
    "# строим графики\n",
    "plt.plot(cumulativeDataA['date'], cumulativeDataA['conversion'], label='A')\n",
    "plt.plot(cumulativeDataB['date'], cumulativeDataB['conversion'], label='B')\n",
    "plt.legend()\n",
    "\n",
    "plt.axis([min_date, max_date, 0.02, 0.05]) # задаем масштаб осей, чтобы было лучше видно\n",
    "plt.grid()\n",
    "plt.ylabel('Изменение')\n",
    "plt.xlabel('День августа 2019г.')\n",
    "plt.title('Кумулятивное среднее количества заказов на посетителя')\n",
    "plt.xticks(mergedCumulativeRevenue['date'], labels=list(range(1,32)), rotation=60, ha='right');"
   ]
  },
  {
   "cell_type": "markdown",
   "metadata": {},
   "source": [
    "В начале теста кумулятивное среднее количество заказов колебалось - то больше группа А, то В. Однако посде 8 августа оба выровнялись и кумулятивное среднне количество заказов группы В стало больше: 3,4% против 3%. "
   ]
  },
  {
   "cell_type": "markdown",
   "metadata": {},
   "source": [
    "### Относительное изменение кумулятивного среднего количества заказов на посетителя"
   ]
  },
  {
   "cell_type": "code",
   "execution_count": 25,
   "metadata": {},
   "outputs": [
    {
     "data": {
      "image/png": "[encoded data removed]",
      "text/plain": [
       "<Figure size 1400x600 with 1 Axes>"
      ]
     },
     "metadata": {
      "needs_background": "light"
     },
     "output_type": "display_data"
    }
   ],
   "source": [
    "mergedCumulativeConversions = cumulativeDataA[['date','conversion']].merge(cumulativeDataB[['date','conversion']], left_on='date', right_on='date', how='left', suffixes=['A', 'B'])\n",
    "\n",
    "plt.figure(figsize=(7,3),dpi=200)\n",
    "\n",
    "plt.plot(mergedCumulativeConversions['date'], mergedCumulativeConversions['conversionB']/mergedCumulativeConversions['conversionA']-1, label=\"Относительный прирост кумулятивного среднего количества заказов на посетителя группы B относительно группы A\")\n",
    "\n",
    "plt.axhline(y=0, color='black', linestyle='--')\n",
    "plt.axhline(y=0.1, color='grey', linestyle='--')\n",
    "plt.axhline(y=0.2, color='grey', linestyle='--')\n",
    "plt.axis([min_date, max_date,-0.5, 0.5])\n",
    "plt.grid()\n",
    "plt.ylabel('Изменение')\n",
    "plt.xlabel('День августа 2019г.')\n",
    "plt.title('Относительное изменение кумулятивного среднего количества \\n заказов на посетителя группы B к группе A')\n",
    "plt.xticks(mergedCumulativeConversions['date'], labels=list(range(1,32)), rotation=60, ha='right');"
   ]
  },
  {
   "cell_type": "markdown",
   "metadata": {},
   "source": [
    "В начале теста группа В проигрывала группе А, затем вырвалась вперёд. Потом относительно среднее количество заказов на посетителя снова уменьшалось(4-6 августа), но с 7 августа начало расти"
   ]
  },
  {
   "cell_type": "markdown",
   "metadata": {},
   "source": [
    "### **Краткий вывод**\n",
    "\n",
    "В целом отношение среднего количества заказов на посетителя установилось между 0,1 и 0,2. Нашелся пользователь, сделавший покупку на миллион. Возможно, компании стоит обратить на него внимание и поблагодарить за преобретение.\n",
    "Цельный вывод пока делать нельзя, сперва стоит проанализировать аномалии, возможно, они изменят картину."
   ]
  },
  {
   "cell_type": "markdown",
   "metadata": {},
   "source": [
    "### Точечный график количества заказов по пользователям"
   ]
  },
  {
   "cell_type": "code",
   "execution_count": 26,
   "metadata": {},
   "outputs": [
    {
     "name": "stdout",
     "output_type": "stream",
     "text": [
      "      visitor_id  orders\n",
      "1023  4256040402  11    \n",
      "591   2458001652  11    \n",
      "569   2378935119  9     \n",
      "487   2038680547  8     \n",
      "44    199603092   5     \n",
      "744   3062433592  5     \n",
      "55    237748145   5     \n",
      "917   3803269165  5     \n",
      "299   1230306981  5     \n",
      "897   3717692402  5     \n"
     ]
    }
   ],
   "source": [
    "# создадим таблицу с числом заказов по пользователям\n",
    "ordersByUsers = (\n",
    "    orders.groupby('visitor_id', as_index=False)\n",
    "    .agg({'transaction_id': 'nunique'})\n",
    ")\n",
    "\n",
    "ordersByUsers.columns = ['visitor_id', 'orders']\n",
    "\n",
    "print(ordersByUsers.sort_values(by='orders', ascending=False).head(10)) "
   ]
  },
  {
   "cell_type": "markdown",
   "metadata": {},
   "source": [
    "Есть пользователи, которые совершили 8,9 и даже парочка с 11 заказами.  "
   ]
  },
  {
   "cell_type": "code",
   "execution_count": 27,
   "metadata": {},
   "outputs": [
    {
     "data": {
      "image/png": "[encoded data removed]",
      "text/plain": [
       "<Figure size 1400x600 with 1 Axes>"
      ]
     },
     "metadata": {
      "needs_background": "light"
     },
     "output_type": "display_data"
    }
   ],
   "source": [
    "x_values = pd.Series(range(0,len(ordersByUsers)))\n",
    "\n",
    "plt.figure(figsize=(7,3),dpi=200)\n",
    "plt.ylabel('Количество заказов')\n",
    "plt.xlabel('')\n",
    "plt.title('Количество заказов по пользователям')\n",
    "plt.scatter(x_values, ordersByUsers['orders']);"
   ]
  },
  {
   "cell_type": "markdown",
   "metadata": {},
   "source": [
    "Больше всего пользователей с 1 заказом. Посмотрим не является ли необычным люди с 2мя покупками"
   ]
  },
  {
   "cell_type": "markdown",
   "metadata": {},
   "source": [
    "### 95-й и 99-й перцентили количества заказов на пользователя"
   ]
  },
  {
   "cell_type": "code",
   "execution_count": 54,
   "metadata": {
    "scrolled": true
   },
   "outputs": [
    {
     "name": "stdout",
     "output_type": "stream",
     "text": [
      "Не более 5% пользователей совершали более 2 заказов, и не более 1% более 4\n"
     ]
    }
   ],
   "source": [
    "abnomal_orders_5percent, abnomal_orders_1percent = map(int,np.percentile(ordersByUsers['orders'], [95, 99]))\n",
    "print('Не более 5% пользователей совершали более', int(abnomal_orders_5percent),'заказов, и не более 1% более', abnomal_orders_1percent) "
   ]
  },
  {
   "cell_type": "markdown",
   "metadata": {},
   "source": [
    "Разумно выбрать 4 заказа на одного пользователя за верхнюю границу числа заказов, и отсеять как аномальных пользователей тех, что выше"
   ]
  },
  {
   "cell_type": "markdown",
   "metadata": {},
   "source": [
    "### Точечный график стоимостей заказов"
   ]
  },
  {
   "cell_type": "code",
   "execution_count": 29,
   "metadata": {},
   "outputs": [
    {
     "data": {
      "image/png": "[encoded data removed]",
      "text/plain": [
       "<Figure size 1400x600 with 1 Axes>"
      ]
     },
     "metadata": {
      "needs_background": "light"
     },
     "output_type": "display_data"
    }
   ],
   "source": [
    "#Изучим распределения стоимостей заказов:\n",
    "x_values = pd.Series(range(0,len(orders['revenue'])))\n",
    "\n",
    "plt.figure(figsize=(7,3),dpi=200)\n",
    "plt.ylabel('Стоимость заказов, млн')\n",
    "plt.xlabel('')\n",
    "plt.title('Стоимость заказов по пользователям')\n",
    "plt.scatter(x_values, orders['revenue']/1000000);"
   ]
  },
  {
   "cell_type": "code",
   "execution_count": 30,
   "metadata": {},
   "outputs": [
    {
     "data": {
      "image/png": "[encoded data removed]",
      "text/plain": [
       "<Figure size 1400x600 with 1 Axes>"
      ]
     },
     "metadata": {
      "needs_background": "light"
     },
     "output_type": "display_data"
    }
   ],
   "source": [
    "plt.figure(figsize=(7,3),dpi=200)\n",
    "plt.ylabel('Стоимость заказов, млн')\n",
    "plt.ylim([0, 0.12])\n",
    "plt.title('Стоимость заказов по пользователям')\n",
    "plt.scatter(x_values, orders['revenue']/1000000);"
   ]
  },
  {
   "cell_type": "markdown",
   "metadata": {},
   "source": [
    "Есть парочка заказов на 200000 и 1200000 - это довольно много. Скорее всего это выбросы. Принято отсеивать от 1% до 5% наблюдений с крайними значениями, чем займемся после анализа сырых данных."
   ]
  },
  {
   "cell_type": "markdown",
   "metadata": {},
   "source": [
    "### 95-й и 99-й перцентили стоимости заказов"
   ]
  },
  {
   "cell_type": "code",
   "execution_count": 55,
   "metadata": {},
   "outputs": [
    {
     "name": "stdout",
     "output_type": "stream",
     "text": [
      "95 перцентиль: 28000.0 , 99 перцентиль: 58233.2\n"
     ]
    }
   ],
   "source": [
    "abnomal_revenue_5percent, abnomal_revenue_1percent  = [round(elem, 2) for elem in np.percentile(orders['revenue'], [95, 99]) ]\n",
    "print('95 перцентиль:', abnomal_revenue_5percent,', 99 перцентиль:', abnomal_revenue_1percent)"
   ]
  },
  {
   "cell_type": "markdown",
   "metadata": {},
   "source": [
    "95 перцентиль равен 2800, это значит что 5% элементов больше 2800. Зато единственный выброс относится к 1% тех, что больше 58233,2\n",
    "\n",
    "Разумно выбрать 28000 на одного пользователя за верхнюю границу стоиомсти заказов, и отсеять как аномальных пользователей тех, что выше"
   ]
  },
  {
   "cell_type": "markdown",
   "metadata": {},
   "source": [
    "### Стат. знач. различий в среднем количестве заказов на посетителя между группами по «сырым» данным."
   ]
  },
  {
   "cell_type": "markdown",
   "metadata": {},
   "source": [
    "Сформулируем гипотезы:\n",
    "\n",
    "**Нулевая**: различий в среднем количестве заказов между группами нет.   \n",
    "**Альтернативная**: различия в среднем между группами есть.\n",
    "\n",
    "Проверять будем методом mannwhitneyu(U-критерий Манна-Уитни)"
   ]
  },
  {
   "cell_type": "code",
   "execution_count": 32,
   "metadata": {},
   "outputs": [],
   "source": [
    "alpha = 0.05 # уровень статистической значимости"
   ]
  },
  {
   "cell_type": "code",
   "execution_count": 33,
   "metadata": {},
   "outputs": [],
   "source": [
    "visitorsADaily = visitors[visitors['group'] == 'A'][['date', 'visitors']]\n",
    "visitorsADaily.columns = ['date', 'visitorsPerDateA']\n",
    "\n",
    "visitorsACummulative = visitorsADaily.apply(\n",
    "    lambda x: visitorsADaily[visitorsADaily['date'] <= x['date']].agg(\n",
    "        {'date': 'max', 'visitorsPerDateA': 'sum'}\n",
    "    ),\n",
    "    axis=1,\n",
    ")\n",
    "visitorsACummulative.columns = ['date', 'visitorsCummulativeA']\n",
    "\n",
    "visitorsBDaily = visitors[visitors['group'] == 'B'][['date', 'visitors']]\n",
    "visitorsBDaily.columns = ['date', 'visitorsPerDateB']\n",
    "\n",
    "visitorsBCummulative = visitorsBDaily.apply(\n",
    "    lambda x: visitorsBDaily[visitorsBDaily['date'] <= x['date']].agg(\n",
    "        {'date': 'max', 'visitorsPerDateB': 'sum'}\n",
    "    ),\n",
    "    axis=1,\n",
    ")\n",
    "visitorsBCummulative.columns = ['date', 'visitorsCummulativeB']"
   ]
  },
  {
   "cell_type": "code",
   "execution_count": 34,
   "metadata": {},
   "outputs": [],
   "source": [
    "ordersADaily = (\n",
    "    orders[orders['group'] == 'A'][['date', 'transaction_id', 'visitor_id', 'revenue']]\n",
    "    .groupby('date', as_index=False)\n",
    "    .agg({'transaction_id': pd.Series.nunique, 'revenue': 'sum'})\n",
    ")\n",
    "ordersADaily.columns = ['date', 'ordersPerDateA', 'revenuePerDateA']\n",
    "\n",
    "ordersACummulative = ordersADaily.apply(\n",
    "    lambda x: ordersADaily[ordersADaily['date'] <= x['date']].agg(\n",
    "        {'date': 'max', 'ordersPerDateA': 'sum', 'revenuePerDateA': 'sum'}\n",
    "    ),\n",
    "    axis=1,\n",
    ").sort_values(by=['date'])\n",
    "ordersACummulative.columns = [\n",
    "    'date',\n",
    "    'ordersCummulativeA',\n",
    "    'revenueCummulativeA',\n",
    "]\n",
    "\n"
   ]
  },
  {
   "cell_type": "code",
   "execution_count": 35,
   "metadata": {},
   "outputs": [],
   "source": [
    "ordersBDaily = (\n",
    "    orders[orders['group'] == 'B'][['date', 'transaction_id', 'visitor_id', 'revenue']]\n",
    "    .groupby('date', as_index=False)\n",
    "    .agg({'transaction_id': pd.Series.nunique, 'revenue': 'sum'})\n",
    ")\n",
    "ordersBDaily.columns = ['date', 'ordersPerDateB', 'revenuePerDateB']\n",
    "\n",
    "ordersBCummulative = ordersBDaily.apply(\n",
    "    lambda x: ordersBDaily[ordersBDaily['date'] <= x['date']].agg(\n",
    "        {'date': 'max', 'ordersPerDateB': 'sum', 'revenuePerDateB': 'sum'}\n",
    "    ),\n",
    "    axis=1,\n",
    ").sort_values(by=['date'])\n",
    "ordersBCummulative.columns = [\n",
    "    'date',\n",
    "    'ordersCummulativeB',\n",
    "    'revenueCummulativeB',\n",
    "]\n"
   ]
  },
  {
   "cell_type": "code",
   "execution_count": 36,
   "metadata": {},
   "outputs": [],
   "source": [
    "data = (\n",
    "    ordersADaily.merge(\n",
    "        ordersBDaily, left_on='date', right_on='date', how='left'\n",
    "    )\n",
    "    .merge(ordersACummulative, left_on='date', right_on='date', how='left')\n",
    "    .merge(ordersBCummulative, left_on='date', right_on='date', how='left')\n",
    "    .merge(visitorsADaily, left_on='date', right_on='date', how='left')\n",
    "    .merge(visitorsBDaily, left_on='date', right_on='date', how='left')\n",
    "    .merge(visitorsACummulative, left_on='date', right_on='date', how='left')\n",
    "    .merge(visitorsBCummulative, left_on='date', right_on='date', how='left')\n",
    ")"
   ]
  },
  {
   "cell_type": "code",
   "execution_count": 37,
   "metadata": {
    "scrolled": false
   },
   "outputs": [
    {
     "name": "stdout",
     "output_type": "stream",
     "text": [
      "Кол-во покупателей в группе A: 503\n",
      "Кол-во покупок в группе А: 557\n",
      "Кол-во посетителей в группе A: 18736\n",
      "\n",
      "Кол-во покупателей в группе B: 586\n",
      "Кол-во покупок в группе B: 640\n",
      "Кол-во посетителей в группе B: 18916\n"
     ]
    }
   ],
   "source": [
    "#создадим ordersByUsersA и ordersByUsersB.Для пользователей, совершивших хотя бы 1 заказ, будет указано число заказов.\n",
    "ordersByUsersA = (\n",
    "    orders[orders['group'] == 'A']\n",
    "    .groupby('visitor_id', as_index=False)\n",
    "    .agg({'transaction_id': pd.Series.nunique})\n",
    ")\n",
    "ordersByUsersA.columns = ['visitor_id', 'orders']\n",
    "\n",
    "ordersByUsersB = (\n",
    "    orders[orders['group'] == 'B']\n",
    "    .groupby('visitor_id', as_index=False)\n",
    "    .agg({'transaction_id': pd.Series.nunique})\n",
    ")\n",
    "ordersByUsersB.columns = ['visitor_id', 'orders']\n",
    "\n",
    "print('Кол-во покупателей в группе A: {}'.format(len(ordersByUsersA)))\n",
    "print('Кол-во покупок в группе А: {}'.format(ordersByUsersA['orders'].sum()))\n",
    "print('Кол-во посетителей в группе A: {}\\n'.format(visitors[visitors['group']=='A']['visitors'].sum()))\n",
    "print('Кол-во покупателей в группе B: {}'.format(len(ordersByUsersB)))\n",
    "print('Кол-во покупок в группе B: {}'.format(ordersByUsersB['orders'].sum()))\n",
    "print('Кол-во посетителей в группе B: {}'.format(visitors[visitors['group']=='B']['visitors'].sum()))"
   ]
  },
  {
   "cell_type": "code",
   "execution_count": 38,
   "metadata": {},
   "outputs": [],
   "source": [
    "#Объявим переменные sampleA и sampleB, в которых пользователям из разных групп будет соответствовать количество заказов.\n",
    "#Тем, кто ничего не заказал, будут соответствовать нули. \n",
    "#Это нужно, чтобы подготовить выборки к проверке критерием Манна-Уитни\n",
    "\n",
    "#np.arange() работает как range(), только создаёт массив индексов в формате np.array, который требуется в pd.Series\n",
    "sampleA = pd.concat(\n",
    "    [\n",
    "        ordersByUsersA['orders'],\n",
    "        pd.Series(\n",
    "            0,\n",
    "            index=np.arange(\n",
    "                data['visitorsPerDateA'].sum() - len(ordersByUsersA['orders'])\n",
    "            ),\n",
    "            name='orders',\n",
    "        ),\n",
    "    ],\n",
    "    axis=0,\n",
    ")\n",
    "\n",
    "sampleB = pd.concat(\n",
    "    [\n",
    "        ordersByUsersB['orders'],\n",
    "        pd.Series(\n",
    "            0,\n",
    "            index=np.arange(\n",
    "                data['visitorsPerDateB'].sum() - len(ordersByUsersB['orders'])\n",
    "            ),\n",
    "            name='orders',\n",
    "        ),\n",
    "    ],\n",
    "    axis=0,\n",
    ")"
   ]
  },
  {
   "cell_type": "code",
   "execution_count": 39,
   "metadata": {
    "scrolled": true
   },
   "outputs": [
    {
     "name": "stdout",
     "output_type": "stream",
     "text": [
      "p-value = 0.017\n",
      "Отвергаем нулевую гипотезу\n",
      "Относительный прирост среднего кол-ва заказов группы В к А = 0.138\n"
     ]
    }
   ],
   "source": [
    "p_val = stats.mannwhitneyu(sampleA, sampleB)[1]\n",
    "print(\"p-value = {0:.3f}\".format(p_val))\n",
    "\n",
    "if p_val < alpha:\n",
    "    print(\"Отвергаем нулевую гипотезу\")\n",
    "else:\n",
    "    print(\"Не получилось отвергнуть нулевую гипотезу\")\n",
    "\n",
    "print(\"Относительный прирост среднего кол-ва заказов группы В к А = {0:.3f}\".format(sampleB.mean() / sampleA.mean() - 1))"
   ]
  },
  {
   "cell_type": "markdown",
   "metadata": {},
   "source": [
    "Вывод: По «сырым» данным различия в среднем числе заказов групп A и B есть. \n",
    "p-value = 0.017 меньше 0.05. Значит, нулевую гипотезу о том, что статистически значимых различий в среднем числе заказов между группами нет, отвергаем - в среднем количестве заказов есть статистически значимые различия. Относительный прирост среднего группы В к конверсии группы А 13,8%"
   ]
  },
  {
   "cell_type": "markdown",
   "metadata": {},
   "source": [
    "### Стат. знач. различий в среднем чеке заказа между группами по «сырым» данным"
   ]
  },
  {
   "cell_type": "markdown",
   "metadata": {},
   "source": [
    "Сформулируем гипотезы:\n",
    "\n",
    "**Нулевая**: различий в среднем количестве заказов между группами нет.   \n",
    "**Альтернативная**: различия в среднем между группами есть.\n",
    "\n",
    "Проверять будем методом mannwhitneyu(U-критерий Манна-Уитни)"
   ]
  },
  {
   "cell_type": "code",
   "execution_count": 40,
   "metadata": {},
   "outputs": [],
   "source": [
    "alpha = 0.05 # уровень статистической значимости"
   ]
  },
  {
   "cell_type": "code",
   "execution_count": 41,
   "metadata": {
    "scrolled": true
   },
   "outputs": [
    {
     "name": "stdout",
     "output_type": "stream",
     "text": [
      "p-value = 0.729\n",
      "Не получилось отвергнуть нулевую гипотезу\n",
      "Относительное изменение среднего чека в группе B по отношению группы A = 0.259\n"
     ]
    }
   ],
   "source": [
    "p_val = stats.mannwhitneyu(orders[orders['group']=='A']['revenue'], orders[orders['group']=='B']['revenue'])[1]\n",
    "print('p-value = {0:.3f}'.format(p_val))\n",
    "\n",
    "if p_val < alpha:\n",
    "    print(\"Отвергаем нулевую гипотезу\")\n",
    "else:\n",
    "    print(\"Не получилось отвергнуть нулевую гипотезу\")\n",
    "\n",
    "print('Относительное изменение среднего чека в группе B по отношению группы A = {0:.3f}'.format(orders[orders['group']=='B']['revenue'].mean()/orders[orders['group']=='A']['revenue'].mean()-1))"
   ]
  },
  {
   "cell_type": "markdown",
   "metadata": {},
   "source": [
    "p-value больше 0,05 - статистически значимых отличий в среднем чеке между группами нет. Относительное различие среднего чека меду сегментами 25,9%"
   ]
  },
  {
   "cell_type": "markdown",
   "metadata": {},
   "source": [
    "### Стат. знач.различий в среднем количестве заказов на посетителя между группами по «очищенным» данным"
   ]
  },
  {
   "cell_type": "markdown",
   "metadata": {},
   "source": [
    "Сформулируем гипотезы:\n",
    "\n",
    "**Нулевая**: различий в среднем количестве заказов между группами нет.   \n",
    "**Альтернативная**: различия в среднем между группами есть.\n",
    "\n",
    "Проверять будем методом mannwhitneyu(U-критерий Манна-Уитни)"
   ]
  },
  {
   "cell_type": "code",
   "execution_count": 42,
   "metadata": {},
   "outputs": [],
   "source": [
    "alpha = 0.05 # уровень статистической значимости"
   ]
  },
  {
   "cell_type": "code",
   "execution_count": 43,
   "metadata": {},
   "outputs": [
    {
     "data": {
      "text/plain": [
       "array([   8300375,  199603092,  232979603,  237748145,  276558944,\n",
       "        351125977,  393266494,  457167155,  471551937,  477780734,\n",
       "        818047933,  963407295, 1230306981, 1294878855, 1316129916,\n",
       "       1333886533, 1404934699, 1602967004, 1614305549, 1648269707,\n",
       "       1668030113, 1738359350, 1801183820, 1959144690, 2038680547,\n",
       "       2044997962, 2378935119, 2458001652, 2579882178, 2587333274,\n",
       "       2600415354, 2654030115, 2686716486, 2712142231, 2716752286,\n",
       "       2780786433, 2927087541, 2949041841, 2954449915, 3062433592,\n",
       "       3202540741, 3234906277, 3656415546, 3717692402, 3766097110,\n",
       "       3803269165, 3891541246, 3941795274, 3951559397, 3957174400,\n",
       "       3963646447, 3972127743, 3984495233, 4069496402, 4120364173,\n",
       "       4186807279, 4256040402, 4266935830])"
      ]
     },
     "execution_count": 43,
     "metadata": {},
     "output_type": "execute_result"
    }
   ],
   "source": [
    "people_in_a_and_b_groups"
   ]
  },
  {
   "cell_type": "code",
   "execution_count": 44,
   "metadata": {},
   "outputs": [
    {
     "name": "stdout",
     "output_type": "stream",
     "text": [
      "2       8300375  \n",
      "1099    148427295\n",
      "18      199603092\n",
      "928     204675465\n",
      "33      232979603\n",
      "Name: visitor_id, dtype: int64\n",
      "Количество аномальных пользователей: 113\n"
     ]
    }
   ],
   "source": [
    "# Примем за аномальных пользователей тех, кто совершил от 3 заказов и более или совершил заказ дороже 28 000 . \n",
    "usersWithManyOrders = pd.concat(\n",
    "    [\n",
    "        ordersByUsersA[ordersByUsersA['orders'] > abnomal_orders_5percent]['visitor_id'],\n",
    "        ordersByUsersB[ordersByUsersB['orders'] > abnomal_orders_5percent]['visitor_id'],\n",
    "        ordersByUsersB[ordersByUsersB['visitor_id'].isin(people_in_a_and_b_groups)]['visitor_id'],\n",
    "    ],\n",
    "    axis=0,\n",
    ")\n",
    "usersWithExpensiveOrders = orders[orders['revenue'] > abnomal_revenue_5percent]['visitor_id']\n",
    "abnormalUsers = (\n",
    "    pd.concat([usersWithManyOrders, usersWithExpensiveOrders], axis=0)\n",
    "    .drop_duplicates()\n",
    "    .sort_values()\n",
    ")\n",
    "print(abnormalUsers.head(5))\n",
    "print('Количество аномальных пользователей:', abnormalUsers.shape[0])"
   ]
  },
  {
   "cell_type": "code",
   "execution_count": 45,
   "metadata": {},
   "outputs": [],
   "source": [
    "#Создадим переменные sampleAFiltered и sampleBFiltered, в которых сохраним очищенные данные\n",
    "# о заказах — не включая аномальных пользователей. \n",
    "sampleAFiltered = pd.concat(\n",
    "    [\n",
    "        ordersByUsersA[\n",
    "            np.logical_not(ordersByUsersA['visitor_id'].isin(abnormalUsers))\n",
    "        ]['orders'],\n",
    "        pd.Series(\n",
    "            0,\n",
    "            index=np.arange(\n",
    "                data['visitorsPerDateA'].sum() - len(ordersByUsersA['orders'])\n",
    "            ),\n",
    "            name='orders',\n",
    "        ),\n",
    "    ],\n",
    "    axis=0,\n",
    ")\n",
    "\n",
    "sampleBFiltered = pd.concat(\n",
    "    [\n",
    "        ordersByUsersB[\n",
    "            np.logical_not(ordersByUsersB['visitor_id'].isin(abnormalUsers))\n",
    "        ]['orders'],\n",
    "        pd.Series(\n",
    "            0,\n",
    "            index=np.arange(\n",
    "                data['visitorsPerDateB'].sum() - len(ordersByUsersB['orders'])\n",
    "            ),\n",
    "            name='orders',\n",
    "        ),\n",
    "    ],\n",
    "    axis=0,\n",
    ")"
   ]
  },
  {
   "cell_type": "code",
   "execution_count": 46,
   "metadata": {},
   "outputs": [
    {
     "name": "stdout",
     "output_type": "stream",
     "text": [
      "p-value = 0.009\n",
      "Отвергаем нулевую гипотезу\n",
      "Относительный прирост среднего кол-ва заказов группы В к А = 0.189\n"
     ]
    }
   ],
   "source": [
    "# Применим статистический критерий Манна-Уитни к полученным выборкам\n",
    "p_val = stats.mannwhitneyu(sampleAFiltered, sampleBFiltered)[1]\n",
    "print('p-value = {0:.3f}'.format(p_val))\n",
    "\n",
    "if p_val < alpha:\n",
    "    print(\"Отвергаем нулевую гипотезу\")\n",
    "else:\n",
    "    print(\"Не получилось отвергнуть нулевую гипотезу\")\n",
    "    \n",
    "print('Относительный прирост среднего кол-ва заказов группы В к А = {0:.3f}'.format(sampleBFiltered.mean()/sampleAFiltered.mean()-1))"
   ]
  },
  {
   "cell_type": "markdown",
   "metadata": {},
   "source": [
    "p-value все еще меньше 0,05 - статистическая значимость достигнута, как и в случае с сырыми данными. \n",
    "Сегмент В лучше сегмента А"
   ]
  },
  {
   "cell_type": "markdown",
   "metadata": {},
   "source": [
    "### Статистическую значимость различий в среднем чеке заказа между группами по «очищенным» данным"
   ]
  },
  {
   "cell_type": "markdown",
   "metadata": {},
   "source": [
    "Сформулируем гипотезы:\n",
    "\n",
    "**Нулевая**: различий в среднем количестве заказов между группами нет.   \n",
    "**Альтернативная**: различия в среднем между группами есть.\n",
    "\n",
    "Проверять будем методом mannwhitneyu(U-критерий Манна-Уитни)"
   ]
  },
  {
   "cell_type": "code",
   "execution_count": 47,
   "metadata": {},
   "outputs": [],
   "source": [
    "alpha = 0.05 # уровень статистической значимости"
   ]
  },
  {
   "cell_type": "code",
   "execution_count": 48,
   "metadata": {},
   "outputs": [
    {
     "name": "stdout",
     "output_type": "stream",
     "text": [
      "p-value = 0.762\n",
      "Не получилось отвергнуть нулевую гипотезу\n",
      "Относительное изменение среднего чека в группе B по отношению группы A после очистки данных = -0.022\n"
     ]
    }
   ],
   "source": [
    "p_val = (stats.mannwhitneyu(\n",
    "            orders[\n",
    "                np.logical_and(\n",
    "                    orders['group'] == 'A',\n",
    "                    np.logical_not(orders['visitor_id'].isin(abnormalUsers)),\n",
    "                )\n",
    "            ]['revenue'],\n",
    "            orders[\n",
    "                np.logical_and(\n",
    "                    orders['group'] == 'B',\n",
    "                    np.logical_not(orders['visitor_id'].isin(abnormalUsers)),\n",
    "                )\n",
    "            ]['revenue'],\n",
    "        )[1])\n",
    "\n",
    "print('p-value = {0:.3f}'.format(p_val))\n",
    "\n",
    "if p_val < alpha:\n",
    "    print(\"Отвергаем нулевую гипотезу\")\n",
    "else:\n",
    "    print(\"Не получилось отвергнуть нулевую гипотезу\")\n",
    "\n",
    "print(\n",
    "    \"Относительное изменение среднего чека в группе B по отношению группы A после очистки данных = {0:.3f}\".format(\n",
    "        orders[\n",
    "            np.logical_and(\n",
    "                orders['group'] == 'B',\n",
    "                np.logical_not(orders['visitor_id'].isin(abnormalUsers)),\n",
    "            )\n",
    "        ]['revenue'].mean()\n",
    "        / orders[\n",
    "            np.logical_and(\n",
    "                orders['group'] == 'A',\n",
    "                np.logical_not(orders['visitor_id'].isin(abnormalUsers)),\n",
    "            )\n",
    "        ]['revenue'].mean()\n",
    "        - 1\n",
    "    )\n",
    ")"
   ]
  },
  {
   "cell_type": "markdown",
   "metadata": {},
   "source": [
    "Статистически значимых отличий между группами все же нет, если рассматривать в виде среднего чека.\n",
    "Относительное различие между группами изменилось: относительный прирост среднего группы А к конверсии группы В 2%, тогда как раньше результаты показывали обратное изменение\n",
    "\n"
   ]
  },
  {
   "cell_type": "markdown",
   "metadata": {},
   "source": [
    "## Вывод\n",
    "\n",
    "По кумулятивным метрикам почти постоянно в течение августа и на каждом графике лидировала группа В. По началу возникли сомнения из-за наличия выбросов, обусловленных, как выяснилось, крупными заказами. Однако, даже после очисти данных, лидером осталась группа В, хотя ее средний чек и стал ближе к группе А. Стоит обратить внимание на относительные числа: конверсия пользователей в группе В к группе А до очистки была 13,8%, а после - 18,9%. Таким образом, можно сделать вывод, что можно остановить А/В тест, поскольку группа В выгоднее А.\n",
    "\n",
    "Привлечь новых платежеспособных поситителей очень сложно - но справиться удалось. В зависимости от вида деятельности бизнеса, возможно, этих людей стоит постараться удержать как лояльных клиентов. "
   ]
  }
 ],
 "metadata": {
  "ExecuteTimeLog": [
   {
    "duration": 1362,
    "start_time": "2023-12-27T20:30:52.946Z"
   },
   {
    "duration": 136,
    "start_time": "2023-12-27T20:30:59.897Z"
   },
   {
    "duration": 178,
    "start_time": "2023-12-27T20:31:27.683Z"
   },
   {
    "duration": 3,
    "start_time": "2023-12-27T20:31:37.626Z"
   },
   {
    "duration": 53,
    "start_time": "2023-12-27T20:31:52.482Z"
   },
   {
    "duration": 72,
    "start_time": "2023-12-27T20:32:06.458Z"
   },
   {
    "duration": 3,
    "start_time": "2023-12-27T20:32:15.330Z"
   },
   {
    "duration": 11,
    "start_time": "2023-12-27T20:32:32.487Z"
   },
   {
    "duration": 11,
    "start_time": "2023-12-27T20:32:39.258Z"
   },
   {
    "duration": 90,
    "start_time": "2023-12-27T20:32:47.697Z"
   },
   {
    "duration": 175,
    "start_time": "2023-12-27T20:33:47.203Z"
   },
   {
    "duration": 114,
    "start_time": "2023-12-27T20:33:58.018Z"
   },
   {
    "duration": 6,
    "start_time": "2023-12-27T20:34:04.841Z"
   },
   {
    "duration": 5,
    "start_time": "2023-12-27T20:34:11.910Z"
   },
   {
    "duration": 7,
    "start_time": "2023-12-27T20:34:28.110Z"
   },
   {
    "duration": 3,
    "start_time": "2023-12-27T20:34:36.285Z"
   },
   {
    "duration": 291,
    "start_time": "2023-12-27T20:34:46.422Z"
   },
   {
    "duration": 262,
    "start_time": "2023-12-27T20:35:15.650Z"
   },
   {
    "duration": 398,
    "start_time": "2023-12-27T20:35:43.928Z"
   },
   {
    "duration": 256,
    "start_time": "2023-12-27T20:36:07.080Z"
   },
   {
    "duration": 338,
    "start_time": "2023-12-27T20:36:38.540Z"
   },
   {
    "duration": 76,
    "start_time": "2023-12-27T20:37:11.076Z"
   },
   {
    "duration": 8,
    "start_time": "2023-12-27T20:37:35.671Z"
   },
   {
    "duration": 119,
    "start_time": "2023-12-27T20:37:51.478Z"
   },
   {
    "duration": 5,
    "start_time": "2023-12-27T20:38:25.833Z"
   },
   {
    "duration": 132,
    "start_time": "2023-12-27T20:38:50.590Z"
   },
   {
    "duration": 5,
    "start_time": "2023-12-27T20:39:19.571Z"
   },
   {
    "duration": 161,
    "start_time": "2023-12-27T20:39:48.287Z"
   },
   {
    "duration": 55,
    "start_time": "2023-12-27T20:39:56.956Z"
   },
   {
    "duration": 58,
    "start_time": "2023-12-27T20:40:02.585Z"
   },
   {
    "duration": 20,
    "start_time": "2023-12-27T20:40:08.084Z"
   },
   {
    "duration": 165,
    "start_time": "2023-12-27T20:40:13.487Z"
   },
   {
    "duration": 8,
    "start_time": "2023-12-27T20:40:20.216Z"
   },
   {
    "duration": 26,
    "start_time": "2023-12-27T20:40:27.039Z"
   },
   {
    "duration": 10,
    "start_time": "2023-12-27T20:40:50.119Z"
   },
   {
    "duration": 9,
    "start_time": "2023-12-27T20:41:09.068Z"
   },
   {
    "duration": 30,
    "start_time": "2023-12-27T20:41:14.451Z"
   },
   {
    "duration": 19,
    "start_time": "2023-12-27T20:41:33.325Z"
   },
   {
    "duration": 1265,
    "start_time": "2023-12-28T11:58:30.568Z"
   },
   {
    "duration": 173,
    "start_time": "2023-12-28T11:58:31.835Z"
   },
   {
    "duration": 3,
    "start_time": "2023-12-28T11:58:32.010Z"
   },
   {
    "duration": 88,
    "start_time": "2023-12-28T11:58:32.014Z"
   },
   {
    "duration": 3,
    "start_time": "2023-12-28T11:58:32.103Z"
   },
   {
    "duration": 36,
    "start_time": "2023-12-28T11:58:32.108Z"
   },
   {
    "duration": 21,
    "start_time": "2023-12-28T11:58:32.146Z"
   },
   {
    "duration": 184,
    "start_time": "2023-12-28T11:58:32.169Z"
   },
   {
    "duration": 121,
    "start_time": "2023-12-28T11:58:32.355Z"
   },
   {
    "duration": 5,
    "start_time": "2023-12-28T11:58:32.479Z"
   },
   {
    "duration": 24,
    "start_time": "2023-12-28T11:58:32.486Z"
   },
   {
    "duration": 20,
    "start_time": "2023-12-28T11:58:32.511Z"
   },
   {
    "duration": 270,
    "start_time": "2023-12-28T11:58:32.532Z"
   },
   {
    "duration": 248,
    "start_time": "2023-12-28T11:58:32.804Z"
   },
   {
    "duration": 366,
    "start_time": "2023-12-28T11:58:33.054Z"
   },
   {
    "duration": 254,
    "start_time": "2023-12-28T11:58:33.421Z"
   },
   {
    "duration": 368,
    "start_time": "2023-12-28T11:58:33.677Z"
   },
   {
    "duration": 10,
    "start_time": "2023-12-28T11:58:34.047Z"
   },
   {
    "duration": 129,
    "start_time": "2023-12-28T11:58:34.058Z"
   },
   {
    "duration": 4,
    "start_time": "2023-12-28T11:58:34.189Z"
   },
   {
    "duration": 131,
    "start_time": "2023-12-28T11:58:34.195Z"
   },
   {
    "duration": 5,
    "start_time": "2023-12-28T11:58:34.328Z"
   },
   {
    "duration": 178,
    "start_time": "2023-12-28T11:58:34.334Z"
   },
   {
    "duration": 55,
    "start_time": "2023-12-28T11:58:34.514Z"
   },
   {
    "duration": 71,
    "start_time": "2023-12-28T11:58:34.571Z"
   },
   {
    "duration": 21,
    "start_time": "2023-12-28T11:58:34.644Z"
   },
   {
    "duration": 142,
    "start_time": "2023-12-28T11:58:34.667Z"
   },
   {
    "duration": 6,
    "start_time": "2023-12-28T11:58:34.816Z"
   },
   {
    "duration": 35,
    "start_time": "2023-12-28T11:58:34.824Z"
   },
   {
    "duration": 12,
    "start_time": "2023-12-28T11:58:34.861Z"
   },
   {
    "duration": 11,
    "start_time": "2023-12-28T11:58:34.874Z"
   },
   {
    "duration": 48,
    "start_time": "2023-12-28T11:58:34.886Z"
   },
   {
    "duration": 14,
    "start_time": "2023-12-28T11:58:34.935Z"
   },
   {
    "duration": 4,
    "start_time": "2023-12-28T12:00:39.773Z"
   },
   {
    "duration": 98,
    "start_time": "2023-12-28T12:00:40.573Z"
   },
   {
    "duration": 40,
    "start_time": "2023-12-28T12:00:47.448Z"
   },
   {
    "duration": 65,
    "start_time": "2023-12-28T12:01:24.317Z"
   },
   {
    "duration": 3,
    "start_time": "2023-12-28T12:01:25.254Z"
   },
   {
    "duration": 3,
    "start_time": "2023-12-28T12:01:27.433Z"
   },
   {
    "duration": 30,
    "start_time": "2023-12-28T12:01:57.367Z"
   },
   {
    "duration": 3,
    "start_time": "2023-12-28T12:05:08.698Z"
   },
   {
    "duration": 64,
    "start_time": "2023-12-28T12:05:09.970Z"
   },
   {
    "duration": 3,
    "start_time": "2023-12-28T12:05:10.282Z"
   },
   {
    "duration": 32,
    "start_time": "2023-12-28T12:05:11.131Z"
   },
   {
    "duration": 29,
    "start_time": "2023-12-28T12:05:16.986Z"
   },
   {
    "duration": 9,
    "start_time": "2023-12-28T12:12:17.720Z"
   },
   {
    "duration": 59,
    "start_time": "2023-12-28T12:16:10.293Z"
   },
   {
    "duration": 844,
    "start_time": "2023-12-28T12:20:36.929Z"
   },
   {
    "duration": 748,
    "start_time": "2023-12-28T12:21:02.354Z"
   },
   {
    "duration": 783,
    "start_time": "2023-12-28T12:21:24.378Z"
   },
   {
    "duration": 8,
    "start_time": "2023-12-28T12:21:34.290Z"
   },
   {
    "duration": 3,
    "start_time": "2023-12-28T12:21:41.035Z"
   },
   {
    "duration": 5,
    "start_time": "2023-12-28T12:21:44.292Z"
   },
   {
    "duration": 3,
    "start_time": "2023-12-28T12:22:15.572Z"
   },
   {
    "duration": 6,
    "start_time": "2023-12-28T12:23:24.852Z"
   },
   {
    "duration": 79,
    "start_time": "2023-12-28T12:23:42.597Z"
   },
   {
    "duration": 5,
    "start_time": "2023-12-28T12:24:04.885Z"
   },
   {
    "duration": 7,
    "start_time": "2023-12-28T12:24:14.253Z"
   },
   {
    "duration": 5,
    "start_time": "2023-12-28T12:24:40.590Z"
   },
   {
    "duration": 7,
    "start_time": "2023-12-28T12:24:47.056Z"
   },
   {
    "duration": 7,
    "start_time": "2023-12-28T12:24:52.469Z"
   },
   {
    "duration": 5,
    "start_time": "2023-12-28T12:25:12.888Z"
   },
   {
    "duration": 6,
    "start_time": "2023-12-28T12:40:31.613Z"
   },
   {
    "duration": 5,
    "start_time": "2023-12-28T12:40:32.005Z"
   },
   {
    "duration": 15,
    "start_time": "2023-12-28T12:41:58.038Z"
   },
   {
    "duration": 3,
    "start_time": "2023-12-28T12:42:10.776Z"
   },
   {
    "duration": 6,
    "start_time": "2023-12-28T12:42:10.780Z"
   },
   {
    "duration": 87,
    "start_time": "2023-12-28T12:42:10.787Z"
   },
   {
    "duration": 3,
    "start_time": "2023-12-28T12:42:10.876Z"
   },
   {
    "duration": 52,
    "start_time": "2023-12-28T12:42:10.880Z"
   },
   {
    "duration": 24,
    "start_time": "2023-12-28T12:42:10.933Z"
   },
   {
    "duration": 69,
    "start_time": "2023-12-28T12:42:10.958Z"
   },
   {
    "duration": 3,
    "start_time": "2023-12-28T12:42:11.029Z"
   },
   {
    "duration": 21,
    "start_time": "2023-12-28T12:42:11.035Z"
   },
   {
    "duration": 18,
    "start_time": "2023-12-28T12:42:11.058Z"
   },
   {
    "duration": 30,
    "start_time": "2023-12-28T12:42:11.078Z"
   },
   {
    "duration": 172,
    "start_time": "2023-12-28T12:42:11.109Z"
   },
   {
    "duration": 120,
    "start_time": "2023-12-28T12:42:11.283Z"
   },
   {
    "duration": 10,
    "start_time": "2023-12-28T12:42:11.405Z"
   },
   {
    "duration": 15,
    "start_time": "2023-12-28T12:42:11.416Z"
   },
   {
    "duration": 37,
    "start_time": "2023-12-28T12:42:11.433Z"
   },
   {
    "duration": 6,
    "start_time": "2023-12-28T12:42:13.575Z"
   },
   {
    "duration": 525,
    "start_time": "2023-12-28T12:42:14.671Z"
   },
   {
    "duration": 380,
    "start_time": "2023-12-28T12:42:24.864Z"
   },
   {
    "duration": 344,
    "start_time": "2023-12-28T12:43:04.576Z"
   },
   {
    "duration": 19,
    "start_time": "2023-12-28T13:26:25.792Z"
   },
   {
    "duration": 477,
    "start_time": "2023-12-28T13:28:24.721Z"
   },
   {
    "duration": 329,
    "start_time": "2023-12-28T13:29:54.475Z"
   },
   {
    "duration": 337,
    "start_time": "2023-12-28T13:31:14.588Z"
   },
   {
    "duration": 505,
    "start_time": "2023-12-28T13:33:17.906Z"
   },
   {
    "duration": 414,
    "start_time": "2023-12-28T13:35:43.849Z"
   },
   {
    "duration": 11,
    "start_time": "2023-12-28T13:40:30.061Z"
   },
   {
    "duration": 12,
    "start_time": "2023-12-28T13:41:02.310Z"
   },
   {
    "duration": 14,
    "start_time": "2023-12-28T13:42:56.240Z"
   },
   {
    "duration": 9,
    "start_time": "2023-12-28T13:43:03.007Z"
   },
   {
    "duration": 13,
    "start_time": "2023-12-28T13:43:46.020Z"
   },
   {
    "duration": 7,
    "start_time": "2023-12-28T13:45:16.771Z"
   },
   {
    "duration": 16,
    "start_time": "2023-12-28T13:46:05.302Z"
   },
   {
    "duration": 15,
    "start_time": "2023-12-28T13:46:27.069Z"
   },
   {
    "duration": 189,
    "start_time": "2023-12-28T13:50:25.672Z"
   },
   {
    "duration": 275,
    "start_time": "2023-12-28T13:55:27.395Z"
   },
   {
    "duration": 41,
    "start_time": "2023-12-28T14:04:07.539Z"
   },
   {
    "duration": 4,
    "start_time": "2023-12-28T14:04:16.332Z"
   },
   {
    "duration": 227,
    "start_time": "2023-12-28T14:05:12.822Z"
   },
   {
    "duration": 202,
    "start_time": "2023-12-28T14:05:47.715Z"
   },
   {
    "duration": 88,
    "start_time": "2023-12-28T14:12:53.307Z"
   },
   {
    "duration": 56,
    "start_time": "2023-12-28T14:12:53.946Z"
   },
   {
    "duration": 59,
    "start_time": "2023-12-28T14:13:01.186Z"
   },
   {
    "duration": 21,
    "start_time": "2023-12-28T14:13:02.226Z"
   },
   {
    "duration": 135,
    "start_time": "2023-12-28T14:13:13.706Z"
   },
   {
    "duration": 9,
    "start_time": "2023-12-28T14:13:14.894Z"
   },
   {
    "duration": 26,
    "start_time": "2023-12-28T14:13:45.091Z"
   },
   {
    "duration": 1770,
    "start_time": "2023-12-28T14:15:32.628Z"
   },
   {
    "duration": 50,
    "start_time": "2023-12-28T14:15:56.420Z"
   },
   {
    "duration": 50,
    "start_time": "2023-12-28T14:16:28.718Z"
   },
   {
    "duration": 43,
    "start_time": "2023-12-28T14:16:55.454Z"
   },
   {
    "duration": 25,
    "start_time": "2023-12-28T14:17:05.934Z"
   },
   {
    "duration": 45,
    "start_time": "2023-12-28T14:17:36.456Z"
   },
   {
    "duration": 13,
    "start_time": "2023-12-28T14:40:30.742Z"
   },
   {
    "duration": 12,
    "start_time": "2023-12-28T14:41:02.054Z"
   },
   {
    "duration": 7,
    "start_time": "2023-12-28T14:44:58.081Z"
   },
   {
    "duration": 163,
    "start_time": "2023-12-28T14:45:36.682Z"
   },
   {
    "duration": 47,
    "start_time": "2023-12-28T14:45:53.633Z"
   },
   {
    "duration": 12,
    "start_time": "2023-12-28T14:47:30.658Z"
   },
   {
    "duration": 10,
    "start_time": "2023-12-28T14:48:21.789Z"
   },
   {
    "duration": 25,
    "start_time": "2023-12-28T14:48:52.356Z"
   },
   {
    "duration": 11,
    "start_time": "2023-12-28T14:50:16.406Z"
   },
   {
    "duration": 8,
    "start_time": "2023-12-28T14:50:51.294Z"
   },
   {
    "duration": 38,
    "start_time": "2023-12-28T14:50:58.775Z"
   },
   {
    "duration": 29,
    "start_time": "2023-12-28T14:51:25.503Z"
   },
   {
    "duration": 25,
    "start_time": "2023-12-28T14:53:36.409Z"
   },
   {
    "duration": 9,
    "start_time": "2023-12-28T14:54:27.873Z"
   },
   {
    "duration": 25,
    "start_time": "2023-12-28T14:54:28.961Z"
   },
   {
    "duration": 17,
    "start_time": "2023-12-28T14:56:26.445Z"
   },
   {
    "duration": 14,
    "start_time": "2023-12-28T14:56:45.068Z"
   },
   {
    "duration": 1195,
    "start_time": "2023-12-28T15:19:01.196Z"
   },
   {
    "duration": 4,
    "start_time": "2023-12-28T15:19:02.393Z"
   },
   {
    "duration": 96,
    "start_time": "2023-12-28T15:19:02.398Z"
   },
   {
    "duration": 3,
    "start_time": "2023-12-28T15:19:02.496Z"
   },
   {
    "duration": 50,
    "start_time": "2023-12-28T15:19:02.500Z"
   },
   {
    "duration": 69,
    "start_time": "2023-12-28T15:19:02.552Z"
   },
   {
    "duration": 62,
    "start_time": "2023-12-28T15:19:02.622Z"
   },
   {
    "duration": 4,
    "start_time": "2023-12-28T15:19:02.686Z"
   },
   {
    "duration": 14,
    "start_time": "2023-12-28T15:19:02.715Z"
   },
   {
    "duration": 20,
    "start_time": "2023-12-28T15:19:02.732Z"
   },
   {
    "duration": 29,
    "start_time": "2023-12-28T15:19:02.753Z"
   },
   {
    "duration": 181,
    "start_time": "2023-12-28T15:19:02.784Z"
   },
   {
    "duration": 126,
    "start_time": "2023-12-28T15:19:02.967Z"
   },
   {
    "duration": 21,
    "start_time": "2023-12-28T15:19:03.096Z"
   },
   {
    "duration": 40,
    "start_time": "2023-12-28T15:19:03.118Z"
   },
   {
    "duration": 52,
    "start_time": "2023-12-28T15:19:03.160Z"
   },
   {
    "duration": 33,
    "start_time": "2023-12-28T15:19:03.213Z"
   },
   {
    "duration": 404,
    "start_time": "2023-12-28T15:19:03.247Z"
   },
   {
    "duration": 393,
    "start_time": "2023-12-28T15:19:03.652Z"
   },
   {
    "duration": 15,
    "start_time": "2023-12-28T15:19:04.047Z"
   },
   {
    "duration": 525,
    "start_time": "2023-12-28T15:19:04.063Z"
   },
   {
    "duration": 386,
    "start_time": "2023-12-28T15:19:04.590Z"
   },
   {
    "duration": 496,
    "start_time": "2023-12-28T15:19:04.978Z"
   },
   {
    "duration": 9,
    "start_time": "2023-12-28T15:19:05.476Z"
   },
   {
    "duration": 215,
    "start_time": "2023-12-28T15:19:05.487Z"
   },
   {
    "duration": 16,
    "start_time": "2023-12-28T15:19:05.703Z"
   },
   {
    "duration": 233,
    "start_time": "2023-12-28T15:19:05.721Z"
   },
   {
    "duration": 4,
    "start_time": "2023-12-28T15:19:05.958Z"
   },
   {
    "duration": 177,
    "start_time": "2023-12-28T15:19:05.964Z"
   },
   {
    "duration": 57,
    "start_time": "2023-12-28T15:19:06.143Z"
   },
   {
    "duration": 66,
    "start_time": "2023-12-28T15:19:06.202Z"
   },
   {
    "duration": 45,
    "start_time": "2023-12-28T15:19:06.270Z"
   },
   {
    "duration": 179,
    "start_time": "2023-12-28T15:19:06.317Z"
   },
   {
    "duration": 6,
    "start_time": "2023-12-28T15:19:06.497Z"
   },
   {
    "duration": 28,
    "start_time": "2023-12-28T15:19:06.515Z"
   },
   {
    "duration": 11,
    "start_time": "2023-12-28T15:19:06.545Z"
   },
   {
    "duration": 10,
    "start_time": "2023-12-28T15:19:06.557Z"
   },
   {
    "duration": 8,
    "start_time": "2023-12-28T15:19:06.568Z"
   },
   {
    "duration": 62,
    "start_time": "2023-12-28T15:19:06.578Z"
   },
   {
    "duration": 14,
    "start_time": "2023-12-28T15:19:06.641Z"
   },
   {
    "duration": 44,
    "start_time": "2023-12-28T19:54:52.866Z"
   },
   {
    "duration": 1247,
    "start_time": "2023-12-28T19:54:57.558Z"
   },
   {
    "duration": 3,
    "start_time": "2023-12-28T19:54:58.807Z"
   },
   {
    "duration": 167,
    "start_time": "2023-12-28T19:54:58.811Z"
   },
   {
    "duration": 3,
    "start_time": "2023-12-28T19:54:58.980Z"
   },
   {
    "duration": 39,
    "start_time": "2023-12-28T19:54:58.984Z"
   },
   {
    "duration": 25,
    "start_time": "2023-12-28T19:54:59.025Z"
   },
   {
    "duration": 5,
    "start_time": "2023-12-28T19:54:59.052Z"
   },
   {
    "duration": 78,
    "start_time": "2023-12-28T19:56:55.379Z"
   },
   {
    "duration": 7,
    "start_time": "2023-12-28T19:57:01.771Z"
   },
   {
    "duration": 4,
    "start_time": "2023-12-28T19:58:17.332Z"
   },
   {
    "duration": 9,
    "start_time": "2023-12-28T20:03:59.033Z"
   },
   {
    "duration": 4,
    "start_time": "2023-12-28T20:04:19.306Z"
   },
   {
    "duration": 76,
    "start_time": "2023-12-28T20:04:49.235Z"
   },
   {
    "duration": 3,
    "start_time": "2023-12-28T20:04:53.601Z"
   },
   {
    "duration": 39,
    "start_time": "2023-12-28T20:04:53.605Z"
   },
   {
    "duration": 72,
    "start_time": "2023-12-28T20:04:53.646Z"
   },
   {
    "duration": 3,
    "start_time": "2023-12-28T20:04:53.719Z"
   },
   {
    "duration": 54,
    "start_time": "2023-12-28T20:04:53.724Z"
   },
   {
    "duration": 24,
    "start_time": "2023-12-28T20:04:53.779Z"
   },
   {
    "duration": 21,
    "start_time": "2023-12-28T20:04:53.804Z"
   },
   {
    "duration": 19,
    "start_time": "2023-12-28T20:04:53.826Z"
   },
   {
    "duration": 110,
    "start_time": "2023-12-28T20:04:53.847Z"
   },
   {
    "duration": 3,
    "start_time": "2023-12-28T20:04:53.960Z"
   },
   {
    "duration": 51,
    "start_time": "2023-12-28T20:04:53.966Z"
   },
   {
    "duration": 27,
    "start_time": "2023-12-28T20:04:54.019Z"
   },
   {
    "duration": 7,
    "start_time": "2023-12-28T20:06:36.300Z"
   },
   {
    "duration": 8,
    "start_time": "2023-12-28T20:19:44.960Z"
   },
   {
    "duration": 13,
    "start_time": "2023-12-28T20:20:16.849Z"
   },
   {
    "duration": 73,
    "start_time": "2023-12-28T20:21:18.004Z"
   },
   {
    "duration": 8,
    "start_time": "2023-12-28T20:21:29.595Z"
   },
   {
    "duration": 8,
    "start_time": "2023-12-28T20:22:12.532Z"
   },
   {
    "duration": 11,
    "start_time": "2023-12-28T20:22:35.644Z"
   },
   {
    "duration": 13,
    "start_time": "2023-12-28T20:23:00.853Z"
   },
   {
    "duration": 8,
    "start_time": "2023-12-28T20:23:02.859Z"
   },
   {
    "duration": 10,
    "start_time": "2023-12-28T20:44:50.922Z"
   },
   {
    "duration": 18,
    "start_time": "2023-12-28T20:46:08.834Z"
   },
   {
    "duration": 17,
    "start_time": "2023-12-28T20:46:45.644Z"
   },
   {
    "duration": 24,
    "start_time": "2023-12-28T20:47:20.595Z"
   },
   {
    "duration": 23,
    "start_time": "2023-12-28T20:48:26.013Z"
   },
   {
    "duration": 12,
    "start_time": "2023-12-28T20:49:21.191Z"
   },
   {
    "duration": 25,
    "start_time": "2023-12-28T20:50:23.606Z"
   },
   {
    "duration": 9,
    "start_time": "2023-12-28T20:53:00.442Z"
   },
   {
    "duration": 10,
    "start_time": "2023-12-28T20:53:18.730Z"
   },
   {
    "duration": 9,
    "start_time": "2023-12-28T20:53:34.370Z"
   },
   {
    "duration": 3,
    "start_time": "2023-12-28T20:55:23.585Z"
   },
   {
    "duration": 26,
    "start_time": "2023-12-28T20:55:23.589Z"
   },
   {
    "duration": 99,
    "start_time": "2023-12-28T20:55:23.617Z"
   },
   {
    "duration": 3,
    "start_time": "2023-12-28T20:55:23.717Z"
   },
   {
    "duration": 52,
    "start_time": "2023-12-28T20:55:23.721Z"
   },
   {
    "duration": 36,
    "start_time": "2023-12-28T20:55:23.775Z"
   },
   {
    "duration": 23,
    "start_time": "2023-12-28T20:55:23.812Z"
   },
   {
    "duration": 57,
    "start_time": "2023-12-28T20:55:23.837Z"
   },
   {
    "duration": 72,
    "start_time": "2023-12-28T20:55:23.896Z"
   },
   {
    "duration": 56,
    "start_time": "2023-12-28T20:55:23.970Z"
   },
   {
    "duration": 65,
    "start_time": "2023-12-28T20:55:24.029Z"
   },
   {
    "duration": 3,
    "start_time": "2023-12-28T20:55:24.096Z"
   },
   {
    "duration": 22,
    "start_time": "2023-12-28T20:55:24.100Z"
   },
   {
    "duration": 62,
    "start_time": "2023-12-28T20:55:24.123Z"
   },
   {
    "duration": 46,
    "start_time": "2023-12-28T20:55:24.186Z"
   },
   {
    "duration": 173,
    "start_time": "2023-12-28T20:55:24.233Z"
   },
   {
    "duration": 109,
    "start_time": "2023-12-28T20:55:24.407Z"
   },
   {
    "duration": 5,
    "start_time": "2023-12-28T20:55:24.517Z"
   },
   {
    "duration": 44,
    "start_time": "2023-12-28T20:55:24.523Z"
   },
   {
    "duration": 48,
    "start_time": "2023-12-28T20:55:24.569Z"
   },
   {
    "duration": 372,
    "start_time": "2023-12-28T20:55:24.618Z"
   },
   {
    "duration": 312,
    "start_time": "2023-12-28T20:55:24.992Z"
   },
   {
    "duration": 12,
    "start_time": "2023-12-28T20:55:25.305Z"
   },
   {
    "duration": 501,
    "start_time": "2023-12-28T20:55:25.318Z"
   },
   {
    "duration": 321,
    "start_time": "2023-12-28T20:55:25.820Z"
   },
   {
    "duration": 418,
    "start_time": "2023-12-28T20:55:28.363Z"
   },
   {
    "duration": 406,
    "start_time": "2023-12-28T20:55:38.907Z"
   },
   {
    "duration": 9,
    "start_time": "2023-12-28T21:13:28.750Z"
   },
   {
    "duration": 9,
    "start_time": "2023-12-28T21:19:36.388Z"
   },
   {
    "duration": 8,
    "start_time": "2023-12-28T21:20:16.125Z"
   },
   {
    "duration": 3,
    "start_time": "2023-12-28T21:30:36.813Z"
   },
   {
    "duration": 10,
    "start_time": "2023-12-28T21:30:44.302Z"
   },
   {
    "duration": 3,
    "start_time": "2023-12-28T21:31:27.638Z"
   },
   {
    "duration": 3,
    "start_time": "2023-12-28T21:35:20.338Z"
   },
   {
    "duration": 6,
    "start_time": "2023-12-28T21:35:20.342Z"
   },
   {
    "duration": 71,
    "start_time": "2023-12-28T21:35:20.349Z"
   },
   {
    "duration": 2,
    "start_time": "2023-12-28T21:35:20.422Z"
   },
   {
    "duration": 34,
    "start_time": "2023-12-28T21:35:20.425Z"
   },
   {
    "duration": 22,
    "start_time": "2023-12-28T21:35:20.460Z"
   },
   {
    "duration": 7,
    "start_time": "2023-12-28T21:35:20.483Z"
   },
   {
    "duration": 6,
    "start_time": "2023-12-28T21:35:20.491Z"
   },
   {
    "duration": 47,
    "start_time": "2023-12-28T21:35:20.499Z"
   },
   {
    "duration": 7,
    "start_time": "2023-12-28T21:35:20.547Z"
   },
   {
    "duration": 55,
    "start_time": "2023-12-28T21:35:20.555Z"
   },
   {
    "duration": 2,
    "start_time": "2023-12-28T21:35:20.612Z"
   },
   {
    "duration": 17,
    "start_time": "2023-12-28T21:35:20.616Z"
   },
   {
    "duration": 35,
    "start_time": "2023-12-28T21:35:20.634Z"
   },
   {
    "duration": 35,
    "start_time": "2023-12-28T21:35:20.670Z"
   },
   {
    "duration": 170,
    "start_time": "2023-12-28T21:35:20.706Z"
   },
   {
    "duration": 109,
    "start_time": "2023-12-28T21:35:20.877Z"
   },
   {
    "duration": 5,
    "start_time": "2023-12-28T21:35:20.988Z"
   },
   {
    "duration": 24,
    "start_time": "2023-12-28T21:35:20.994Z"
   },
   {
    "duration": 17,
    "start_time": "2023-12-28T21:35:21.019Z"
   },
   {
    "duration": 374,
    "start_time": "2023-12-28T21:35:21.037Z"
   },
   {
    "duration": 310,
    "start_time": "2023-12-28T21:35:21.413Z"
   },
   {
    "duration": 23,
    "start_time": "2023-12-28T21:35:21.725Z"
   },
   {
    "duration": 432,
    "start_time": "2023-12-28T21:35:21.751Z"
   },
   {
    "duration": 301,
    "start_time": "2023-12-28T21:35:22.185Z"
   },
   {
    "duration": 384,
    "start_time": "2023-12-28T21:35:22.487Z"
   },
   {
    "duration": 8,
    "start_time": "2023-12-28T21:35:22.872Z"
   },
   {
    "duration": 189,
    "start_time": "2023-12-28T21:35:22.881Z"
   },
   {
    "duration": 4,
    "start_time": "2023-12-28T21:35:23.071Z"
   },
   {
    "duration": 199,
    "start_time": "2023-12-28T21:35:23.076Z"
   },
   {
    "duration": 4,
    "start_time": "2023-12-28T21:35:23.276Z"
   },
   {
    "duration": 27,
    "start_time": "2023-12-28T21:35:23.281Z"
   },
   {
    "duration": 81,
    "start_time": "2023-12-28T21:35:23.310Z"
   },
   {
    "duration": 59,
    "start_time": "2023-12-28T21:35:23.392Z"
   },
   {
    "duration": 53,
    "start_time": "2023-12-28T21:35:23.453Z"
   },
   {
    "duration": 19,
    "start_time": "2023-12-28T21:35:23.507Z"
   },
   {
    "duration": 158,
    "start_time": "2023-12-28T21:35:23.527Z"
   },
   {
    "duration": 6,
    "start_time": "2023-12-28T21:35:23.686Z"
   },
   {
    "duration": 38,
    "start_time": "2023-12-28T21:35:23.693Z"
   },
   {
    "duration": 2,
    "start_time": "2023-12-28T21:35:23.732Z"
   },
   {
    "duration": 14,
    "start_time": "2023-12-28T21:35:23.736Z"
   },
   {
    "duration": 2,
    "start_time": "2023-12-28T21:35:23.751Z"
   },
   {
    "duration": 5,
    "start_time": "2023-12-28T21:35:23.754Z"
   },
   {
    "duration": 4,
    "start_time": "2023-12-28T21:35:25.979Z"
   },
   {
    "duration": 13,
    "start_time": "2023-12-28T21:35:26.746Z"
   },
   {
    "duration": 9,
    "start_time": "2023-12-28T21:36:08.284Z"
   },
   {
    "duration": 7,
    "start_time": "2023-12-28T21:36:13.612Z"
   },
   {
    "duration": 23,
    "start_time": "2023-12-28T21:36:15.132Z"
   },
   {
    "duration": 13,
    "start_time": "2023-12-28T21:36:58.044Z"
   },
   {
    "duration": 3,
    "start_time": "2023-12-28T21:39:59.967Z"
   },
   {
    "duration": 2,
    "start_time": "2023-12-28T21:40:07.135Z"
   },
   {
    "duration": 14,
    "start_time": "2023-12-28T21:40:15.488Z"
   },
   {
    "duration": 1043,
    "start_time": "2023-12-28T21:40:52.978Z"
   },
   {
    "duration": 3,
    "start_time": "2023-12-28T21:40:54.023Z"
   },
   {
    "duration": 91,
    "start_time": "2023-12-28T21:40:54.028Z"
   },
   {
    "duration": 3,
    "start_time": "2023-12-28T21:40:54.121Z"
   },
   {
    "duration": 53,
    "start_time": "2023-12-28T21:40:54.125Z"
   },
   {
    "duration": 23,
    "start_time": "2023-12-28T21:40:54.179Z"
   },
   {
    "duration": 7,
    "start_time": "2023-12-28T21:40:54.203Z"
   },
   {
    "duration": 26,
    "start_time": "2023-12-28T21:40:54.211Z"
   },
   {
    "duration": 13,
    "start_time": "2023-12-28T21:40:54.245Z"
   },
   {
    "duration": 8,
    "start_time": "2023-12-28T21:40:54.261Z"
   },
   {
    "duration": 55,
    "start_time": "2023-12-28T21:40:54.270Z"
   },
   {
    "duration": 2,
    "start_time": "2023-12-28T21:40:54.327Z"
   },
   {
    "duration": 18,
    "start_time": "2023-12-28T21:40:54.330Z"
   },
   {
    "duration": 18,
    "start_time": "2023-12-28T21:40:54.349Z"
   },
   {
    "duration": 10,
    "start_time": "2023-12-28T21:40:54.368Z"
   },
   {
    "duration": 167,
    "start_time": "2023-12-28T21:40:54.379Z"
   },
   {
    "duration": 109,
    "start_time": "2023-12-28T21:40:54.548Z"
   },
   {
    "duration": 5,
    "start_time": "2023-12-28T21:40:54.659Z"
   },
   {
    "duration": 27,
    "start_time": "2023-12-28T21:40:54.665Z"
   },
   {
    "duration": 19,
    "start_time": "2023-12-28T21:40:54.693Z"
   },
   {
    "duration": 341,
    "start_time": "2023-12-28T21:40:54.713Z"
   },
   {
    "duration": 316,
    "start_time": "2023-12-28T21:40:55.055Z"
   },
   {
    "duration": 12,
    "start_time": "2023-12-28T21:40:55.372Z"
   },
   {
    "duration": 419,
    "start_time": "2023-12-28T21:40:55.385Z"
   },
   {
    "duration": 320,
    "start_time": "2023-12-28T21:40:55.806Z"
   },
   {
    "duration": 426,
    "start_time": "2023-12-28T21:40:56.127Z"
   },
   {
    "duration": 8,
    "start_time": "2023-12-28T21:40:56.554Z"
   },
   {
    "duration": 185,
    "start_time": "2023-12-28T21:40:56.565Z"
   },
   {
    "duration": 5,
    "start_time": "2023-12-28T21:40:56.751Z"
   },
   {
    "duration": 200,
    "start_time": "2023-12-28T21:40:56.757Z"
   },
   {
    "duration": 3,
    "start_time": "2023-12-28T21:40:56.959Z"
   },
   {
    "duration": 24,
    "start_time": "2023-12-28T21:40:56.964Z"
   },
   {
    "duration": 142,
    "start_time": "2023-12-28T21:40:56.989Z"
   },
   {
    "duration": 69,
    "start_time": "2023-12-28T21:40:57.133Z"
   },
   {
    "duration": 69,
    "start_time": "2023-12-28T21:40:57.203Z"
   },
   {
    "duration": 17,
    "start_time": "2023-12-28T21:40:57.274Z"
   },
   {
    "duration": 140,
    "start_time": "2023-12-28T21:40:57.292Z"
   },
   {
    "duration": 11,
    "start_time": "2023-12-28T21:40:57.434Z"
   },
   {
    "duration": 71,
    "start_time": "2023-12-28T21:40:57.446Z"
   },
   {
    "duration": 2,
    "start_time": "2023-12-28T21:40:57.519Z"
   },
   {
    "duration": 19,
    "start_time": "2023-12-28T21:40:57.522Z"
   },
   {
    "duration": 2,
    "start_time": "2023-12-28T21:40:57.543Z"
   },
   {
    "duration": 11,
    "start_time": "2023-12-28T21:40:57.546Z"
   },
   {
    "duration": 29,
    "start_time": "2023-12-28T21:40:57.558Z"
   },
   {
    "duration": 23,
    "start_time": "2023-12-28T21:40:57.588Z"
   },
   {
    "duration": 27,
    "start_time": "2023-12-28T21:40:57.613Z"
   },
   {
    "duration": 3,
    "start_time": "2023-12-28T21:40:57.641Z"
   },
   {
    "duration": 19,
    "start_time": "2023-12-28T21:40:57.645Z"
   },
   {
    "duration": 195,
    "start_time": "2023-12-28T21:47:04.488Z"
   },
   {
    "duration": 196,
    "start_time": "2023-12-28T21:47:16.783Z"
   },
   {
    "duration": 198,
    "start_time": "2023-12-28T21:47:27.911Z"
   },
   {
    "duration": 192,
    "start_time": "2023-12-28T21:47:37.343Z"
   },
   {
    "duration": 1083,
    "start_time": "2023-12-28T21:48:55.326Z"
   },
   {
    "duration": 3,
    "start_time": "2023-12-28T21:48:56.411Z"
   },
   {
    "duration": 80,
    "start_time": "2023-12-28T21:48:56.416Z"
   },
   {
    "duration": 4,
    "start_time": "2023-12-28T21:48:56.498Z"
   },
   {
    "duration": 44,
    "start_time": "2023-12-28T21:48:56.503Z"
   },
   {
    "duration": 21,
    "start_time": "2023-12-28T21:48:56.549Z"
   },
   {
    "duration": 7,
    "start_time": "2023-12-28T21:48:56.571Z"
   },
   {
    "duration": 3,
    "start_time": "2023-12-28T21:48:56.579Z"
   },
   {
    "duration": 6,
    "start_time": "2023-12-28T21:48:56.584Z"
   },
   {
    "duration": 69,
    "start_time": "2023-12-28T21:48:56.592Z"
   },
   {
    "duration": 3,
    "start_time": "2023-12-28T21:48:56.662Z"
   },
   {
    "duration": 7,
    "start_time": "2023-12-28T21:48:56.666Z"
   },
   {
    "duration": 9,
    "start_time": "2023-12-28T21:48:56.674Z"
   },
   {
    "duration": 9,
    "start_time": "2023-12-28T21:48:56.684Z"
   },
   {
    "duration": 171,
    "start_time": "2023-12-28T21:48:56.695Z"
   },
   {
    "duration": 107,
    "start_time": "2023-12-28T21:48:56.868Z"
   },
   {
    "duration": 6,
    "start_time": "2023-12-28T21:48:56.976Z"
   },
   {
    "duration": 23,
    "start_time": "2023-12-28T21:48:56.983Z"
   },
   {
    "duration": 25,
    "start_time": "2023-12-28T21:48:57.007Z"
   },
   {
    "duration": 330,
    "start_time": "2023-12-28T21:48:57.033Z"
   },
   {
    "duration": 325,
    "start_time": "2023-12-28T21:48:57.364Z"
   },
   {
    "duration": 12,
    "start_time": "2023-12-28T21:48:57.691Z"
   },
   {
    "duration": 457,
    "start_time": "2023-12-28T21:48:57.705Z"
   },
   {
    "duration": 318,
    "start_time": "2023-12-28T21:48:58.163Z"
   },
   {
    "duration": 386,
    "start_time": "2023-12-28T21:48:58.482Z"
   },
   {
    "duration": 9,
    "start_time": "2023-12-28T21:48:58.869Z"
   },
   {
    "duration": 180,
    "start_time": "2023-12-28T21:48:58.880Z"
   },
   {
    "duration": 4,
    "start_time": "2023-12-28T21:48:59.064Z"
   },
   {
    "duration": 199,
    "start_time": "2023-12-28T21:48:59.069Z"
   },
   {
    "duration": 266,
    "start_time": "2023-12-28T21:48:59.269Z"
   },
   {
    "duration": 9,
    "start_time": "2023-12-28T21:48:59.537Z"
   },
   {
    "duration": 10,
    "start_time": "2023-12-28T21:48:59.548Z"
   },
   {
    "duration": 82,
    "start_time": "2023-12-28T21:48:59.559Z"
   },
   {
    "duration": 50,
    "start_time": "2023-12-28T21:48:59.645Z"
   },
   {
    "duration": 62,
    "start_time": "2023-12-28T21:48:59.696Z"
   },
   {
    "duration": 20,
    "start_time": "2023-12-28T21:48:59.759Z"
   },
   {
    "duration": 136,
    "start_time": "2023-12-28T21:48:59.780Z"
   },
   {
    "duration": 5,
    "start_time": "2023-12-28T21:48:59.918Z"
   },
   {
    "duration": 32,
    "start_time": "2023-12-28T21:48:59.924Z"
   },
   {
    "duration": 2,
    "start_time": "2023-12-28T21:48:59.958Z"
   },
   {
    "duration": 22,
    "start_time": "2023-12-28T21:48:59.961Z"
   },
   {
    "duration": 2,
    "start_time": "2023-12-28T21:48:59.984Z"
   },
   {
    "duration": 5,
    "start_time": "2023-12-28T21:48:59.987Z"
   },
   {
    "duration": 27,
    "start_time": "2023-12-28T21:48:59.993Z"
   },
   {
    "duration": 43,
    "start_time": "2023-12-28T21:49:00.021Z"
   },
   {
    "duration": 65,
    "start_time": "2023-12-28T21:49:00.066Z"
   },
   {
    "duration": 25,
    "start_time": "2023-12-28T21:49:00.133Z"
   },
   {
    "duration": 50,
    "start_time": "2023-12-28T21:49:00.159Z"
   },
   {
    "duration": 1059,
    "start_time": "2023-12-28T22:57:48.236Z"
   },
   {
    "duration": 4,
    "start_time": "2023-12-28T22:57:49.297Z"
   },
   {
    "duration": 140,
    "start_time": "2023-12-28T22:57:49.303Z"
   },
   {
    "duration": 4,
    "start_time": "2023-12-28T22:57:49.445Z"
   },
   {
    "duration": 41,
    "start_time": "2023-12-28T22:57:49.450Z"
   },
   {
    "duration": 26,
    "start_time": "2023-12-28T22:57:49.492Z"
   },
   {
    "duration": 7,
    "start_time": "2023-12-28T22:57:49.520Z"
   },
   {
    "duration": 13,
    "start_time": "2023-12-28T22:57:49.529Z"
   },
   {
    "duration": 29,
    "start_time": "2023-12-28T22:57:49.544Z"
   },
   {
    "duration": 88,
    "start_time": "2023-12-28T22:57:49.576Z"
   },
   {
    "duration": 3,
    "start_time": "2023-12-28T22:57:49.665Z"
   },
   {
    "duration": 7,
    "start_time": "2023-12-28T22:57:49.669Z"
   },
   {
    "duration": 17,
    "start_time": "2023-12-28T22:57:49.677Z"
   },
   {
    "duration": 11,
    "start_time": "2023-12-28T22:57:49.695Z"
   },
   {
    "duration": 176,
    "start_time": "2023-12-28T22:57:49.707Z"
   },
   {
    "duration": 124,
    "start_time": "2023-12-28T22:57:49.884Z"
   },
   {
    "duration": 6,
    "start_time": "2023-12-28T22:57:50.009Z"
   },
   {
    "duration": 25,
    "start_time": "2023-12-28T22:57:50.017Z"
   },
   {
    "duration": 7,
    "start_time": "2023-12-28T22:57:50.044Z"
   },
   {
    "duration": 394,
    "start_time": "2023-12-28T22:57:50.053Z"
   },
   {
    "duration": 359,
    "start_time": "2023-12-28T22:57:50.448Z"
   },
   {
    "duration": 14,
    "start_time": "2023-12-28T22:57:50.809Z"
   },
   {
    "duration": 447,
    "start_time": "2023-12-28T22:57:50.824Z"
   },
   {
    "duration": 357,
    "start_time": "2023-12-28T22:57:51.273Z"
   },
   {
    "duration": 426,
    "start_time": "2023-12-28T22:57:51.632Z"
   },
   {
    "duration": 8,
    "start_time": "2023-12-28T22:57:52.060Z"
   },
   {
    "duration": 212,
    "start_time": "2023-12-28T22:57:52.070Z"
   },
   {
    "duration": 5,
    "start_time": "2023-12-28T22:57:52.285Z"
   },
   {
    "duration": 251,
    "start_time": "2023-12-28T22:57:52.292Z"
   },
   {
    "duration": 307,
    "start_time": "2023-12-28T22:57:52.545Z"
   },
   {
    "duration": 5,
    "start_time": "2023-12-28T22:57:52.853Z"
   },
   {
    "duration": 8,
    "start_time": "2023-12-28T22:57:52.859Z"
   },
   {
    "duration": 93,
    "start_time": "2023-12-28T22:57:52.869Z"
   },
   {
    "duration": 68,
    "start_time": "2023-12-28T22:57:52.964Z"
   },
   {
    "duration": 70,
    "start_time": "2023-12-28T22:57:53.034Z"
   },
   {
    "duration": 21,
    "start_time": "2023-12-28T22:57:53.105Z"
   },
   {
    "duration": 161,
    "start_time": "2023-12-28T22:57:53.127Z"
   },
   {
    "duration": 6,
    "start_time": "2023-12-28T22:57:53.290Z"
   },
   {
    "duration": 28,
    "start_time": "2023-12-28T22:57:53.297Z"
   },
   {
    "duration": 3,
    "start_time": "2023-12-28T22:57:53.326Z"
   },
   {
    "duration": 12,
    "start_time": "2023-12-28T22:57:53.330Z"
   },
   {
    "duration": 2,
    "start_time": "2023-12-28T22:57:53.343Z"
   },
   {
    "duration": 35,
    "start_time": "2023-12-28T22:57:53.347Z"
   },
   {
    "duration": 11,
    "start_time": "2023-12-28T22:57:53.383Z"
   },
   {
    "duration": 10,
    "start_time": "2023-12-28T22:57:53.395Z"
   },
   {
    "duration": 25,
    "start_time": "2023-12-28T22:57:53.406Z"
   },
   {
    "duration": 2,
    "start_time": "2023-12-28T22:57:53.432Z"
   },
   {
    "duration": 15,
    "start_time": "2023-12-28T22:57:53.435Z"
   },
   {
    "duration": 1325,
    "start_time": "2024-03-28T13:43:48.314Z"
   },
   {
    "duration": 4,
    "start_time": "2024-03-28T13:43:49.641Z"
   },
   {
    "duration": 182,
    "start_time": "2024-03-28T13:43:49.646Z"
   },
   {
    "duration": 3,
    "start_time": "2024-03-28T13:43:49.830Z"
   },
   {
    "duration": 38,
    "start_time": "2024-03-28T13:43:49.834Z"
   },
   {
    "duration": 26,
    "start_time": "2024-03-28T13:43:49.873Z"
   },
   {
    "duration": 8,
    "start_time": "2024-03-28T13:43:49.917Z"
   },
   {
    "duration": 4,
    "start_time": "2024-03-28T13:43:49.927Z"
   },
   {
    "duration": 8,
    "start_time": "2024-03-28T13:43:49.932Z"
   },
   {
    "duration": 87,
    "start_time": "2024-03-28T13:43:49.942Z"
   },
   {
    "duration": 2,
    "start_time": "2024-03-28T13:43:50.031Z"
   },
   {
    "duration": 15,
    "start_time": "2024-03-28T13:43:50.034Z"
   },
   {
    "duration": 23,
    "start_time": "2024-03-28T13:43:50.050Z"
   },
   {
    "duration": 10,
    "start_time": "2024-03-28T13:43:50.074Z"
   },
   {
    "duration": 156,
    "start_time": "2024-03-28T13:43:50.085Z"
   },
   {
    "duration": 115,
    "start_time": "2024-03-28T13:43:50.242Z"
   },
   {
    "duration": 6,
    "start_time": "2024-03-28T13:43:50.358Z"
   },
   {
    "duration": 13,
    "start_time": "2024-03-28T13:43:50.365Z"
   },
   {
    "duration": 16,
    "start_time": "2024-03-28T13:43:50.380Z"
   },
   {
    "duration": 374,
    "start_time": "2024-03-28T13:43:50.397Z"
   },
   {
    "duration": 320,
    "start_time": "2024-03-28T13:43:50.773Z"
   },
   {
    "duration": 28,
    "start_time": "2024-03-28T13:43:51.095Z"
   },
   {
    "duration": 488,
    "start_time": "2024-03-28T13:43:51.124Z"
   },
   {
    "duration": 332,
    "start_time": "2024-03-28T13:43:51.623Z"
   },
   {
    "duration": 415,
    "start_time": "2024-03-28T13:43:51.956Z"
   },
   {
    "duration": 9,
    "start_time": "2024-03-28T13:43:52.372Z"
   },
   {
    "duration": 211,
    "start_time": "2024-03-28T13:43:52.383Z"
   },
   {
    "duration": 4,
    "start_time": "2024-03-28T13:43:52.597Z"
   },
   {
    "duration": 254,
    "start_time": "2024-03-28T13:43:52.603Z"
   },
   {
    "duration": 280,
    "start_time": "2024-03-28T13:43:52.858Z"
   },
   {
    "duration": 4,
    "start_time": "2024-03-28T13:43:53.140Z"
   },
   {
    "duration": 23,
    "start_time": "2024-03-28T13:43:53.145Z"
   },
   {
    "duration": 113,
    "start_time": "2024-03-28T13:43:53.169Z"
   },
   {
    "duration": 63,
    "start_time": "2024-03-28T13:43:53.284Z"
   },
   {
    "duration": 83,
    "start_time": "2024-03-28T13:43:53.348Z"
   },
   {
    "duration": 19,
    "start_time": "2024-03-28T13:43:53.432Z"
   },
   {
    "duration": 149,
    "start_time": "2024-03-28T13:43:53.453Z"
   },
   {
    "duration": 14,
    "start_time": "2024-03-28T13:43:53.604Z"
   },
   {
    "duration": 37,
    "start_time": "2024-03-28T13:43:53.619Z"
   },
   {
    "duration": 3,
    "start_time": "2024-03-28T13:43:53.658Z"
   },
   {
    "duration": 31,
    "start_time": "2024-03-28T13:43:53.663Z"
   },
   {
    "duration": 27,
    "start_time": "2024-03-28T13:43:53.695Z"
   },
   {
    "duration": 12,
    "start_time": "2024-03-28T13:43:53.724Z"
   },
   {
    "duration": 28,
    "start_time": "2024-03-28T13:43:53.737Z"
   },
   {
    "duration": 22,
    "start_time": "2024-03-28T13:43:53.766Z"
   },
   {
    "duration": 36,
    "start_time": "2024-03-28T13:43:53.789Z"
   },
   {
    "duration": 5,
    "start_time": "2024-03-28T13:43:53.826Z"
   },
   {
    "duration": 37,
    "start_time": "2024-03-28T13:43:53.832Z"
   },
   {
    "duration": 4,
    "start_time": "2024-03-28T13:49:43.091Z"
   },
   {
    "duration": 5,
    "start_time": "2024-03-28T13:52:21.745Z"
   },
   {
    "duration": 4,
    "start_time": "2024-03-28T13:52:42.662Z"
   },
   {
    "duration": 5,
    "start_time": "2024-03-28T13:52:50.278Z"
   },
   {
    "duration": 5,
    "start_time": "2024-03-28T14:04:31.515Z"
   },
   {
    "duration": 5,
    "start_time": "2024-03-28T14:04:38.223Z"
   },
   {
    "duration": 4,
    "start_time": "2024-03-28T14:06:24.793Z"
   }
  ],
  "kernelspec": {
   "display_name": "Python 3 (ipykernel)",
   "language": "python",
   "name": "python3"
  },
  "language_info": {
   "codemirror_mode": {
    "name": "ipython",
    "version": 3
   },
   "file_extension": ".py",
   "mimetype": "text/x-python",
   "name": "python",
   "nbconvert_exporter": "python",
   "pygments_lexer": "ipython3",
   "version": "3.11.3"
  },
  "toc": {
   "base_numbering": 1,
   "nav_menu": {},
   "number_sections": true,
   "sideBar": true,
   "skip_h1_title": true,
   "title_cell": "Table of Contents",
   "title_sidebar": "Contents",
   "toc_cell": false,
   "toc_position": {
    "height": "calc(100% - 180px)",
    "left": "10px",
    "top": "150px",
    "width": "346.688px"
   },
   "toc_section_display": true,
   "toc_window_display": true
  }
 },
 "nbformat": 4,
 "nbformat_minor": 2
}
